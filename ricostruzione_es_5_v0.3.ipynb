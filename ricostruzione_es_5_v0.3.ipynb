{
 "cells": [
  {
   "cell_type": "code",
   "execution_count": 10,
   "metadata": {},
   "outputs": [],
   "source": [
    "import pandas as pd\n",
    "import networkx as nx\n",
    "import matplotlib.pyplot as plt\n",
    "import re, random, itertools, time, statistics, operator\n",
    "from collections import deque\n",
    "from tqdm import tqdm"
   ]
  },
  {
   "cell_type": "code",
   "execution_count": 2,
   "metadata": {},
   "outputs": [],
   "source": [
    "# Reading the data\n",
    "\n",
    "path = './data/wikigraph_reduced.csv' #insert your own path of the file 'wikigraph_reduced.csv'\n",
    "dataset=pd.read_csv(path, sep='\\t')\n",
    "dataset.rename(columns={'Unnamed: 0':'old_index'}, inplace=True)"
   ]
  },
  {
   "cell_type": "code",
   "execution_count": 3,
   "metadata": {},
   "outputs": [],
   "source": [
    "# Building the graph \n",
    "\n",
    "G = nx.convert_matrix.from_pandas_edgelist(dataset,\"0\",\"1\",create_using=nx.DiGraph())\n",
    "# G = nx.DiGraph()\n",
    "# for i in range(0, len(dataset)):\n",
    "#     G.add_node(dataset.iloc[i][1])\n",
    "#     G.add_node(dataset.iloc[i][2])\n",
    "#     G.add_edge(dataset.iloc[i][1],dataset.iloc[i][2])"
   ]
  },
  {
   "cell_type": "code",
   "execution_count": 4,
   "metadata": {},
   "outputs": [],
   "source": [
    "def build_category_and_articles_dictionary():\n",
    "    '''\n",
    "    Builds a dictionary where the keys are categories and the values are the articles associate to the category.\n",
    "    Every article is associated to a single random category.\n",
    "    \n",
    "    :return: dictionary\n",
    "    '''\n",
    "    \n",
    "    # Storing the articles and categories in a dataframe\n",
    "    categories_dataset = pd.read_csv(\"./data/wiki-topcats-categories.txt\",sep=';',names=['Category','Articles'],header=None)\n",
    "    categories_dataset['Category'] = categories_dataset.Category.apply(lambda x: x.split(':')[1])\n",
    "    categories_dataset['Articles'] = categories_dataset.Articles.apply(lambda x : list(map(int,x.split())))\n",
    "    \n",
    "    # Find the number of articles for each category\n",
    "    categories_dataset['Number_of_articles'] = [len(x) for x in categories_dataset['Articles']]\n",
    "\n",
    "    # Removes the categories whose number of articles is less than 5000 and more than 30000\n",
    "    categories_dataset = categories_dataset.loc[(categories_dataset['Number_of_articles']>5000) & (categories_dataset['Number_of_articles']<30000)]\n",
    "    \n",
    "    \n",
    "    df_article = pd.concat([pd.DataFrame(data = {'Articles': categories_dataset.loc[i].Articles, \n",
    "                                             'Category': categories_dataset.loc[i].Category}) for i in categories_dataset.index], \n",
    "                       ignore_index=True)\n",
    "    \n",
    "    # Choose a single random category for an article\n",
    "    rand_article = df_article.groupby('Articles').sample(random_state=1)\n",
    "    df_article_category = pd.DataFrame(data={'Articles': rand_article.Articles, 'Category': rand_article.Category})\n",
    "    \n",
    "    df_article_category = df_article_category.reset_index()\n",
    "    categories = df_article_category.Category.unique().tolist()\n",
    "    \n",
    "    articles = []\n",
    "    for category in categories:\n",
    "        articles.append(df_article_category[df_article_category.Category == category].Articles.values.tolist())\n",
    "        \n",
    "    df_article = dict(zip(categories, articles))\n",
    "            \n",
    "    return df_article"
   ]
  },
  {
   "cell_type": "code",
   "execution_count": 15,
   "metadata": {},
   "outputs": [],
   "source": [
    "def get_shortest_paths_from_two_categories(C0):\n",
    "    '''\n",
    "    Given an arbitrary category C0 as input, returns the list of remaning categories sorted by their distance from C0. \n",
    "    In particular, the distance between two categories is defined as distance(C0, Ci) = median(ShortestPath(C0, Ci)),\n",
    "    where ShortestPath(C0, Ci) is the set of shortest paths from each pair of nodes in the two categories.\n",
    "    \n",
    "    For simplicity we discard categories whose nodes aren't connected at all with the nodes of the inputed category.\n",
    "    This implies that the function considers as reachable a category who's at least one node is connected to the inputed category.\n",
    "\n",
    "    :param C0: Chosen category\n",
    "    :return: Dictionary where the keys are the remaining categories and the values the medians.\n",
    "    '''\n",
    "    \n",
    "    if C0 not in d:\n",
    "        print('The category ' + C0 + ' doesn\\'t exist.')\n",
    "        return\n",
    "\n",
    "    shortest_path_lengths = {}\n",
    "\n",
    "    # Compute path lengths from all source nodes to all other nodes in the graph\n",
    "    \n",
    "    #for i, source_node in tqdm(enumerate(d[C0])):\n",
    "    for source_node in tqdm(d[C0]):\n",
    "        #if i == 20:\n",
    "        #    break\n",
    "        for target_node,path_length in bfs_lenght_shortest_path(G,source_node).items():\n",
    "            if target_node not in shortest_path_lengths:\n",
    "                shortest_path_lengths[target_node] = []\n",
    "            shortest_path_lengths[target_node].append(path_length)\n",
    "    \n",
    "    result = {}\n",
    "    \n",
    "    for category_name, target_nodes in d.items():\n",
    "        #print(f\"Iteration {category_name}\")\n",
    "        \n",
    "        # Jump to next iteration\n",
    "        if category_name == C0:\n",
    "            continue\n",
    "\n",
    "        # List of shortest path of a category\n",
    "        category_paths_lengths = [\n",
    "            path_length\n",
    "            for target_node in target_nodes\n",
    "            for path_length in shortest_path_lengths.get(target_node,[])\n",
    "        ]\n",
    "        #print(len(category_paths_lengths))\n",
    "        \n",
    "        # Calculating median for the set of shortest paths of one category\n",
    "        try:\n",
    "            result[category_name] = statistics.median(category_paths_lengths)\n",
    "            \n",
    "        # Excluding categories whose nodes aren't connected at all with the nodes of the inputed category\n",
    "        except:\n",
    "            pass\n",
    "        \n",
    "    result = sorted(result.items(), key=operator.itemgetter(1))\n",
    "   \n",
    "    return result"
   ]
  },
  {
   "cell_type": "code",
   "execution_count": 11,
   "metadata": {},
   "outputs": [],
   "source": [
    "def bfs_lenght_shortest_path(G, source_node):\n",
    "    '''\n",
    "    Computes the shortest paths from a source node to all the other nodes of the graph.\n",
    "    We are considering only the nodes that exist in the graph for simplicity.\n",
    "    \n",
    "    :param G: Graph\n",
    "    :param source_node: An article/node associated to the chosen category, C0\n",
    "    :return: Dictionary containing target nodes as keys and length of the shortest paths as values\n",
    "    '''\n",
    "    visited = {source_node: 0}\n",
    "    queue = deque([source_node])\n",
    "    while len(queue) > 0:\n",
    "        node = queue.popleft()\n",
    "        distance = visited[node]\n",
    "        \n",
    "        try:\n",
    "            for adjacent in G.neighbors(node):\n",
    "                if adjacent not in visited:\n",
    "                    queue.append(adjacent)\n",
    "                    visited[adjacent] = distance+1\n",
    "                    \n",
    "        # We are considering only the nodes that exist in the graph for simplicity\n",
    "        except: \n",
    "            pass\n",
    "    return visited"
   ]
  },
  {
   "cell_type": "code",
   "execution_count": 16,
   "metadata": {},
   "outputs": [
    {
     "name": "stderr",
     "output_type": "stream",
     "text": [
      "\r",
      "  0%|                                                                                         | 0/3075 [00:00<?, ?it/s]"
     ]
    },
    {
     "name": "stdout",
     "output_type": "stream",
     "text": [
      "Starting time: Mon Jan 11 19:06:51 2021\n"
     ]
    },
    {
     "name": "stderr",
     "output_type": "stream",
     "text": [
      "100%|██████████████████████████████████████████████████████████████████████████████| 3075/3075 [12:50<00:00,  3.99it/s]\n"
     ]
    },
    {
     "name": "stdout",
     "output_type": "stream",
     "text": [
      "Iteration English-language_films\n",
      "25691040\n",
      "Iteration Harvard_University_alumni\n",
      "3016449\n",
      "Iteration Major_League_Baseball_pitchers\n",
      "4728720\n",
      "Iteration Debut_albums\n",
      "1511640\n",
      "Iteration Year_of_death_missing\n",
      "663483\n",
      "Iteration Black-and-white_films\n",
      "10100400\n",
      "Iteration Year_of_birth_missing\n",
      "761545\n",
      "Iteration Place_of_birth_missing_(living_people)\n",
      "2658481\n",
      "Iteration American_films\n",
      "15510840\n",
      "Iteration American_film_actors\n",
      "19268280\n",
      "Iteration American_television_actors\n",
      "13032480\n",
      "Iteration Indian_films\n",
      "3130440\n",
      "Iteration Asteroids_named_for_people\n",
      "Iteration Main_Belt_asteroids\n",
      "164365\n",
      "Iteration Association_football_midfielders\n",
      "2528520\n",
      "Iteration Association_football_defenders\n",
      "1960800\n",
      "Iteration The_Football_League_players\n",
      "5043360\n",
      "Iteration Association_football_forwards\n",
      "2615160\n",
      "Iteration English_footballers\n",
      "4879200\n",
      "Iteration Members_of_the_United_Kingdom_Parliament_for_English_constituencies\n",
      "13575120\n",
      "Iteration Rivers_of_Romania\n",
      "15063960\n"
     ]
    },
    {
     "data": {
      "text/plain": [
       "[('Main_Belt_asteroids', 5),\n",
       " ('English-language_films', 9.0),\n",
       " ('Harvard_University_alumni', 9),\n",
       " ('Black-and-white_films', 9.0),\n",
       " ('American_films', 9.0),\n",
       " ('American_film_actors', 9.0),\n",
       " ('American_television_actors', 9.0),\n",
       " ('Debut_albums', 10.0),\n",
       " ('Year_of_death_missing', 10),\n",
       " ('Year_of_birth_missing', 10),\n",
       " ('Place_of_birth_missing_(living_people)', 10),\n",
       " ('Members_of_the_United_Kingdom_Parliament_for_English_constituencies', 10.0),\n",
       " ('Major_League_Baseball_pitchers', 11.0),\n",
       " ('Indian_films', 12.0),\n",
       " ('Association_football_midfielders', 12.0),\n",
       " ('The_Football_League_players', 12.0),\n",
       " ('Association_football_forwards', 12.0),\n",
       " ('English_footballers', 12.0),\n",
       " ('Association_football_defenders', 13.0),\n",
       " ('Rivers_of_Romania', 13.0)]"
      ]
     },
     "execution_count": 16,
     "metadata": {},
     "output_type": "execute_result"
    }
   ],
   "source": [
    "print(\"Starting time: \" + time.asctime(time.localtime(time.time()))) \n",
    "\n",
    "list_of_categories = get_shortest_paths_from_two_categories(\"Asteroids_named_for_people\")\n",
    "\n",
    "end = \"Ending time: \" + time.asctime(time.localtime(time.time()))\n",
    "\n",
    "list_of_categories"
   ]
  },
  {
   "cell_type": "code",
   "execution_count": 17,
   "metadata": {},
   "outputs": [
    {
     "data": {
      "text/plain": [
       "'Ending time: Mon Jan 11 19:20:07 2021'"
      ]
     },
     "execution_count": 17,
     "metadata": {},
     "output_type": "execute_result"
    }
   ],
   "source": [
    "end"
   ]
  }
 ],
 "metadata": {
  "kernelspec": {
   "display_name": "Python 3",
   "language": "python",
   "name": "python3"
  },
  "language_info": {
   "codemirror_mode": {
    "name": "ipython",
    "version": 3
   },
   "file_extension": ".py",
   "mimetype": "text/x-python",
   "name": "python",
   "nbconvert_exporter": "python",
   "pygments_lexer": "ipython3",
   "version": "3.7.9"
  }
 },
 "nbformat": 4,
 "nbformat_minor": 4
}
