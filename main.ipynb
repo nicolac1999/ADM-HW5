{
 "cells": [
  {
   "cell_type": "markdown",
   "metadata": {},
   "source": [
    "## Homework 5 - Explore Wikipedia's hyperlinks network\n",
    "\n",
    "### Authors\n",
    "* Michelangelo Saveriano\n",
    "* Flavia Penta De Peppo\n",
    "* Adrienn Timea Aszalos\n",
    "* Nicola Calabrese"
   ]
  },
  {
   "cell_type": "markdown",
   "metadata": {},
   "source": [
    "## Useful libraries"
   ]
  },
  {
   "cell_type": "code",
   "execution_count": 1,
   "metadata": {},
   "outputs": [],
   "source": [
    "import pandas as pd\n",
    "from matplotlib import pyplot as plt\n",
    "from tqdm import tqdm\n",
    "import math\n",
    "import numpy as np\n",
    "from collections import deque"
   ]
  },
  {
   "cell_type": "markdown",
   "metadata": {},
   "source": [
    "For this homework we decide to implement from zero our class **HMGraph** instead of using the Python library networkx, in order to understand better the property and algorithm and the of ***Graph Teory***.\n"
   ]
  },
  {
   "cell_type": "markdown",
   "metadata": {},
   "source": [
    "# HWGraph class"
   ]
  },
  {
   "cell_type": "code",
   "execution_count": 2,
   "metadata": {},
   "outputs": [],
   "source": [
    "class HWGraph:\n",
    "    def __init__(self, edge_df, category_df=None, names_df=None):\n",
    "        nodes = pd.concat([edge_df.Source, edge_df.Target]).unique()\n",
    "\n",
    "        # Find the neighbour for each node\n",
    "        self.neighbors = dict()\n",
    "        for node in nodes:\n",
    "            self.neighbors[node] = []\n",
    "        for s, t in edge_df.values:\n",
    "            self.neighbors[s].append(t)\n",
    "\n",
    "        # Create the edges dataframe\n",
    "        self.edges = edge_df\n",
    "\n",
    "        # Create the nodes dataframe\n",
    "        self.nodes = pd.DataFrame.from_dict(data={'Node': self.neighbors.keys(),\n",
    "                                                  'Neighbour': self.neighbors.values()}).set_index('Node')\n",
    "        self.nodes = self.nodes.join(self.in_degree(False, False)).join(self.out_degree(False, False),\n",
    "                                                                        lsuffix='In', rsuffix='Out').fillna(0)\n",
    "\n",
    "        if category_df is not None:\n",
    "            self.set_category(category_df)\n",
    "\n",
    "        if names_df is not None:\n",
    "            self.set_names(names_df)\n",
    "\n",
    "        # Calculate the number of nodes and the number of edges\n",
    "        self.n_nodes = len(self.nodes)\n",
    "        self.n_edges = len(self.edges)\n",
    "\n",
    "    def set_category(self, category_df):\n",
    "        # Assign the node's category\n",
    "        self.nodes = self.nodes.join(category_df.Category)\n",
    "\n",
    "    def set_names(self, names_df):\n",
    "        # Assign the node's label\n",
    "        self.nodes = self.nodes.join(names_df.Names)\n",
    "\n",
    "    def is_directed(self):\n",
    "        # If the number of sources is different from the number of targets the graph is directed\n",
    "        n_source, n_target = self.edges.nunique()\n",
    "        if n_source != n_target:\n",
    "            return True\n",
    "\n",
    "        edge_list = self.edges.values.tolist()\n",
    "        # For each edge (s,t) if the opposite edge (t,s) is not in the graph then the graph is directed\n",
    "        for s, t in edge_list:\n",
    "            if [t, s] not in edge_list:\n",
    "                return True\n",
    "        # Otherwise the graph is not directed\n",
    "        return False\n",
    "\n",
    "    def out_degree(self, average_degree=True, centrality=True):\n",
    "        if average_degree:\n",
    "            # If average degree is true the function returns the average out degree in the graph\n",
    "            return self.edges.groupby('Source').size().sum() / self.n_nodes\n",
    "        else:\n",
    "            # Calculates the out degree for each node\n",
    "            out_degree = self.edges.groupby('Source').count().rename(columns={'Target': 'OutDegree'})\n",
    "            out_degree.index.rename('Node', inplace=True)\n",
    "\n",
    "            if centrality:\n",
    "                # If centrality is true then returns the node's centrality\n",
    "                # given by the ratio between the degree and the number of nodes\n",
    "                return out_degree / (self.n_nodes - 1)\n",
    "            # Otherwise returns the out degree of each node\n",
    "            return out_degree.OutDegree\n",
    "\n",
    "    def in_degree(self, average_degree=True, centrality=True):\n",
    "        if average_degree:\n",
    "            # If average degree is true the function returns the average in degree in the graph\n",
    "            return self.edges.groupby('Target').size().sum() / self.n_nodes\n",
    "        else:\n",
    "            # Calculates the in degree for each node\n",
    "            in_degree = self.edges.groupby('Target').count().rename(columns={'Source': 'InDegree'})\n",
    "            in_degree.index.rename('Node', inplace=True)\n",
    "            if centrality:\n",
    "                # If centrality is true then returns the node's centrality\n",
    "                # given by the ratio between the degree and the number of nodes\n",
    "                return in_degree / (self.n_nodes - 1)\n",
    "            # Otherwise returns the in degree of each node\n",
    "            return in_degree.InDegree\n",
    "\n",
    "    def density(self):\n",
    "        # Return the density of the graph\n",
    "        return self.n_edges / (self.n_nodes * (self.n_nodes - 1))\n",
    "\n",
    "    def plot_degree_distr(self, plot_in_degree=True, plot_out_degree=True, log=True):\n",
    "        # Plot In Degree\n",
    "        if plot_in_degree:\n",
    "            degrees_in = self.in_degree(False, False).values\n",
    "            plt.figure(figsize=(16, 9))\n",
    "            plt.title('In Degree Distribution', size=22)\n",
    "            plt.ylabel('Prob.', size=18)\n",
    "            plt.xlabel('In Degree', size=18)\n",
    "            plt.hist(degrees_in, 100, log=log, density=True)\n",
    "            plt.show()\n",
    "\n",
    "        # Plot Out Degree\n",
    "        if plot_out_degree:\n",
    "            degrees_out = self.out_degree(False, False).values\n",
    "            plt.figure(figsize=(16, 9))\n",
    "            plt.title('Out Degree Distribution', size=22)\n",
    "            plt.ylabel('Prob.', size=18)\n",
    "            plt.xlabel('Out Degree', size=18)\n",
    "            plt.hist(degrees_out, 100, log=log, density=True)\n",
    "            plt.show()\n",
    "\n",
    "    def bfs(self, source_node, max_distance=math.inf, return_dataframe=True):\n",
    "        # It computes the shortest paths length from a source node to all the reachable nodes of the graph\n",
    "        # with distance smaller than max_distance\n",
    "        \n",
    "        # If the node is not present in the graph return\n",
    "        if source_node not in self.neighbors:\n",
    "            print(f'The node {source_node} is not present in the graph!')\n",
    "            return\n",
    "        \n",
    "        visited = {source_node: 0}\n",
    "        queue = deque([source_node])\n",
    "        # While there are elements in the queue\n",
    "        while len(queue) > 0:\n",
    "            # Pop the leftmost node\n",
    "            node = queue.popleft()\n",
    "            # Find its distance from the source node\n",
    "            distance = visited[node]\n",
    "            # For each neighbor\n",
    "            for adjacent in self.neighbors[node]:\n",
    "                # If it is not already visited and its distance is less than max_distance\n",
    "                if adjacent not in visited and distance < max_distance:\n",
    "                    # We append it in the queue and \n",
    "                    # we store its distance from the source in the visited dictionary\n",
    "                    queue.append(adjacent)\n",
    "                    visited[adjacent] = distance + 1\n",
    "        \n",
    "        # If not return_dataframe it returns a dictionary containing \n",
    "        # target nodes as keys and length of the shortest paths as values\n",
    "        if not return_dataframe:\n",
    "            return visited\n",
    "        \n",
    "        # Otherwise it returns a dataframe with the columns Names and Distance\n",
    "        df = self.nodes.loc[visited.keys()]\n",
    "        df['Distance'] = visited.values()\n",
    "        return df[['Names', 'Distance']]\n",
    "\n",
    "    def find_distance(self, source, targets, test_connectivity=False, inf_dist=True, return_dataframe=True):\n",
    "        # Find the distance between the source and the targets\n",
    "        \n",
    "        # Find the distance from the source node to all the reachable nodes\n",
    "        dist = self.bfs(source, return_dataframe=False)\n",
    "        \n",
    "        # If test_connectivity is true and exists a node in targets that is not reachable \n",
    "        if test_connectivity and not targets.issubset(dist.keys()):\n",
    "            # Print \"Not possible!\" and return\n",
    "            print(\"Not possible!\")\n",
    "            return\n",
    "        \n",
    "        # If inf_dist is true\n",
    "        if inf_dist:\n",
    "            # Create a new distance dictionary with all the targets nodes\n",
    "            # where the not reachable nodes have infinite distance\n",
    "            dist = {node: dist[node] if node in dist else math.inf for node in targets}\n",
    "        else:\n",
    "            # Create a new distance dictionary with all the reachable nodes in target\n",
    "            dist = {node: dist[node] for node in targets if node in dist}\n",
    "\n",
    "        # If return_dataframe is true create a dataframe with columns Nodes and Distances\n",
    "        if return_dataframe:\n",
    "            return pd.DataFrame({'Nodes': dist.keys(), 'Distances': dist.values()}).set_index('Nodes')\n",
    "        # Otherwise return the dictionary\n",
    "        return dist\n",
    "\n",
    "    def min_clicks(self, C, p):\n",
    "        # Find the most central article v in the category C\n",
    "        C_nodes = self.nodes[self.nodes.Category == C]\n",
    "        v = C_nodes.InDegree.idxmax()\n",
    "        # Find the distances between the node v and the nodes p\n",
    "        visited = self.find_distance(v, p, True, inf_dist=False)\n",
    "        # If visited exists then return the max distance\n",
    "        if visited is not None:\n",
    "            return visited.Distances.max()\n",
    "\n",
    "    def contract(self):\n",
    "        # Contraction algorithm used by the Karger's algorithm\n",
    "        edges = self.edges.copy()\n",
    "        # If exist we remove the self loops\n",
    "        if (edges.Source == edges.Target).any():\n",
    "            edges = edges[~(edges.Source == edges.Target)]\n",
    "\n",
    "        # Calculate the number of nodes\n",
    "        n_nodes = pd.concat([edges.Source, edges.Target]).nunique()\n",
    "\n",
    "        # While there are more than 2 nodes in the graph\n",
    "        while n_nodes > 2:\n",
    "            # Find the source and the target of a random edge\n",
    "            s, t = edges.sample().values[0]\n",
    "\n",
    "            # Removes the edges between s and t, in both directions\n",
    "            edges = edges[~((edges.Source == s) & (edges.Target == t))]\n",
    "            edges = edges[~((edges.Source == t) & (edges.Target == s))]\n",
    "\n",
    "            # Remove node t, moving its edges to s\n",
    "            edges.loc[edges.Source == t, 'Source'] = s\n",
    "            edges.loc[edges.Target == t, 'Target'] = s\n",
    "\n",
    "            # Updates n_nodes\n",
    "            n_nodes = pd.concat([edges.Source, edges.Target]).nunique()\n",
    "\n",
    "            # If the number of nodes is greater than the number of edges then\n",
    "            # the graph is not connected\n",
    "            if n_nodes > len(edges):\n",
    "                # If the graph is not connected then returns 0\n",
    "                return 0\n",
    "\n",
    "        # Return the remaining edges\n",
    "        return len(edges)\n",
    "\n",
    "    def min_link_to_disconnect(self, C1, C2):\n",
    "        # We use the Karger's algorithm to find the min-cut\n",
    "        # Find the nodes belonging to category C1 or category C2\n",
    "        nodes = self.nodes[(self.nodes.Category == C1) | (self.nodes.Category == C2)].index\n",
    "        # Find the edges between those nodes\n",
    "        edges = self.edges[self.edges.Source.isin(nodes) & self.edges.Target.isin(nodes)]\n",
    "        # Then we create the induced subgraph\n",
    "        G = HWGraph(edges)\n",
    "\n",
    "        # If the graph is empty returns 0\n",
    "        if G.n_nodes == 0:\n",
    "            return 0\n",
    "\n",
    "        min_links = math.inf\n",
    "        # Perform N^2*log(N) times the Karger's algorithm and return best results\n",
    "        for i in range(int((G.n_nodes ** 2) * math.log(G.n_nodes))):\n",
    "            res = G.contract()\n",
    "            if res < min_links:\n",
    "                min_links = res\n",
    "                if min_links == 0:\n",
    "                    return 0\n",
    "\n",
    "        return min_links\n",
    "\n",
    "    def build_category_articles_dictionary(self):\n",
    "        # Returns a dictionary with key = category and value = list of the article with category key\n",
    "        df_article_category = self.nodes.Category.reset_index()\n",
    "        # Find the categories names\n",
    "        categories = df_article_category.Category.unique().tolist()\n",
    "        \n",
    "        articles = []\n",
    "        # For each category c stores in articles a list with all the nodes with category c\n",
    "        for c in categories:\n",
    "            articles.append(df_article_category[df_article_category.Category == c].Node.values.tolist())\n",
    "        \n",
    "        # Create a dictionary from categories and articles\n",
    "        return dict(zip(categories, articles))\n",
    "\n",
    "    def distances_from_category(self, C, condider_inf_distance=True):\n",
    "        # Given a category C, returns the list of remaning categories sorted by their distance from C. \n",
    "        # The distance between two categories is defined as distance(C, Ci) = median(ShortestPath(C, Ci))\n",
    "        # where ShortestPath(C, Ci) is the set of shortest paths from each pair of nodes in the two categories.\n",
    "        # If condider_inf_distance is true disconnected nodes will have infinite distance \n",
    "        # otherwise they will not be taken into consideration.\n",
    "        \n",
    "        # Build the category-articles dictionary\n",
    "        category_articles_dict = self.build_category_articles_dictionary()\n",
    "        # Check if the category C exists\n",
    "        if C not in category_articles_dict:\n",
    "            print(f\"The category {C} doesn't exist.\")\n",
    "            return\n",
    "        # Create the categories list wth all the category but C\n",
    "        categories = list(category_articles_dict.keys())\n",
    "        categories.remove(C)\n",
    "        # Create the nodes list with all the nodes that doesn't belong to C\n",
    "        nodes = sum([category_articles_dict[i] for i in categories], [])\n",
    "        # Create the distances dataframe\n",
    "        distances = pd.DataFrame(columns=['C0', 'Ci', 'Dist'])\n",
    "\n",
    "        # Compute path lengths from all the nodes in C to all other nodes in the graph\n",
    "        shortest_path_lengths = {}\n",
    "        for source_node in tqdm(category_articles_dict[C]):\n",
    "            for target_node, path_length in self.find_distance(source_node, nodes,\n",
    "                                                               inf_dist=condider_inf_distance,\n",
    "                                                               return_dataframe=False).items():\n",
    "                if target_node not in shortest_path_lengths:\n",
    "                    shortest_path_lengths[target_node] = []\n",
    "                shortest_path_lengths[target_node].append(path_length)\n",
    "        \n",
    "        # Cumpute the median distance and append it to the distances dataframe\n",
    "        for category_name, category_nodes in category_articles_dict.items():\n",
    "            # Jump to next iteration if category is equal to C\n",
    "            if category_name == C:\n",
    "                continue\n",
    "            # List of shortest path of a category\n",
    "            category_paths_lengths = [\n",
    "                path_length\n",
    "                for category_node in category_nodes\n",
    "                for path_length in shortest_path_lengths.get(category_node,[])\n",
    "            ]\n",
    "            # If category_paths_lengths is not empty\n",
    "            if category_paths_lengths:\n",
    "                distances = distances.append({'C0':C, 'Ci':category_name, \n",
    "                                              'Dist':np.median(category_paths_lengths)},\n",
    "                                             ignore_index=True)\n",
    "        # Return the distances sorted by the distance value in descending order\n",
    "        return distances.sort_values('Dist', ascending=False)\n",
    "\n",
    "    def category_rank(self):\n",
    "        # Create the network of categories\n",
    "        edges = self.edges.join(self.nodes.Category, on='Source').join(self.nodes.Category, on='Target',\n",
    "                                                                       lsuffix='Source', rsuffix='Target')\n",
    "        categories_edges = edges.groupby(['CategorySource', 'CategoryTarget']).size()\n",
    "        categories = pd.concat([edges.CategorySource, edges.CategoryTarget]).unique()\n",
    "        n_categories = categories.size\n",
    "        # Adjacency matrix\n",
    "        M = np.zeros((n_categories, n_categories))\n",
    "        for i in range(n_categories):\n",
    "            for j in range(n_categories):\n",
    "                if (categories[i], categories[j]) in categories_edges.index:\n",
    "                    M[i, j] = categories_edges.loc[categories[i], categories[j]]\n",
    "        # Normalize the matrix along rows\n",
    "        sums = M.sum(axis=1)\n",
    "        if (sums == 0).any():\n",
    "            M[sums == 0] += 1\n",
    "        M /= sums.reshape(n_categories, 1)\n",
    "        # Calculate the pagerank\n",
    "        v = pagerank(M).flatten()\n",
    "        # Then returns a dataframe containing the results in descending order\n",
    "        return pd.DataFrame({'Category': categories, 'PageRank': v}).sort_values('PageRank', ascending=False)"
   ]
  },
  {
   "cell_type": "markdown",
   "metadata": {},
   "source": [
    "# Load Datasets\n",
    "## Read file with edges"
   ]
  },
  {
   "cell_type": "code",
   "execution_count": 3,
   "metadata": {},
   "outputs": [],
   "source": [
    "df_edges = pd.read_csv('./data/wikigraph_reduced.csv',sep='\\t',index_col=0,names=['Source','Target'],header=0)\n",
    "df_edges.reset_index(drop=True,inplace=True)"
   ]
  },
  {
   "cell_type": "markdown",
   "metadata": {},
   "source": [
    "## Read file with Categories"
   ]
  },
  {
   "cell_type": "markdown",
   "metadata": {},
   "source": [
    "Here we load the file with category ,then we find the number of Articles belonging to each category and finally remove the categories with less of 5000 and more than 30000 articles."
   ]
  },
  {
   "cell_type": "code",
   "execution_count": 4,
   "metadata": {},
   "outputs": [],
   "source": [
    "df_category = pd.read_csv(\"./data/wiki-topcats-categories.txt\",sep=';',names=['Category','Articles'],header=0)\n",
    "df_category['Category'] = df_category.Category.apply(lambda x: x.split(':')[1])\n",
    "df_category['Articles'] = df_category.Articles.apply(lambda x : list(map(int,x.split())))\n",
    "# Find the number of articles for each category\n",
    "df_category['lens'] = [len(x) for x in df_category['Articles']]\n",
    "# Removes the categories whose number of articles in less than 5000 and more than 30000.\n",
    "df_category = df_category.loc[(df_category['lens']>5000) & (df_category['lens']<30000)]"
   ]
  },
  {
   "cell_type": "code",
   "execution_count": 5,
   "metadata": {},
   "outputs": [
    {
     "data": {
      "text/html": [
       "<div>\n",
       "<style scoped>\n",
       "    .dataframe tbody tr th:only-of-type {\n",
       "        vertical-align: middle;\n",
       "    }\n",
       "\n",
       "    .dataframe tbody tr th {\n",
       "        vertical-align: top;\n",
       "    }\n",
       "\n",
       "    .dataframe thead th {\n",
       "        text-align: right;\n",
       "    }\n",
       "</style>\n",
       "<table border=\"1\" class=\"dataframe\">\n",
       "  <thead>\n",
       "    <tr style=\"text-align: right;\">\n",
       "      <th></th>\n",
       "      <th>Category</th>\n",
       "      <th>Articles</th>\n",
       "      <th>lens</th>\n",
       "    </tr>\n",
       "  </thead>\n",
       "  <tbody>\n",
       "    <tr>\n",
       "      <th>867</th>\n",
       "      <td>English_footballers</td>\n",
       "      <td>[22860, 28411, 28961, 28979, 29264, 29573, 295...</td>\n",
       "      <td>9237</td>\n",
       "    </tr>\n",
       "    <tr>\n",
       "      <th>868</th>\n",
       "      <td>The_Football_League_players</td>\n",
       "      <td>[14003, 23536, 27109, 27348, 27459, 27989, 280...</td>\n",
       "      <td>9467</td>\n",
       "    </tr>\n",
       "    <tr>\n",
       "      <th>875</th>\n",
       "      <td>Association_football_forwards</td>\n",
       "      <td>[26876, 26877, 26879, 26887, 26892, 26904, 269...</td>\n",
       "      <td>6959</td>\n",
       "    </tr>\n",
       "    <tr>\n",
       "      <th>899</th>\n",
       "      <td>Association_football_midfielders</td>\n",
       "      <td>[14003, 15291, 23536, 26880, 26882, 26885, 268...</td>\n",
       "      <td>8270</td>\n",
       "    </tr>\n",
       "    <tr>\n",
       "      <th>948</th>\n",
       "      <td>Association_football_defenders</td>\n",
       "      <td>[15217, 22860, 26873, 26878, 26881, 26898, 269...</td>\n",
       "      <td>6668</td>\n",
       "    </tr>\n",
       "    <tr>\n",
       "      <th>2790</th>\n",
       "      <td>Harvard_University_alumni</td>\n",
       "      <td>[77, 1013, 1271, 1663, 1779, 1843, 2212, 3193,...</td>\n",
       "      <td>6154</td>\n",
       "    </tr>\n",
       "    <tr>\n",
       "      <th>4159</th>\n",
       "      <td>Major_League_Baseball_pitchers</td>\n",
       "      <td>[79, 24213, 33054, 37167, 53973, 63107, 69823,...</td>\n",
       "      <td>6580</td>\n",
       "    </tr>\n",
       "    <tr>\n",
       "      <th>5618</th>\n",
       "      <td>Members_of_the_United_Kingdom_Parliament_for_E...</td>\n",
       "      <td>[29098, 29493, 29585, 30255, 30389, 30505, 306...</td>\n",
       "      <td>6546</td>\n",
       "    </tr>\n",
       "    <tr>\n",
       "      <th>6066</th>\n",
       "      <td>Indian_films</td>\n",
       "      <td>[1308, 29286, 53565, 70274, 70275, 70797, 1233...</td>\n",
       "      <td>5913</td>\n",
       "    </tr>\n",
       "    <tr>\n",
       "      <th>6794</th>\n",
       "      <td>Year_of_death_missing</td>\n",
       "      <td>[98, 126, 227, 1823, 2170, 2223, 13215, 14003,...</td>\n",
       "      <td>7851</td>\n",
       "    </tr>\n",
       "    <tr>\n",
       "      <th>7888</th>\n",
       "      <td>Rivers_of_Romania</td>\n",
       "      <td>[72111, 72112, 72113, 72114, 72115, 72116, 721...</td>\n",
       "      <td>7729</td>\n",
       "    </tr>\n",
       "    <tr>\n",
       "      <th>8731</th>\n",
       "      <td>Main_Belt_asteroids</td>\n",
       "      <td>[13184, 13992, 22277, 23539, 29163, 33254, 334...</td>\n",
       "      <td>13704</td>\n",
       "    </tr>\n",
       "    <tr>\n",
       "      <th>8732</th>\n",
       "      <td>Asteroids_named_for_people</td>\n",
       "      <td>[13184, 13992, 23539, 33990, 33991, 37535, 375...</td>\n",
       "      <td>5701</td>\n",
       "    </tr>\n",
       "    <tr>\n",
       "      <th>10554</th>\n",
       "      <td>English-language_films</td>\n",
       "      <td>[55, 134, 153, 214, 1083, 1084, 1087, 1089, 11...</td>\n",
       "      <td>22699</td>\n",
       "    </tr>\n",
       "    <tr>\n",
       "      <th>10563</th>\n",
       "      <td>American_films</td>\n",
       "      <td>[134, 153, 173, 1083, 1087, 1089, 1131, 1152, ...</td>\n",
       "      <td>15302</td>\n",
       "    </tr>\n",
       "    <tr>\n",
       "      <th>11647</th>\n",
       "      <td>American_television_actors</td>\n",
       "      <td>[174, 938, 980, 1086, 1088, 1099, 1106, 1109, ...</td>\n",
       "      <td>11661</td>\n",
       "    </tr>\n",
       "    <tr>\n",
       "      <th>11648</th>\n",
       "      <td>American_film_actors</td>\n",
       "      <td>[174, 980, 1088, 1099, 1106, 1109, 1121, 1122,...</td>\n",
       "      <td>13938</td>\n",
       "    </tr>\n",
       "    <tr>\n",
       "      <th>11991</th>\n",
       "      <td>Debut_albums</td>\n",
       "      <td>[95, 108, 112, 113, 190, 254, 1413, 1451, 1452...</td>\n",
       "      <td>8401</td>\n",
       "    </tr>\n",
       "    <tr>\n",
       "      <th>12630</th>\n",
       "      <td>Black-and-white_films</td>\n",
       "      <td>[134, 16130, 19763, 26846, 31864, 35833, 38917...</td>\n",
       "      <td>12174</td>\n",
       "    </tr>\n",
       "    <tr>\n",
       "      <th>12940</th>\n",
       "      <td>Year_of_birth_missing</td>\n",
       "      <td>[147, 171, 1056, 1656, 13215, 14003, 15293, 22...</td>\n",
       "      <td>7237</td>\n",
       "    </tr>\n",
       "    <tr>\n",
       "      <th>12965</th>\n",
       "      <td>Place_of_birth_missing_(living_people)</td>\n",
       "      <td>[167, 1100, 1104, 1118, 1119, 1139, 1140, 1144...</td>\n",
       "      <td>6767</td>\n",
       "    </tr>\n",
       "  </tbody>\n",
       "</table>\n",
       "</div>"
      ],
      "text/plain": [
       "                                                Category  \\\n",
       "867                                  English_footballers   \n",
       "868                          The_Football_League_players   \n",
       "875                        Association_football_forwards   \n",
       "899                     Association_football_midfielders   \n",
       "948                       Association_football_defenders   \n",
       "2790                           Harvard_University_alumni   \n",
       "4159                      Major_League_Baseball_pitchers   \n",
       "5618   Members_of_the_United_Kingdom_Parliament_for_E...   \n",
       "6066                                        Indian_films   \n",
       "6794                               Year_of_death_missing   \n",
       "7888                                   Rivers_of_Romania   \n",
       "8731                                 Main_Belt_asteroids   \n",
       "8732                          Asteroids_named_for_people   \n",
       "10554                             English-language_films   \n",
       "10563                                     American_films   \n",
       "11647                         American_television_actors   \n",
       "11648                               American_film_actors   \n",
       "11991                                       Debut_albums   \n",
       "12630                              Black-and-white_films   \n",
       "12940                              Year_of_birth_missing   \n",
       "12965             Place_of_birth_missing_(living_people)   \n",
       "\n",
       "                                                Articles   lens  \n",
       "867    [22860, 28411, 28961, 28979, 29264, 29573, 295...   9237  \n",
       "868    [14003, 23536, 27109, 27348, 27459, 27989, 280...   9467  \n",
       "875    [26876, 26877, 26879, 26887, 26892, 26904, 269...   6959  \n",
       "899    [14003, 15291, 23536, 26880, 26882, 26885, 268...   8270  \n",
       "948    [15217, 22860, 26873, 26878, 26881, 26898, 269...   6668  \n",
       "2790   [77, 1013, 1271, 1663, 1779, 1843, 2212, 3193,...   6154  \n",
       "4159   [79, 24213, 33054, 37167, 53973, 63107, 69823,...   6580  \n",
       "5618   [29098, 29493, 29585, 30255, 30389, 30505, 306...   6546  \n",
       "6066   [1308, 29286, 53565, 70274, 70275, 70797, 1233...   5913  \n",
       "6794   [98, 126, 227, 1823, 2170, 2223, 13215, 14003,...   7851  \n",
       "7888   [72111, 72112, 72113, 72114, 72115, 72116, 721...   7729  \n",
       "8731   [13184, 13992, 22277, 23539, 29163, 33254, 334...  13704  \n",
       "8732   [13184, 13992, 23539, 33990, 33991, 37535, 375...   5701  \n",
       "10554  [55, 134, 153, 214, 1083, 1084, 1087, 1089, 11...  22699  \n",
       "10563  [134, 153, 173, 1083, 1087, 1089, 1131, 1152, ...  15302  \n",
       "11647  [174, 938, 980, 1086, 1088, 1099, 1106, 1109, ...  11661  \n",
       "11648  [174, 980, 1088, 1099, 1106, 1109, 1121, 1122,...  13938  \n",
       "11991  [95, 108, 112, 113, 190, 254, 1413, 1451, 1452...   8401  \n",
       "12630  [134, 16130, 19763, 26846, 31864, 35833, 38917...  12174  \n",
       "12940  [147, 171, 1056, 1656, 13215, 14003, 15293, 22...   7237  \n",
       "12965  [167, 1100, 1104, 1118, 1119, 1139, 1140, 1144...   6767  "
      ]
     },
     "execution_count": 5,
     "metadata": {},
     "output_type": "execute_result"
    }
   ],
   "source": [
    "df_category"
   ]
  },
  {
   "cell_type": "markdown",
   "metadata": {},
   "source": [
    "### Now we verify that our articles belong to these filtered categories"
   ]
  },
  {
   "cell_type": "code",
   "execution_count": 6,
   "metadata": {},
   "outputs": [],
   "source": [
    "categories_articles = set(df_category.Articles.sum())\n",
    "our_articles = set(pd.concat([df_edges.Source, df_edges.Target]).unique())"
   ]
  },
  {
   "cell_type": "code",
   "execution_count": 7,
   "metadata": {},
   "outputs": [
    {
     "name": "stdout",
     "output_type": "stream",
     "text": [
      "Our articles belong to the filtered categories.\n"
     ]
    }
   ],
   "source": [
    "if our_articles.issubset(categories_articles):\n",
    "    print('Our articles belong to the filtered categories.')\n",
    "else:\n",
    "    print(\"Our articles don't belong to the filtered categories.\")"
   ]
  },
  {
   "cell_type": "markdown",
   "metadata": {},
   "source": [
    "### Select a random category for each article\n",
    "If one article belongs to multiple categories we assing it at random to one of these."
   ]
  },
  {
   "cell_type": "code",
   "execution_count": 8,
   "metadata": {},
   "outputs": [],
   "source": [
    "df_article = pd.concat([pd.DataFrame(data = {'Articles': df_category.loc[i].Articles, \n",
    "                                             'Category': df_category.loc[i].Category}) for i in df_category.index], \n",
    "                       ignore_index=True)\n",
    "rand_article = df_article.groupby('Articles').sample(random_state=1)\n",
    "df_article_category = pd.DataFrame(data={'Articles': rand_article.Articles, 'Category': rand_article.Category})\n",
    "df_article_category.set_index('Articles', inplace=True)"
   ]
  },
  {
   "cell_type": "code",
   "execution_count": 9,
   "metadata": {},
   "outputs": [
    {
     "data": {
      "text/html": [
       "<div>\n",
       "<style scoped>\n",
       "    .dataframe tbody tr th:only-of-type {\n",
       "        vertical-align: middle;\n",
       "    }\n",
       "\n",
       "    .dataframe tbody tr th {\n",
       "        vertical-align: top;\n",
       "    }\n",
       "\n",
       "    .dataframe thead th {\n",
       "        text-align: right;\n",
       "    }\n",
       "</style>\n",
       "<table border=\"1\" class=\"dataframe\">\n",
       "  <thead>\n",
       "    <tr style=\"text-align: right;\">\n",
       "      <th></th>\n",
       "      <th>Category</th>\n",
       "    </tr>\n",
       "    <tr>\n",
       "      <th>Articles</th>\n",
       "      <th></th>\n",
       "    </tr>\n",
       "  </thead>\n",
       "  <tbody>\n",
       "    <tr>\n",
       "      <th>55</th>\n",
       "      <td>English-language_films</td>\n",
       "    </tr>\n",
       "    <tr>\n",
       "      <th>77</th>\n",
       "      <td>Harvard_University_alumni</td>\n",
       "    </tr>\n",
       "    <tr>\n",
       "      <th>79</th>\n",
       "      <td>Major_League_Baseball_pitchers</td>\n",
       "    </tr>\n",
       "    <tr>\n",
       "      <th>95</th>\n",
       "      <td>Debut_albums</td>\n",
       "    </tr>\n",
       "    <tr>\n",
       "      <th>98</th>\n",
       "      <td>Year_of_death_missing</td>\n",
       "    </tr>\n",
       "    <tr>\n",
       "      <th>...</th>\n",
       "      <td>...</td>\n",
       "    </tr>\n",
       "    <tr>\n",
       "      <th>1790843</th>\n",
       "      <td>Harvard_University_alumni</td>\n",
       "    </tr>\n",
       "    <tr>\n",
       "      <th>1791481</th>\n",
       "      <td>English-language_films</td>\n",
       "    </tr>\n",
       "    <tr>\n",
       "      <th>1791482</th>\n",
       "      <td>The_Football_League_players</td>\n",
       "    </tr>\n",
       "    <tr>\n",
       "      <th>1791484</th>\n",
       "      <td>Harvard_University_alumni</td>\n",
       "    </tr>\n",
       "    <tr>\n",
       "      <th>1791486</th>\n",
       "      <td>The_Football_League_players</td>\n",
       "    </tr>\n",
       "  </tbody>\n",
       "</table>\n",
       "<p>149794 rows × 1 columns</p>\n",
       "</div>"
      ],
      "text/plain": [
       "                                Category\n",
       "Articles                                \n",
       "55                English-language_films\n",
       "77             Harvard_University_alumni\n",
       "79        Major_League_Baseball_pitchers\n",
       "95                          Debut_albums\n",
       "98                 Year_of_death_missing\n",
       "...                                  ...\n",
       "1790843        Harvard_University_alumni\n",
       "1791481           English-language_films\n",
       "1791482      The_Football_League_players\n",
       "1791484        Harvard_University_alumni\n",
       "1791486      The_Football_League_players\n",
       "\n",
       "[149794 rows x 1 columns]"
      ]
     },
     "execution_count": 9,
     "metadata": {},
     "output_type": "execute_result"
    }
   ],
   "source": [
    "df_article_category"
   ]
  },
  {
   "cell_type": "markdown",
   "metadata": {},
   "source": [
    "#### Save the dataset on file"
   ]
  },
  {
   "cell_type": "code",
   "execution_count": 10,
   "metadata": {},
   "outputs": [],
   "source": [
    "with open(\"./data/article-category.csv\", \"w\") as article_category_file:\n",
    "    article_category_file.write(df_article_category.reset_index().to_csv(index=False).replace('\\r', ''))\n"
   ]
  },
  {
   "cell_type": "markdown",
   "metadata": {},
   "source": [
    "#### Load the dataset from file"
   ]
  },
  {
   "cell_type": "code",
   "execution_count": 11,
   "metadata": {},
   "outputs": [],
   "source": [
    "df_article_category = pd.read_csv(\"./data/article-category.csv\")\n",
    "df_article_category.set_index('Articles', inplace=True)"
   ]
  },
  {
   "cell_type": "markdown",
   "metadata": {},
   "source": [
    "## Read file with page names"
   ]
  },
  {
   "cell_type": "code",
   "execution_count": 12,
   "metadata": {},
   "outputs": [],
   "source": [
    "df_names = pd.read_csv(\"./data/wiki-topcats-page-names.txt\", header=None, names=['Names'])\n",
    "df_names['Names'] = df_names.Names.apply(lambda x: x.split(' ', 1)[1])"
   ]
  },
  {
   "cell_type": "code",
   "execution_count": 13,
   "metadata": {},
   "outputs": [
    {
     "data": {
      "text/html": [
       "<div>\n",
       "<style scoped>\n",
       "    .dataframe tbody tr th:only-of-type {\n",
       "        vertical-align: middle;\n",
       "    }\n",
       "\n",
       "    .dataframe tbody tr th {\n",
       "        vertical-align: top;\n",
       "    }\n",
       "\n",
       "    .dataframe thead th {\n",
       "        text-align: right;\n",
       "    }\n",
       "</style>\n",
       "<table border=\"1\" class=\"dataframe\">\n",
       "  <thead>\n",
       "    <tr style=\"text-align: right;\">\n",
       "      <th></th>\n",
       "      <th>Names</th>\n",
       "    </tr>\n",
       "  </thead>\n",
       "  <tbody>\n",
       "    <tr>\n",
       "      <th>0</th>\n",
       "      <td>Chiasmal syndrome</td>\n",
       "    </tr>\n",
       "    <tr>\n",
       "      <th>1</th>\n",
       "      <td>Kleroterion</td>\n",
       "    </tr>\n",
       "    <tr>\n",
       "      <th>2</th>\n",
       "      <td>Pinakion</td>\n",
       "    </tr>\n",
       "    <tr>\n",
       "      <th>3</th>\n",
       "      <td>LyndonHochschildSerre spectral sequence</td>\n",
       "    </tr>\n",
       "    <tr>\n",
       "      <th>4</th>\n",
       "      <td>Zariski's main theorem</td>\n",
       "    </tr>\n",
       "    <tr>\n",
       "      <th>...</th>\n",
       "      <td>...</td>\n",
       "    </tr>\n",
       "    <tr>\n",
       "      <th>1791484</th>\n",
       "      <td>Noadiah Russell (Yale founder)</td>\n",
       "    </tr>\n",
       "    <tr>\n",
       "      <th>1791485</th>\n",
       "      <td>Cornus officinalis</td>\n",
       "    </tr>\n",
       "    <tr>\n",
       "      <th>1791486</th>\n",
       "      <td>Peter Grummitt</td>\n",
       "    </tr>\n",
       "    <tr>\n",
       "      <th>1791487</th>\n",
       "      <td>Baron Estcourt</td>\n",
       "    </tr>\n",
       "    <tr>\n",
       "      <th>1791488</th>\n",
       "      <td>Catherine Dubosc</td>\n",
       "    </tr>\n",
       "  </tbody>\n",
       "</table>\n",
       "<p>1791489 rows × 1 columns</p>\n",
       "</div>"
      ],
      "text/plain": [
       "                                           Names\n",
       "0                              Chiasmal syndrome\n",
       "1                                    Kleroterion\n",
       "2                                       Pinakion\n",
       "3        LyndonHochschildSerre spectral sequence\n",
       "4                         Zariski's main theorem\n",
       "...                                          ...\n",
       "1791484           Noadiah Russell (Yale founder)\n",
       "1791485                       Cornus officinalis\n",
       "1791486                           Peter Grummitt\n",
       "1791487                           Baron Estcourt\n",
       "1791488                         Catherine Dubosc\n",
       "\n",
       "[1791489 rows x 1 columns]"
      ]
     },
     "execution_count": 13,
     "metadata": {},
     "output_type": "execute_result"
    }
   ],
   "source": [
    "df_names"
   ]
  },
  {
   "cell_type": "markdown",
   "metadata": {},
   "source": [
    "# Create the Graph"
   ]
  },
  {
   "cell_type": "markdown",
   "metadata": {},
   "source": [
    "Our object G has two attibutes: ***nodes*** and ***edges***.\n",
    "In particular the attribute *nodes* returns a dataframe that summarizes a lot of properties of each nodes,such as:\n",
    "* **Neighbour** -> the list of nodes directly linked to the source (only outgoing edges)\n",
    "* **In-Degree** -> number of Incoming edges where Incoming edges of a vertex are directed edges that the vertex is the destination.\n",
    "* **Out-Degree** -> number of Outgoing edges where Outgoing edges of a vertex are directed edges that the vertex is the origin.\n",
    "* **Category** and **Names** label) of the nodes."
   ]
  },
  {
   "cell_type": "code",
   "execution_count": 14,
   "metadata": {},
   "outputs": [],
   "source": [
    "G = HWGraph(df_edges, category_df=df_article_category, names_df=df_names)"
   ]
  },
  {
   "cell_type": "code",
   "execution_count": 15,
   "metadata": {},
   "outputs": [
    {
     "data": {
      "text/html": [
       "<div>\n",
       "<style scoped>\n",
       "    .dataframe tbody tr th:only-of-type {\n",
       "        vertical-align: middle;\n",
       "    }\n",
       "\n",
       "    .dataframe tbody tr th {\n",
       "        vertical-align: top;\n",
       "    }\n",
       "\n",
       "    .dataframe thead th {\n",
       "        text-align: right;\n",
       "    }\n",
       "</style>\n",
       "<table border=\"1\" class=\"dataframe\">\n",
       "  <thead>\n",
       "    <tr style=\"text-align: right;\">\n",
       "      <th></th>\n",
       "      <th>Neighbour</th>\n",
       "      <th>InDegree</th>\n",
       "      <th>OutDegree</th>\n",
       "      <th>Category</th>\n",
       "      <th>Names</th>\n",
       "    </tr>\n",
       "    <tr>\n",
       "      <th>Node</th>\n",
       "      <th></th>\n",
       "      <th></th>\n",
       "      <th></th>\n",
       "      <th></th>\n",
       "      <th></th>\n",
       "    </tr>\n",
       "  </thead>\n",
       "  <tbody>\n",
       "    <tr>\n",
       "      <th>95</th>\n",
       "      <td>[1185516]</td>\n",
       "      <td>0.0</td>\n",
       "      <td>1.0</td>\n",
       "      <td>Debut_albums</td>\n",
       "      <td>This Way (Hana Pestle album)</td>\n",
       "    </tr>\n",
       "    <tr>\n",
       "      <th>108</th>\n",
       "      <td>[1059989, 1062426, 1161925]</td>\n",
       "      <td>0.0</td>\n",
       "      <td>3.0</td>\n",
       "      <td>Debut_albums</td>\n",
       "      <td>Born Innocent (Redd Kross album)</td>\n",
       "    </tr>\n",
       "    <tr>\n",
       "      <th>134</th>\n",
       "      <td>[541222, 1061485, 1163610, 1163783]</td>\n",
       "      <td>5.0</td>\n",
       "      <td>4.0</td>\n",
       "      <td>English-language_films</td>\n",
       "      <td>San Quentin (1937 film)</td>\n",
       "    </tr>\n",
       "    <tr>\n",
       "      <th>153</th>\n",
       "      <td>[744272, 1064807, 1065282, 1085943, 1125916, 1...</td>\n",
       "      <td>5.0</td>\n",
       "      <td>9.0</td>\n",
       "      <td>American_films</td>\n",
       "      <td>35 and Ticking</td>\n",
       "    </tr>\n",
       "    <tr>\n",
       "      <th>167</th>\n",
       "      <td>[645690, 804311]</td>\n",
       "      <td>2.0</td>\n",
       "      <td>2.0</td>\n",
       "      <td>Place_of_birth_missing_(living_people)</td>\n",
       "      <td>Donna Dubinsky</td>\n",
       "    </tr>\n",
       "    <tr>\n",
       "      <th>...</th>\n",
       "      <td>...</td>\n",
       "      <td>...</td>\n",
       "      <td>...</td>\n",
       "      <td>...</td>\n",
       "      <td>...</td>\n",
       "    </tr>\n",
       "    <tr>\n",
       "      <th>1789654</th>\n",
       "      <td>[]</td>\n",
       "      <td>1.0</td>\n",
       "      <td>0.0</td>\n",
       "      <td>English-language_films</td>\n",
       "      <td>Allan Quatermain and the Temple of Skulls</td>\n",
       "    </tr>\n",
       "    <tr>\n",
       "      <th>1356290</th>\n",
       "      <td>[]</td>\n",
       "      <td>1.0</td>\n",
       "      <td>0.0</td>\n",
       "      <td>English-language_films</td>\n",
       "      <td>The Cottage (film)</td>\n",
       "    </tr>\n",
       "    <tr>\n",
       "      <th>1053684</th>\n",
       "      <td>[]</td>\n",
       "      <td>1.0</td>\n",
       "      <td>0.0</td>\n",
       "      <td>American_television_actors</td>\n",
       "      <td>Eric Lutes</td>\n",
       "    </tr>\n",
       "    <tr>\n",
       "      <th>1789822</th>\n",
       "      <td>[]</td>\n",
       "      <td>1.0</td>\n",
       "      <td>0.0</td>\n",
       "      <td>American_television_actors</td>\n",
       "      <td>Joy Osmanski</td>\n",
       "    </tr>\n",
       "    <tr>\n",
       "      <th>235100</th>\n",
       "      <td>[]</td>\n",
       "      <td>1.0</td>\n",
       "      <td>0.0</td>\n",
       "      <td>Harvard_University_alumni</td>\n",
       "      <td>James Pierpont (Yale founder)</td>\n",
       "    </tr>\n",
       "  </tbody>\n",
       "</table>\n",
       "<p>98343 rows × 5 columns</p>\n",
       "</div>"
      ],
      "text/plain": [
       "                                                 Neighbour  InDegree  \\\n",
       "Node                                                                   \n",
       "95                                               [1185516]       0.0   \n",
       "108                            [1059989, 1062426, 1161925]       0.0   \n",
       "134                    [541222, 1061485, 1163610, 1163783]       5.0   \n",
       "153      [744272, 1064807, 1065282, 1085943, 1125916, 1...       5.0   \n",
       "167                                       [645690, 804311]       2.0   \n",
       "...                                                    ...       ...   \n",
       "1789654                                                 []       1.0   \n",
       "1356290                                                 []       1.0   \n",
       "1053684                                                 []       1.0   \n",
       "1789822                                                 []       1.0   \n",
       "235100                                                  []       1.0   \n",
       "\n",
       "         OutDegree                                Category  \\\n",
       "Node                                                         \n",
       "95             1.0                            Debut_albums   \n",
       "108            3.0                            Debut_albums   \n",
       "134            4.0                  English-language_films   \n",
       "153            9.0                          American_films   \n",
       "167            2.0  Place_of_birth_missing_(living_people)   \n",
       "...            ...                                     ...   \n",
       "1789654        0.0                  English-language_films   \n",
       "1356290        0.0                  English-language_films   \n",
       "1053684        0.0              American_television_actors   \n",
       "1789822        0.0              American_television_actors   \n",
       "235100         0.0               Harvard_University_alumni   \n",
       "\n",
       "                                             Names  \n",
       "Node                                                \n",
       "95                    This Way (Hana Pestle album)  \n",
       "108               Born Innocent (Redd Kross album)  \n",
       "134                        San Quentin (1937 film)  \n",
       "153                                 35 and Ticking  \n",
       "167                                 Donna Dubinsky  \n",
       "...                                            ...  \n",
       "1789654  Allan Quatermain and the Temple of Skulls  \n",
       "1356290                         The Cottage (film)  \n",
       "1053684                                 Eric Lutes  \n",
       "1789822                               Joy Osmanski  \n",
       "235100               James Pierpont (Yale founder)  \n",
       "\n",
       "[98343 rows x 5 columns]"
      ]
     },
     "execution_count": 15,
     "metadata": {},
     "output_type": "execute_result"
    }
   ],
   "source": [
    "G.nodes"
   ]
  },
  {
   "cell_type": "markdown",
   "metadata": {},
   "source": [
    "# Answers"
   ]
  },
  {
   "cell_type": "markdown",
   "metadata": {},
   "source": [
    "## Question 1\n",
    "\n",
    "## Is the graph directed?"
   ]
  },
  {
   "cell_type": "code",
   "execution_count": 16,
   "metadata": {},
   "outputs": [
    {
     "name": "stdout",
     "output_type": "stream",
     "text": [
      "The graph is directed\n"
     ]
    }
   ],
   "source": [
    "if G.is_directed():\n",
    "    print('The graph is directed')\n",
    "else:\n",
    "    print('The graph is not directed')"
   ]
  },
  {
   "cell_type": "markdown",
   "metadata": {},
   "source": [
    "Yes! We are working on a directed graph $G=(V,E)$, where our nodes $V$ (articles) are connected together by edges $E$ (hyperlinks) directed from one vertex to another. \n",
    "\n",
    "We verify this property looking at the number of sources and targets ,because in an undirected graph each vertex is both sorce than target , and since we assume that all edges in the graphs have weight equal to 1, we should find each edges in both directions ,but this isn't the case. "
   ]
  },
  {
   "cell_type": "markdown",
   "metadata": {},
   "source": [
    "## How many articles are we considering?¶"
   ]
  },
  {
   "cell_type": "markdown",
   "metadata": {},
   "source": [
    "Since each node corresponds to an article, we can count the number of articles just counting the number of nodes of our Graph $G$:"
   ]
  },
  {
   "cell_type": "code",
   "execution_count": 17,
   "metadata": {},
   "outputs": [
    {
     "name": "stdout",
     "output_type": "stream",
     "text": [
      "We are considering 98343 articles.\n"
     ]
    }
   ],
   "source": [
    "print(f'We are considering {G.n_nodes} articles.')"
   ]
  },
  {
   "cell_type": "markdown",
   "metadata": {},
   "source": [
    "## How many hyperlinks between pages exist?\n",
    "Since each edge corresponds to an hyperlink between 2 articles, we can count the number of hyperlinks just counting the number of edges of our Graph $G$ "
   ]
  },
  {
   "cell_type": "code",
   "execution_count": 18,
   "metadata": {},
   "outputs": [
    {
     "name": "stdout",
     "output_type": "stream",
     "text": [
      "There are 483094 hyperlink between pages.\n"
     ]
    }
   ],
   "source": [
    "print(f'There are {G.n_edges} hyperlink between pages.')"
   ]
  },
  {
   "cell_type": "markdown",
   "metadata": {},
   "source": [
    " ## Average number of links in an arbitrary page and Density of our Graph"
   ]
  },
  {
   "cell_type": "markdown",
   "metadata": {},
   "source": [
    "The average degree of our directed graph is: $(k^{in})=(k^{out})=\\frac{1}{N} \\sum_{i=1}^{N}k_{i}^{in}=\\frac{1}{N} \\sum_{i=1}^{N}k_{i}^{out}=\\frac{totalnumberofhyperlinks}{totalnumberofarticles} $\n",
    "\n",
    "The density of the graph $G$ measures how many hyperlinks are in set $E$ compared to the maximum possible number of hyperlinks between articles in set $V$\n",
    "\n",
    "The density of our directed graph is: $D= \\frac{|E|}{2\\binom{|V|}{2}} = \\frac{|E|}{|V|(|V|-1)} $"
   ]
  },
  {
   "cell_type": "code",
   "execution_count": 19,
   "metadata": {},
   "outputs": [
    {
     "name": "stdout",
     "output_type": "stream",
     "text": [
      "The average number of links in an arbitrary page is 4.912337431235573\n",
      "Graph density: 4.9951571365597335e-05\n"
     ]
    }
   ],
   "source": [
    "print(f'The average number of links in an arbitrary page is {G.out_degree()}')\n",
    "print(f'Graph density: {G.density()}')"
   ]
  },
  {
   "cell_type": "markdown",
   "metadata": {},
   "source": [
    " ## Check if our graph is Dense or Sparse\n",
    " \n",
    "To see if our graph is sparse or dense, we consider that the density of a sparse graph is in lower range of the density’s codomain $(0\\leqslant density < \\frac {1} {2})$; the density of a dense graph is in the higher range of its codomain $ ( \\frac {1} {2} < density \\leqslant  1) $, so:"
   ]
  },
  {
   "cell_type": "markdown",
   "metadata": {},
   "source": [
    "> **The graph is sparse  !!**\n",
    "\n",
    "It means that our graph the number of edges is NOT close to the maximal number of edges, in fact the total number of edges of a directed graph is:\n",
    "> $ E_{max} = V*(V-1)$\n",
    "\n",
    "In our case the maximum number of edges is 9671247306, but we've only 483094 edges, far from the maximum."
   ]
  },
  {
   "cell_type": "markdown",
   "metadata": {},
   "source": [
    "## Nodes' degree distribution"
   ]
  },
  {
   "cell_type": "code",
   "execution_count": 20,
   "metadata": {},
   "outputs": [
    {
     "data": {
      "image/png": "[encoded data removed]",
      "text/plain": [
       "<Figure size 1152x648 with 1 Axes>"
      ]
     },
     "metadata": {
      "needs_background": "light"
     },
     "output_type": "display_data"
    },
    {
     "data": {
      "image/png": "[encoded data removed]",
      "text/plain": [
       "<Figure size 1152x648 with 1 Axes>"
      ]
     },
     "metadata": {
      "needs_background": "light"
     },
     "output_type": "display_data"
    }
   ],
   "source": [
    "G.plot_degree_distr()"
   ]
  },
  {
   "cell_type": "markdown",
   "metadata": {},
   "source": [
    "## Question 2"
   ]
  },
  {
   "cell_type": "markdown",
   "metadata": {},
   "source": [
    "## Breadth-First-Search (BFS) within distance d\n",
    "Given a page **v** and the number of clicks **d** we have to return the set of all pages that a user can reach within d clicks. This problem is a simple Breadth-First-Search where we stop the algorithm when we find all the nodes ad distance d from the origin."
   ]
  },
  {
   "cell_type": "markdown",
   "metadata": {},
   "source": [
    "Starting from the node **95** within **10** clicks we can reach 60531 different nodes,here we return their label and their distance from the orign."
   ]
  },
  {
   "cell_type": "code",
   "execution_count": 21,
   "metadata": {
    "scrolled": false
   },
   "outputs": [
    {
     "data": {
      "text/html": [
       "<div>\n",
       "<style scoped>\n",
       "    .dataframe tbody tr th:only-of-type {\n",
       "        vertical-align: middle;\n",
       "    }\n",
       "\n",
       "    .dataframe tbody tr th {\n",
       "        vertical-align: top;\n",
       "    }\n",
       "\n",
       "    .dataframe thead th {\n",
       "        text-align: right;\n",
       "    }\n",
       "</style>\n",
       "<table border=\"1\" class=\"dataframe\">\n",
       "  <thead>\n",
       "    <tr style=\"text-align: right;\">\n",
       "      <th></th>\n",
       "      <th>Names</th>\n",
       "      <th>Distance</th>\n",
       "    </tr>\n",
       "    <tr>\n",
       "      <th>Node</th>\n",
       "      <th></th>\n",
       "      <th></th>\n",
       "    </tr>\n",
       "  </thead>\n",
       "  <tbody>\n",
       "    <tr>\n",
       "      <th>95</th>\n",
       "      <td>This Way (Hana Pestle album)</td>\n",
       "      <td>0</td>\n",
       "    </tr>\n",
       "    <tr>\n",
       "      <th>1185516</th>\n",
       "      <td>Marty O'Brien</td>\n",
       "      <td>1</td>\n",
       "    </tr>\n",
       "    <tr>\n",
       "      <th>150451</th>\n",
       "      <td>22nd Century Lifestyle</td>\n",
       "      <td>2</td>\n",
       "    </tr>\n",
       "    <tr>\n",
       "      <th>1062563</th>\n",
       "      <td>Lindsay Lohan</td>\n",
       "      <td>2</td>\n",
       "    </tr>\n",
       "    <tr>\n",
       "      <th>1178930</th>\n",
       "      <td>Marilyn Manson</td>\n",
       "      <td>2</td>\n",
       "    </tr>\n",
       "    <tr>\n",
       "      <th>...</th>\n",
       "      <td>...</td>\n",
       "      <td>...</td>\n",
       "    </tr>\n",
       "    <tr>\n",
       "      <th>1046428</th>\n",
       "      <td>Kitty (1929 film)</td>\n",
       "      <td>10</td>\n",
       "    </tr>\n",
       "    <tr>\n",
       "      <th>1006500</th>\n",
       "      <td>Derek Possee</td>\n",
       "      <td>10</td>\n",
       "    </tr>\n",
       "    <tr>\n",
       "      <th>77027</th>\n",
       "      <td>Albert Hoskins</td>\n",
       "      <td>10</td>\n",
       "    </tr>\n",
       "    <tr>\n",
       "      <th>79380</th>\n",
       "      <td>Jack Bowers</td>\n",
       "      <td>10</td>\n",
       "    </tr>\n",
       "    <tr>\n",
       "      <th>1319259</th>\n",
       "      <td>Andrej Stropel</td>\n",
       "      <td>10</td>\n",
       "    </tr>\n",
       "  </tbody>\n",
       "</table>\n",
       "<p>60531 rows × 2 columns</p>\n",
       "</div>"
      ],
      "text/plain": [
       "                                Names  Distance\n",
       "Node                                           \n",
       "95       This Way (Hana Pestle album)         0\n",
       "1185516                 Marty O'Brien         1\n",
       "150451         22nd Century Lifestyle         2\n",
       "1062563                 Lindsay Lohan         2\n",
       "1178930                Marilyn Manson         2\n",
       "...                               ...       ...\n",
       "1046428             Kitty (1929 film)        10\n",
       "1006500                  Derek Possee        10\n",
       "77027                  Albert Hoskins        10\n",
       "79380                     Jack Bowers        10\n",
       "1319259                Andrej Stropel        10\n",
       "\n",
       "[60531 rows x 2 columns]"
      ]
     },
     "execution_count": 21,
     "metadata": {},
     "output_type": "execute_result"
    }
   ],
   "source": [
    "v = 95\n",
    "d = 10\n",
    "G.bfs(v, max_distance=d)"
   ]
  },
  {
   "cell_type": "code",
   "execution_count": 22,
   "metadata": {},
   "outputs": [
    {
     "name": "stdout",
     "output_type": "stream",
     "text": [
      "The node 235101 is not present in the graph!\n"
     ]
    }
   ],
   "source": [
    "v = 235101\n",
    "d = 10\n",
    "G.bfs(v)"
   ]
  },
  {
   "cell_type": "markdown",
   "metadata": {},
   "source": [
    "The node **235100** has no outgoing edges so it can reach only itself."
   ]
  },
  {
   "cell_type": "code",
   "execution_count": 23,
   "metadata": {},
   "outputs": [
    {
     "data": {
      "text/html": [
       "<div>\n",
       "<style scoped>\n",
       "    .dataframe tbody tr th:only-of-type {\n",
       "        vertical-align: middle;\n",
       "    }\n",
       "\n",
       "    .dataframe tbody tr th {\n",
       "        vertical-align: top;\n",
       "    }\n",
       "\n",
       "    .dataframe thead th {\n",
       "        text-align: right;\n",
       "    }\n",
       "</style>\n",
       "<table border=\"1\" class=\"dataframe\">\n",
       "  <thead>\n",
       "    <tr style=\"text-align: right;\">\n",
       "      <th></th>\n",
       "      <th>Names</th>\n",
       "      <th>Distance</th>\n",
       "    </tr>\n",
       "    <tr>\n",
       "      <th>Node</th>\n",
       "      <th></th>\n",
       "      <th></th>\n",
       "    </tr>\n",
       "  </thead>\n",
       "  <tbody>\n",
       "    <tr>\n",
       "      <th>235100</th>\n",
       "      <td>James Pierpont (Yale founder)</td>\n",
       "      <td>0</td>\n",
       "    </tr>\n",
       "  </tbody>\n",
       "</table>\n",
       "</div>"
      ],
      "text/plain": [
       "                                Names  Distance\n",
       "Node                                           \n",
       "235100  James Pierpont (Yale founder)         0"
      ]
     },
     "execution_count": 23,
     "metadata": {},
     "output_type": "execute_result"
    }
   ],
   "source": [
    "v = 235100\n",
    "d = math.inf\n",
    "G.bfs(v)"
   ]
  },
  {
   "cell_type": "markdown",
   "metadata": {},
   "source": [
    "## Question 3\n",
    "Given in input:\n",
    "* A category C\n",
    "* A set of pages in C, p = {p1, ..., pn}\n",
    "\n",
    "returns the minimum number of clicks required to reach all pages in p, starting from the page v, corresponding to the most central article, according to the in-degree centrality, in C.\n",
    "\n",
    "As metrics of centrality, we adopted the Degree centrality for directed networks, with:\n",
    "\n",
    "$centrality_{indegree}^{v}=\\frac{deg_{indegree}^{v}}{|N|-1}$\n",
    "\n",
    "where:\n",
    "\n",
    "$centrality_{indegree}^{v}$ is the centrality-score of a node $v$\n",
    "\n",
    "$deg_{indegree}^{v}$ is the IN-degree of node $v$\n",
    "\n",
    "$|N|$ is the number of nodes of the graph $G$"
   ]
  },
  {
   "cell_type": "markdown",
   "metadata": {},
   "source": [
    "Due to the problem is computational expensive we run it first for a small random number of pages than fore more pages,all of them are taken from a category chosen at random from all category we have."
   ]
  },
  {
   "cell_type": "markdown",
   "metadata": {},
   "source": [
    "First example:"
   ]
  },
  {
   "cell_type": "code",
   "execution_count": 24,
   "metadata": {},
   "outputs": [
    {
     "name": "stdout",
     "output_type": "stream",
     "text": [
      "To reach the pages {1163207}, belonging to the category American_television_actors, starting from the category's most central article it requires at least 4 clicks.\n"
     ]
    }
   ],
   "source": [
    "C = G.nodes.Category.sample().iloc[0]\n",
    "max_pages = 3\n",
    "n_pages = np.random.randint(1, max_pages)\n",
    "p = set(G.nodes[G.nodes.Category == C].sample(n_pages, replace=True).index.tolist())\n",
    "min_click = G.min_clicks(C, p)\n",
    "if min_click is not None:\n",
    "    print(f\"To reach the pages {p}, belonging to the category {C}, starting from the category's most central article it requires at least {min_click} clicks.\")\n",
    "else:\n",
    "    print(f\"It's not possible to reach all the pages {p}, belonging to the category {C}, starting from the category's most central article.\")"
   ]
  },
  {
   "cell_type": "markdown",
   "metadata": {},
   "source": [
    "Second example"
   ]
  },
  {
   "cell_type": "code",
   "execution_count": 25,
   "metadata": {},
   "outputs": [
    {
     "name": "stdout",
     "output_type": "stream",
     "text": [
      "Not possible!\n",
      "It's not possible to reach all the pages {1042304, 1247200, 1446588, 1042635, 1056908, 1053004, 1551598, 1056495, 251989, 1067254, 1063352, 1056505, 1376764, 1063709, 1556223}, belonging to the category English-language_films.\n"
     ]
    }
   ],
   "source": [
    "C = G.nodes.Category.sample().iloc[0]\n",
    "max_pages = 20\n",
    "n_pages = np.random.randint(5, max_pages)\n",
    "p = set(G.nodes[G.nodes.Category == C].sample(n_pages, replace=True).index.tolist())\n",
    "min_click = G.min_clicks(C, p)\n",
    "if min_click is not None:\n",
    "    print(f'To reach the pages {p}, belonging to the category {C}, it requires at least {min_click} clicks.')\n",
    "else:\n",
    "    print(f\"It's not possible to reach all the pages {p}, belonging to the category {C}.\")"
   ]
  },
  {
   "cell_type": "markdown",
   "metadata": {},
   "source": [
    "## Question 4\n",
    "Given in input two categories: $C1$ and $C2$, we get the subgraph induced by all the articles in the two categories.\n",
    "* Let v and u two arbitrary pages in the subgraph return  minimum set of hyperlinks one can remove to disconnect u and v."
   ]
  },
  {
   "cell_type": "markdown",
   "metadata": {},
   "source": [
    "The ***induced subgraph*** of a graph is another graph, formed from a subset of the vertices of the graph and all of the edges connecting pairs of vertices in that subset.\n",
    "\n",
    "In our particular case the subset of nodes is the one made by the articles belonging to the two category $C1$ and $C2$ that we choose at random from all the categories.\n",
    "\n",
    "Then chosen $v$ and $u$ the minimum number of links that we have to remove to disconnect them is the same of calculating the number of edges of the min cut which divide the graph in two partitions $P1$ and $P2$ such that $ v \\in P1$ and $ u \\in P2$.\n"
   ]
  },
  {
   "cell_type": "markdown",
   "metadata": {},
   "source": [
    "To find the min cut we used the **Karger's Algorithm** which is a randomized algorithm that gives a good approximation for the cardinality of the min-cut.The algorithm follows principally four steps:\n",
    "\n",
    "1. Choose an edge uniformly at random\n",
    "2. Contract the edge\n",
    "3. Repeat steps 1 and 2 until two nodes are left\n",
    "4. Return the cut defined by the nodes and the esges left\n",
    "\n",
    "Since the algorithm is a randomized algorithm it may return the wrong answer. So the number of times we have to repeat it in orded to have a $Probability(Fail) \\le {1\\over n}$ ,where $n$ is the number of edges, is $n^2ln(n)$."
   ]
  },
  {
   "cell_type": "code",
   "execution_count": 26,
   "metadata": {
    "scrolled": true
   },
   "outputs": [
    {
     "name": "stdout",
     "output_type": "stream",
     "text": [
      "The minimum number of hyperlinks we have to remove in order to disconnect two random nodes, belonging to the categories Association_football_forwards or Debut_albums, is 0\n"
     ]
    }
   ],
   "source": [
    "C1, C2 = np.random.choice(G.nodes.Category.unique(), 2)\n",
    "print(f\"The minimum number of hyperlinks we have to remove in order to disconnect two random nodes, belonging to the categories {C1} or {C2}, is {G.min_link_to_disconnect(C1, C2)}\")"
   ]
  },
  {
   "cell_type": "markdown",
   "metadata": {},
   "source": [
    "Unfortunately most of the categories are already disconnected so Karger's algorithm returns 0."
   ]
  },
  {
   "cell_type": "markdown",
   "metadata": {},
   "source": [
    "## Question 5\n",
    "Given an arbitrary category C0 as input, returns the list of remaning categories sorted by their distance from C0. In particular, the distance between two categories is defined as\n",
    "\n",
    "* distance(C0, Ci) = median(ShortestPath(C0, Ci))\n",
    "\n",
    "where ShortestPath(C0, Ci) is the set of shortest paths from each pair of nodes in the two categories."
   ]
  },
  {
   "cell_type": "code",
   "execution_count": 27,
   "metadata": {},
   "outputs": [
    {
     "data": {
      "text/plain": [
       "'Association_football_midfielders'"
      ]
     },
     "execution_count": 27,
     "metadata": {},
     "output_type": "execute_result"
    }
   ],
   "source": [
    "C = G.nodes.Category.sample().iloc[0]\n",
    "C"
   ]
  },
  {
   "cell_type": "code",
   "execution_count": 29,
   "metadata": {},
   "outputs": [
    {
     "name": "stderr",
     "output_type": "stream",
     "text": [
      "100%|██████████████████████████████████████████████████████████████████████████████| 2763/2763 [07:50<00:00,  5.88it/s]\n"
     ]
    },
    {
     "data": {
      "text/html": [
       "<div>\n",
       "<style scoped>\n",
       "    .dataframe tbody tr th:only-of-type {\n",
       "        vertical-align: middle;\n",
       "    }\n",
       "\n",
       "    .dataframe tbody tr th {\n",
       "        vertical-align: top;\n",
       "    }\n",
       "\n",
       "    .dataframe thead th {\n",
       "        text-align: right;\n",
       "    }\n",
       "</style>\n",
       "<table border=\"1\" class=\"dataframe\">\n",
       "  <thead>\n",
       "    <tr style=\"text-align: right;\">\n",
       "      <th></th>\n",
       "      <th>C0</th>\n",
       "      <th>Ci</th>\n",
       "      <th>Dist</th>\n",
       "    </tr>\n",
       "  </thead>\n",
       "  <tbody>\n",
       "    <tr>\n",
       "      <th>0</th>\n",
       "      <td>Association_football_midfielders</td>\n",
       "      <td>Debut_albums</td>\n",
       "      <td>inf</td>\n",
       "    </tr>\n",
       "    <tr>\n",
       "      <th>9</th>\n",
       "      <td>Association_football_midfielders</td>\n",
       "      <td>Year_of_death_missing</td>\n",
       "      <td>inf</td>\n",
       "    </tr>\n",
       "    <tr>\n",
       "      <th>17</th>\n",
       "      <td>Association_football_midfielders</td>\n",
       "      <td>Indian_films</td>\n",
       "      <td>inf</td>\n",
       "    </tr>\n",
       "    <tr>\n",
       "      <th>15</th>\n",
       "      <td>Association_football_midfielders</td>\n",
       "      <td>English_footballers</td>\n",
       "      <td>inf</td>\n",
       "    </tr>\n",
       "    <tr>\n",
       "      <th>14</th>\n",
       "      <td>Association_football_midfielders</td>\n",
       "      <td>The_Football_League_players</td>\n",
       "      <td>inf</td>\n",
       "    </tr>\n",
       "    <tr>\n",
       "      <th>13</th>\n",
       "      <td>Association_football_midfielders</td>\n",
       "      <td>Association_football_forwards</td>\n",
       "      <td>inf</td>\n",
       "    </tr>\n",
       "    <tr>\n",
       "      <th>12</th>\n",
       "      <td>Association_football_midfielders</td>\n",
       "      <td>Association_football_defenders</td>\n",
       "      <td>inf</td>\n",
       "    </tr>\n",
       "    <tr>\n",
       "      <th>11</th>\n",
       "      <td>Association_football_midfielders</td>\n",
       "      <td>Year_of_birth_missing</td>\n",
       "      <td>inf</td>\n",
       "    </tr>\n",
       "    <tr>\n",
       "      <th>19</th>\n",
       "      <td>Association_football_midfielders</td>\n",
       "      <td>Major_League_Baseball_pitchers</td>\n",
       "      <td>inf</td>\n",
       "    </tr>\n",
       "    <tr>\n",
       "      <th>8</th>\n",
       "      <td>Association_football_midfielders</td>\n",
       "      <td>Asteroids_named_for_people</td>\n",
       "      <td>inf</td>\n",
       "    </tr>\n",
       "    <tr>\n",
       "      <th>7</th>\n",
       "      <td>Association_football_midfielders</td>\n",
       "      <td>Main_Belt_asteroids</td>\n",
       "      <td>inf</td>\n",
       "    </tr>\n",
       "    <tr>\n",
       "      <th>6</th>\n",
       "      <td>Association_football_midfielders</td>\n",
       "      <td>Harvard_University_alumni</td>\n",
       "      <td>inf</td>\n",
       "    </tr>\n",
       "    <tr>\n",
       "      <th>3</th>\n",
       "      <td>Association_football_midfielders</td>\n",
       "      <td>Place_of_birth_missing_(living_people)</td>\n",
       "      <td>inf</td>\n",
       "    </tr>\n",
       "    <tr>\n",
       "      <th>18</th>\n",
       "      <td>Association_football_midfielders</td>\n",
       "      <td>Rivers_of_Romania</td>\n",
       "      <td>13.0</td>\n",
       "    </tr>\n",
       "    <tr>\n",
       "      <th>10</th>\n",
       "      <td>Association_football_midfielders</td>\n",
       "      <td>Black-and-white_films</td>\n",
       "      <td>11.0</td>\n",
       "    </tr>\n",
       "    <tr>\n",
       "      <th>1</th>\n",
       "      <td>Association_football_midfielders</td>\n",
       "      <td>English-language_films</td>\n",
       "      <td>10.0</td>\n",
       "    </tr>\n",
       "    <tr>\n",
       "      <th>16</th>\n",
       "      <td>Association_football_midfielders</td>\n",
       "      <td>Members_of_the_United_Kingdom_Parliament_for_E...</td>\n",
       "      <td>10.0</td>\n",
       "    </tr>\n",
       "    <tr>\n",
       "      <th>5</th>\n",
       "      <td>Association_football_midfielders</td>\n",
       "      <td>American_television_actors</td>\n",
       "      <td>9.0</td>\n",
       "    </tr>\n",
       "    <tr>\n",
       "      <th>4</th>\n",
       "      <td>Association_football_midfielders</td>\n",
       "      <td>American_film_actors</td>\n",
       "      <td>9.0</td>\n",
       "    </tr>\n",
       "    <tr>\n",
       "      <th>2</th>\n",
       "      <td>Association_football_midfielders</td>\n",
       "      <td>American_films</td>\n",
       "      <td>9.0</td>\n",
       "    </tr>\n",
       "  </tbody>\n",
       "</table>\n",
       "</div>"
      ],
      "text/plain": [
       "                                  C0  \\\n",
       "0   Association_football_midfielders   \n",
       "9   Association_football_midfielders   \n",
       "17  Association_football_midfielders   \n",
       "15  Association_football_midfielders   \n",
       "14  Association_football_midfielders   \n",
       "13  Association_football_midfielders   \n",
       "12  Association_football_midfielders   \n",
       "11  Association_football_midfielders   \n",
       "19  Association_football_midfielders   \n",
       "8   Association_football_midfielders   \n",
       "7   Association_football_midfielders   \n",
       "6   Association_football_midfielders   \n",
       "3   Association_football_midfielders   \n",
       "18  Association_football_midfielders   \n",
       "10  Association_football_midfielders   \n",
       "1   Association_football_midfielders   \n",
       "16  Association_football_midfielders   \n",
       "5   Association_football_midfielders   \n",
       "4   Association_football_midfielders   \n",
       "2   Association_football_midfielders   \n",
       "\n",
       "                                                   Ci  Dist  \n",
       "0                                        Debut_albums   inf  \n",
       "9                               Year_of_death_missing   inf  \n",
       "17                                       Indian_films   inf  \n",
       "15                                English_footballers   inf  \n",
       "14                        The_Football_League_players   inf  \n",
       "13                      Association_football_forwards   inf  \n",
       "12                     Association_football_defenders   inf  \n",
       "11                              Year_of_birth_missing   inf  \n",
       "19                     Major_League_Baseball_pitchers   inf  \n",
       "8                          Asteroids_named_for_people   inf  \n",
       "7                                 Main_Belt_asteroids   inf  \n",
       "6                           Harvard_University_alumni   inf  \n",
       "3              Place_of_birth_missing_(living_people)   inf  \n",
       "18                                  Rivers_of_Romania  13.0  \n",
       "10                              Black-and-white_films  11.0  \n",
       "1                              English-language_films  10.0  \n",
       "16  Members_of_the_United_Kingdom_Parliament_for_E...  10.0  \n",
       "5                          American_television_actors   9.0  \n",
       "4                                American_film_actors   9.0  \n",
       "2                                      American_films   9.0  "
      ]
     },
     "execution_count": 29,
     "metadata": {},
     "output_type": "execute_result"
    }
   ],
   "source": [
    "G.distances_from_category(C)"
   ]
  },
  {
   "cell_type": "code",
   "execution_count": 30,
   "metadata": {},
   "outputs": [
    {
     "name": "stderr",
     "output_type": "stream",
     "text": [
      "100%|██████████████████████████████████████████████████████████████████████████████| 2763/2763 [06:19<00:00,  7.27it/s]\n"
     ]
    },
    {
     "data": {
      "text/html": [
       "<div>\n",
       "<style scoped>\n",
       "    .dataframe tbody tr th:only-of-type {\n",
       "        vertical-align: middle;\n",
       "    }\n",
       "\n",
       "    .dataframe tbody tr th {\n",
       "        vertical-align: top;\n",
       "    }\n",
       "\n",
       "    .dataframe thead th {\n",
       "        text-align: right;\n",
       "    }\n",
       "</style>\n",
       "<table border=\"1\" class=\"dataframe\">\n",
       "  <thead>\n",
       "    <tr style=\"text-align: right;\">\n",
       "      <th></th>\n",
       "      <th>C0</th>\n",
       "      <th>Ci</th>\n",
       "      <th>Dist</th>\n",
       "    </tr>\n",
       "  </thead>\n",
       "  <tbody>\n",
       "    <tr>\n",
       "      <th>18</th>\n",
       "      <td>Association_football_midfielders</td>\n",
       "      <td>Rivers_of_Romania</td>\n",
       "      <td>10.0</td>\n",
       "    </tr>\n",
       "    <tr>\n",
       "      <th>17</th>\n",
       "      <td>Association_football_midfielders</td>\n",
       "      <td>Indian_films</td>\n",
       "      <td>10.0</td>\n",
       "    </tr>\n",
       "    <tr>\n",
       "      <th>7</th>\n",
       "      <td>Association_football_midfielders</td>\n",
       "      <td>Main_Belt_asteroids</td>\n",
       "      <td>10.0</td>\n",
       "    </tr>\n",
       "    <tr>\n",
       "      <th>19</th>\n",
       "      <td>Association_football_midfielders</td>\n",
       "      <td>Major_League_Baseball_pitchers</td>\n",
       "      <td>9.0</td>\n",
       "    </tr>\n",
       "    <tr>\n",
       "      <th>8</th>\n",
       "      <td>Association_football_midfielders</td>\n",
       "      <td>Asteroids_named_for_people</td>\n",
       "      <td>9.0</td>\n",
       "    </tr>\n",
       "    <tr>\n",
       "      <th>16</th>\n",
       "      <td>Association_football_midfielders</td>\n",
       "      <td>Members_of_the_United_Kingdom_Parliament_for_E...</td>\n",
       "      <td>8.0</td>\n",
       "    </tr>\n",
       "    <tr>\n",
       "      <th>11</th>\n",
       "      <td>Association_football_midfielders</td>\n",
       "      <td>Year_of_birth_missing</td>\n",
       "      <td>8.0</td>\n",
       "    </tr>\n",
       "    <tr>\n",
       "      <th>9</th>\n",
       "      <td>Association_football_midfielders</td>\n",
       "      <td>Year_of_death_missing</td>\n",
       "      <td>8.0</td>\n",
       "    </tr>\n",
       "    <tr>\n",
       "      <th>0</th>\n",
       "      <td>Association_football_midfielders</td>\n",
       "      <td>Debut_albums</td>\n",
       "      <td>8.0</td>\n",
       "    </tr>\n",
       "    <tr>\n",
       "      <th>6</th>\n",
       "      <td>Association_football_midfielders</td>\n",
       "      <td>Harvard_University_alumni</td>\n",
       "      <td>8.0</td>\n",
       "    </tr>\n",
       "    <tr>\n",
       "      <th>3</th>\n",
       "      <td>Association_football_midfielders</td>\n",
       "      <td>Place_of_birth_missing_(living_people)</td>\n",
       "      <td>8.0</td>\n",
       "    </tr>\n",
       "    <tr>\n",
       "      <th>10</th>\n",
       "      <td>Association_football_midfielders</td>\n",
       "      <td>Black-and-white_films</td>\n",
       "      <td>8.0</td>\n",
       "    </tr>\n",
       "    <tr>\n",
       "      <th>1</th>\n",
       "      <td>Association_football_midfielders</td>\n",
       "      <td>English-language_films</td>\n",
       "      <td>7.0</td>\n",
       "    </tr>\n",
       "    <tr>\n",
       "      <th>5</th>\n",
       "      <td>Association_football_midfielders</td>\n",
       "      <td>American_television_actors</td>\n",
       "      <td>7.0</td>\n",
       "    </tr>\n",
       "    <tr>\n",
       "      <th>4</th>\n",
       "      <td>Association_football_midfielders</td>\n",
       "      <td>American_film_actors</td>\n",
       "      <td>7.0</td>\n",
       "    </tr>\n",
       "    <tr>\n",
       "      <th>2</th>\n",
       "      <td>Association_football_midfielders</td>\n",
       "      <td>American_films</td>\n",
       "      <td>7.0</td>\n",
       "    </tr>\n",
       "    <tr>\n",
       "      <th>12</th>\n",
       "      <td>Association_football_midfielders</td>\n",
       "      <td>Association_football_defenders</td>\n",
       "      <td>6.0</td>\n",
       "    </tr>\n",
       "    <tr>\n",
       "      <th>13</th>\n",
       "      <td>Association_football_midfielders</td>\n",
       "      <td>Association_football_forwards</td>\n",
       "      <td>6.0</td>\n",
       "    </tr>\n",
       "    <tr>\n",
       "      <th>14</th>\n",
       "      <td>Association_football_midfielders</td>\n",
       "      <td>The_Football_League_players</td>\n",
       "      <td>6.0</td>\n",
       "    </tr>\n",
       "    <tr>\n",
       "      <th>15</th>\n",
       "      <td>Association_football_midfielders</td>\n",
       "      <td>English_footballers</td>\n",
       "      <td>6.0</td>\n",
       "    </tr>\n",
       "  </tbody>\n",
       "</table>\n",
       "</div>"
      ],
      "text/plain": [
       "                                  C0  \\\n",
       "18  Association_football_midfielders   \n",
       "17  Association_football_midfielders   \n",
       "7   Association_football_midfielders   \n",
       "19  Association_football_midfielders   \n",
       "8   Association_football_midfielders   \n",
       "16  Association_football_midfielders   \n",
       "11  Association_football_midfielders   \n",
       "9   Association_football_midfielders   \n",
       "0   Association_football_midfielders   \n",
       "6   Association_football_midfielders   \n",
       "3   Association_football_midfielders   \n",
       "10  Association_football_midfielders   \n",
       "1   Association_football_midfielders   \n",
       "5   Association_football_midfielders   \n",
       "4   Association_football_midfielders   \n",
       "2   Association_football_midfielders   \n",
       "12  Association_football_midfielders   \n",
       "13  Association_football_midfielders   \n",
       "14  Association_football_midfielders   \n",
       "15  Association_football_midfielders   \n",
       "\n",
       "                                                   Ci  Dist  \n",
       "18                                  Rivers_of_Romania  10.0  \n",
       "17                                       Indian_films  10.0  \n",
       "7                                 Main_Belt_asteroids  10.0  \n",
       "19                     Major_League_Baseball_pitchers   9.0  \n",
       "8                          Asteroids_named_for_people   9.0  \n",
       "16  Members_of_the_United_Kingdom_Parliament_for_E...   8.0  \n",
       "11                              Year_of_birth_missing   8.0  \n",
       "9                               Year_of_death_missing   8.0  \n",
       "0                                        Debut_albums   8.0  \n",
       "6                           Harvard_University_alumni   8.0  \n",
       "3              Place_of_birth_missing_(living_people)   8.0  \n",
       "10                              Black-and-white_films   8.0  \n",
       "1                              English-language_films   7.0  \n",
       "5                          American_television_actors   7.0  \n",
       "4                                American_film_actors   7.0  \n",
       "2                                      American_films   7.0  \n",
       "12                     Association_football_defenders   6.0  \n",
       "13                      Association_football_forwards   6.0  \n",
       "14                        The_Football_League_players   6.0  \n",
       "15                                English_footballers   6.0  "
      ]
     },
     "execution_count": 30,
     "metadata": {},
     "output_type": "execute_result"
    }
   ],
   "source": [
    "G.distances_from_category(C, condider_inf_distance=False)"
   ]
  },
  {
   "cell_type": "markdown",
   "metadata": {},
   "source": [
    "## Question 6"
   ]
  },
  {
   "cell_type": "markdown",
   "metadata": {},
   "source": [
    "## PageRank algorithm\n",
    "The PageRank algorithm outputs a probability distribution used to represent the likelihood that a person randomly clicking on links will arrive at any particular page. Hence, a category with a PageRank of 0.5 means there is a 50% chance that a person clicking on a random link will be directed to a node of that category.\n",
    "\n",
    "Here we use the model of **random surfer**, the model attempts to predict the chance that a random internet surfer will arrive at a page by either clicking a link or by accessing the site directly, for example by directly entering the website's URL in the address bar.\n",
    "\n",
    "The probability, at any step, that the person follows the links in the page is a damping factor $d$ ,consequently the probability to move to a random page searching it in the adress bar is $1-d$.\n",
    "\n",
    "The **random surfer model**  can be understood as a Markov chain in which the states are pages, and the transitions are the links between pages – all of which are all equally probable.\n",
    "\n",
    "Here we can see that doesn't matter where the **surfer** starts because after a large number of steps it converge to the same distibution of page probability."
   ]
  },
  {
   "cell_type": "code",
   "execution_count": 31,
   "metadata": {},
   "outputs": [],
   "source": [
    "def pagerank(M, num_iterations: int = 100, d: float = 0.85):\n",
    "    \"\"\"\n",
    "    Parameters\n",
    "    ----------\n",
    "    M : numpy array\n",
    "        adjacency matrix where M_i,j represents the link from 'j' to 'i', such that for all 'j'\n",
    "        sum(i, M_i,j) = 1\n",
    "    num_iterations : int, optional\n",
    "        number of iterations, by default 100\n",
    "    d : float, optional\n",
    "        damping factor, by default 0.85\n",
    "\n",
    "    Returns\n",
    "    -------\n",
    "    numpy array\n",
    "        a vector of ranks such that v_i is the i-th rank from [0, 1],\n",
    "        v sums to 1\n",
    "\n",
    "    \"\"\"\n",
    "    N = M.shape[1]\n",
    "    \n",
    "    v = np.random.rand(1, N)\n",
    "    v = v / np.sum(v)\n",
    "    M_hat = (d * M + (1 - d) / N)\n",
    "    for i in range(num_iterations):\n",
    "        v = v @ M_hat\n",
    "    return v"
   ]
  },
  {
   "cell_type": "code",
   "execution_count": 32,
   "metadata": {
    "scrolled": false
   },
   "outputs": [
    {
     "data": {
      "text/html": [
       "<div>\n",
       "<style scoped>\n",
       "    .dataframe tbody tr th:only-of-type {\n",
       "        vertical-align: middle;\n",
       "    }\n",
       "\n",
       "    .dataframe tbody tr th {\n",
       "        vertical-align: top;\n",
       "    }\n",
       "\n",
       "    .dataframe thead th {\n",
       "        text-align: right;\n",
       "    }\n",
       "</style>\n",
       "<table border=\"1\" class=\"dataframe\">\n",
       "  <thead>\n",
       "    <tr style=\"text-align: right;\">\n",
       "      <th></th>\n",
       "      <th>Category</th>\n",
       "      <th>PageRank</th>\n",
       "    </tr>\n",
       "  </thead>\n",
       "  <tbody>\n",
       "    <tr>\n",
       "      <th>4</th>\n",
       "      <td>American_film_actors</td>\n",
       "      <td>0.144084</td>\n",
       "    </tr>\n",
       "    <tr>\n",
       "      <th>1</th>\n",
       "      <td>English-language_films</td>\n",
       "      <td>0.097170</td>\n",
       "    </tr>\n",
       "    <tr>\n",
       "      <th>7</th>\n",
       "      <td>Main_Belt_asteroids</td>\n",
       "      <td>0.083602</td>\n",
       "    </tr>\n",
       "    <tr>\n",
       "      <th>5</th>\n",
       "      <td>American_television_actors</td>\n",
       "      <td>0.074745</td>\n",
       "    </tr>\n",
       "    <tr>\n",
       "      <th>15</th>\n",
       "      <td>The_Football_League_players</td>\n",
       "      <td>0.067799</td>\n",
       "    </tr>\n",
       "    <tr>\n",
       "      <th>16</th>\n",
       "      <td>English_footballers</td>\n",
       "      <td>0.066966</td>\n",
       "    </tr>\n",
       "    <tr>\n",
       "      <th>17</th>\n",
       "      <td>Members_of_the_United_Kingdom_Parliament_for_E...</td>\n",
       "      <td>0.060846</td>\n",
       "    </tr>\n",
       "    <tr>\n",
       "      <th>2</th>\n",
       "      <td>American_films</td>\n",
       "      <td>0.056356</td>\n",
       "    </tr>\n",
       "    <tr>\n",
       "      <th>19</th>\n",
       "      <td>Rivers_of_Romania</td>\n",
       "      <td>0.048080</td>\n",
       "    </tr>\n",
       "    <tr>\n",
       "      <th>20</th>\n",
       "      <td>Major_League_Baseball_pitchers</td>\n",
       "      <td>0.045978</td>\n",
       "    </tr>\n",
       "    <tr>\n",
       "      <th>14</th>\n",
       "      <td>Association_football_forwards</td>\n",
       "      <td>0.042617</td>\n",
       "    </tr>\n",
       "    <tr>\n",
       "      <th>10</th>\n",
       "      <td>Association_football_midfielders</td>\n",
       "      <td>0.036121</td>\n",
       "    </tr>\n",
       "    <tr>\n",
       "      <th>11</th>\n",
       "      <td>Black-and-white_films</td>\n",
       "      <td>0.031971</td>\n",
       "    </tr>\n",
       "    <tr>\n",
       "      <th>13</th>\n",
       "      <td>Association_football_defenders</td>\n",
       "      <td>0.027186</td>\n",
       "    </tr>\n",
       "    <tr>\n",
       "      <th>6</th>\n",
       "      <td>Harvard_University_alumni</td>\n",
       "      <td>0.025679</td>\n",
       "    </tr>\n",
       "    <tr>\n",
       "      <th>18</th>\n",
       "      <td>Indian_films</td>\n",
       "      <td>0.023355</td>\n",
       "    </tr>\n",
       "    <tr>\n",
       "      <th>9</th>\n",
       "      <td>Year_of_death_missing</td>\n",
       "      <td>0.016979</td>\n",
       "    </tr>\n",
       "    <tr>\n",
       "      <th>12</th>\n",
       "      <td>Year_of_birth_missing</td>\n",
       "      <td>0.016642</td>\n",
       "    </tr>\n",
       "    <tr>\n",
       "      <th>3</th>\n",
       "      <td>Place_of_birth_missing_(living_people)</td>\n",
       "      <td>0.015801</td>\n",
       "    </tr>\n",
       "    <tr>\n",
       "      <th>0</th>\n",
       "      <td>Debut_albums</td>\n",
       "      <td>0.010110</td>\n",
       "    </tr>\n",
       "    <tr>\n",
       "      <th>8</th>\n",
       "      <td>Asteroids_named_for_people</td>\n",
       "      <td>0.007914</td>\n",
       "    </tr>\n",
       "  </tbody>\n",
       "</table>\n",
       "</div>"
      ],
      "text/plain": [
       "                                             Category  PageRank\n",
       "4                                American_film_actors  0.144084\n",
       "1                              English-language_films  0.097170\n",
       "7                                 Main_Belt_asteroids  0.083602\n",
       "5                          American_television_actors  0.074745\n",
       "15                        The_Football_League_players  0.067799\n",
       "16                                English_footballers  0.066966\n",
       "17  Members_of_the_United_Kingdom_Parliament_for_E...  0.060846\n",
       "2                                      American_films  0.056356\n",
       "19                                  Rivers_of_Romania  0.048080\n",
       "20                     Major_League_Baseball_pitchers  0.045978\n",
       "14                      Association_football_forwards  0.042617\n",
       "10                   Association_football_midfielders  0.036121\n",
       "11                              Black-and-white_films  0.031971\n",
       "13                     Association_football_defenders  0.027186\n",
       "6                           Harvard_University_alumni  0.025679\n",
       "18                                       Indian_films  0.023355\n",
       "9                               Year_of_death_missing  0.016979\n",
       "12                              Year_of_birth_missing  0.016642\n",
       "3              Place_of_birth_missing_(living_people)  0.015801\n",
       "0                                        Debut_albums  0.010110\n",
       "8                          Asteroids_named_for_people  0.007914"
      ]
     },
     "execution_count": 32,
     "metadata": {},
     "output_type": "execute_result"
    }
   ],
   "source": [
    "G.category_rank()"
   ]
  },
  {
   "cell_type": "markdown",
   "metadata": {},
   "source": [
    "# EXTRA"
   ]
  },
  {
   "cell_type": "markdown",
   "metadata": {},
   "source": [
    "We decided to implement some of the exercises also by using the **NetworkX** library, in order to perform the homework more completely."
   ]
  },
  {
   "cell_type": "markdown",
   "metadata": {},
   "source": [
    "#### Initialization"
   ]
  },
  {
   "cell_type": "markdown",
   "metadata": {},
   "source": [
    "Import libraries:"
   ]
  },
  {
   "cell_type": "code",
   "execution_count": 1,
   "metadata": {},
   "outputs": [],
   "source": [
    "import pandas as pd\n",
    "import networkx as nx\n",
    "import matplotlib.pyplot as plt\n",
    "import re"
   ]
  },
  {
   "cell_type": "markdown",
   "metadata": {},
   "source": [
    "Import the data 'wikigraph_reduced.csv':"
   ]
  },
  {
   "cell_type": "code",
   "execution_count": null,
   "metadata": {},
   "outputs": [],
   "source": [
    "path='' #insert your own path of the file 'wikigraph_reduced.csv'\n",
    "dataset=pd.read_csv(path, sep='\\t')\n",
    "dataset.rename(columns={'Unnamed: 0':'old_index'}, inplace=True)"
   ]
  },
  {
   "cell_type": "markdown",
   "metadata": {},
   "source": [
    "# RQ. 1"
   ]
  },
  {
   "cell_type": "markdown",
   "metadata": {},
   "source": [
    "### Creation of the graph $G=(V, E)$, where $V$ is the set of articles and $E$ the hyperlinks among them"
   ]
  },
  {
   "cell_type": "code",
   "execution_count": null,
   "metadata": {},
   "outputs": [],
   "source": [
    "G = nx.DiGraph()\n",
    "for i in range(0, len(dataset)):\n",
    "    G.add_node(dataset.iloc[i][1])\n",
    "    G.add_node(dataset.iloc[i][2])\n",
    "    G.add_edge(dataset.iloc[i][1],dataset.iloc[i][2])"
   ]
  },
  {
   "cell_type": "markdown",
   "metadata": {},
   "source": [
    "### Is the graph directed?"
   ]
  },
  {
   "cell_type": "markdown",
   "metadata": {},
   "source": [
    "Yes! We are working on a directed graph $G=(V,E)$, because our nodes $V$ (***articles***) are connected together by edges $E$ (***hyperlinks***) directed from one vertex to another."
   ]
  },
  {
   "cell_type": "markdown",
   "metadata": {},
   "source": [
    "### How many articles are we considering?"
   ]
  },
  {
   "cell_type": "markdown",
   "metadata": {},
   "source": [
    "Since each node corresponds to an article, we can count the number of articles just counting the number of nodes of our Graph $G$:"
   ]
  },
  {
   "cell_type": "code",
   "execution_count": 66,
   "metadata": {},
   "outputs": [
    {
     "data": {
      "text/plain": [
       "98343"
      ]
     },
     "execution_count": 66,
     "metadata": {},
     "output_type": "execute_result"
    }
   ],
   "source": [
    "num_V=G.number_of_nodes()\n",
    "num_V"
   ]
  },
  {
   "cell_type": "markdown",
   "metadata": {},
   "source": [
    "So we're considering **98343** articles."
   ]
  },
  {
   "cell_type": "markdown",
   "metadata": {},
   "source": [
    "### How many hyperlinks between pages exist?"
   ]
  },
  {
   "cell_type": "markdown",
   "metadata": {},
   "source": [
    "Since each edge corresponds to an hyperlink between 2 articles, we can count the number of hyperlinks just counting the number of edges of our Graph  $G$ :"
   ]
  },
  {
   "cell_type": "code",
   "execution_count": 64,
   "metadata": {},
   "outputs": [
    {
     "data": {
      "text/plain": [
       "483094"
      ]
     },
     "execution_count": 64,
     "metadata": {},
     "output_type": "execute_result"
    }
   ],
   "source": [
    "num_E=G.number_of_edges()\n",
    "num_E"
   ]
  },
  {
   "cell_type": "markdown",
   "metadata": {},
   "source": [
    "So there are **483094** hyperlinks."
   ]
  },
  {
   "cell_type": "markdown",
   "metadata": {},
   "source": [
    "### Average number of links in an arbitrary page"
   ]
  },
  {
   "cell_type": "markdown",
   "metadata": {},
   "source": [
    "The average degree of our directed graph is: $(k^{in})=(k^{out})=\\frac{1}{N} \\sum_{i=1}^{N}k_{i}^{in}=\\frac{1}{N} \\sum_{i=1}^{N}k_{i}^{out}=\\frac{totalnumberofhyperlinks}{totalnumberofarticles} $"
   ]
  },
  {
   "cell_type": "code",
   "execution_count": 96,
   "metadata": {},
   "outputs": [
    {
     "data": {
      "text/plain": [
       "4.912337431235573"
      ]
     },
     "execution_count": 96,
     "metadata": {},
     "output_type": "execute_result"
    }
   ],
   "source": [
    "avg_deg=num_E/num_V\n",
    "avg_deg"
   ]
  },
  {
   "cell_type": "markdown",
   "metadata": {},
   "source": [
    "In fact:"
   ]
  },
  {
   "cell_type": "code",
   "execution_count": 97,
   "metadata": {},
   "outputs": [
    {
     "name": "stdout",
     "output_type": "stream",
     "text": [
      "The total IN-degree of the graph is:  483094\n",
      "The total OUT-degree of the graph is:  483094\n"
     ]
    }
   ],
   "source": [
    "tot_in_deg=0\n",
    "for i in list(G.nodes()):\n",
    "    tot_in_deg+=G.in_degree(i)\n",
    "    \n",
    "tot_out_deg=0\n",
    "for i in list(G.nodes()):\n",
    "    tot_out_deg+=G.out_degree(i)\n",
    "    \n",
    "print('The total IN-degree of the graph is: ', tot_in_deg)\n",
    "print('The total OUT-degree of the graph is: ', tot_out_deg)"
   ]
  },
  {
   "cell_type": "markdown",
   "metadata": {},
   "source": [
    "### Density of our Graph"
   ]
  },
  {
   "cell_type": "markdown",
   "metadata": {},
   "source": [
    "The density of the graph $G$ measures how many hyperlinks are in set $E$ compared to the maximum possible number of hyperlinks between articles in set $V$"
   ]
  },
  {
   "cell_type": "markdown",
   "metadata": {},
   "source": [
    "The density of our directed graph is: $D= \\frac{|E|}{2\\binom{|V|}{2}} = \\frac{|E|}{|V|(|V|-1)} $"
   ]
  },
  {
   "cell_type": "code",
   "execution_count": 68,
   "metadata": {},
   "outputs": [
    {
     "data": {
      "text/plain": [
       "4.9951571365597335e-05"
      ]
     },
     "execution_count": 68,
     "metadata": {},
     "output_type": "execute_result"
    }
   ],
   "source": [
    "density=num_E/(num_V*(num_V-1))\n",
    "density"
   ]
  },
  {
   "cell_type": "markdown",
   "metadata": {},
   "source": [
    "### Check if our graph is Dense or Sparse"
   ]
  },
  {
   "cell_type": "markdown",
   "metadata": {},
   "source": [
    "To see if our graph is sparse or dense, we consider that the density of a sparse graph is in lower range of the density’s codomain ($ 0 \\leqslant  density < \\frac {1} {2}$); the density of a dense graph is in the higher range of its codomain ($ \\frac {1} {2} < density \\leqslant  1$), so:"
   ]
  },
  {
   "cell_type": "code",
   "execution_count": 76,
   "metadata": {},
   "outputs": [
    {
     "name": "stdout",
     "output_type": "stream",
     "text": [
      "Our graph is SPARSE\n"
     ]
    }
   ],
   "source": [
    "if density>=0 and density<(0.5):\n",
    "    print('Our graph is SPARSE')\n",
    "else:\n",
    "    print('Our graph is DENSE')"
   ]
  },
  {
   "cell_type": "markdown",
   "metadata": {},
   "source": [
    "So it means that our dense graph the number of edges is NOT close to the maximal number of edges, in fact:"
   ]
  },
  {
   "cell_type": "code",
   "execution_count": 77,
   "metadata": {},
   "outputs": [
    {
     "data": {
      "text/plain": [
       "9671247306"
      ]
     },
     "execution_count": 77,
     "metadata": {},
     "output_type": "execute_result"
    }
   ],
   "source": [
    "max_n_edges=num_V*(num_V-1)\n",
    "max_n_edges"
   ]
  },
  {
   "cell_type": "markdown",
   "metadata": {},
   "source": [
    "The maximum number of edges is 9671247306, but we've only 483094 edges, far from the maximum."
   ]
  },
  {
   "cell_type": "markdown",
   "metadata": {},
   "source": [
    "### Nodes' degree distribution"
   ]
  },
  {
   "cell_type": "code",
   "execution_count": 14,
   "metadata": {},
   "outputs": [],
   "source": [
    "def in_degree_distribution(G):\n",
    "    in_degree = dict(G.in_degree())\n",
    "    degrees=[in_degree.get(k,0) for k in G.nodes()]\n",
    "    max_deg=max(degrees)+1\n",
    "    frequency= [ 0 for d in range(max_deg) ]\n",
    "    for deg in degrees:\n",
    "        frequency[deg] += 1\n",
    "    return frequency\n",
    "\n",
    "def out_degree_distribution(G):\n",
    "    out_degree = dict(G.out_degree())\n",
    "    degrees=[out_degree.get(k,0) for k in G.nodes()]\n",
    "    max_deg=max(degrees)+1\n",
    "    frequency= [ 0 for d in range(max_deg) ]\n",
    "    for deg in degrees:\n",
    "        frequency[deg] += 1\n",
    "    return frequency\n",
    "    "
   ]
  },
  {
   "cell_type": "code",
   "execution_count": 35,
   "metadata": {
    "scrolled": true
   },
   "outputs": [
    {
     "data": {
      "text/plain": [
       "Text(0, 0.5, 'Frequency')"
      ]
     },
     "execution_count": 35,
     "metadata": {},
     "output_type": "execute_result"
    },
    {
     "data": {
      "image/png": "[encoded data removed]",
      "text/plain": [
       "<Figure size 864x576 with 1 Axes>"
      ]
     },
     "metadata": {
      "needs_background": "light"
     },
     "output_type": "display_data"
    }
   ],
   "source": [
    "in_degrees = in_degree_distribution(G)\n",
    "out_degrees = out_degree_distribution(G)\n",
    "degrees = range(len(out_degrees))\n",
    "plt.figure(figsize=(12, 8)) \n",
    "plt.loglog(range(len(in_degrees)), in_degrees, 'ro-', label='in-degree') \n",
    "plt.loglog(range(len(out_degrees)), out_degrees, 'bo-', label='out-degree')\n",
    "plt.legend(loc=\"upper right\",fontsize='large')\n",
    "plt.title('IN-degree and OUT-degree Distributions', fontsize='xx-large')\n",
    "plt.xlabel('Degree')\n",
    "plt.ylabel('Frequency')"
   ]
  },
  {
   "cell_type": "markdown",
   "metadata": {},
   "source": [
    "# RQ.2"
   ]
  },
  {
   "cell_type": "markdown",
   "metadata": {},
   "source": [
    "Our function is called **all_possible_nodes(**graph, source, k**)**; it will return the set of all pages that a user can reach within ***k*** clicks:"
   ]
  },
  {
   "cell_type": "code",
   "execution_count": null,
   "metadata": {},
   "outputs": [],
   "source": [
    "def all_possible_nodes(graph, source, k):\n",
    "    \n",
    "    def find_all_paths(graph, start, k,i=0, path=[], node_exists=True):\n",
    "        if node_exists:\n",
    "            path = path + [start]\n",
    "            if k==0 or i>=k:\n",
    "                return [path]\n",
    "            paths = []\n",
    "            for node in graph[start]:\n",
    "                if node not in path:\n",
    "                    newpaths = find_all_paths(graph, node, k,i+1, path)\n",
    "                    for newpath in newpaths:\n",
    "                        paths.append(newpath)\n",
    "            return paths\n",
    "        else:\n",
    "            return \"This source node does not exist in the graph\"\n",
    "    \n",
    "    if any([node for node in G.nodes() if node== source]):\n",
    "    \n",
    "        poss=set()\n",
    "        for path in find_all_paths(graph, source, k):\n",
    "            for elem in path:\n",
    "                poss.add(elem)\n",
    "        return poss\n",
    "    else:\n",
    "        return find_all_paths(graph, source, k, node_exists=False)"
   ]
  },
  {
   "cell_type": "markdown",
   "metadata": {},
   "source": [
    "Now let's try our function, for example searching all possible nodes that we can reach from node ***108*** within ***1*** click:"
   ]
  },
  {
   "cell_type": "code",
   "execution_count": 143,
   "metadata": {},
   "outputs": [
    {
     "data": {
      "text/plain": [
       "{108, 1059989, 1062426, 1161925}"
      ]
     },
     "execution_count": 143,
     "metadata": {},
     "output_type": "execute_result"
    }
   ],
   "source": [
    "all_possible_nodes(G,108, 1)"
   ]
  },
  {
   "cell_type": "markdown",
   "metadata": {},
   "source": [
    "Now  let's try starting from node ***108*** within ***2*** clicks:"
   ]
  },
  {
   "cell_type": "code",
   "execution_count": 13,
   "metadata": {
    "scrolled": true
   },
   "outputs": [
    {
     "data": {
      "text/plain": [
       "array({1664010, 689163, 1060238, 1015568, 1066131, 1059988, 1059989, 1060884, 1062426, 1163419, 1763995, 1056157, 1062557, 1032867, 147492, 1032868, 41891, 418476, 1164977, 1059505, 137144, 1162809, 1054394, 1165884, 688704, 1068100, 1161925, 1059782, 1632839, 628169, 1055563, 155981, 1132626, 422996, 635998, 688741, 1141095, 1015403, 108, 1061228, 1166447, 1054071},\n",
       "      dtype=object)"
      ]
     },
     "execution_count": 13,
     "metadata": {},
     "output_type": "execute_result"
    }
   ],
   "source": [
    "np.array(all_possible_nodes(G,108, 2))"
   ]
  },
  {
   "cell_type": "markdown",
   "metadata": {},
   "source": [
    "Another example: return all possible nodes that we can reach from node ***1032868*** within ***5*** clicks\n",
    "(in this case, because of the huge length of the result, we show just the first 100 elements of the output):"
   ]
  },
  {
   "cell_type": "code",
   "execution_count": 20,
   "metadata": {
    "scrolled": true
   },
   "outputs": [
    {
     "data": {
      "text/plain": [
       "array([ 655377,  655392, 1048636, 1048637, 1048638, 1048648, 1048654,\n",
       "       1048658, 1179733,  655451,  655453, 1048674, 1048686,  655471,\n",
       "       1048700, 1048703,     134, 1179783, 1048710, 1048713, 1179786,\n",
       "       1048715,  393356, 1048720,  393360, 1048722, 1048723, 1048721,\n",
       "        393366,  393367,  393368,     153,  393370, 1048731,  393372,\n",
       "        393371, 1048735, 1048736, 1048741, 1048745, 1048749,     174,\n",
       "           173, 1048777, 1179850, 1048787, 1048792, 1048795, 1179870,\n",
       "       1048801, 1179875, 1048806, 1048810, 1179883, 1048811, 1048812,\n",
       "       1048816, 1048817, 1048819, 1048820, 1048821, 1048822,  393466,\n",
       "       1048829, 1048830, 1048831, 1048835, 1048836, 1048839, 1048840,\n",
       "       1048844, 1048846, 1179919, 1048850, 1179925, 1048854, 1048855,\n",
       "       1048856, 1048857, 1048864, 1048866, 1048868, 1179950, 1048880,\n",
       "       1048881, 1048883, 1048884, 1048885, 1048886,  573196, 1048888,\n",
       "       1048890,  573197, 1048895, 1048897, 1048900, 1048902, 1048905,\n",
       "       1048906, 1048907, 1048909, 1048910, 1048912, 1048914, 1179987,\n",
       "       1048916, 1048917, 1048918, 1048919, 1048920, 1048922, 1048923,\n",
       "       1048929, 1048932, 1048934, 1048936, 1048942, 1048943, 1048948,\n",
       "       1048952, 1048953, 1048955, 1048956, 1048961, 1048962, 1048968,\n",
       "       1048970, 1048974, 1048979, 1048981, 1048983, 1048984, 1048986,\n",
       "       1048989, 1048991, 1049002, 1049027, 1049028, 1049038, 1704400,\n",
       "       1180112, 1049045, 1049048, 1049052, 1049069, 1049076, 1049097,\n",
       "        655897, 1049120, 1049126], dtype=int64)"
      ]
     },
     "execution_count": 20,
     "metadata": {},
     "output_type": "execute_result"
    }
   ],
   "source": [
    "np.array(list(all_possible_nodes(G,1032868, 5))[:150])"
   ]
  },
  {
   "cell_type": "markdown",
   "metadata": {},
   "source": [
    "In the end, let's try our function starting from **19**, a node that doesn't exists in our graph:"
   ]
  },
  {
   "cell_type": "code",
   "execution_count": 151,
   "metadata": {},
   "outputs": [
    {
     "data": {
      "text/plain": [
       "'This source node does not exist in the graph'"
      ]
     },
     "execution_count": 151,
     "metadata": {},
     "output_type": "execute_result"
    }
   ],
   "source": [
    "all_possible_nodes(G,19, 10)"
   ]
  },
  {
   "cell_type": "markdown",
   "metadata": {},
   "source": [
    "# RQ. 3"
   ]
  },
  {
   "cell_type": "markdown",
   "metadata": {},
   "source": [
    "Our function **min_len_to_reach_p(**C,p,G**)** is a function that takes in input:\n",
    "- C : the name of the category\n",
    "- $p$={ $p_{1}, p_{2}, ... , p_{n}$} : a set of pages in C \n",
    "\n",
    "and returns the minimum number of clicks required to reach all pages in p, starting from the page v, corresponding to the most central article, according to the in-degree centrality, in C.\n"
   ]
  },
  {
   "cell_type": "markdown",
   "metadata": {},
   "source": [
    "As before, as metrics of centrality we adopted the ***Degree centrality*** for directed networks."
   ]
  },
  {
   "cell_type": "code",
   "execution_count": null,
   "metadata": {},
   "outputs": [],
   "source": [
    "def min_len_to_reach_p(C,p,G):\n",
    "    global _path_\n",
    "    \n",
    "    #search the required category and its respective pages\n",
    "    path_wiki_topcats='' #put here your path of the file \"wiki-topcats-categories.txt\" \n",
    "    f=open(path_wiki_topcats, 'r')\n",
    "    for line in f:\n",
    "        category=re.search(r'\\:(.*)\\; ', line).group(1)\n",
    "        if C==category.strip():\n",
    "            pages=list(map(int,(re.search(r';(.*)', line).group(1)).strip().split()))\n",
    "            break\n",
    "    \n",
    "        \n",
    "    #create a dictionary d where keys are the nodes of the category, and the values corresponds\n",
    "    #to the respective centrality-score of the node\n",
    "    d={}\n",
    "    num_V=G.number_of_nodes()\n",
    "    for node in pages:\n",
    "        \n",
    "        if node not in G.nodes():\n",
    "            pass\n",
    "        else:\n",
    "            centrality=G.in_degree(node)/(num_V-1)\n",
    "            d[node]=centrality\n",
    "            \n",
    "    if len(d.keys())==0:\n",
    "        return 'Not possible'\n",
    "    \n",
    "    #let's find the most central node:\n",
    "    max_centr=0\n",
    "    max_node=0\n",
    "    for key, value in d.items():\n",
    "        \n",
    "        if value>=max_centr:\n",
    "            max_centr=value\n",
    "            max_node=key\n",
    "            \n",
    "    \n",
    "    #find, if exists, the shortest path that reach all pages in p\n",
    "    shortest_paths=nx.shortest_path(G,source=max_node)\n",
    "    shortest=[]\n",
    "    sh_len=0\n",
    "    for key in shortest_paths.keys():\n",
    "        if key in pages:\n",
    "            copy=list(p)\n",
    "            if max_node in copy:\n",
    "                copy.remove(max_node)\n",
    "            for i in shortest_paths[key]:\n",
    "                if i in copy:\n",
    "                    copy.remove(i)\n",
    "            if len(copy)==0 and len(shortest_paths[key])>sh_len:\n",
    "                shortest=shortest_paths[key]\n",
    "                sh_len=len(shortest_paths[key])\n",
    "    if len(shortest)==0:\n",
    "        return 'Not Possible'\n",
    "    else:\n",
    "        _path_=shortest\n",
    "        return sh_len\n",
    "    "
   ]
  },
  {
   "cell_type": "markdown",
   "metadata": {},
   "source": [
    "Let's try some example:"
   ]
  },
  {
   "cell_type": "code",
   "execution_count": 117,
   "metadata": {},
   "outputs": [
    {
     "data": {
      "text/plain": [
       "6"
      ]
     },
     "execution_count": 117,
     "metadata": {},
     "output_type": "execute_result"
    }
   ],
   "source": [
    "min_len_to_reach_p('Expatriate_footballers_in_Mexico',{27301,89867}, G)"
   ]
  },
  {
   "cell_type": "markdown",
   "metadata": {},
   "source": [
    "and the respective shortest path of lenght equal to 6 is:"
   ]
  },
  {
   "cell_type": "code",
   "execution_count": 118,
   "metadata": {},
   "outputs": [
    {
     "data": {
      "text/plain": [
       "[1358669, 89867, 76811, 27568, 27565, 27301]"
      ]
     },
     "execution_count": 118,
     "metadata": {},
     "output_type": "execute_result"
    }
   ],
   "source": [
    "_path_"
   ]
  },
  {
   "cell_type": "markdown",
   "metadata": {},
   "source": [
    "where the first node (1358669) is the most central node of the Category 'Expatriate_footballers_in_Mexico'; note that in this path all nodes belonging from p (27301,89867) are reached."
   ]
  },
  {
   "cell_type": "markdown",
   "metadata": {},
   "source": [
    ".............Some other example............."
   ]
  },
  {
   "cell_type": "code",
   "execution_count": 147,
   "metadata": {},
   "outputs": [
    {
     "data": {
      "text/plain": [
       "10"
      ]
     },
     "execution_count": 147,
     "metadata": {},
     "output_type": "execute_result"
    }
   ],
   "source": [
    "min_len_to_reach_p('People_from_Crdoba_Province_(Argentina)',{88212,1358227,88509}, G)"
   ]
  },
  {
   "cell_type": "markdown",
   "metadata": {},
   "source": [
    "and the respective path, where all nodes in p={88212,1358227,88509} are reached, is:"
   ]
  },
  {
   "cell_type": "code",
   "execution_count": 148,
   "metadata": {},
   "outputs": [
    {
     "data": {
      "text/plain": [
       "[84267, 89701, 88859, 88863, 88509, 88667, 88212, 88512, 1642304, 1358227]"
      ]
     },
     "execution_count": 148,
     "metadata": {},
     "output_type": "execute_result"
    }
   ],
   "source": [
    "_path_"
   ]
  },
  {
   "cell_type": "markdown",
   "metadata": {},
   "source": [
    "What if not all the pages in p are reachable from v?"
   ]
  },
  {
   "cell_type": "code",
   "execution_count": 149,
   "metadata": {},
   "outputs": [
    {
     "data": {
      "text/plain": [
       "'Not Possible'"
      ]
     },
     "execution_count": 149,
     "metadata": {},
     "output_type": "execute_result"
    }
   ],
   "source": [
    "min_len_to_reach_p('People_from_Crdoba_Province_(Argentina)',{88212,88509,1642615}, G)"
   ]
  }
 ],
 "metadata": {
  "kernelspec": {
   "display_name": "Python 3",
   "language": "python",
   "name": "python3"
  },
  "language_info": {
   "codemirror_mode": {
    "name": "ipython",
    "version": 3
   },
   "file_extension": ".py",
   "mimetype": "text/x-python",
   "name": "python",
   "nbconvert_exporter": "python",
   "pygments_lexer": "ipython3",
   "version": "3.8.3"
  }
 },
 "nbformat": 4,
 "nbformat_minor": 4
}
