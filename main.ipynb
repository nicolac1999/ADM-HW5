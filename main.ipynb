{
 "cells": [
  {
   "cell_type": "markdown",
   "metadata": {},
   "source": [
    "## Homework 5 - Explore Wikipedia's hyperlinks network\n",
    "\n",
    "### Authors\n",
    "* Michelangelo Saveriano\n",
    "* Flavia Penta De Peppo\n",
    "* Adrienn Timea Aszalos\n",
    "* Nicola Calabrese"
   ]
  },
  {
   "cell_type": "markdown",
   "metadata": {},
   "source": [
    "## Useful libraries"
   ]
  },
  {
   "cell_type": "code",
   "execution_count": 1,
   "metadata": {},
   "outputs": [],
   "source": [
    "import pandas as pd\n",
    "from matplotlib import pyplot as plt\n",
    "from tqdm import tqdm\n",
    "import math\n",
    "import numpy as np\n",
    "from collections import deque"
   ]
  },
  {
   "cell_type": "markdown",
   "metadata": {},
   "source": [
    "For this homework we decide to implement from zero our class **HMGraph** instead of using the Python library networkx, in order to understand better the property and algorithm and the of ***Graph Teory***.\n"
   ]
  },
  {
   "cell_type": "markdown",
   "metadata": {},
   "source": [
    "# HWGraph class"
   ]
  },
  {
   "cell_type": "code",
   "execution_count": 2,
   "metadata": {},
   "outputs": [],
   "source": [
    "class HWGraph:\n",
    "    def __init__(self, edge_df, category_df=None, names_df=None):\n",
    "        nodes = pd.concat([edge_df.Source, edge_df.Target]).unique()\n",
    "\n",
    "        # Find the neighbour for each node\n",
    "        self.neighbors = dict()\n",
    "        for node in nodes:\n",
    "            self.neighbors[node] = []\n",
    "        for s, t in edge_df.values:\n",
    "            self.neighbors[s].append(t)\n",
    "\n",
    "        # Create the edges dataframe\n",
    "        self.edges = edge_df\n",
    "\n",
    "        # Create the nodes dataframe\n",
    "        self.nodes = pd.DataFrame.from_dict(data={'Node': self.neighbors.keys(),\n",
    "                                                  'Neighbour': self.neighbors.values()}).set_index('Node')\n",
    "        self.nodes = self.nodes.join(self.in_degree(False, False)).join(self.out_degree(False, False),\n",
    "                                                                        lsuffix='In', rsuffix='Out').fillna(0)\n",
    "\n",
    "        if category_df is not None:\n",
    "            self.set_category(category_df)\n",
    "\n",
    "        if names_df is not None:\n",
    "            self.set_names(names_df)\n",
    "\n",
    "        # Calculate the number of nodes and the number of edges\n",
    "        self.n_nodes = len(self.nodes)\n",
    "        self.n_edges = len(self.edges)\n",
    "\n",
    "    def set_category(self, category_df):\n",
    "        # Assign the node's category\n",
    "        self.nodes = self.nodes.join(category_df.Category)\n",
    "\n",
    "    def set_names(self, names_df):\n",
    "        # Assign the node's label\n",
    "        self.nodes = self.nodes.join(names_df.Names)\n",
    "\n",
    "    def is_directed(self):\n",
    "        # If the number of sources is different from the number of targets the graph is directed\n",
    "        n_source, n_target = self.edges.nunique()\n",
    "        if n_source != n_target:\n",
    "            return True\n",
    "\n",
    "        edge_list = self.edges.values.tolist()\n",
    "        # For each edge (s,t) if the opposite edge (t,s) is not in the graph then the graph is directed\n",
    "        for s, t in edge_list:\n",
    "            if [t, s] not in edge_list:\n",
    "                return True\n",
    "        # Otherwise the graph is not directed\n",
    "        return False\n",
    "\n",
    "    def out_degree(self, average_degree=True, centrality=True):\n",
    "        if average_degree:\n",
    "            # If average degree is true the function returns the average out degree in the graph\n",
    "            return self.edges.groupby('Source').size().sum() / self.n_nodes\n",
    "        else:\n",
    "            # Calculates the out degree for each node\n",
    "            out_degree = self.edges.groupby('Source').count().rename(columns={'Target': 'OutDegree'})\n",
    "            out_degree.index.rename('Node', inplace=True)\n",
    "\n",
    "            if centrality:\n",
    "                # If centrality is true then returns the node's centrality\n",
    "                # given by the ratio between the degree and the number of nodes\n",
    "                return out_degree / (self.n_nodes - 1)\n",
    "            # Otherwise returns the out degree of each node\n",
    "            return out_degree.OutDegree\n",
    "\n",
    "    def in_degree(self, average_degree=True, centrality=True):\n",
    "        if average_degree:\n",
    "            # If average degree is true the function returns the average in degree in the graph\n",
    "            return self.edges.groupby('Target').size().sum() / self.n_nodes\n",
    "        else:\n",
    "            # Calculates the in degree for each node\n",
    "            in_degree = self.edges.groupby('Target').count().rename(columns={'Source': 'InDegree'})\n",
    "            in_degree.index.rename('Node', inplace=True)\n",
    "            if centrality:\n",
    "                # If centrality is true then returns the node's centrality\n",
    "                # given by the ratio between the degree and the number of nodes\n",
    "                return in_degree / (self.n_nodes - 1)\n",
    "            # Otherwise returns the in degree of each node\n",
    "            return in_degree.InDegree\n",
    "\n",
    "    def density(self):\n",
    "        # Return the density of the graph\n",
    "        return self.n_edges / (self.n_nodes * (self.n_nodes - 1))\n",
    "\n",
    "    def plot_degree_distr(self, plot_in_degree=True, plot_out_degree=True, log=True):\n",
    "        # Plot In Degree\n",
    "        if plot_in_degree:\n",
    "            degrees_in = self.in_degree(False, False).values\n",
    "            plt.figure(figsize=(16, 9))\n",
    "            plt.title('In Degree Distribution', size=22)\n",
    "            plt.ylabel('Prob.', size=18)\n",
    "            plt.xlabel('In Degree', size=18)\n",
    "            plt.hist(degrees_in, 100, log=log, density=True)\n",
    "            plt.show()\n",
    "\n",
    "        # Plot Out Degree\n",
    "        if plot_out_degree:\n",
    "            degrees_out = self.out_degree(False, False).values\n",
    "            plt.figure(figsize=(16, 9))\n",
    "            plt.title('Out Degree Distribution', size=22)\n",
    "            plt.ylabel('Prob.', size=18)\n",
    "            plt.xlabel('Out Degree', size=18)\n",
    "            plt.hist(degrees_out, 100, log=log, density=True)\n",
    "            plt.show()\n",
    "\n",
    "    def bfs(self, source_node, max_distance=math.inf, return_dataframe=True):\n",
    "        # It computes the shortest paths length from a source node to all the reachable nodes of the graph\n",
    "        # with distance smaller than max_distance\n",
    "        \n",
    "        # If the node is not present in the graph return\n",
    "        if source_node not in self.neighbors:\n",
    "            print(f'The node {source_node} is not present in the graph!')\n",
    "            return\n",
    "        \n",
    "        visited = {source_node: 0}\n",
    "        queue = deque([source_node])\n",
    "        # While there are elements in the queue\n",
    "        while len(queue) > 0:\n",
    "            # Pop the leftmost node\n",
    "            node = queue.popleft()\n",
    "            # Find its distance from the source node\n",
    "            distance = visited[node]\n",
    "            # For each neighbor\n",
    "            for adjacent in self.neighbors[node]:\n",
    "                # If it is not already visited and its distance is less than max_distance\n",
    "                if adjacent not in visited and distance < max_distance:\n",
    "                    # We append it in the queue and \n",
    "                    # we store its distance from the source in the visited dictionary\n",
    "                    queue.append(adjacent)\n",
    "                    visited[adjacent] = distance + 1\n",
    "        \n",
    "        # If not return_dataframe it returns a dictionary containing \n",
    "        # target nodes as keys and length of the shortest paths as values\n",
    "        if not return_dataframe:\n",
    "            return visited\n",
    "        \n",
    "        # Otherwise it returns a dataframe with the columns Names and Distance\n",
    "        df = self.nodes.loc[visited.keys()]\n",
    "        df['Distance'] = visited.values()\n",
    "        return df[['Names', 'Distance']]\n",
    "\n",
    "    def find_distance(self, source, targets, test_connectivity=False, inf_dist=True, return_dataframe=True):\n",
    "        # Find the distance between the source and the targets\n",
    "        \n",
    "        # Find the distance from the source node to all the reachable nodes\n",
    "        dist = self.bfs(source, return_dataframe=False)\n",
    "        \n",
    "        # If test_connectivity is true and exists a node in targets that is not reachable \n",
    "        if test_connectivity and not targets.issubset(dist.keys()):\n",
    "            # Print \"Not possible!\" and return\n",
    "            print(\"Not possible!\")\n",
    "            return\n",
    "        \n",
    "        # If inf_dist is true\n",
    "        if inf_dist:\n",
    "            # Create a new distance dictionary with all the targets nodes\n",
    "            # where the not reachable nodes have infinite distance\n",
    "            dist = {node: dist[node] if node in dist else math.inf for node in targets}\n",
    "        else:\n",
    "            # Create a new distance dictionary with all the reachable nodes in target\n",
    "            dist = {node: dist[node] for node in targets if node in dist}\n",
    "\n",
    "        # If return_dataframe is true create a dataframe with columns Nodes and Distances\n",
    "        if return_dataframe:\n",
    "            return pd.DataFrame({'Nodes': dist.keys(), 'Distances': dist.values()}).set_index('Nodes')\n",
    "        # Otherwise return the dictionary\n",
    "        return dist\n",
    "\n",
    "    def min_clicks(self, C, p):\n",
    "        # Find the most central article v in the category C\n",
    "        C_nodes = self.nodes[self.nodes.Category == C]\n",
    "        v = C_nodes.InDegree.idxmax()\n",
    "        # Find the distances between the node v and the nodes p\n",
    "        visited = self.find_distance(v, p, True, inf_dist=False)\n",
    "        # If visited exists then return the max distance\n",
    "        if visited is not None:\n",
    "            return visited.Distances.max()\n",
    "\n",
    "    def contract(self):\n",
    "        # Contraction algorithm used by the Karger's algorithm\n",
    "        edges = self.edges.copy()\n",
    "        # If exist we remove the self loops\n",
    "        if (edges.Source == edges.Target).any():\n",
    "            edges = edges[~(edges.Source == edges.Target)]\n",
    "\n",
    "        # Calculate the number of nodes\n",
    "        n_nodes = pd.concat([edges.Source, edges.Target]).nunique()\n",
    "\n",
    "        # While there are more than 2 nodes in the graph\n",
    "        while n_nodes > 2:\n",
    "            # Find the source and the target of a random edge\n",
    "            s, t = edges.sample().values[0]\n",
    "\n",
    "            # Removes the edges between s and t, in both directions\n",
    "            edges = edges[~((edges.Source == s) & (edges.Target == t))]\n",
    "            edges = edges[~((edges.Source == t) & (edges.Target == s))]\n",
    "\n",
    "            # Remove node t, moving its edges to s\n",
    "            edges.loc[edges.Source == t, 'Source'] = s\n",
    "            edges.loc[edges.Target == t, 'Target'] = s\n",
    "\n",
    "            # Updates n_nodes\n",
    "            n_nodes = pd.concat([edges.Source, edges.Target]).nunique()\n",
    "\n",
    "            # If the number of nodes is greater than the number of edges then\n",
    "            # the graph is not connected\n",
    "            if n_nodes > len(edges):\n",
    "                # If the graph is not connected then returns 0\n",
    "                return 0\n",
    "\n",
    "        # Return the remaining edges\n",
    "        return len(edges)\n",
    "\n",
    "    def min_link_to_disconnect(self, C1, C2):\n",
    "        # We use the Karger's algorithm to find the min-cut\n",
    "        # Find the nodes belonging to category C1 or category C2\n",
    "        nodes = self.nodes[(self.nodes.Category == C1) | (self.nodes.Category == C2)].index\n",
    "        # Find the edges between those nodes\n",
    "        edges = self.edges[self.edges.Source.isin(nodes) & self.edges.Target.isin(nodes)]\n",
    "        # Then we create the induced subgraph\n",
    "        G = HWGraph(edges)\n",
    "\n",
    "        # If the graph is empty returns 0\n",
    "        if G.n_nodes == 0:\n",
    "            return 0\n",
    "\n",
    "        min_links = math.inf\n",
    "        # Perform N^2*log(N) times the Karger's algorithm and return best results\n",
    "        for i in range(int((G.n_nodes ** 2) * math.log(G.n_nodes))):\n",
    "            res = G.contract()\n",
    "            if res < min_links:\n",
    "                min_links = res\n",
    "                if min_links == 0:\n",
    "                    return 0\n",
    "\n",
    "        return min_links\n",
    "\n",
    "    def build_category_articles_dictionary(self):\n",
    "        # Returns a dictionary with key = category and value = list of the article with category key\n",
    "        df_article_category = self.nodes.Category.reset_index()\n",
    "        # Find the categories names\n",
    "        categories = df_article_category.Category.unique().tolist()\n",
    "        \n",
    "        articles = []\n",
    "        # For each category c stores in articles a list with all the nodes with category c\n",
    "        for c in categories:\n",
    "            articles.append(df_article_category[df_article_category.Category == c].Node.values.tolist())\n",
    "        \n",
    "        # Create a dictionary from categories and articles\n",
    "        return dict(zip(categories, articles))\n",
    "\n",
    "    def distances_from_category(self, C, condider_inf_distance=True):\n",
    "        # Given a category C, returns the list of remaning categories sorted by their distance from C. \n",
    "        # The distance between two categories is defined as distance(C, Ci) = median(ShortestPath(C, Ci))\n",
    "        # where ShortestPath(C, Ci) is the set of shortest paths from each pair of nodes in the two categories.\n",
    "        # If condider_inf_distance is true disconnected nodes will have infinite distance \n",
    "        # otherwise they will not be taken into consideration.\n",
    "        \n",
    "        # Build the category-articles dictionary\n",
    "        category_articles_dict = self.build_category_articles_dictionary()\n",
    "        # Check if the category C exists\n",
    "        if C not in category_articles_dict:\n",
    "            print(f\"The category {C} doesn't exist.\")\n",
    "            return\n",
    "        # Create the categories list wth all the category but C\n",
    "        categories = list(category_articles_dict.keys())\n",
    "        categories.remove(C)\n",
    "        # Create the nodes list with all the nodes that doesn't belong to C\n",
    "        nodes = sum([category_articles_dict[i] for i in categories], [])\n",
    "        # Create the distances dataframe\n",
    "        distances = pd.DataFrame(columns=['C0', 'Ci', 'Dist'])\n",
    "\n",
    "        # Compute path lengths from all the nodes in C to all other nodes in the graph\n",
    "        shortest_path_lengths = {}\n",
    "        for source_node in tqdm(category_articles_dict[C]):\n",
    "            for target_node, path_length in self.find_distance(source_node, nodes,\n",
    "                                                               inf_dist=condider_inf_distance,\n",
    "                                                               return_dataframe=False).items():\n",
    "                if target_node not in shortest_path_lengths:\n",
    "                    shortest_path_lengths[target_node] = []\n",
    "                shortest_path_lengths[target_node].append(path_length)\n",
    "        \n",
    "        # Cumpute the median distance and append it to the distances dataframe\n",
    "        for category_name, category_nodes in category_articles_dict.items():\n",
    "            # Jump to next iteration if category is equal to C\n",
    "            if category_name == C:\n",
    "                continue\n",
    "            # List of shortest path of a category\n",
    "            category_paths_lengths = [\n",
    "                path_length\n",
    "                for category_node in category_nodes\n",
    "                for path_length in shortest_path_lengths.get(category_node,[])\n",
    "            ]\n",
    "            # If category_paths_lengths is not empty\n",
    "            if category_paths_lengths:\n",
    "                distances = distances.append({'C0':C, 'Ci':category_name, \n",
    "                                              'Dist':np.median(category_paths_lengths)},\n",
    "                                             ignore_index=True)\n",
    "        # Return the distances sorted by the distance value in descending order\n",
    "        return distances.sort_values('Dist', ascending=False)\n",
    "\n",
    "    def category_rank(self):\n",
    "        # Create the network of categories\n",
    "        edges = self.edges.join(self.nodes.Category, on='Source').join(self.nodes.Category, on='Target',\n",
    "                                                                       lsuffix='Source', rsuffix='Target')\n",
    "        categories_edges = edges.groupby(['CategorySource', 'CategoryTarget']).size()\n",
    "        categories = pd.concat([edges.CategorySource, edges.CategoryTarget]).unique()\n",
    "        n_categories = categories.size\n",
    "        # Adjacency matrix\n",
    "        M = np.zeros((n_categories, n_categories))\n",
    "        for i in range(n_categories):\n",
    "            for j in range(n_categories):\n",
    "                if (categories[i], categories[j]) in categories_edges.index:\n",
    "                    M[i, j] = categories_edges.loc[categories[i], categories[j]]\n",
    "        # Normalize the matrix along rows\n",
    "        sums = M.sum(axis=1)\n",
    "        if (sums == 0).any():\n",
    "            M[sums == 0] += 1\n",
    "        M /= sums.reshape(n_categories, 1)\n",
    "        # Calculate the pagerank\n",
    "        v = pagerank(M).flatten()\n",
    "        # Then returns a dataframe containing the results in descending order\n",
    "        return pd.DataFrame({'Category': categories, 'PageRank': v}).sort_values('PageRank', ascending=False)"
   ]
  },
  {
   "cell_type": "markdown",
   "metadata": {},
   "source": [
    "# Load Datasets\n",
    "## Read file with edges"
   ]
  },
  {
   "cell_type": "code",
   "execution_count": 3,
   "metadata": {},
   "outputs": [],
   "source": [
    "df_edges = pd.read_csv('./data/wikigraph_reduced.csv',sep='\\t',index_col=0,names=['Source','Target'],header=0)\n",
    "df_edges.reset_index(drop=True,inplace=True)"
   ]
  },
  {
   "cell_type": "markdown",
   "metadata": {},
   "source": [
    "## Read file with Categories"
   ]
  },
  {
   "cell_type": "markdown",
   "metadata": {},
   "source": [
    "Here we load the file with category ,then we find the number of Articles belonging to each category and finally remove the categories with less of 5000 and more than 30000 articles."
   ]
  },
  {
   "cell_type": "code",
   "execution_count": 4,
   "metadata": {},
   "outputs": [],
   "source": [
    "df_category = pd.read_csv(\"./data/wiki-topcats-categories.txt\",sep=';',names=['Category','Articles'],header=0)\n",
    "df_category['Category'] = df_category.Category.apply(lambda x: x.split(':')[1])\n",
    "df_category['Articles'] = df_category.Articles.apply(lambda x : list(map(int,x.split())))\n",
    "# Find the number of articles for each category\n",
    "df_category['lens'] = [len(x) for x in df_category['Articles']]\n",
    "# Removes the categories whose number of articles in less than 5000 and more than 30000.\n",
    "df_category = df_category.loc[(df_category['lens']>5000) & (df_category['lens']<30000)]"
   ]
  },
  {
   "cell_type": "code",
   "execution_count": 5,
   "metadata": {},
   "outputs": [
    {
     "data": {
      "text/html": [
       "<div>\n",
       "<style scoped>\n",
       "    .dataframe tbody tr th:only-of-type {\n",
       "        vertical-align: middle;\n",
       "    }\n",
       "\n",
       "    .dataframe tbody tr th {\n",
       "        vertical-align: top;\n",
       "    }\n",
       "\n",
       "    .dataframe thead th {\n",
       "        text-align: right;\n",
       "    }\n",
       "</style>\n",
       "<table border=\"1\" class=\"dataframe\">\n",
       "  <thead>\n",
       "    <tr style=\"text-align: right;\">\n",
       "      <th></th>\n",
       "      <th>Category</th>\n",
       "      <th>Articles</th>\n",
       "      <th>lens</th>\n",
       "    </tr>\n",
       "  </thead>\n",
       "  <tbody>\n",
       "    <tr>\n",
       "      <th>867</th>\n",
       "      <td>English_footballers</td>\n",
       "      <td>[22860, 28411, 28961, 28979, 29264, 29573, 295...</td>\n",
       "      <td>9237</td>\n",
       "    </tr>\n",
       "    <tr>\n",
       "      <th>868</th>\n",
       "      <td>The_Football_League_players</td>\n",
       "      <td>[14003, 23536, 27109, 27348, 27459, 27989, 280...</td>\n",
       "      <td>9467</td>\n",
       "    </tr>\n",
       "    <tr>\n",
       "      <th>875</th>\n",
       "      <td>Association_football_forwards</td>\n",
       "      <td>[26876, 26877, 26879, 26887, 26892, 26904, 269...</td>\n",
       "      <td>6959</td>\n",
       "    </tr>\n",
       "    <tr>\n",
       "      <th>899</th>\n",
       "      <td>Association_football_midfielders</td>\n",
       "      <td>[14003, 15291, 23536, 26880, 26882, 26885, 268...</td>\n",
       "      <td>8270</td>\n",
       "    </tr>\n",
       "    <tr>\n",
       "      <th>948</th>\n",
       "      <td>Association_football_defenders</td>\n",
       "      <td>[15217, 22860, 26873, 26878, 26881, 26898, 269...</td>\n",
       "      <td>6668</td>\n",
       "    </tr>\n",
       "    <tr>\n",
       "      <th>2790</th>\n",
       "      <td>Harvard_University_alumni</td>\n",
       "      <td>[77, 1013, 1271, 1663, 1779, 1843, 2212, 3193,...</td>\n",
       "      <td>6154</td>\n",
       "    </tr>\n",
       "    <tr>\n",
       "      <th>4159</th>\n",
       "      <td>Major_League_Baseball_pitchers</td>\n",
       "      <td>[79, 24213, 33054, 37167, 53973, 63107, 69823,...</td>\n",
       "      <td>6580</td>\n",
       "    </tr>\n",
       "    <tr>\n",
       "      <th>5618</th>\n",
       "      <td>Members_of_the_United_Kingdom_Parliament_for_E...</td>\n",
       "      <td>[29098, 29493, 29585, 30255, 30389, 30505, 306...</td>\n",
       "      <td>6546</td>\n",
       "    </tr>\n",
       "    <tr>\n",
       "      <th>6066</th>\n",
       "      <td>Indian_films</td>\n",
       "      <td>[1308, 29286, 53565, 70274, 70275, 70797, 1233...</td>\n",
       "      <td>5913</td>\n",
       "    </tr>\n",
       "    <tr>\n",
       "      <th>6794</th>\n",
       "      <td>Year_of_death_missing</td>\n",
       "      <td>[98, 126, 227, 1823, 2170, 2223, 13215, 14003,...</td>\n",
       "      <td>7851</td>\n",
       "    </tr>\n",
       "    <tr>\n",
       "      <th>7888</th>\n",
       "      <td>Rivers_of_Romania</td>\n",
       "      <td>[72111, 72112, 72113, 72114, 72115, 72116, 721...</td>\n",
       "      <td>7729</td>\n",
       "    </tr>\n",
       "    <tr>\n",
       "      <th>8731</th>\n",
       "      <td>Main_Belt_asteroids</td>\n",
       "      <td>[13184, 13992, 22277, 23539, 29163, 33254, 334...</td>\n",
       "      <td>13704</td>\n",
       "    </tr>\n",
       "    <tr>\n",
       "      <th>8732</th>\n",
       "      <td>Asteroids_named_for_people</td>\n",
       "      <td>[13184, 13992, 23539, 33990, 33991, 37535, 375...</td>\n",
       "      <td>5701</td>\n",
       "    </tr>\n",
       "    <tr>\n",
       "      <th>10554</th>\n",
       "      <td>English-language_films</td>\n",
       "      <td>[55, 134, 153, 214, 1083, 1084, 1087, 1089, 11...</td>\n",
       "      <td>22699</td>\n",
       "    </tr>\n",
       "    <tr>\n",
       "      <th>10563</th>\n",
       "      <td>American_films</td>\n",
       "      <td>[134, 153, 173, 1083, 1087, 1089, 1131, 1152, ...</td>\n",
       "      <td>15302</td>\n",
       "    </tr>\n",
       "    <tr>\n",
       "      <th>11647</th>\n",
       "      <td>American_television_actors</td>\n",
       "      <td>[174, 938, 980, 1086, 1088, 1099, 1106, 1109, ...</td>\n",
       "      <td>11661</td>\n",
       "    </tr>\n",
       "    <tr>\n",
       "      <th>11648</th>\n",
       "      <td>American_film_actors</td>\n",
       "      <td>[174, 980, 1088, 1099, 1106, 1109, 1121, 1122,...</td>\n",
       "      <td>13938</td>\n",
       "    </tr>\n",
       "    <tr>\n",
       "      <th>11991</th>\n",
       "      <td>Debut_albums</td>\n",
       "      <td>[95, 108, 112, 113, 190, 254, 1413, 1451, 1452...</td>\n",
       "      <td>8401</td>\n",
       "    </tr>\n",
       "    <tr>\n",
       "      <th>12630</th>\n",
       "      <td>Black-and-white_films</td>\n",
       "      <td>[134, 16130, 19763, 26846, 31864, 35833, 38917...</td>\n",
       "      <td>12174</td>\n",
       "    </tr>\n",
       "    <tr>\n",
       "      <th>12940</th>\n",
       "      <td>Year_of_birth_missing</td>\n",
       "      <td>[147, 171, 1056, 1656, 13215, 14003, 15293, 22...</td>\n",
       "      <td>7237</td>\n",
       "    </tr>\n",
       "    <tr>\n",
       "      <th>12965</th>\n",
       "      <td>Place_of_birth_missing_(living_people)</td>\n",
       "      <td>[167, 1100, 1104, 1118, 1119, 1139, 1140, 1144...</td>\n",
       "      <td>6767</td>\n",
       "    </tr>\n",
       "  </tbody>\n",
       "</table>\n",
       "</div>"
      ],
      "text/plain": [
       "                                                Category  \\\n",
       "867                                  English_footballers   \n",
       "868                          The_Football_League_players   \n",
       "875                        Association_football_forwards   \n",
       "899                     Association_football_midfielders   \n",
       "948                       Association_football_defenders   \n",
       "2790                           Harvard_University_alumni   \n",
       "4159                      Major_League_Baseball_pitchers   \n",
       "5618   Members_of_the_United_Kingdom_Parliament_for_E...   \n",
       "6066                                        Indian_films   \n",
       "6794                               Year_of_death_missing   \n",
       "7888                                   Rivers_of_Romania   \n",
       "8731                                 Main_Belt_asteroids   \n",
       "8732                          Asteroids_named_for_people   \n",
       "10554                             English-language_films   \n",
       "10563                                     American_films   \n",
       "11647                         American_television_actors   \n",
       "11648                               American_film_actors   \n",
       "11991                                       Debut_albums   \n",
       "12630                              Black-and-white_films   \n",
       "12940                              Year_of_birth_missing   \n",
       "12965             Place_of_birth_missing_(living_people)   \n",
       "\n",
       "                                                Articles   lens  \n",
       "867    [22860, 28411, 28961, 28979, 29264, 29573, 295...   9237  \n",
       "868    [14003, 23536, 27109, 27348, 27459, 27989, 280...   9467  \n",
       "875    [26876, 26877, 26879, 26887, 26892, 26904, 269...   6959  \n",
       "899    [14003, 15291, 23536, 26880, 26882, 26885, 268...   8270  \n",
       "948    [15217, 22860, 26873, 26878, 26881, 26898, 269...   6668  \n",
       "2790   [77, 1013, 1271, 1663, 1779, 1843, 2212, 3193,...   6154  \n",
       "4159   [79, 24213, 33054, 37167, 53973, 63107, 69823,...   6580  \n",
       "5618   [29098, 29493, 29585, 30255, 30389, 30505, 306...   6546  \n",
       "6066   [1308, 29286, 53565, 70274, 70275, 70797, 1233...   5913  \n",
       "6794   [98, 126, 227, 1823, 2170, 2223, 13215, 14003,...   7851  \n",
       "7888   [72111, 72112, 72113, 72114, 72115, 72116, 721...   7729  \n",
       "8731   [13184, 13992, 22277, 23539, 29163, 33254, 334...  13704  \n",
       "8732   [13184, 13992, 23539, 33990, 33991, 37535, 375...   5701  \n",
       "10554  [55, 134, 153, 214, 1083, 1084, 1087, 1089, 11...  22699  \n",
       "10563  [134, 153, 173, 1083, 1087, 1089, 1131, 1152, ...  15302  \n",
       "11647  [174, 938, 980, 1086, 1088, 1099, 1106, 1109, ...  11661  \n",
       "11648  [174, 980, 1088, 1099, 1106, 1109, 1121, 1122,...  13938  \n",
       "11991  [95, 108, 112, 113, 190, 254, 1413, 1451, 1452...   8401  \n",
       "12630  [134, 16130, 19763, 26846, 31864, 35833, 38917...  12174  \n",
       "12940  [147, 171, 1056, 1656, 13215, 14003, 15293, 22...   7237  \n",
       "12965  [167, 1100, 1104, 1118, 1119, 1139, 1140, 1144...   6767  "
      ]
     },
     "execution_count": 5,
     "metadata": {},
     "output_type": "execute_result"
    }
   ],
   "source": [
    "df_category"
   ]
  },
  {
   "cell_type": "markdown",
   "metadata": {},
   "source": [
    "### Now we verify that our articles belong to these filtered categories"
   ]
  },
  {
   "cell_type": "code",
   "execution_count": 6,
   "metadata": {},
   "outputs": [],
   "source": [
    "categories_articles = set(df_category.Articles.sum())\n",
    "our_articles = set(pd.concat([df_edges.Source, df_edges.Target]).unique())"
   ]
  },
  {
   "cell_type": "code",
   "execution_count": 7,
   "metadata": {},
   "outputs": [
    {
     "name": "stdout",
     "output_type": "stream",
     "text": [
      "Our articles belong to the filtered categories.\n"
     ]
    }
   ],
   "source": [
    "if our_articles.issubset(categories_articles):\n",
    "    print('Our articles belong to the filtered categories.')\n",
    "else:\n",
    "    print(\"Our articles don't belong to the filtered categories.\")"
   ]
  },
  {
   "cell_type": "markdown",
   "metadata": {},
   "source": [
    "### Select a random category for each article\n",
    "If one article belongs to multiple categories we assing it at random to one of these."
   ]
  },
  {
   "cell_type": "code",
   "execution_count": 8,
   "metadata": {},
   "outputs": [],
   "source": [
    "df_article = pd.concat([pd.DataFrame(data = {'Articles': df_category.loc[i].Articles, \n",
    "                                             'Category': df_category.loc[i].Category}) for i in df_category.index], \n",
    "                       ignore_index=True)\n",
    "rand_article = df_article.groupby('Articles').sample(random_state=1)\n",
    "df_article_category = pd.DataFrame(data={'Articles': rand_article.Articles, 'Category': rand_article.Category})\n",
    "df_article_category.set_index('Articles', inplace=True)"
   ]
  },
  {
   "cell_type": "code",
   "execution_count": 9,
   "metadata": {},
   "outputs": [
    {
     "data": {
      "text/html": [
       "<div>\n",
       "<style scoped>\n",
       "    .dataframe tbody tr th:only-of-type {\n",
       "        vertical-align: middle;\n",
       "    }\n",
       "\n",
       "    .dataframe tbody tr th {\n",
       "        vertical-align: top;\n",
       "    }\n",
       "\n",
       "    .dataframe thead th {\n",
       "        text-align: right;\n",
       "    }\n",
       "</style>\n",
       "<table border=\"1\" class=\"dataframe\">\n",
       "  <thead>\n",
       "    <tr style=\"text-align: right;\">\n",
       "      <th></th>\n",
       "      <th>Category</th>\n",
       "    </tr>\n",
       "    <tr>\n",
       "      <th>Articles</th>\n",
       "      <th></th>\n",
       "    </tr>\n",
       "  </thead>\n",
       "  <tbody>\n",
       "    <tr>\n",
       "      <th>55</th>\n",
       "      <td>English-language_films</td>\n",
       "    </tr>\n",
       "    <tr>\n",
       "      <th>77</th>\n",
       "      <td>Harvard_University_alumni</td>\n",
       "    </tr>\n",
       "    <tr>\n",
       "      <th>79</th>\n",
       "      <td>Major_League_Baseball_pitchers</td>\n",
       "    </tr>\n",
       "    <tr>\n",
       "      <th>95</th>\n",
       "      <td>Debut_albums</td>\n",
       "    </tr>\n",
       "    <tr>\n",
       "      <th>98</th>\n",
       "      <td>Year_of_death_missing</td>\n",
       "    </tr>\n",
       "    <tr>\n",
       "      <th>...</th>\n",
       "      <td>...</td>\n",
       "    </tr>\n",
       "    <tr>\n",
       "      <th>1790843</th>\n",
       "      <td>Harvard_University_alumni</td>\n",
       "    </tr>\n",
       "    <tr>\n",
       "      <th>1791481</th>\n",
       "      <td>English-language_films</td>\n",
       "    </tr>\n",
       "    <tr>\n",
       "      <th>1791482</th>\n",
       "      <td>The_Football_League_players</td>\n",
       "    </tr>\n",
       "    <tr>\n",
       "      <th>1791484</th>\n",
       "      <td>Harvard_University_alumni</td>\n",
       "    </tr>\n",
       "    <tr>\n",
       "      <th>1791486</th>\n",
       "      <td>The_Football_League_players</td>\n",
       "    </tr>\n",
       "  </tbody>\n",
       "</table>\n",
       "<p>149794 rows × 1 columns</p>\n",
       "</div>"
      ],
      "text/plain": [
       "                                Category\n",
       "Articles                                \n",
       "55                English-language_films\n",
       "77             Harvard_University_alumni\n",
       "79        Major_League_Baseball_pitchers\n",
       "95                          Debut_albums\n",
       "98                 Year_of_death_missing\n",
       "...                                  ...\n",
       "1790843        Harvard_University_alumni\n",
       "1791481           English-language_films\n",
       "1791482      The_Football_League_players\n",
       "1791484        Harvard_University_alumni\n",
       "1791486      The_Football_League_players\n",
       "\n",
       "[149794 rows x 1 columns]"
      ]
     },
     "execution_count": 9,
     "metadata": {},
     "output_type": "execute_result"
    }
   ],
   "source": [
    "df_article_category"
   ]
  },
  {
   "cell_type": "markdown",
   "metadata": {},
   "source": [
    "#### Save the dataset on file"
   ]
  },
  {
   "cell_type": "code",
   "execution_count": 10,
   "metadata": {},
   "outputs": [],
   "source": [
    "with open(\"./data/article-category.csv\", \"w\") as article_category_file:\n",
    "    article_category_file.write(df_article_category.reset_index().to_csv(index=False).replace('\\r', ''))\n"
   ]
  },
  {
   "cell_type": "markdown",
   "metadata": {},
   "source": [
    "#### Load the dataset from file"
   ]
  },
  {
   "cell_type": "code",
   "execution_count": 11,
   "metadata": {},
   "outputs": [],
   "source": [
    "df_article_category = pd.read_csv(\"./data/article-category.csv\")\n",
    "df_article_category.set_index('Articles', inplace=True)"
   ]
  },
  {
   "cell_type": "markdown",
   "metadata": {},
   "source": [
    "## Read file with page names"
   ]
  },
  {
   "cell_type": "code",
   "execution_count": 12,
   "metadata": {},
   "outputs": [],
   "source": [
    "df_names = pd.read_csv(\"./data/wiki-topcats-page-names.txt\", header=None, names=['Names'])\n",
    "df_names['Names'] = df_names.Names.apply(lambda x: x.split(' ', 1)[1])"
   ]
  },
  {
   "cell_type": "code",
   "execution_count": 13,
   "metadata": {},
   "outputs": [
    {
     "data": {
      "text/html": [
       "<div>\n",
       "<style scoped>\n",
       "    .dataframe tbody tr th:only-of-type {\n",
       "        vertical-align: middle;\n",
       "    }\n",
       "\n",
       "    .dataframe tbody tr th {\n",
       "        vertical-align: top;\n",
       "    }\n",
       "\n",
       "    .dataframe thead th {\n",
       "        text-align: right;\n",
       "    }\n",
       "</style>\n",
       "<table border=\"1\" class=\"dataframe\">\n",
       "  <thead>\n",
       "    <tr style=\"text-align: right;\">\n",
       "      <th></th>\n",
       "      <th>Names</th>\n",
       "    </tr>\n",
       "  </thead>\n",
       "  <tbody>\n",
       "    <tr>\n",
       "      <th>0</th>\n",
       "      <td>Chiasmal syndrome</td>\n",
       "    </tr>\n",
       "    <tr>\n",
       "      <th>1</th>\n",
       "      <td>Kleroterion</td>\n",
       "    </tr>\n",
       "    <tr>\n",
       "      <th>2</th>\n",
       "      <td>Pinakion</td>\n",
       "    </tr>\n",
       "    <tr>\n",
       "      <th>3</th>\n",
       "      <td>LyndonHochschildSerre spectral sequence</td>\n",
       "    </tr>\n",
       "    <tr>\n",
       "      <th>4</th>\n",
       "      <td>Zariski's main theorem</td>\n",
       "    </tr>\n",
       "    <tr>\n",
       "      <th>...</th>\n",
       "      <td>...</td>\n",
       "    </tr>\n",
       "    <tr>\n",
       "      <th>1791484</th>\n",
       "      <td>Noadiah Russell (Yale founder)</td>\n",
       "    </tr>\n",
       "    <tr>\n",
       "      <th>1791485</th>\n",
       "      <td>Cornus officinalis</td>\n",
       "    </tr>\n",
       "    <tr>\n",
       "      <th>1791486</th>\n",
       "      <td>Peter Grummitt</td>\n",
       "    </tr>\n",
       "    <tr>\n",
       "      <th>1791487</th>\n",
       "      <td>Baron Estcourt</td>\n",
       "    </tr>\n",
       "    <tr>\n",
       "      <th>1791488</th>\n",
       "      <td>Catherine Dubosc</td>\n",
       "    </tr>\n",
       "  </tbody>\n",
       "</table>\n",
       "<p>1791489 rows × 1 columns</p>\n",
       "</div>"
      ],
      "text/plain": [
       "                                           Names\n",
       "0                              Chiasmal syndrome\n",
       "1                                    Kleroterion\n",
       "2                                       Pinakion\n",
       "3        LyndonHochschildSerre spectral sequence\n",
       "4                         Zariski's main theorem\n",
       "...                                          ...\n",
       "1791484           Noadiah Russell (Yale founder)\n",
       "1791485                       Cornus officinalis\n",
       "1791486                           Peter Grummitt\n",
       "1791487                           Baron Estcourt\n",
       "1791488                         Catherine Dubosc\n",
       "\n",
       "[1791489 rows x 1 columns]"
      ]
     },
     "execution_count": 13,
     "metadata": {},
     "output_type": "execute_result"
    }
   ],
   "source": [
    "df_names"
   ]
  },
  {
   "cell_type": "markdown",
   "metadata": {},
   "source": [
    "# Create the Graph"
   ]
  },
  {
   "cell_type": "markdown",
   "metadata": {},
   "source": [
    "Our object G has two attibutes: ***nodes*** and ***edges***.\n",
    "In particular the attribute *nodes* returns a dataframe that summarizes a lot of properties of each nodes,such as:\n",
    "* **Neighbour** -> the list of nodes directly linked to the source (only outgoing edges)\n",
    "* **In-Degree** -> number of Incoming edges where Incoming edges of a vertex are directed edges that the vertex is the destination.\n",
    "* **Out-Degree** -> number of Outgoing edges where Outgoing edges of a vertex are directed edges that the vertex is the origin.\n",
    "* **Category** and **Names** label) of the nodes."
   ]
  },
  {
   "cell_type": "code",
   "execution_count": 14,
   "metadata": {},
   "outputs": [],
   "source": [
    "G = HWGraph(df_edges, category_df=df_article_category, names_df=df_names)"
   ]
  },
  {
   "cell_type": "code",
   "execution_count": 15,
   "metadata": {},
   "outputs": [
    {
     "data": {
      "text/html": [
       "<div>\n",
       "<style scoped>\n",
       "    .dataframe tbody tr th:only-of-type {\n",
       "        vertical-align: middle;\n",
       "    }\n",
       "\n",
       "    .dataframe tbody tr th {\n",
       "        vertical-align: top;\n",
       "    }\n",
       "\n",
       "    .dataframe thead th {\n",
       "        text-align: right;\n",
       "    }\n",
       "</style>\n",
       "<table border=\"1\" class=\"dataframe\">\n",
       "  <thead>\n",
       "    <tr style=\"text-align: right;\">\n",
       "      <th></th>\n",
       "      <th>Neighbour</th>\n",
       "      <th>InDegree</th>\n",
       "      <th>OutDegree</th>\n",
       "      <th>Category</th>\n",
       "      <th>Names</th>\n",
       "    </tr>\n",
       "    <tr>\n",
       "      <th>Node</th>\n",
       "      <th></th>\n",
       "      <th></th>\n",
       "      <th></th>\n",
       "      <th></th>\n",
       "      <th></th>\n",
       "    </tr>\n",
       "  </thead>\n",
       "  <tbody>\n",
       "    <tr>\n",
       "      <th>95</th>\n",
       "      <td>[1185516]</td>\n",
       "      <td>0.0</td>\n",
       "      <td>1.0</td>\n",
       "      <td>Debut_albums</td>\n",
       "      <td>This Way (Hana Pestle album)</td>\n",
       "    </tr>\n",
       "    <tr>\n",
       "      <th>108</th>\n",
       "      <td>[1059989, 1062426, 1161925]</td>\n",
       "      <td>0.0</td>\n",
       "      <td>3.0</td>\n",
       "      <td>Debut_albums</td>\n",
       "      <td>Born Innocent (Redd Kross album)</td>\n",
       "    </tr>\n",
       "    <tr>\n",
       "      <th>134</th>\n",
       "      <td>[541222, 1061485, 1163610, 1163783]</td>\n",
       "      <td>5.0</td>\n",
       "      <td>4.0</td>\n",
       "      <td>English-language_films</td>\n",
       "      <td>San Quentin (1937 film)</td>\n",
       "    </tr>\n",
       "    <tr>\n",
       "      <th>153</th>\n",
       "      <td>[744272, 1064807, 1065282, 1085943, 1125916, 1...</td>\n",
       "      <td>5.0</td>\n",
       "      <td>9.0</td>\n",
       "      <td>American_films</td>\n",
       "      <td>35 and Ticking</td>\n",
       "    </tr>\n",
       "    <tr>\n",
       "      <th>167</th>\n",
       "      <td>[645690, 804311]</td>\n",
       "      <td>2.0</td>\n",
       "      <td>2.0</td>\n",
       "      <td>Place_of_birth_missing_(living_people)</td>\n",
       "      <td>Donna Dubinsky</td>\n",
       "    </tr>\n",
       "    <tr>\n",
       "      <th>...</th>\n",
       "      <td>...</td>\n",
       "      <td>...</td>\n",
       "      <td>...</td>\n",
       "      <td>...</td>\n",
       "      <td>...</td>\n",
       "    </tr>\n",
       "    <tr>\n",
       "      <th>1789654</th>\n",
       "      <td>[]</td>\n",
       "      <td>1.0</td>\n",
       "      <td>0.0</td>\n",
       "      <td>English-language_films</td>\n",
       "      <td>Allan Quatermain and the Temple of Skulls</td>\n",
       "    </tr>\n",
       "    <tr>\n",
       "      <th>1356290</th>\n",
       "      <td>[]</td>\n",
       "      <td>1.0</td>\n",
       "      <td>0.0</td>\n",
       "      <td>English-language_films</td>\n",
       "      <td>The Cottage (film)</td>\n",
       "    </tr>\n",
       "    <tr>\n",
       "      <th>1053684</th>\n",
       "      <td>[]</td>\n",
       "      <td>1.0</td>\n",
       "      <td>0.0</td>\n",
       "      <td>American_television_actors</td>\n",
       "      <td>Eric Lutes</td>\n",
       "    </tr>\n",
       "    <tr>\n",
       "      <th>1789822</th>\n",
       "      <td>[]</td>\n",
       "      <td>1.0</td>\n",
       "      <td>0.0</td>\n",
       "      <td>American_television_actors</td>\n",
       "      <td>Joy Osmanski</td>\n",
       "    </tr>\n",
       "    <tr>\n",
       "      <th>235100</th>\n",
       "      <td>[]</td>\n",
       "      <td>1.0</td>\n",
       "      <td>0.0</td>\n",
       "      <td>Harvard_University_alumni</td>\n",
       "      <td>James Pierpont (Yale founder)</td>\n",
       "    </tr>\n",
       "  </tbody>\n",
       "</table>\n",
       "<p>98343 rows × 5 columns</p>\n",
       "</div>"
      ],
      "text/plain": [
       "                                                 Neighbour  InDegree  \\\n",
       "Node                                                                   \n",
       "95                                               [1185516]       0.0   \n",
       "108                            [1059989, 1062426, 1161925]       0.0   \n",
       "134                    [541222, 1061485, 1163610, 1163783]       5.0   \n",
       "153      [744272, 1064807, 1065282, 1085943, 1125916, 1...       5.0   \n",
       "167                                       [645690, 804311]       2.0   \n",
       "...                                                    ...       ...   \n",
       "1789654                                                 []       1.0   \n",
       "1356290                                                 []       1.0   \n",
       "1053684                                                 []       1.0   \n",
       "1789822                                                 []       1.0   \n",
       "235100                                                  []       1.0   \n",
       "\n",
       "         OutDegree                                Category  \\\n",
       "Node                                                         \n",
       "95             1.0                            Debut_albums   \n",
       "108            3.0                            Debut_albums   \n",
       "134            4.0                  English-language_films   \n",
       "153            9.0                          American_films   \n",
       "167            2.0  Place_of_birth_missing_(living_people)   \n",
       "...            ...                                     ...   \n",
       "1789654        0.0                  English-language_films   \n",
       "1356290        0.0                  English-language_films   \n",
       "1053684        0.0              American_television_actors   \n",
       "1789822        0.0              American_television_actors   \n",
       "235100         0.0               Harvard_University_alumni   \n",
       "\n",
       "                                             Names  \n",
       "Node                                                \n",
       "95                    This Way (Hana Pestle album)  \n",
       "108               Born Innocent (Redd Kross album)  \n",
       "134                        San Quentin (1937 film)  \n",
       "153                                 35 and Ticking  \n",
       "167                                 Donna Dubinsky  \n",
       "...                                            ...  \n",
       "1789654  Allan Quatermain and the Temple of Skulls  \n",
       "1356290                         The Cottage (film)  \n",
       "1053684                                 Eric Lutes  \n",
       "1789822                               Joy Osmanski  \n",
       "235100               James Pierpont (Yale founder)  \n",
       "\n",
       "[98343 rows x 5 columns]"
      ]
     },
     "execution_count": 15,
     "metadata": {},
     "output_type": "execute_result"
    }
   ],
   "source": [
    "G.nodes"
   ]
  },
  {
   "cell_type": "markdown",
   "metadata": {},
   "source": [
    "# Answers"
   ]
  },
  {
   "cell_type": "markdown",
   "metadata": {},
   "source": [
    "## Question 1\n",
    "\n",
    "## Is the graph directed?"
   ]
  },
  {
   "cell_type": "code",
   "execution_count": 16,
   "metadata": {},
   "outputs": [
    {
     "name": "stdout",
     "output_type": "stream",
     "text": [
      "The graph is directed\n"
     ]
    }
   ],
   "source": [
    "if G.is_directed():\n",
    "    print('The graph is directed')\n",
    "else:\n",
    "    print('The graph is not directed')"
   ]
  },
  {
   "cell_type": "markdown",
   "metadata": {},
   "source": [
    "Yes! We are working on a directed graph $G=(V,E)$, where our nodes $V$ (articles) are connected together by edges $E$ (hyperlinks) directed from one vertex to another. \n",
    "\n",
    "We verify this property looking at the number of sources and targets ,because in an undirected graph each vertex is both sorce than target , and since we assume that all edges in the graphs have weight equal to 1, we should find each edges in both directions ,but this isn't the case. "
   ]
  },
  {
   "cell_type": "markdown",
   "metadata": {},
   "source": [
    "## How many articles are we considering?¶"
   ]
  },
  {
   "cell_type": "markdown",
   "metadata": {},
   "source": [
    "Since each node corresponds to an article, we can count the number of articles just counting the number of nodes of our Graph $G$:"
   ]
  },
  {
   "cell_type": "code",
   "execution_count": 17,
   "metadata": {},
   "outputs": [
    {
     "name": "stdout",
     "output_type": "stream",
     "text": [
      "We are considering 98343 articles.\n"
     ]
    }
   ],
   "source": [
    "print(f'We are considering {G.n_nodes} articles.')"
   ]
  },
  {
   "cell_type": "markdown",
   "metadata": {},
   "source": [
    "## How many hyperlinks between pages exist?\n",
    "Since each edge corresponds to an hyperlink between 2 articles, we can count the number of hyperlinks just counting the number of edges of our Graph $G$ "
   ]
  },
  {
   "cell_type": "code",
   "execution_count": 18,
   "metadata": {},
   "outputs": [
    {
     "name": "stdout",
     "output_type": "stream",
     "text": [
      "There are 483094 hyperlink between pages.\n"
     ]
    }
   ],
   "source": [
    "print(f'There are {G.n_edges} hyperlink between pages.')"
   ]
  },
  {
   "cell_type": "markdown",
   "metadata": {},
   "source": [
    " ## Average number of links in an arbitrary page and Density of our Graph"
   ]
  },
  {
   "cell_type": "markdown",
   "metadata": {},
   "source": [
    "The average degree of our directed graph is: $(k^{in})=(k^{out})=\\frac{1}{N} \\sum_{i=1}^{N}k_{i}^{in}=\\frac{1}{N} \\sum_{i=1}^{N}k_{i}^{out}=\\frac{totalnumberofhyperlinks}{totalnumberofarticles} $\n",
    "\n",
    "The density of the graph $G$ measures how many hyperlinks are in set $E$ compared to the maximum possible number of hyperlinks between articles in set $V$\n",
    "\n",
    "The density of our directed graph is: $D= \\frac{|E|}{2\\binom{|V|}{2}} = \\frac{|E|}{|V|(|V|-1)} $"
   ]
  },
  {
   "cell_type": "code",
   "execution_count": 19,
   "metadata": {},
   "outputs": [
    {
     "name": "stdout",
     "output_type": "stream",
     "text": [
      "The average number of links in an arbitrary page is 4.912337431235573\n",
      "Graph density: 4.9951571365597335e-05\n"
     ]
    }
   ],
   "source": [
    "print(f'The average number of links in an arbitrary page is {G.out_degree()}')\n",
    "print(f'Graph density: {G.density()}')"
   ]
  },
  {
   "cell_type": "markdown",
   "metadata": {},
   "source": [
    " ## Check if our graph is Dense or Sparse\n",
    " \n",
    "To see if our graph is sparse or dense, we consider that the density of a sparse graph is in lower range of the density’s codomain $(0\\leqslant density < \\frac {1} {2})$; the density of a dense graph is in the higher range of its codomain $ ( \\frac {1} {2} < density \\leqslant  1) $, so:"
   ]
  },
  {
   "cell_type": "markdown",
   "metadata": {},
   "source": [
    "> **The graph is sparse  !!**\n",
    "\n",
    "It means that our graph the number of edges is NOT close to the maximal number of edges, in fact the total number of edges of a directed graph is:\n",
    "> $ E_{max} = V*(V-1)$\n",
    "\n",
    "In our case the maximum number of edges is 9671247306, but we've only 483094 edges, far from the maximum."
   ]
  },
  {
   "cell_type": "markdown",
   "metadata": {},
   "source": [
    "## Nodes' degree distribution"
   ]
  },
  {
   "cell_type": "code",
   "execution_count": 20,
   "metadata": {},
   "outputs": [
    {
     "data": {
      "image/png": "[encoded data removed]",
      "text/plain": [
       "<Figure size 1152x648 with 1 Axes>"
      ]
     },
     "metadata": {
      "needs_background": "light"
     },
     "output_type": "display_data"
    },
    {
     "data": {
      "image/png": "[encoded data removed]",
      "text/plain": [
       "<Figure size 1152x648 with 1 Axes>"
      ]
     },
     "metadata": {
      "needs_background": "light"
     },
     "output_type": "display_data"
    }
   ],
   "source": [
    "G.plot_degree_distr()"
   ]
  },
  {
   "cell_type": "markdown",
   "metadata": {},
   "source": [
    "## Question 2"
   ]
  },
  {
   "cell_type": "markdown",
   "metadata": {},
   "source": [
    "## Breadth-First-Search (BFS) within distance d\n",
    "Given a page **v** and the number of clicks **d** we have to return the set of all pages that a user can reach within d clicks. This problem is a simple Breadth-First-Search where we stop the algorithm when we find all the nodes ad distance d from the origin."
   ]
  },
  {
   "cell_type": "markdown",
   "metadata": {},
   "source": [
    "Starting from the node **95** within **10** clicks we can reach 60531 different nodes,here we return their label and their distance from the orign."
   ]
  },
  {
   "cell_type": "code",
   "execution_count": 21,
   "metadata": {
    "scrolled": false
   },
   "outputs": [
    {
     "data": {
      "text/html": [
       "<div>\n",
       "<style scoped>\n",
       "    .dataframe tbody tr th:only-of-type {\n",
       "        vertical-align: middle;\n",
       "    }\n",
       "\n",
       "    .dataframe tbody tr th {\n",
       "        vertical-align: top;\n",
       "    }\n",
       "\n",
       "    .dataframe thead th {\n",
       "        text-align: right;\n",
       "    }\n",
       "</style>\n",
       "<table border=\"1\" class=\"dataframe\">\n",
       "  <thead>\n",
       "    <tr style=\"text-align: right;\">\n",
       "      <th></th>\n",
       "      <th>Names</th>\n",
       "      <th>Distance</th>\n",
       "    </tr>\n",
       "    <tr>\n",
       "      <th>Node</th>\n",
       "      <th></th>\n",
       "      <th></th>\n",
       "    </tr>\n",
       "  </thead>\n",
       "  <tbody>\n",
       "    <tr>\n",
       "      <th>95</th>\n",
       "      <td>This Way (Hana Pestle album)</td>\n",
       "      <td>0</td>\n",
       "    </tr>\n",
       "    <tr>\n",
       "      <th>1185516</th>\n",
       "      <td>Marty O'Brien</td>\n",
       "      <td>1</td>\n",
       "    </tr>\n",
       "    <tr>\n",
       "      <th>150451</th>\n",
       "      <td>22nd Century Lifestyle</td>\n",
       "      <td>2</td>\n",
       "    </tr>\n",
       "    <tr>\n",
       "      <th>1062563</th>\n",
       "      <td>Lindsay Lohan</td>\n",
       "      <td>2</td>\n",
       "    </tr>\n",
       "    <tr>\n",
       "      <th>1178930</th>\n",
       "      <td>Marilyn Manson</td>\n",
       "      <td>2</td>\n",
       "    </tr>\n",
       "    <tr>\n",
       "      <th>...</th>\n",
       "      <td>...</td>\n",
       "      <td>...</td>\n",
       "    </tr>\n",
       "    <tr>\n",
       "      <th>1046428</th>\n",
       "      <td>Kitty (1929 film)</td>\n",
       "      <td>10</td>\n",
       "    </tr>\n",
       "    <tr>\n",
       "      <th>1006500</th>\n",
       "      <td>Derek Possee</td>\n",
       "      <td>10</td>\n",
       "    </tr>\n",
       "    <tr>\n",
       "      <th>77027</th>\n",
       "      <td>Albert Hoskins</td>\n",
       "      <td>10</td>\n",
       "    </tr>\n",
       "    <tr>\n",
       "      <th>79380</th>\n",
       "      <td>Jack Bowers</td>\n",
       "      <td>10</td>\n",
       "    </tr>\n",
       "    <tr>\n",
       "      <th>1319259</th>\n",
       "      <td>Andrej Stropel</td>\n",
       "      <td>10</td>\n",
       "    </tr>\n",
       "  </tbody>\n",
       "</table>\n",
       "<p>60531 rows × 2 columns</p>\n",
       "</div>"
      ],
      "text/plain": [
       "                                Names  Distance\n",
       "Node                                           \n",
       "95       This Way (Hana Pestle album)         0\n",
       "1185516                 Marty O'Brien         1\n",
       "150451         22nd Century Lifestyle         2\n",
       "1062563                 Lindsay Lohan         2\n",
       "1178930                Marilyn Manson         2\n",
       "...                               ...       ...\n",
       "1046428             Kitty (1929 film)        10\n",
       "1006500                  Derek Possee        10\n",
       "77027                  Albert Hoskins        10\n",
       "79380                     Jack Bowers        10\n",
       "1319259                Andrej Stropel        10\n",
       "\n",
       "[60531 rows x 2 columns]"
      ]
     },
     "execution_count": 21,
     "metadata": {},
     "output_type": "execute_result"
    }
   ],
   "source": [
    "v = 95\n",
    "d = 10\n",
    "G.bfs(v, max_distance=d)"
   ]
  },
  {
   "cell_type": "code",
   "execution_count": 22,
   "metadata": {},
   "outputs": [
    {
     "name": "stdout",
     "output_type": "stream",
     "text": [
      "The node 235101 is not present in the graph!\n"
     ]
    }
   ],
   "source": [
    "v = 235101\n",
    "d = 10\n",
    "G.bfs(v)"
   ]
  },
  {
   "cell_type": "markdown",
   "metadata": {},
   "source": [
    "The node **235100** has no outgoing edges so it can reach only itself."
   ]
  },
  {
   "cell_type": "code",
   "execution_count": 23,
   "metadata": {},
   "outputs": [
    {
     "data": {
      "text/html": [
       "<div>\n",
       "<style scoped>\n",
       "    .dataframe tbody tr th:only-of-type {\n",
       "        vertical-align: middle;\n",
       "    }\n",
       "\n",
       "    .dataframe tbody tr th {\n",
       "        vertical-align: top;\n",
       "    }\n",
       "\n",
       "    .dataframe thead th {\n",
       "        text-align: right;\n",
       "    }\n",
       "</style>\n",
       "<table border=\"1\" class=\"dataframe\">\n",
       "  <thead>\n",
       "    <tr style=\"text-align: right;\">\n",
       "      <th></th>\n",
       "      <th>Names</th>\n",
       "      <th>Distance</th>\n",
       "    </tr>\n",
       "    <tr>\n",
       "      <th>Node</th>\n",
       "      <th></th>\n",
       "      <th></th>\n",
       "    </tr>\n",
       "  </thead>\n",
       "  <tbody>\n",
       "    <tr>\n",
       "      <th>235100</th>\n",
       "      <td>James Pierpont (Yale founder)</td>\n",
       "      <td>0</td>\n",
       "    </tr>\n",
       "  </tbody>\n",
       "</table>\n",
       "</div>"
      ],
      "text/plain": [
       "                                Names  Distance\n",
       "Node                                           \n",
       "235100  James Pierpont (Yale founder)         0"
      ]
     },
     "execution_count": 23,
     "metadata": {},
     "output_type": "execute_result"
    }
   ],
   "source": [
    "v = 235100\n",
    "d = math.inf\n",
    "G.bfs(v)"
   ]
  },
  {
   "cell_type": "markdown",
   "metadata": {},
   "source": [
    "## Question 3\n",
    "Given in input:\n",
    "* A category C\n",
    "* A set of pages in C, p = {p1, ..., pn}\n",
    "\n",
    "returns the minimum number of clicks required to reach all pages in p, starting from the page v, corresponding to the most central article, according to the in-degree centrality, in C.\n",
    "\n",
    "As metrics of centrality, we adopted the Degree centrality for directed networks, with:\n",
    "\n",
    "$centrality_{indegree}^{v}=\\frac{deg_{indegree}^{v}}{|N|-1}$\n",
    "\n",
    "where:\n",
    "\n",
    "$centrality_{indegree}^{v}$ is the centrality-score of a node $v$\n",
    "\n",
    "$deg_{indegree}^{v}$ is the IN-degree of node $v$\n",
    "\n",
    "$|N|$ is the number of nodes of the graph $G$"
   ]
  },
  {
   "cell_type": "markdown",
   "metadata": {},
   "source": [
    "Due to the problem is computational expensive we run it first for a small random number of pages than fore more pages,all of them are taken from a category chosen at random from all category we have."
   ]
  },
  {
   "cell_type": "markdown",
   "metadata": {},
   "source": [
    "First example:"
   ]
  },
  {
   "cell_type": "code",
   "execution_count": 24,
   "metadata": {},
   "outputs": [
    {
     "name": "stdout",
     "output_type": "stream",
     "text": [
      "To reach the pages {1163207}, belonging to the category American_television_actors, starting from the category's most central article it requires at least 4 clicks.\n"
     ]
    }
   ],
   "source": [
    "C = G.nodes.Category.sample().iloc[0]\n",
    "max_pages = 3\n",
    "n_pages = np.random.randint(1, max_pages)\n",
    "p = set(G.nodes[G.nodes.Category == C].sample(n_pages, replace=True).index.tolist())\n",
    "min_click = G.min_clicks(C, p)\n",
    "if min_click is not None:\n",
    "    print(f\"To reach the pages {p}, belonging to the category {C}, starting from the category's most central article it requires at least {min_click} clicks.\")\n",
    "else:\n",
    "    print(f\"It's not possible to reach all the pages {p}, belonging to the category {C}, starting from the category's most central article.\")"
   ]
  },
  {
   "cell_type": "markdown",
   "metadata": {},
   "source": [
    "Second example"
   ]
  },
  {
   "cell_type": "code",
   "execution_count": 25,
   "metadata": {},
   "outputs": [
    {
     "name": "stdout",
     "output_type": "stream",
     "text": [
      "Not possible!\n",
      "It's not possible to reach all the pages {1042304, 1247200, 1446588, 1042635, 1056908, 1053004, 1551598, 1056495, 251989, 1067254, 1063352, 1056505, 1376764, 1063709, 1556223}, belonging to the category English-language_films.\n"
     ]
    }
   ],
   "source": [
    "C = G.nodes.Category.sample().iloc[0]\n",
    "max_pages = 20\n",
    "n_pages = np.random.randint(5, max_pages)\n",
    "p = set(G.nodes[G.nodes.Category == C].sample(n_pages, replace=True).index.tolist())\n",
    "min_click = G.min_clicks(C, p)\n",
    "if min_click is not None:\n",
    "    print(f'To reach the pages {p}, belonging to the category {C}, it requires at least {min_click} clicks.')\n",
    "else:\n",
    "    print(f\"It's not possible to reach all the pages {p}, belonging to the category {C}.\")"
   ]
  },
  {
   "cell_type": "markdown",
   "metadata": {},
   "source": [
    "## Question 4\n",
    "Given in input two categories: $C1$ and $C2$, we get the subgraph induced by all the articles in the two categories.\n",
    "* Let v and u two arbitrary pages in the subgraph return  minimum set of hyperlinks one can remove to disconnect u and v."
   ]
  },
  {
   "cell_type": "markdown",
   "metadata": {},
   "source": [
    "The ***induced subgraph*** of a graph is another graph, formed from a subset of the vertices of the graph and all of the edges connecting pairs of vertices in that subset.\n",
    "\n",
    "In our particular case the subset of nodes is the one made by the articles belonging to the two category $C1$ and $C2$ that we choose at random from all the categories.\n",
    "\n",
    "Then chosen $v$ and $u$ the minimum number of links that we have to remove to disconnect them is the same of calculating the number of edges of the min cut which divide the graph in two partitions $P1$ and $P2$ such that $ v \\in P1$ and $ u \\in P2$.\n"
   ]
  },
  {
   "cell_type": "markdown",
   "metadata": {},
   "source": [
    "To find the min cut we used the **Karger's Algorithm** which is a randomized algorithm that gives a good approximation for the cardinality of the min-cut.The algorithm follows principally four steps:\n",
    "\n",
    "1. Choose an edge uniformly at random\n",
    "2. Contract the edge\n",
    "3. Repeat steps 1 and 2 until two nodes are left\n",
    "4. Return the cut defined by the nodes and the esges left\n",
    "\n",
    "Since the algorithm is a randomized algorithm it may return the wrong answer. So the number of times we have to repeat it in orded to have a $Probability(Fail) \\le {1\\over n}$ ,where $n$ is the number of edges, is $n^2ln(n)$."
   ]
  },
  {
   "cell_type": "code",
   "execution_count": 26,
   "metadata": {
    "scrolled": true
   },
   "outputs": [
    {
     "name": "stdout",
     "output_type": "stream",
     "text": [
      "The minimum number of hyperlinks we have to remove in order to disconnect two random nodes, belonging to the categories Association_football_forwards or Debut_albums, is 0\n"
     ]
    }
   ],
   "source": [
    "C1, C2 = np.random.choice(G.nodes.Category.unique(), 2)\n",
    "print(f\"The minimum number of hyperlinks we have to remove in order to disconnect two random nodes, belonging to the categories {C1} or {C2}, is {G.min_link_to_disconnect(C1, C2)}\")"
   ]
  },
  {
   "cell_type": "markdown",
   "metadata": {},
   "source": [
    "Unfortunately most of the categories are already disconnected so Karger's algorithm returns 0."
   ]
  },
  {
   "cell_type": "markdown",
   "metadata": {},
   "source": [
    "## Question 5\n",
    "Given an arbitrary category C0 as input, returns the list of remaning categories sorted by their distance from C0. In particular, the distance between two categories is defined as\n",
    "\n",
    "* distance(C0, Ci) = median(ShortestPath(C0, Ci))\n",
    "\n",
    "where ShortestPath(C0, Ci) is the set of shortest paths from each pair of nodes in the two categories."
   ]
  },
  {
   "cell_type": "code",
   "execution_count": 27,
   "metadata": {},
   "outputs": [
    {
     "data": {
      "text/plain": [
       "'Association_football_midfielders'"
      ]
     },
     "execution_count": 27,
     "metadata": {},
     "output_type": "execute_result"
    }
   ],
   "source": [
    "C = G.nodes.Category.sample().iloc[0]\n",
    "C"
   ]
  },
  {
   "cell_type": "code",
   "execution_count": 29,
   "metadata": {},
   "outputs": [
    {
     "name": "stderr",
     "output_type": "stream",
     "text": [
      "100%|██████████████████████████████████████████████████████████████████████████████| 2763/2763 [07:50<00:00,  5.88it/s]\n"
     ]
    },
    {
     "data": {
      "text/html": [
       "<div>\n",
       "<style scoped>\n",
       "    .dataframe tbody tr th:only-of-type {\n",
       "        vertical-align: middle;\n",
       "    }\n",
       "\n",
       "    .dataframe tbody tr th {\n",
       "        vertical-align: top;\n",
       "    }\n",
       "\n",
       "    .dataframe thead th {\n",
       "        text-align: right;\n",
       "    }\n",
       "</style>\n",
       "<table border=\"1\" class=\"dataframe\">\n",
       "  <thead>\n",
       "    <tr style=\"text-align: right;\">\n",
       "      <th></th>\n",
       "      <th>C0</th>\n",
       "      <th>Ci</th>\n",
       "      <th>Dist</th>\n",
       "    </tr>\n",
       "  </thead>\n",
       "  <tbody>\n",
       "    <tr>\n",
       "      <th>0</th>\n",
       "      <td>Association_football_midfielders</td>\n",
       "      <td>Debut_albums</td>\n",
       "      <td>inf</td>\n",
       "    </tr>\n",
       "    <tr>\n",
       "      <th>9</th>\n",
       "      <td>Association_football_midfielders</td>\n",
       "      <td>Year_of_death_missing</td>\n",
       "      <td>inf</td>\n",
       "    </tr>\n",
       "    <tr>\n",
       "      <th>17</th>\n",
       "      <td>Association_football_midfielders</td>\n",
       "      <td>Indian_films</td>\n",
       "      <td>inf</td>\n",
       "    </tr>\n",
       "    <tr>\n",
       "      <th>15</th>\n",
       "      <td>Association_football_midfielders</td>\n",
       "      <td>English_footballers</td>\n",
       "      <td>inf</td>\n",
       "    </tr>\n",
       "    <tr>\n",
       "      <th>14</th>\n",
       "      <td>Association_football_midfielders</td>\n",
       "      <td>The_Football_League_players</td>\n",
       "      <td>inf</td>\n",
       "    </tr>\n",
       "    <tr>\n",
       "      <th>13</th>\n",
       "      <td>Association_football_midfielders</td>\n",
       "      <td>Association_football_forwards</td>\n",
       "      <td>inf</td>\n",
       "    </tr>\n",
       "    <tr>\n",
       "      <th>12</th>\n",
       "      <td>Association_football_midfielders</td>\n",
       "      <td>Association_football_defenders</td>\n",
       "      <td>inf</td>\n",
       "    </tr>\n",
       "    <tr>\n",
       "      <th>11</th>\n",
       "      <td>Association_football_midfielders</td>\n",
       "      <td>Year_of_birth_missing</td>\n",
       "      <td>inf</td>\n",
       "    </tr>\n",
       "    <tr>\n",
       "      <th>19</th>\n",
       "      <td>Association_football_midfielders</td>\n",
       "      <td>Major_League_Baseball_pitchers</td>\n",
       "      <td>inf</td>\n",
       "    </tr>\n",
       "    <tr>\n",
       "      <th>8</th>\n",
       "      <td>Association_football_midfielders</td>\n",
       "      <td>Asteroids_named_for_people</td>\n",
       "      <td>inf</td>\n",
       "    </tr>\n",
       "    <tr>\n",
       "      <th>7</th>\n",
       "      <td>Association_football_midfielders</td>\n",
       "      <td>Main_Belt_asteroids</td>\n",
       "      <td>inf</td>\n",
       "    </tr>\n",
       "    <tr>\n",
       "      <th>6</th>\n",
       "      <td>Association_football_midfielders</td>\n",
       "      <td>Harvard_University_alumni</td>\n",
       "      <td>inf</td>\n",
       "    </tr>\n",
       "    <tr>\n",
       "      <th>3</th>\n",
       "      <td>Association_football_midfielders</td>\n",
       "      <td>Place_of_birth_missing_(living_people)</td>\n",
       "      <td>inf</td>\n",
       "    </tr>\n",
       "    <tr>\n",
       "      <th>18</th>\n",
       "      <td>Association_football_midfielders</td>\n",
       "      <td>Rivers_of_Romania</td>\n",
       "      <td>13.0</td>\n",
       "    </tr>\n",
       "    <tr>\n",
       "      <th>10</th>\n",
       "      <td>Association_football_midfielders</td>\n",
       "      <td>Black-and-white_films</td>\n",
       "      <td>11.0</td>\n",
       "    </tr>\n",
       "    <tr>\n",
       "      <th>1</th>\n",
       "      <td>Association_football_midfielders</td>\n",
       "      <td>English-language_films</td>\n",
       "      <td>10.0</td>\n",
       "    </tr>\n",
       "    <tr>\n",
       "      <th>16</th>\n",
       "      <td>Association_football_midfielders</td>\n",
       "      <td>Members_of_the_United_Kingdom_Parliament_for_E...</td>\n",
       "      <td>10.0</td>\n",
       "    </tr>\n",
       "    <tr>\n",
       "      <th>5</th>\n",
       "      <td>Association_football_midfielders</td>\n",
       "      <td>American_television_actors</td>\n",
       "      <td>9.0</td>\n",
       "    </tr>\n",
       "    <tr>\n",
       "      <th>4</th>\n",
       "      <td>Association_football_midfielders</td>\n",
       "      <td>American_film_actors</td>\n",
       "      <td>9.0</td>\n",
       "    </tr>\n",
       "    <tr>\n",
       "      <th>2</th>\n",
       "      <td>Association_football_midfielders</td>\n",
       "      <td>American_films</td>\n",
       "      <td>9.0</td>\n",
       "    </tr>\n",
       "  </tbody>\n",
       "</table>\n",
       "</div>"
      ],
      "text/plain": [
       "                                  C0  \\\n",
       "0   Association_football_midfielders   \n",
       "9   Association_football_midfielders   \n",
       "17  Association_football_midfielders   \n",
       "15  Association_football_midfielders   \n",
       "14  Association_football_midfielders   \n",
       "13  Association_football_midfielders   \n",
       "12  Association_football_midfielders   \n",
       "11  Association_football_midfielders   \n",
       "19  Association_football_midfielders   \n",
       "8   Association_football_midfielders   \n",
       "7   Association_football_midfielders   \n",
       "6   Association_football_midfielders   \n",
       "3   Association_football_midfielders   \n",
       "18  Association_football_midfielders   \n",
       "10  Association_football_midfielders   \n",
       "1   Association_football_midfielders   \n",
       "16  Association_football_midfielders   \n",
       "5   Association_football_midfielders   \n",
       "4   Association_football_midfielders   \n",
       "2   Association_football_midfielders   \n",
       "\n",
       "                                                   Ci  Dist  \n",
       "0                                        Debut_albums   inf  \n",
       "9                               Year_of_death_missing   inf  \n",
       "17                                       Indian_films   inf  \n",
       "15                                English_footballers   inf  \n",
       "14                        The_Football_League_players   inf  \n",
       "13                      Association_football_forwards   inf  \n",
       "12                     Association_football_defenders   inf  \n",
       "11                              Year_of_birth_missing   inf  \n",
       "19                     Major_League_Baseball_pitchers   inf  \n",
       "8                          Asteroids_named_for_people   inf  \n",
       "7                                 Main_Belt_asteroids   inf  \n",
       "6                           Harvard_University_alumni   inf  \n",
       "3              Place_of_birth_missing_(living_people)   inf  \n",
       "18                                  Rivers_of_Romania  13.0  \n",
       "10                              Black-and-white_films  11.0  \n",
       "1                              English-language_films  10.0  \n",
       "16  Members_of_the_United_Kingdom_Parliament_for_E...  10.0  \n",
       "5                          American_television_actors   9.0  \n",
       "4                                American_film_actors   9.0  \n",
       "2                                      American_films   9.0  "
      ]
     },
     "execution_count": 29,
     "metadata": {},
     "output_type": "execute_result"
    }
   ],
   "source": [
    "G.distances_from_category(C)"
   ]
  },
  {
   "cell_type": "code",
   "execution_count": 30,
   "metadata": {},
   "outputs": [
    {
     "name": "stderr",
     "output_type": "stream",
     "text": [
      "100%|██████████████████████████████████████████████████████████████████████████████| 2763/2763 [06:19<00:00,  7.27it/s]\n"
     ]
    },
    {
     "data": {
      "text/html": [
       "<div>\n",
       "<style scoped>\n",
       "    .dataframe tbody tr th:only-of-type {\n",
       "        vertical-align: middle;\n",
       "    }\n",
       "\n",
       "    .dataframe tbody tr th {\n",
       "        vertical-align: top;\n",
       "    }\n",
       "\n",
       "    .dataframe thead th {\n",
       "        text-align: right;\n",
       "    }\n",
       "</style>\n",
       "<table border=\"1\" class=\"dataframe\">\n",
       "  <thead>\n",
       "    <tr style=\"text-align: right;\">\n",
       "      <th></th>\n",
       "      <th>C0</th>\n",
       "      <th>Ci</th>\n",
       "      <th>Dist</th>\n",
       "    </tr>\n",
       "  </thead>\n",
       "  <tbody>\n",
       "    <tr>\n",
       "      <th>18</th>\n",
       "      <td>Association_football_midfielders</td>\n",
       "      <td>Rivers_of_Romania</td>\n",
       "      <td>10.0</td>\n",
       "    </tr>\n",
       "    <tr>\n",
       "      <th>17</th>\n",
       "      <td>Association_football_midfielders</td>\n",
       "      <td>Indian_films</td>\n",
       "      <td>10.0</td>\n",
       "    </tr>\n",
       "    <tr>\n",
       "      <th>7</th>\n",
       "      <td>Association_football_midfielders</td>\n",
       "      <td>Main_Belt_asteroids</td>\n",
       "      <td>10.0</td>\n",
       "    </tr>\n",
       "    <tr>\n",
       "      <th>19</th>\n",
       "      <td>Association_football_midfielders</td>\n",
       "      <td>Major_League_Baseball_pitchers</td>\n",
       "      <td>9.0</td>\n",
       "    </tr>\n",
       "    <tr>\n",
       "      <th>8</th>\n",
       "      <td>Association_football_midfielders</td>\n",
       "      <td>Asteroids_named_for_people</td>\n",
       "      <td>9.0</td>\n",
       "    </tr>\n",
       "    <tr>\n",
       "      <th>16</th>\n",
       "      <td>Association_football_midfielders</td>\n",
       "      <td>Members_of_the_United_Kingdom_Parliament_for_E...</td>\n",
       "      <td>8.0</td>\n",
       "    </tr>\n",
       "    <tr>\n",
       "      <th>11</th>\n",
       "      <td>Association_football_midfielders</td>\n",
       "      <td>Year_of_birth_missing</td>\n",
       "      <td>8.0</td>\n",
       "    </tr>\n",
       "    <tr>\n",
       "      <th>9</th>\n",
       "      <td>Association_football_midfielders</td>\n",
       "      <td>Year_of_death_missing</td>\n",
       "      <td>8.0</td>\n",
       "    </tr>\n",
       "    <tr>\n",
       "      <th>0</th>\n",
       "      <td>Association_football_midfielders</td>\n",
       "      <td>Debut_albums</td>\n",
       "      <td>8.0</td>\n",
       "    </tr>\n",
       "    <tr>\n",
       "      <th>6</th>\n",
       "      <td>Association_football_midfielders</td>\n",
       "      <td>Harvard_University_alumni</td>\n",
       "      <td>8.0</td>\n",
       "    </tr>\n",
       "    <tr>\n",
       "      <th>3</th>\n",
       "      <td>Association_football_midfielders</td>\n",
       "      <td>Place_of_birth_missing_(living_people)</td>\n",
       "      <td>8.0</td>\n",
       "    </tr>\n",
       "    <tr>\n",
       "      <th>10</th>\n",
       "      <td>Association_football_midfielders</td>\n",
       "      <td>Black-and-white_films</td>\n",
       "      <td>8.0</td>\n",
       "    </tr>\n",
       "    <tr>\n",
       "      <th>1</th>\n",
       "      <td>Association_football_midfielders</td>\n",
       "      <td>English-language_films</td>\n",
       "      <td>7.0</td>\n",
       "    </tr>\n",
       "    <tr>\n",
       "      <th>5</th>\n",
       "      <td>Association_football_midfielders</td>\n",
       "      <td>American_television_actors</td>\n",
       "      <td>7.0</td>\n",
       "    </tr>\n",
       "    <tr>\n",
       "      <th>4</th>\n",
       "      <td>Association_football_midfielders</td>\n",
       "      <td>American_film_actors</td>\n",
       "      <td>7.0</td>\n",
       "    </tr>\n",
       "    <tr>\n",
       "      <th>2</th>\n",
       "      <td>Association_football_midfielders</td>\n",
       "      <td>American_films</td>\n",
       "      <td>7.0</td>\n",
       "    </tr>\n",
       "    <tr>\n",
       "      <th>12</th>\n",
       "      <td>Association_football_midfielders</td>\n",
       "      <td>Association_football_defenders</td>\n",
       "      <td>6.0</td>\n",
       "    </tr>\n",
       "    <tr>\n",
       "      <th>13</th>\n",
       "      <td>Association_football_midfielders</td>\n",
       "      <td>Association_football_forwards</td>\n",
       "      <td>6.0</td>\n",
       "    </tr>\n",
       "    <tr>\n",
       "      <th>14</th>\n",
       "      <td>Association_football_midfielders</td>\n",
       "      <td>The_Football_League_players</td>\n",
       "      <td>6.0</td>\n",
       "    </tr>\n",
       "    <tr>\n",
       "      <th>15</th>\n",
       "      <td>Association_football_midfielders</td>\n",
       "      <td>English_footballers</td>\n",
       "      <td>6.0</td>\n",
       "    </tr>\n",
       "  </tbody>\n",
       "</table>\n",
       "</div>"
      ],
      "text/plain": [
       "                                  C0  \\\n",
       "18  Association_football_midfielders   \n",
       "17  Association_football_midfielders   \n",
       "7   Association_football_midfielders   \n",
       "19  Association_football_midfielders   \n",
       "8   Association_football_midfielders   \n",
       "16  Association_football_midfielders   \n",
       "11  Association_football_midfielders   \n",
       "9   Association_football_midfielders   \n",
       "0   Association_football_midfielders   \n",
       "6   Association_football_midfielders   \n",
       "3   Association_football_midfielders   \n",
       "10  Association_football_midfielders   \n",
       "1   Association_football_midfielders   \n",
       "5   Association_football_midfielders   \n",
       "4   Association_football_midfielders   \n",
       "2   Association_football_midfielders   \n",
       "12  Association_football_midfielders   \n",
       "13  Association_football_midfielders   \n",
       "14  Association_football_midfielders   \n",
       "15  Association_football_midfielders   \n",
       "\n",
       "                                                   Ci  Dist  \n",
       "18                                  Rivers_of_Romania  10.0  \n",
       "17                                       Indian_films  10.0  \n",
       "7                                 Main_Belt_asteroids  10.0  \n",
       "19                     Major_League_Baseball_pitchers   9.0  \n",
       "8                          Asteroids_named_for_people   9.0  \n",
       "16  Members_of_the_United_Kingdom_Parliament_for_E...   8.0  \n",
       "11                              Year_of_birth_missing   8.0  \n",
       "9                               Year_of_death_missing   8.0  \n",
       "0                                        Debut_albums   8.0  \n",
       "6                           Harvard_University_alumni   8.0  \n",
       "3              Place_of_birth_missing_(living_people)   8.0  \n",
       "10                              Black-and-white_films   8.0  \n",
       "1                              English-language_films   7.0  \n",
       "5                          American_television_actors   7.0  \n",
       "4                                American_film_actors   7.0  \n",
       "2                                      American_films   7.0  \n",
       "12                     Association_football_defenders   6.0  \n",
       "13                      Association_football_forwards   6.0  \n",
       "14                        The_Football_League_players   6.0  \n",
       "15                                English_footballers   6.0  "
      ]
     },
     "execution_count": 30,
     "metadata": {},
     "output_type": "execute_result"
    }
   ],
   "source": [
    "G.distances_from_category(C, condider_inf_distance=False)"
   ]
  },
  {
   "cell_type": "markdown",
   "metadata": {},
   "source": [
    "## Question 6"
   ]
  },
  {
   "cell_type": "markdown",
   "metadata": {},
   "source": [
    "## PageRank algorithm\n",
    "The PageRank algorithm outputs a probability distribution used to represent the likelihood that a person randomly clicking on links will arrive at any particular page. Hence, a category with a PageRank of 0.5 means there is a 50% chance that a person clicking on a random link will be directed to a node of that category.\n",
    "\n",
    "Here we use the model of **random surfer**, the model attempts to predict the chance that a random internet surfer will arrive at a page by either clicking a link or by accessing the site directly, for example by directly entering the website's URL in the address bar.\n",
    "\n",
    "The probability, at any step, that the person follows the links in the page is a damping factor $d$ ,consequently the probability to move to a random page searching it in the adress bar is $1-d$.\n",
    "\n",
    "The **random surfer model**  can be understood as a Markov chain in which the states are pages, and the transitions are the links between pages – all of which are all equally probable.\n",
    "\n",
    "Here we can see that doesn't matter where the **surfer** starts because after a large number of steps it converge to the same distibution of page probability."
   ]
  },
  {
   "cell_type": "code",
   "execution_count": 31,
   "metadata": {},
   "outputs": [],
   "source": [
    "def pagerank(M, num_iterations: int = 100, d: float = 0.85):\n",
    "    \"\"\"\n",
    "    Parameters\n",
    "    ----------\n",
    "    M : numpy array\n",
    "        adjacency matrix where M_i,j represents the link from 'j' to 'i', such that for all 'j'\n",
    "        sum(i, M_i,j) = 1\n",
    "    num_iterations : int, optional\n",
    "        number of iterations, by default 100\n",
    "    d : float, optional\n",
    "        damping factor, by default 0.85\n",
    "\n",
    "    Returns\n",
    "    -------\n",
    "    numpy array\n",
    "        a vector of ranks such that v_i is the i-th rank from [0, 1],\n",
    "        v sums to 1\n",
    "\n",
    "    \"\"\"\n",
    "    N = M.shape[1]\n",
    "    \n",
    "    v = np.random.rand(1, N)\n",
    "    v = v / np.sum(v)\n",
    "    M_hat = (d * M + (1 - d) / N)\n",
    "    for i in range(num_iterations):\n",
    "        v = v @ M_hat\n",
    "    return v"
   ]
  },
  {
   "cell_type": "code",
   "execution_count": 32,
   "metadata": {
    "scrolled": false
   },
   "outputs": [
    {
     "data": {
      "text/html": [
       "<div>\n",
       "<style scoped>\n",
       "    .dataframe tbody tr th:only-of-type {\n",
       "        vertical-align: middle;\n",
       "    }\n",
       "\n",
       "    .dataframe tbody tr th {\n",
       "        vertical-align: top;\n",
       "    }\n",
       "\n",
       "    .dataframe thead th {\n",
       "        text-align: right;\n",
       "    }\n",
       "</style>\n",
       "<table border=\"1\" class=\"dataframe\">\n",
       "  <thead>\n",
       "    <tr style=\"text-align: right;\">\n",
       "      <th></th>\n",
       "      <th>Category</th>\n",
       "      <th>PageRank</th>\n",
       "    </tr>\n",
       "  </thead>\n",
       "  <tbody>\n",
       "    <tr>\n",
       "      <th>4</th>\n",
       "      <td>American_film_actors</td>\n",
       "      <td>0.144084</td>\n",
       "    </tr>\n",
       "    <tr>\n",
       "      <th>1</th>\n",
       "      <td>English-language_films</td>\n",
       "      <td>0.097170</td>\n",
       "    </tr>\n",
       "    <tr>\n",
       "      <th>7</th>\n",
       "      <td>Main_Belt_asteroids</td>\n",
       "      <td>0.083602</td>\n",
       "    </tr>\n",
       "    <tr>\n",
       "      <th>5</th>\n",
       "      <td>American_television_actors</td>\n",
       "      <td>0.074745</td>\n",
       "    </tr>\n",
       "    <tr>\n",
       "      <th>15</th>\n",
       "      <td>The_Football_League_players</td>\n",
       "      <td>0.067799</td>\n",
       "    </tr>\n",
       "    <tr>\n",
       "      <th>16</th>\n",
       "      <td>English_footballers</td>\n",
       "      <td>0.066966</td>\n",
       "    </tr>\n",
       "    <tr>\n",
       "      <th>17</th>\n",
       "      <td>Members_of_the_United_Kingdom_Parliament_for_E...</td>\n",
       "      <td>0.060846</td>\n",
       "    </tr>\n",
       "    <tr>\n",
       "      <th>2</th>\n",
       "      <td>American_films</td>\n",
       "      <td>0.056356</td>\n",
       "    </tr>\n",
       "    <tr>\n",
       "      <th>19</th>\n",
       "      <td>Rivers_of_Romania</td>\n",
       "      <td>0.048080</td>\n",
       "    </tr>\n",
       "    <tr>\n",
       "      <th>20</th>\n",
       "      <td>Major_League_Baseball_pitchers</td>\n",
       "      <td>0.045978</td>\n",
       "    </tr>\n",
       "    <tr>\n",
       "      <th>14</th>\n",
       "      <td>Association_football_forwards</td>\n",
       "      <td>0.042617</td>\n",
       "    </tr>\n",
       "    <tr>\n",
       "      <th>10</th>\n",
       "      <td>Association_football_midfielders</td>\n",
       "      <td>0.036121</td>\n",
       "    </tr>\n",
       "    <tr>\n",
       "      <th>11</th>\n",
       "      <td>Black-and-white_films</td>\n",
       "      <td>0.031971</td>\n",
       "    </tr>\n",
       "    <tr>\n",
       "      <th>13</th>\n",
       "      <td>Association_football_defenders</td>\n",
       "      <td>0.027186</td>\n",
       "    </tr>\n",
       "    <tr>\n",
       "      <th>6</th>\n",
       "      <td>Harvard_University_alumni</td>\n",
       "      <td>0.025679</td>\n",
       "    </tr>\n",
       "    <tr>\n",
       "      <th>18</th>\n",
       "      <td>Indian_films</td>\n",
       "      <td>0.023355</td>\n",
       "    </tr>\n",
       "    <tr>\n",
       "      <th>9</th>\n",
       "      <td>Year_of_death_missing</td>\n",
       "      <td>0.016979</td>\n",
       "    </tr>\n",
       "    <tr>\n",
       "      <th>12</th>\n",
       "      <td>Year_of_birth_missing</td>\n",
       "      <td>0.016642</td>\n",
       "    </tr>\n",
       "    <tr>\n",
       "      <th>3</th>\n",
       "      <td>Place_of_birth_missing_(living_people)</td>\n",
       "      <td>0.015801</td>\n",
       "    </tr>\n",
       "    <tr>\n",
       "      <th>0</th>\n",
       "      <td>Debut_albums</td>\n",
       "      <td>0.010110</td>\n",
       "    </tr>\n",
       "    <tr>\n",
       "      <th>8</th>\n",
       "      <td>Asteroids_named_for_people</td>\n",
       "      <td>0.007914</td>\n",
       "    </tr>\n",
       "  </tbody>\n",
       "</table>\n",
       "</div>"
      ],
      "text/plain": [
       "                                             Category  PageRank\n",
       "4                                American_film_actors  0.144084\n",
       "1                              English-language_films  0.097170\n",
       "7                                 Main_Belt_asteroids  0.083602\n",
       "5                          American_television_actors  0.074745\n",
       "15                        The_Football_League_players  0.067799\n",
       "16                                English_footballers  0.066966\n",
       "17  Members_of_the_United_Kingdom_Parliament_for_E...  0.060846\n",
       "2                                      American_films  0.056356\n",
       "19                                  Rivers_of_Romania  0.048080\n",
       "20                     Major_League_Baseball_pitchers  0.045978\n",
       "14                      Association_football_forwards  0.042617\n",
       "10                   Association_football_midfielders  0.036121\n",
       "11                              Black-and-white_films  0.031971\n",
       "13                     Association_football_defenders  0.027186\n",
       "6                           Harvard_University_alumni  0.025679\n",
       "18                                       Indian_films  0.023355\n",
       "9                               Year_of_death_missing  0.016979\n",
       "12                              Year_of_birth_missing  0.016642\n",
       "3              Place_of_birth_missing_(living_people)  0.015801\n",
       "0                                        Debut_albums  0.010110\n",
       "8                          Asteroids_named_for_people  0.007914"
      ]
     },
     "execution_count": 32,
     "metadata": {},
     "output_type": "execute_result"
    }
   ],
   "source": [
    "G.category_rank()"
   ]
  },
  {
   "cell_type": "markdown",
   "metadata": {},
   "source": [
    "# EXTRA"
   ]
  },
  {
   "cell_type": "markdown",
   "metadata": {},
   "source": [
    "We decided to implement some of the exercises also by using the **NetworkX** library, in order to perform the homework more completely."
   ]
  },
  {
   "cell_type": "markdown",
   "metadata": {},
   "source": [
    "#### Initialization"
   ]
  },
  {
   "cell_type": "markdown",
   "metadata": {},
   "source": [
    "Import libraries:"
   ]
  },
  {
   "cell_type": "code",
   "execution_count": 1,
   "metadata": {},
   "outputs": [],
   "source": [
    "import pandas as pd\n",
    "import networkx as nx\n",
    "import matplotlib.pyplot as plt\n",
    "import re"
   ]
  },
  {
   "cell_type": "markdown",
   "metadata": {},
   "source": [
    "Import the data 'wikigraph_reduced.csv':"
   ]
  },
  {
   "cell_type": "code",
   "execution_count": null,
   "metadata": {},
   "outputs": [],
   "source": [
    "path='' #insert your own path of the file 'wikigraph_reduced.csv'\n",
    "dataset=pd.read_csv(path, sep='\\t')\n",
    "dataset.rename(columns={'Unnamed: 0':'old_index'}, inplace=True)"
   ]
  },
  {
   "cell_type": "markdown",
   "metadata": {},
   "source": [
    "# RQ. 1"
   ]
  },
  {
   "cell_type": "markdown",
   "metadata": {},
   "source": [
    "### Creation of the graph $G=(V, E)$, where $V$ is the set of articles and $E$ the hyperlinks among them"
   ]
  },
  {
   "cell_type": "code",
   "execution_count": null,
   "metadata": {},
   "outputs": [],
   "source": [
    "G = nx.DiGraph()\n",
    "for i in range(0, len(dataset)):\n",
    "    G.add_node(dataset.iloc[i][1])\n",
    "    G.add_node(dataset.iloc[i][2])\n",
    "    G.add_edge(dataset.iloc[i][1],dataset.iloc[i][2])"
   ]
  },
  {
   "cell_type": "markdown",
   "metadata": {},
   "source": [
    "### Is the graph directed?"
   ]
  },
  {
   "cell_type": "markdown",
   "metadata": {},
   "source": [
    "Yes! We are working on a directed graph $G=(V,E)$, because our nodes $V$ (***articles***) are connected together by edges $E$ (***hyperlinks***) directed from one vertex to another."
   ]
  },
  {
   "cell_type": "markdown",
   "metadata": {},
   "source": [
    "### How many articles are we considering?"
   ]
  },
  {
   "cell_type": "markdown",
   "metadata": {},
   "source": [
    "Since each node corresponds to an article, we can count the number of articles just counting the number of nodes of our Graph $G$:"
   ]
  },
  {
   "cell_type": "code",
   "execution_count": 66,
   "metadata": {},
   "outputs": [
    {
     "data": {
      "text/plain": [
       "98343"
      ]
     },
     "execution_count": 66,
     "metadata": {},
     "output_type": "execute_result"
    }
   ],
   "source": [
    "num_V=G.number_of_nodes()\n",
    "num_V"
   ]
  },
  {
   "cell_type": "markdown",
   "metadata": {},
   "source": [
    "So we're considering **98343** articles."
   ]
  },
  {
   "cell_type": "markdown",
   "metadata": {},
   "source": [
    "### How many hyperlinks between pages exist?"
   ]
  },
  {
   "cell_type": "markdown",
   "metadata": {},
   "source": [
    "Since each edge corresponds to an hyperlink between 2 articles, we can count the number of hyperlinks just counting the number of edges of our Graph  $G$ :"
   ]
  },
  {
   "cell_type": "code",
   "execution_count": 64,
   "metadata": {},
   "outputs": [
    {
     "data": {
      "text/plain": [
       "483094"
      ]
     },
     "execution_count": 64,
     "metadata": {},
     "output_type": "execute_result"
    }
   ],
   "source": [
    "num_E=G.number_of_edges()\n",
    "num_E"
   ]
  },
  {
   "cell_type": "markdown",
   "metadata": {},
   "source": [
    "So there are **483094** hyperlinks."
   ]
  },
  {
   "cell_type": "markdown",
   "metadata": {},
   "source": [
    "### Average number of links in an arbitrary page"
   ]
  },
  {
   "cell_type": "markdown",
   "metadata": {},
   "source": [
    "The average degree of our directed graph is: $(k^{in})=(k^{out})=\\frac{1}{N} \\sum_{i=1}^{N}k_{i}^{in}=\\frac{1}{N} \\sum_{i=1}^{N}k_{i}^{out}=\\frac{totalnumberofhyperlinks}{totalnumberofarticles} $"
   ]
  },
  {
   "cell_type": "code",
   "execution_count": 96,
   "metadata": {},
   "outputs": [
    {
     "data": {
      "text/plain": [
       "4.912337431235573"
      ]
     },
     "execution_count": 96,
     "metadata": {},
     "output_type": "execute_result"
    }
   ],
   "source": [
    "avg_deg=num_E/num_V\n",
    "avg_deg"
   ]
  },
  {
   "cell_type": "markdown",
   "metadata": {},
   "source": [
    "In fact:"
   ]
  },
  {
   "cell_type": "code",
   "execution_count": 97,
   "metadata": {},
   "outputs": [
    {
     "name": "stdout",
     "output_type": "stream",
     "text": [
      "The total IN-degree of the graph is:  483094\n",
      "The total OUT-degree of the graph is:  483094\n"
     ]
    }
   ],
   "source": [
    "tot_in_deg=0\n",
    "for i in list(G.nodes()):\n",
    "    tot_in_deg+=G.in_degree(i)\n",
    "    \n",
    "tot_out_deg=0\n",
    "for i in list(G.nodes()):\n",
    "    tot_out_deg+=G.out_degree(i)\n",
    "    \n",
    "print('The total IN-degree of the graph is: ', tot_in_deg)\n",
    "print('The total OUT-degree of the graph is: ', tot_out_deg)"
   ]
  },
  {
   "cell_type": "markdown",
   "metadata": {},
   "source": [
    "### Density of our Graph"
   ]
  },
  {
   "cell_type": "markdown",
   "metadata": {},
   "source": [
    "The density of the graph $G$ measures how many hyperlinks are in set $E$ compared to the maximum possible number of hyperlinks between articles in set $V$"
   ]
  },
  {
   "cell_type": "markdown",
   "metadata": {},
   "source": [
    "The density of our directed graph is: $D= \\frac{|E|}{2\\binom{|V|}{2}} = \\frac{|E|}{|V|(|V|-1)} $"
   ]
  },
  {
   "cell_type": "code",
   "execution_count": 68,
   "metadata": {},
   "outputs": [
    {
     "data": {
      "text/plain": [
       "4.9951571365597335e-05"
      ]
     },
     "execution_count": 68,
     "metadata": {},
     "output_type": "execute_result"
    }
   ],
   "source": [
    "density=num_E/(num_V*(num_V-1))\n",
    "density"
   ]
  },
  {
   "cell_type": "markdown",
   "metadata": {},
   "source": [
    "### Check if our graph is Dense or Sparse"
   ]
  },
  {
   "cell_type": "markdown",
   "metadata": {},
   "source": [
    "To see if our graph is sparse or dense, we consider that the density of a sparse graph is in lower range of the density’s codomain ($ 0 \\leqslant  density < \\frac {1} {2}$); the density of a dense graph is in the higher range of its codomain ($ \\frac {1} {2} < density \\leqslant  1$), so:"
   ]
  },
  {
   "cell_type": "code",
   "execution_count": 76,
   "metadata": {},
   "outputs": [
    {
     "name": "stdout",
     "output_type": "stream",
     "text": [
      "Our graph is SPARSE\n"
     ]
    }
   ],
   "source": [
    "if density>=0 and density<(0.5):\n",
    "    print('Our graph is SPARSE')\n",
    "else:\n",
    "    print('Our graph is DENSE')"
   ]
  },
  {
   "cell_type": "markdown",
   "metadata": {},
   "source": [
    "So it means that our dense graph the number of edges is NOT close to the maximal number of edges, in fact:"
   ]
  },
  {
   "cell_type": "code",
   "execution_count": 77,
   "metadata": {},
   "outputs": [
    {
     "data": {
      "text/plain": [
       "9671247306"
      ]
     },
     "execution_count": 77,
     "metadata": {},
     "output_type": "execute_result"
    }
   ],
   "source": [
    "max_n_edges=num_V*(num_V-1)\n",
    "max_n_edges"
   ]
  },
  {
   "cell_type": "markdown",
   "metadata": {},
   "source": [
    "The maximum number of edges is 9671247306, but we've only 483094 edges, far from the maximum."
   ]
  },
  {
   "cell_type": "markdown",
   "metadata": {},
   "source": [
    "### Nodes' degree distribution"
   ]
  },
  {
   "cell_type": "code",
   "execution_count": 14,
   "metadata": {},
   "outputs": [],
   "source": [
    "def in_degree_distribution(G):\n",
    "    in_degree = dict(G.in_degree())\n",
    "    degrees=[in_degree.get(k,0) for k in G.nodes()]\n",
    "    max_deg=max(degrees)+1\n",
    "    frequency= [ 0 for d in range(max_deg) ]\n",
    "    for deg in degrees:\n",
    "        frequency[deg] += 1\n",
    "    return frequency\n",
    "\n",
    "def out_degree_distribution(G):\n",
    "    out_degree = dict(G.out_degree())\n",
    "    degrees=[out_degree.get(k,0) for k in G.nodes()]\n",
    "    max_deg=max(degrees)+1\n",
    "    frequency= [ 0 for d in range(max_deg) ]\n",
    "    for deg in degrees:\n",
    "        frequency[deg] += 1\n",
    "    return frequency\n",
    "    "
   ]
  },
  {
   "cell_type": "code",
   "execution_count": 35,
   "metadata": {
    "scrolled": true
   },
   "outputs": [
    {
     "data": {
      "text/plain": [
       "Text(0, 0.5, 'Frequency')"
      ]
     },
     "execution_count": 35,
     "metadata": {},
     "output_type": "execute_result"
    },
    {
     "data": {
      "image/png": "[encoded data removed]",
      "text/plain": [
       "<Figure size 864x576 with 1 Axes>"
      ]
     },
     "metadata": {
      "needs_background": "light"
     },
     "output_type": "display_data"
    }
   ],
   "source": [
    "in_degrees = in_degree_distribution(G)\n",
    "out_degrees = out_degree_distribution(G)\n",
    "degrees = range(len(out_degrees))\n",
    "plt.figure(figsize=(12, 8)) \n",
    "plt.loglog(range(len(in_degrees)), in_degrees, 'ro-', label='in-degree') \n",
    "plt.loglog(range(len(out_degrees)), out_degrees, 'bo-', label='out-degree')\n",
    "plt.legend(loc=\"upper right\",fontsize='large')\n",
    "plt.title('IN-degree and OUT-degree Distributions', fontsize='xx-large')\n",
    "plt.xlabel('Degree')\n",
    "plt.ylabel('Frequency')"
   ]
  },
  {
   "cell_type": "markdown",
   "metadata": {},
   "source": [
    "# RQ.2"
   ]
  },
  {
   "cell_type": "markdown",
   "metadata": {},
   "source": [
    "Our function is called **all_possible_nodes(**graph, source, k**)**; it will return the set of all pages that a user can reach within ***k*** clicks:"
   ]
  },
  {
   "cell_type": "code",
   "execution_count": null,
   "metadata": {},
   "outputs": [],
   "source": [
    "def all_possible_nodes(graph, source, k):\n",
    "    \n",
    "    def find_all_paths(graph, start, k,i=0, path=[], node_exists=True):\n",
    "        if node_exists:\n",
    "            path = path + [start]\n",
    "            if k==0 or i>=k:\n",
    "                return [path]\n",
    "            paths = []\n",
    "            for node in graph[start]:\n",
    "                if node not in path:\n",
    "                    newpaths = find_all_paths(graph, node, k,i+1, path)\n",
    "                    for newpath in newpaths:\n",
    "                        paths.append(newpath)\n",
    "            return paths\n",
    "        else:\n",
    "            return \"This source node does not exist in the graph\"\n",
    "    \n",
    "    if any([node for node in G.nodes() if node== source]):\n",
    "    \n",
    "        poss=set()\n",
    "        for path in find_all_paths(graph, source, k):\n",
    "            for elem in path:\n",
    "                poss.add(elem)\n",
    "        return poss\n",
    "    else:\n",
    "        return find_all_paths(graph, source, k, node_exists=False)"
   ]
  },
  {
   "cell_type": "markdown",
   "metadata": {},
   "source": [
    "Now let's try our function, for example searching all possible nodes that we can reach from node ***108*** within ***1*** click:"
   ]
  },
  {
   "cell_type": "code",
   "execution_count": 143,
   "metadata": {},
   "outputs": [
    {
     "data": {
      "text/plain": [
       "{108, 1059989, 1062426, 1161925}"
      ]
     },
     "execution_count": 143,
     "metadata": {},
     "output_type": "execute_result"
    }
   ],
   "source": [
    "all_possible_nodes(G,108, 1)"
   ]
  },
  {
   "cell_type": "markdown",
   "metadata": {},
   "source": [
    "Now  let's try starting from node ***108*** within ***2*** clicks:"
   ]
  },
  {
   "cell_type": "code",
   "execution_count": 13,
   "metadata": {
    "scrolled": true
   },
   "outputs": [
    {
     "data": {
      "text/plain": [
       "array({1664010, 689163, 1060238, 1015568, 1066131, 1059988, 1059989, 1060884, 1062426, 1163419, 1763995, 1056157, 1062557, 1032867, 147492, 1032868, 41891, 418476, 1164977, 1059505, 137144, 1162809, 1054394, 1165884, 688704, 1068100, 1161925, 1059782, 1632839, 628169, 1055563, 155981, 1132626, 422996, 635998, 688741, 1141095, 1015403, 108, 1061228, 1166447, 1054071},\n",
       "      dtype=object)"
      ]
     },
     "execution_count": 13,
     "metadata": {},
     "output_type": "execute_result"
    }
   ],
   "source": [
    "np.array(all_possible_nodes(G,108, 2))"
   ]
  },
  {
   "cell_type": "markdown",
   "metadata": {},
   "source": [
    "Another example: return all possible nodes that we can reach from node ***1032868*** within ***5*** clicks:"
   ]
  },
  {
   "cell_type": "code",
   "execution_count": 14,
   "metadata": {
    "scrolled": true
   },
   "outputs": [
    {
     "data": {
      "text/plain": [
       "array({655377, 655392, 1048636, 1048637, 1048638, 1048648, 1048654, 1048658, 1179733, 655451, 655453, 1048674, 1048686, 655471, 1048700, 1048703, 134, 1179783, 1048710, 1048713, 1179786, 1048715, 393356, 1048720, 393360, 1048722, 1048723, 1048721, 393366, 393367, 393368, 153, 393370, 1048731, 393372, 393371, 1048735, 1048736, 1048741, 1048745, 1048749, 174, 173, 1048777, 1179850, 1048787, 1048792, 1048795, 1179870, 1048801, 1179875, 1048806, 1048810, 1179883, 1048811, 1048812, 1048816, 1048817, 1048819, 1048820, 1048821, 1048822, 393466, 1048829, 1048830, 1048831, 1048835, 1048836, 1048839, 1048840, 1048844, 1048846, 1179919, 1048850, 1179925, 1048854, 1048855, 1048856, 1048857, 1048864, 1048866, 1048868, 1179950, 1048880, 1048881, 1048883, 1048884, 1048885, 1048886, 573196, 1048888, 1048890, 573197, 1048895, 1048897, 1048900, 1048902, 1048905, 1048906, 1048907, 1048909, 1048910, 1048912, 1048914, 1179987, 1048916, 1048917, 1048918, 1048919, 1048920, 1048922, 1048923, 1048929, 1048932, 1048934, 1048936, 1048942, 1048943, 1048948, 1048952, 1048953, 1048955, 1048956, 1048961, 1048962, 1048968, 1048970, 1048974, 1048979, 1048981, 1048983, 1048984, 1048986, 1048989, 1048991, 1049002, 1049027, 1049028, 1049038, 1704400, 1180112, 1049045, 1049048, 1049052, 1049069, 1049076, 1049097, 655897, 1049120, 1049126, 1049133, 1049156, 1049161, 1049163, 1049166, 655965, 1573473, 655970, 1049196, 1049202, 1049218, 1049219, 1049232, 1049238, 656027, 1049244, 656028, 656029, 1049249, 656039, 656040, 1573555, 524985, 524998, 656076, 656077, 525006, 1442515, 525012, 525015, 656088, 656092, 656093, 1049313, 1704678, 1049330, 1049332, 1049333, 1049334, 1442551, 1049336, 1049337, 1049340, 1049341, 1049342, 1049343, 1049344, 1049346, 1049349, 1049352, 1049355, 1049356, 1049357, 1049358, 1049361, 1049362, 1049363, 1049364, 1049365, 1049366, 1049368, 1180441, 1049373, 1049375, 1049376, 1049378, 1049381, 1049382, 1049384, 1049385, 1049386, 1049387, 1049388, 1049389, 1049391, 1049392, 1049393, 1049395, 1049396, 1049397, 1049398, 1049399, 1049400, 1049402, 1049403, 1049404, 1442621, 1049406, 1442622, 1049408, 1049409, 1049411, 1049412, 1049414, 1049415, 1049416, 1049417, 1049418, 1049419, 1049420, 1049422, 1049423, 1049424, 1049425, 1049429, 1049431, 1049432, 1049433, 1049434, 1049435, 1049436, 1049438, 1049442, 1049443, 1049444, 1049445, 1049447, 1049448, 1049451, 1573740, 1049453, 1049454, 1049452, 1573745, 1049457, 1049459, 1442675, 1442676, 1049460, 1049464, 1049467, 1049469, 1049470, 1049471, 1049472, 1573761, 1573762, 1049475, 1049476, 1049478, 1049479, 1049480, 1049483, 1049484, 1049485, 1049487, 1049488, 1049489, 1049491, 1049492, 1049493, 1049494, 1049495, 1049496, 1180569, 1049498, 1049499, 1049500, 1049501, 1049502, 1049504, 1049505, 1049506, 1049509, 1049510, 1049512, 1049513, 938, 1049515, 1049516, 1049519, 1049523, 1049525, 1049526, 1573818, 1049556, 1049558, 1049559, 1704920, 1049560, 1049563, 1049570, 1049571, 1049572, 1573858, 1049574, 1049576, 1049577, 1049578, 1049579, 1049580, 1049581, 1049582, 1049583, 1049584, 1573875, 1049591, 1049592, 1049593, 1049595, 1049596, 1049598, 1049599, 1049601, 1049602, 1049603, 1049606, 1049607, 1049608, 1049609, 1049612, 1049613, 1049615, 1049616, 1049618, 1049619, 1049624, 1049627, 1049628, 1049629, 132124, 1049631, 1049632, 1049633, 1049635, 132133, 1049638, 1049640, 1049641, 1049642, 1049643, 1049644, 1049645, 656434, 1087, 1049666, 1099, 1106, 1109, 1122, 1123, 1124, 1125, 1131, 1134, 1138, 1149, 1158, 394391, 1178, 1049794, 1267, 1049862, 1049864, 1049867, 1049875, 1049876, 1049881, 1049889, 1049894, 1049917, 1049930, 1181024, 1181054, 1181055, 1705342, 1181059, 1443203, 1181065, 656813, 656816, 1050040, 1181114, 1050043, 1181125, 1050060, 1181134, 263638, 1050078, 1443296, 1705444, 656871, 656872, 656882, 1443315, 1705460, 1050113, 1050117, 1050118, 1050124, 1050128, 1050130, 263699, 1050135, 1050143, 1050147, 1181228, 1443389, 1443393, 1443397, 1050185, 1443402, 1443406, 1443415, 1050208, 1443432, 1443433, 1050233, 1705597, 1443456, 1705623, 1443488, 1181346, 1443501, 1050294, 1050301, 1050302, 1443520, 1050306, 1443532, 1443547, 1443549, 1050333, 1705700, 1050340, 1181412, 1443588, 1050374, 1443591, 1050385, 1443615, 1443617, 1443618, 1443620, 1443621, 1443624, 1443625, 132906, 1443626, 1443627, 1050411, 1443631, 1443633, 1050418, 1443636, 1443637, 1443638, 1050421, 1443645, 1443646, 1443649, 1050434, 1050439, 1050443, 1050446, 395089, 1050450, 1050470, 1050475, 1443701, 1050486, 1050492, 132988, 1050495, 133009, 1050517, 1443735, 1050523, 1050526, 1050528, 1050530, 1050536, 1050537, 1050544, 1050545, 1050551, 1050565, 1050568, 1181652, 1050585, 1050592, 1050593, 1050599, 1050600, 1050601, 1050615, 1050616, 1050618, 1050620, 1050629, 1050650, 1050659, 1181733, 1050661, 1050668, 1050669, 1050673, 1050693, 1050694, 1050696, 1050698, 1050701, 1050705, 1050707, 1050711, 1050713, 1050714, 1050720, 1050724, 1050727, 1050729, 1050731, 1050737, 1050743, 1181827, 526467, 1050755, 1050760, 526474, 1050765, 1181838, 919699, 1050786, 2232, 1050813, 1050863, 1050872, 1050882, 1444102, 1050893, 1050896, 1444116, 1182023, 1182025, 1050964, 526688, 526696, 1050985, 657773, 657774, 1182063, 1444206, 1444216, 395651, 264583, 264584, 1182093, 657830, 657836, 657851, 657872, 1182204, 920070, 920071, 1051185, 1051205, 1182298, 1051229, 133729, 1051247, 658042, 1182378, 1051328, 1182488, 658202, 658204, 658221, 1051438, 1182518, 1051475, 1182547, 658262, 1182556, 1444708, 1444709, 658341, 1444774, 658352, 1182653, 134102, 134103, 789467, 134109, 1182686, 1444831, 134111, 134113, 134119, 1444860, 1182721, 789508, 920589, 1444880, 1707025, 658455, 527384, 527389, 527390, 658463, 1182753, 658469, 1182780, 1182784, 658497, 134221, 658511, 658514, 658516, 658518, 658519, 134238, 134239, 1051744, 134241, 658531, 134244, 134245, 134246, 134247, 134243, 134250, 134251, 134253, 134254, 134255, 134256, 134257, 1182830, 134259, 134260, 134262, 134266, 134271, 134273, 920709, 920710, 134279, 134280, 134281, 134282, 920715, 134287, 920727, 920728, 920729, 920730, 1182883, 134336, 134338, 134348, 789718, 134364, 1051878, 658666, 658669, 658678, 658679, 658680, 1707292, 527646, 527647, 527648, 1707304, 527709, 134494, 134493, 920945, 920965, 1183129, 1183161, 1707457, 1183170, 1707504, 658941, 658943, 1183236, 790092, 790097, 790099, 396928, 1183406, 1445581, 1052372, 134872, 1052414, 265990, 1183514, 1183515, 1183525, 528179, 1183539, 1052469, 1052506, 1052513, 135016, 921451, 135020, 135023, 135024, 135031, 135033, 135046, 135047, 135049, 135053, 659352, 1183645, 1052586, 1052606, 1052630, 528351, 135136, 1183711, 1183716, 1052648, 1183723, 1183746, 1052691, 1052696, 1183784, 1183791, 1445938, 1183803, 397380, 528457, 1445967, 528466, 1445994, 1445999, 135283, 397435, 135292, 135294, 1183885, 1183891, 1577108, 135332, 528550, 1052842, 1052856, 1052857, 1052864, 1183943, 1052873, 1052875, 1183948, 1052883, 135380, 1052886, 1183962, 1052892, 1183975, 1052911, 1052912, 659699, 1052919, 1052920, 1052923, 1184005, 1184008, 659721, 659720, 135436, 1184014, 1052942, 1052944, 1184017, 659730, 659731, 1052948, 1052949, 1184022, 1184024, 790809, 1184027, 659739, 790813, 1446174, 790814, 659744, 659741, 659746, 1184035, 659750, 1052967, 659752, 1184040, 659751, 1052968, 659757, 1052975, 1052977, 1052978, 1052982, 1052983, 1052984, 1184057, 659770, 1052986, 1052987, 1184059, 1184062, 659775, 1052992, 659777, 659774, 1052995, 659780, 1052997, 659782, 1184071, 1053000, 659783, 1053002, 1184075, 1053004, 1053003, 659790, 1053007, 659791, 528720, 1053010, 659794, 659796, 659799, 1053016, 1053017, 659802, 1053019, 659801, 1053020, 1053018, 659807, 1053021, 1053022, 659805, 659811, 1053031, 659816, 1053033, 659815, 1053037, 1053038, 1053039, 1053040, 1053041, 1184116, 1053045, 1577343, 1184132, 1446287, 922010, 1184163, 1184170, 528817, 1053129, 1053132, 1053133, 1184210, 1053139, 1053140, 1184215, 1184217, 528860, 1184223, 1184225, 135649, 1053157, 1053158, 135656, 659947, 1184236, 1053169, 1053184, 1053210, 1577504, 1577508, 1053223, 1053227, 1053231, 791104, 1053253, 1053257, 1053260, 1184334, 1053263, 135763, 1053271, 1577581, 1053301, 1053303, 1053309, 1184384, 1053315, 1184389, 1053320, 791180, 660111, 1053329, 1053330, 1184402, 1053332, 529044, 135838, 660128, 1053347, 660131, 1053354, 660138, 1053357, 1184431, 1053364, 1053365, 1053371, 1446588, 1184444, 1053374, 1184448, 1053377, 1577667, 1053379, 1577668, 1053389, 1577677, 1053406, 1184483, 1053412, 1053415, 1053417, 1053420, 1053421, 1053422, 1053424, 1053425, 1053427, 1053428, 1184501, 398067, 1053431, 1053432, 1053433, 1053435, 1577731, 1053449, 1053456, 1053471, 1577759, 1577762, 1053481, 1053488, 1053495, 1053496, 1053498, 1184572, 398149, 1053510, 1053512, 1053513, 1053515, 1053518, 922455, 1577816, 1577817, 1577818, 1577819, 1577820, 1577821, 1577822, 1053535, 1053536, 1184640, 791438, 1577880, 1053594, 1053596, 1053598, 1053599, 1053600, 1053605, 1053610, 1053612, 1053614, 1053616, 1053618, 1053619, 1053620, 1184695, 922552, 922551, 922554, 1184699, 529340, 1446849, 1446850, 529353, 1184726, 1053673, 1053686, 922619, 1053695, 1053699, 1053700, 1577989, 1184777, 1053707, 1053709, 136206, 922638, 1053711, 1053714, 1184787, 1184788, 529432, 791577, 1578009, 529435, 529436, 1053725, 1053728, 1053730, 1578024, 1053744, 1053745, 922674, 1578032, 1184826, 1184827, 1053757, 1053761, 1053762, 136259, 1053766, 1578055, 1053768, 1053770, 1053772, 1053773, 1053776, 1053779, 1053780, 1053781, 1053785, 1053790, 1184864, 1578081, 1053795, 1053796, 1053797, 1053798, 1053799, 136298, 1053803, 1053805, 1053808, 1053809, 1053813, 1053815, 136314, 1053824, 1053826, 1053828, 1053829, 1184901, 1184902, 1053833, 1053835, 1053836, 1053837, 1053838, 1053843, 1053844, 1053848, 1053849, 1053850, 1184920, 1053852, 1053855, 136366, 1578165, 1578166, 136375, 1053879, 1053882, 1053885, 1578177, 1053890, 1053891, 1053895, 1053896, 1053903, 136404, 1053914, 1053915, 136413, 1053917, 1053921, 136418, 791782, 1053928, 1053929, 136428, 1053938, 1053939, 1053940, 1053941, 1053943, 1053944, 1185017, 1447164, 1053949, 1053950, 1053952, 1053955, 1053956, 1053960, 1053961, 1053962, 1053964, 1053965, 1053966, 1053967, 1053968, 1053970, 1053971, 1053972, 1053973, 1053975, 1053976, 1053977, 1053978, 1053979, 1053980, 1053981, 1053982, 1185055, 1053984, 1053988, 1053989, 1053990, 1053991, 1053992, 1053994, 1053996, 1053997, 1185069, 1053998, 1185074, 1054003, 136500, 1054005, 1054002, 1054004, 922936, 1054007, 1054010, 1054009, 1185078, 1054014, 1054015, 1054017, 136514, 1054019, 1054018, 1054020, 1054022, 1054023, 1054024, 1054025, 1185098, 1054026, 1185100, 1054029, 1054030, 1054027, 1054032, 1054028, 1578322, 136530, 1054037, 1054038, 136535, 1054041, 1054042, 1054043, 1054044, 1054046, 1054050, 1054054, 398696, 1054057, 398698, 1054058, 1054060, 1578349, 1054063, 1054064, 1185137, 1054066, 1054067, 1054068, 1054065, 1054070, 1054071, 1054072, 1054073, 1054069, 1054075, 136567, 1054078, 1054079, 1054080, 1185158, 1054094, 136595, 136596, 923030, 1054104, 1578393, 136603, 136605, 136607, 1578402, 1054122, 1054123, 1054124, 1578413, 1054126, 1054129, 1316276, 1185209, 1185213, 1185218, 1054149, 1054157, 1054164, 1709534, 1447396, 1054200, 1709562, 1054203, 1185276, 1054208, 1054212, 1054213, 1054215, 1054216, 1054217, 1054218, 1054221, 1054223, 1054224, 1054225, 1054229, 1054231, 1054234, 1054237, 1054238, 1185314, 1054244, 1054245, 1054247, 1054252, 1054253, 1054254, 1054258, 1054259, 1054260, 1054261, 1054262, 1054264, 1054267, 1054271, 1054272, 1054273, 1054274, 1054275, 1054276, 1054277, 1054278, 1054281, 1054283, 1054284, 1054285, 1054286, 1054287, 1054288, 1185358, 1054290, 1054291, 1054292, 1054293, 1054295, 1054297, 1709660, 1709661, 1054302, 1709663, 1054304, 1054305, 1054307, 1054309, 1054310, 1054313, 1054314, 1054318, 1054320, 1054322, 1054323, 1054324, 1054326, 1054330, 1054334, 1054336, 1054339, 1185412, 1054342, 1054343, 1054346, 1054349, 1054352, 1054354, 1185428, 1709719, 1054359, 1054361, 1054362, 1054360, 1054364, 1054366, 1054367, 1054368, 1054369, 1054370, 1054371, 1054372, 1054374, 1054375, 1054377, 1709738, 1054378, 1054380, 1054381, 1054382, 1054379, 1054383, 1054384, 1709742, 1054388, 1054389, 1054390, 1054391, 1054393, 1054394, 1054399, 1054400, 1054401, 1054402, 1054405, 1054406, 1054407, 792262, 1054409, 1054410, 1054412, 1054413, 1054414, 1054415, 1185485, 1054420, 1054423, 1054424, 1054425, 1054426, 1054427, 1447646, 1054431, 1054434, 1054436, 1316580, 1054438, 1054439, 1054440, 1054437, 1054443, 1054444, 1054445, 1054447, 1054449, 1054450, 1054453, 1054455, 1054457, 1578748, 1578750, 1054466, 1054467, 1578756, 1054469, 1054470, 1054471, 1054473, 1054474, 1054476, 1054477, 1054478, 1054481, 1054482, 1054483, 1054486, 1054489, 1054490, 1054491, 1054493, 1054494, 1054495, 1054496, 1054497, 1054498, 1054499, 1054501, 1054505, 530219, 1054507, 1054513, 1054517, 1054519, 1054520, 1054523, 1054524, 1316669, 1054526, 1054527, 1054528, 1054531, 1054532, 1054535, 1054537, 1054538, 1054539, 1054540, 137039, 1054547, 1054548, 1054549, 1054551, 1054554, 1054555, 1054556, 1054560, 1054561, 1054562, 1185635, 1054564, 1578849, 1054566, 1054568, 1054569, 1054574, 1054575, 1054577, 1054580, 1185657, 1054587, 1054589, 1054591, 923520, 1054597, 1054598, 1054599, 1054600, 1054603, 1185677, 1054606, 1054612, 1054613, 1054617, 1054618, 1054619, 1054620, 1054621, 1054622, 1054623, 1054624, 1054625, 1054626, 1054627, 1185693, 137119, 1054630, 1054631, 1054633, 1054636, 1054637, 1054640, 1054641, 1054642, 137138, 1054644, 1054645, 1054647, 1054648, 1054649, 137144, 1054651, 1054652, 1054653, 137151, 1054656, 1054657, 1054659, 1054663, 1054666, 1054667, 1054668, 1054670, 1054676, 1054677, 1054678, 1054682, 1054685, 1054686, 1185759, 1710048, 1710049, 1054688, 1710051, 1054692, 137189, 1054687, 1054695, 1710047, 1054697, 1054698, 1054693, 1054696, 1054701, 1054703, 1185775, 1054704, 1054708, 1054709, 1054710, 1054711, 1054712, 1054713, 1054714, 1054715, 1054716, 1054718, 1185791, 1054720, 1054721, 1054722, 1054723, 1054725, 1054726, 1054728, 1054729, 1054730, 1054733, 1054734, 1054737, 1054738, 1054739, 1054743, 1054745, 1054746, 1054748, 1054749, 1054751, 1054754, 1054756, 1054757, 1054758, 1054759, 1054764, 1054766, 1054768, 1054771, 1316918, 1054775, 1710149, 1710150, 1054794, 1054795, 1054797, 1054799, 1054800, 1054806, 1054810, 1054812, 923740, 1710172, 1054816, 1054817, 1054818, 1054819, 1054820, 1054825, 1054827, 1185899, 1054829, 1054840, 1054841, 1054845, 1054850, 1054855, 1054856, 1054857, 1054858, 1054860, 1054864, 1054870, 1054872, 1054873, 1054874, 1054876, 1054877, 530591, 1317024, 1317023, 923810, 1054883, 1054884, 1317027, 923813, 1054887, 1054888, 923817, 1054882, 1317026, 1317036, 1054892, 1054893, 1054890, 1054896, 1054898, 1054900, 1054907, 1054911, 1054916, 1054918, 923847, 1186001, 1054931, 1054932, 1054933, 1054934, 1054936, 1186008, 1054938, 1054940, 1054944, 1054947, 1054948, 1054949, 1054950, 1054955, 1054956, 1054959, 1054962, 1054964, 1054965, 1054968, 1054969, 1054970, 1054977, 1054978, 530691, 1054981, 1054982, 530694, 530693, 1054985, 530698, 1054983, 1054988, 530703, 1186063, 530709, 1054998, 1055000, 1055001, 1055002, 1055003, 1055004, 1055005, 1055006, 1186079, 1055008, 1055009, 1055010, 1055013, 1055015, 1055016, 1055018, 1055019, 1055028, 1055029, 1055030, 1199655, 1055032, 1055033, 1055036, 1055038, 1055040, 1055041, 1055044, 1055046, 1055048, 1055049, 1055050, 1055054, 1055055, 1055060, 137562, 137563, 1055068, 1055071, 1055073, 1055075, 1055077, 1055078, 1055082, 1055083, 1055084, 1055086, 1055087, 1055088, 1055089, 1186160, 1055091, 1055093, 1055104, 1055106, 1055108, 1055109, 1055110, 1055111, 1055112, 1055114, 1199672, 1055116, 1055118, 1055120, 1055121, 1055122, 1186195, 1055123, 137621, 1055125, 137626, 1055131, 1055133, 1055134, 1055135, 1055136, 1055139, 1055140, 1055141, 1055142, 1055144, 1055145, 1055152, 1055153, 1055154, 1055155, 1055156, 1186227, 530870, 1055167, 1055169, 1055171, 1055173, 1055174, 1055175, 1055177, 1055178, 530891, 1055179, 530893, 1055182, 1055184, 1055186, 1055187, 530900, 1055192, 530907, 1055197, 1055201, 1055203, 1055210, 1055211, 1055212, 1055213, 1055215, 1055216, 1055220, 1186299, 1055229, 1055230, 530943, 1055231, 1055233, 530944, 1055235, 1055236, 1055237, 1055239, 1055240, 1055241, 1055244, 1055246, 1055249, 1055253, 1055255, 530969, 137767, 1055272, 137769, 1055274, 137770, 1055276, 530988, 1055277, 1055279, 1055280, 1055275, 1055282, 1055283, 1055285, 1055289, 1055290, 1055291, 531001, 1055293, 1055294, 1055295, 1055296, 1055297, 1055301, 1055303, 1055311, 1055313, 1055315, 1055316, 1055317, 1055320, 1055321, 1055322, 1055323, 1055326, 1055327, 1055328, 531043, 1055332, 1055334, 1055335, 1055337, 1055339, 1055342, 1055345, 1055346, 1055347, 1055350, 1055351, 1055352, 1055353, 1055354, 1055355, 1055357, 1055360, 1055361, 1055364, 1055366, 1055368, 1055369, 1055370, 1055371, 1055377, 1055378, 1055388, 1055390, 1055392, 1055393, 1055395, 1055396, 1055397, 1055400, 1055401, 1055404, 1055405, 1055406, 1055409, 1055410, 137906, 1055412, 1055415, 1055420, 1055422, 1055423, 137919, 137921, 1055430, 1055432, 137931, 1055436, 1055437, 1055435, 1055439, 1055438, 1055441, 400083, 400084, 1055445, 400085, 1055444, 1055448, 1055449, 1055452, 1055453, 1055458, 1055459, 1448677, 1055462, 1055461, 1055468, 1055469, 1055473, 1055474, 1055475, 1055477, 1055478, 1055480, 1055482, 1055483, 1055484, 1055485, 400126, 1055487, 1055488, 1055489, 1055490, 1055491, 1055492, 1055493, 1055495, 1055496, 1055497, 1055499, 1317644, 1055501, 1055502, 1317645, 1055504, 1055505, 1055506, 1055507, 1055508, 793361, 400145, 1055513, 1055514, 1055515, 1055516, 1055517, 1055518, 1055519, 1055520, 1055521, 1055523, 1055526, 1055527, 1055530, 1055531, 1055532, 1055533, 1055534, 1055535, 1055537, 1055538, 1055539, 1055540, 1055541, 1055542, 1055543, 1055544, 1055545, 1055546, 1055547, 1055548, 1055549, 1055550, 1055552, 1055555, 1055558, 1055559, 1055560, 1055561, 1055563, 1055566, 138066, 138067, 1055571, 1055573, 1055574, 138068, 1055581, 1055583, 1448800, 1448801, 400223, 1055587, 1055584, 1055588, 1055592, 1055594, 1055595, 1055596, 1055597, 1055598, 1055599, 1055600, 1055601, 1055602, 1055603, 400248, 1055609, 1055610, 1055608, 1055613, 1055616, 1055618, 1055619, 1055620, 1055621, 400258, 1055623, 1055628, 1055630, 1055633, 1055634, 1055635, 1055637, 1055639, 1055640, 1055642, 1055643, 1055650, 1055654, 1055656, 1055657, 1055660, 1055662, 1055664, 1055666, 1055667, 1055668, 1055669, 1055670, 1055672, 1055673, 400314, 1055675, 1055676, 1055674, 1055679, 400319, 1055681, 1055682, 400324, 1055685, 1055684, 400329, 1055691, 1055692, 1055693, 400334, 1055695, 1055696, 1055697, 1055699, 1055700, 1055701, 531414, 1055702, 1055704, 1055705, 1055706, 1055709, 1055713, 1055714, 1055715, 1055716, 1055719, 1055720, 1055722, 1055723, 1317866, 400363, 1055732, 1055733, 1055734, 1055737, 1055738, 1055740, 1055742, 400386, 400387, 1055750, 1055751, 400391, 400393, 1055754, 1055756, 400397, 1055758, 1055761, 1055762, 400404, 1448982, 400406, 1055767, 400407, 1055772, 1055774, 400415, 1055777, 1055778, 1055779, 1055780, 1055781, 1055783, 1055784, 1055785, 400425, 1055789, 1055791, 1055796, 1055798, 531510, 1055799, 1055801, 1055802, 531513, 1055804, 400445, 1055805, 1055807, 400448, 1055800, 1055810, 1055811, 1055812, 400452, 400451, 1055813, 1055816, 1055817, 1186888, 400459, 531532, 400461, 1055822, 400462, 1055824, 1055825, 400463, 1055827, 400468, 400469, 400470, 400471, 400465, 400475, 1055837, 400478, 1055843, 1055846, 1055849, 1055851, 400491, 1055853, 1055856, 1055858, 400501, 1055862, 1055865, 1055867, 1055868, 531580, 1055870, 400511, 1055872, 1055873, 531582, 1055875, 531587, 1055877, 1055878, 1055879, 1055881, 1055882, 1055883, 400521, 1055886, 1055887, 1055888, 400528, 1055890, 1055891, 1055893, 1055895, 400536, 1055899, 1055900, 400541, 1055902, 1055903, 400545, 1055906, 1055907, 1055908, 531618, 1055910, 1055911, 1055912, 1055913, 1055914, 1055915, 793770, 1055917, 1055918, 1055919, 1449127, 400553, 1449144, 1055932, 1055933, 400575, 1055936, 1055937, 400578, 1055940, 1055941, 1055943, 400585, 400586, 1055948, 1055949, 1055950, 1055951, 1055952, 400593, 1055955, 1055956, 400597, 1055957, 1055961, 1055962, 1055963, 1055964, 400603, 1187037, 1055968, 1055971, 1055973, 400615, 531688, 400617, 1055977, 1055978, 400616, 1055981, 400622, 1055983, 400618, 531689, 400626, 1055987, 1055988, 400628, 1055990, 1055991, 1055984, 1055993, 1055994, 1055995, 1055996, 1055999, 400639, 400641, 1056002, 1056003, 400642, 1056006, 1056007, 400648, 400649, 531721, 400650, 400646, 1056014, 1056015, 1056016, 1056018, 1056019, 1056020, 400661, 531736, 1056026, 531739, 1056028, 1056029, 531742, 1056031, 400671, 1056032, 1056034, 1056035, 400669, 1056033, 531743, 400672, 531751, 400673, 400682, 1056043, 1056036, 400684, 1056045, 1056047, 1056048, 1056051, 400691, 400694, 400695, 400698, 1056059, 1056060, 1056061, 400700, 400703, 269632, 400705, 1056065, 1056064, 400704, 400706, 400707, 400708, 1056074, 1056075, 1056076, 1056077, 1056081, 400729, 1056095, 1056098, 400738, 400743, 400744, 1056106, 1056107, 1056108, 1056112, 1056113, 1056114, 1056116, 1056117, 1056119, 1056120, 1056124, 1056125, 400766, 1056127, 1056128, 1449346, 1056131, 1056132, 1056133, 1056134, 1056135, 1056136, 400775, 400777, 1056139, 1056140, 400779, 1056142, 1056143, 1056144, 1056145, 400780, 1056147, 1056149, 1056150, 1056151, 1056152, 1056153, 1056155, 1056156, 1056157, 1056160, 1056161, 1318305, 1056164, 1056165, 1056166, 1056170, 1056172, 1056173, 1056177, 1056184, 1056186, 1056187, 1056188, 1056189, 1187259, 1056191, 1056192, 1056193, 400830, 1056196, 1056199, 1056201, 1056202, 400842, 1056204, 1056205, 1318350, 1056207, 1056210, 1056211, 1056213, 1056215, 1056217, 1056218, 1056219, 1056220, 1056221, 1056222, 1056223, 1449439, 1056225, 1056226, 1056227, 1056228, 1449443, 1056229, 1056230, 1056232, 1056233, 1056234, 400876, 1056240, 1056244, 1056247, 1056248, 1056249, 1056250, 1056251, 1056254, 1056255, 1056257, 400900, 1056285, 794145, 794148, 1056294, 1056312, 794174, 794175, 1056322, 1056323, 1580629, 1056385, 1580686, 1056408, 1580715, 1056449, 1187522, 1056452, 925396, 1318624, 1056496, 1318645, 1056530, 1056533, 1056570, 1056584, 1056588, 1056596, 1056601, 1056604, 1056605, 1056606, 1318751, 1056609, 1056617, 1056618, 1056620, 1056621, 1056622, 1056626, 1056634, 1056635, 1056638, 1056641, 1056642, 1056644, 1056646, 1056647, 1056649, 1056654, 1056656, 1056660, 1056661, 1056663, 1056664, 1056665, 1056667, 1056668, 1056669, 1056670, 1056671, 1056672, 1056673, 1056674, 1187745, 1056676, 1056678, 1056679, 1056680, 1056682, 1056684, 1056685, 1056686, 1056687, 1056690, 1056692, 270265, 1056697, 1056699, 532411, 1056701, 1056698, 1056703, 1056705, 1056706, 1056708, 1056711, 1056712, 1056717, 1056720, 1056721, 1056725, 1056727, 1187801, 1056731, 1056735, 1056736, 1056737, 1056738, 1056741, 1056744, 1056745, 1056746, 1056748, 1056749, 1056750, 1187823, 1056755, 1056757, 1056758, 1056760, 925690, 1056764, 1581052, 1056766, 1056767, 1056768, 1056769, 1056770, 1056771, 1056776, 1056779, 1056780, 1056781, 1056782, 1056783, 1056784, 1056793, 1056794, 1056798, 1056799, 1712163, 1712164, 1712165, 1056806, 1712167, 1712168, 1056805, 1056810, 1056809, 1056804, 1712173, 1712175, 1056816, 1056817, 1056818, 1056819, 1712179, 1056821, 1056822, 1056815, 1712185, 532539, 532540, 532541, 1056830, 1056832, 1056833, 1056834, 1056837, 1712199, 1712200, 1712201, 1712202, 1056843, 1056842, 1712205, 1056846, 1056847, 1712206, 1712209, 1056849, 1056848, 1056852, 1056853, 1712213, 1712215, 1056856, 1056857, 1712218, 1712217, 532567, 1056859, 1712222, 1056863, 1712223, 1056865, 1056861, 1712227, 1056868, 1712228, 1056869, 1056871, 1056872, 1056867, 1056874, 1056870, 1712236, 1056876, 1056878, 1056879, 1056880, 1056881, 1712239, 1056882, 1712244, 1712245, 1056891, 1712253, 1056898, 1712259, 1056900, 1056901, 1056902, 1712263, 1056903, 532617, 532618, 1056907, 1319051, 1056908, 1056910, 925839, 1712275, 925853, 1056927, 1056928, 1056931, 1712295, 1056939, 1188012, 1056941, 1056942, 1712303, 1056944, 1056945, 925870, 1056946, 1056948, 1319093, 1056947, 1056952, 1056953, 1056954, 1056955, 1056956, 1056957, 1056959, 1056960, 1056961, 1056964, 1056965, 1056966, 1056967, 1056968, 1056969, 1056970, 1188039, 1056972, 1056976, 1056977, 1056979, 1056984, 1056985, 1056986, 1056989, 1056990, 1056991, 1056993, 1056995, 1712357, 1712359, 1712360, 1712365, 1188078, 1057008, 139506, 1057011, 1057012, 1057013, 1057014, 1319162, 1712380, 1057024, 925954, 1057027, 1057028, 1057029, 1712394, 1057034, 1712396, 139530, 1057038, 1057039, 1712400, 1057041, 1581326, 1057037, 1057046, 925974, 1057048, 1057049, 1712410, 1057051, 1057050, 1450268, 1057054, 1057055, 1057056, 1057057, 1057060, 1057063, 1057064, 1712424, 1057066, 1057067, 1712425, 1712426, 1057070, 1712427, 1712429, 1712430, 1057069, 1057075, 1057076, 1057077, 1057080, 1057083, 1057084, 1057086, 1057088, 1057089, 1712452, 1057094, 1057095, 1057096, 1712457, 1057097, 1057099, 1712460, 1057101, 1057102, 1712462, 1712464, 1057105, 1057106, 1057107, 1057108, 1712469, 1057110, 1450320, 1712463, 1057111, 1057114, 1057115, 1057117, 1057118, 1057124, 1057126, 1057127, 1057128, 1057130, 1057131, 1057133, 1057137, 1057138, 1057139, 1057141, 139638, 1057143, 1057144, 1057145, 1057146, 1057142, 1581436, 1057151, 1450367, 1450369, 1057154, 1450370, 1450371, 1057157, 1057158, 1057159, 1057156, 1057164, 1057165, 1057166, 1057167, 1057168, 139668, 1057173, 139670, 1057175, 1057176, 139671, 1581464, 1057179, 1057178, 1057189, 1057192, 1057195, 1057198, 1057199, 1057203, 139701, 1057205, 1057209, 1450426, 1057211, 1057210, 1057215, 1057217, 1057219, 1057220, 1057221, 1057225, 1057226, 1057227, 1057228, 1581517, 1057231, 1057237, 1057238, 1057239, 1057241, 1057242, 139740, 1057247, 401888, 1057249, 1057252, 1057253, 1057254, 1057255, 1057257, 139755, 1057261, 139762, 1057266, 139764, 1057269, 1057270, 1057271, 1057268, 401917, 1057278, 1057280, 401920, 139778, 1057283, 139780, 139779, 139781, 1188359, 139783, 139784, 139785, 139787, 1057288, 139789, 139790, 401934, 1057296, 1057297, 1057295, 401939, 1057300, 1057301, 1057303, 1057304, 1057305, 1057309, 1057310, 1057311, 1057312, 1057313, 1057314, 1057316, 1057324, 1057326, 1057327, 1057330, 1057331, 1057332, 1057333, 1057334, 1057337, 1057338, 1057339, 1057340, 401980, 401985, 1057345, 1057354, 1057357, 1057359, 1057361, 1057363, 1319508, 926294, 1057369, 1057371, 1057374, 1057375, 1057378, 1057379, 1057380, 1057381, 1057382, 1057383, 1057384, 1057389, 1057390, 1057391, 1057392, 1057393, 1319537, 1057397, 1057398, 1057400, 139896, 1057401, 1188475, 1057404, 1057405, 1057406, 1057402, 1057409, 1057410, 1057411, 1057412, 1057413, 1057415, 1057419, 1057420, 1057421, 1057422, 1057423, 1057426, 1057428, 1057429, 1057430, 1057431, 1057432, 1057433, 1057434, 1057435, 1712792, 1057437, 1057436, 1057439, 1057440, 402079, 1057441, 1057443, 1057444, 1057446, 1057447, 1057448, 1057449, 1057450, 1057453, 1057455, 1057458, 402101, 1057462, 1057464, 1319608, 1057466, 1057468, 1057470, 1057472, 1057473, 1057474, 1057475, 1057478, 402119, 1057481, 402122, 1057483, 1057486, 1057490, 271061, 1188568, 1188570, 1057502, 1057503, 1057505, 1057508, 1057509, 1057510, 1057511, 1057513, 1057514, 1057515, 1057516, 1057517, 1057518, 1057519, 402154, 1057524, 271093, 1057526, 1057527, 1057529, 1057531, 1057532, 271101, 1057534, 1057535, 1057536, 271105, 402176, 1057537, 1057541, 1057542, 271109, 402182, 1057547, 1057548, 1057549, 1057550, 1057551, 402192, 1057553, 1057556, 1057557, 1057558, 1057559, 1581845, 402201, 1057561, 1450780, 1581853, 1057564, 1057565, 1581856, 1581857, 1057569, 1057571, 1188644, 1057572, 1057574, 402210, 140072, 1057576, 140074, 1057578, 1057573, 1319717, 1057579, 795439, 795440, 1057584, 795441, 1057586, 926515, 1057588, 1057585, 1057590, 1057591, 795442, 1057593, 1057592, 1057595, 1057596, 1319739, 1057599, 1057600, 402241, 1057602, 1057603, 1057604, 1057601, 1057606, 1319745, 1057608, 1057607, 1188675, 1057611, 1057612, 1057614, 1057615, 1057617, 1057618, 1057620, 402261, 1057623, 1057624, 1450841, 1057626, 1057627, 1057628, 1057629, 1057630, 1057631, 1057632, 1057625, 1057634, 1057635, 1057636, 1057637, 1057638, 1057639, 1057640, 1057641, 1057642, 1057644, 1057645, 1057646, 1057647, 1057648, 402285, 1057650, 271219, 1057652, 1057653, 271222, 1057655, 1057654, 1057651, 402298, 1057658, 1057660, 1057661, 1057662, 1057663, 271231, 1057665, 1057667, 1057669, 1057670, 1057671, 1057672, 1057673, 1057674, 1057675, 1057676, 1057677, 795534, 1057678, 1057680, 1057681, 795533, 1057685, 1057686, 795541, 1057690, 1057691, 1057693, 1057694, 1057695, 1057696, 1057699, 1057702, 1057703, 1057705, 1057707, 1057708, 1057710, 1057711, 1057712, 1057713, 1057714, 1057715, 1057716, 1057717, 1057718, 1057719, 1057720, 1057721, 1057722, 1057725, 1057727, 1057728, 1057729, 1057730, 1057731, 1057732, 1057733, 1057734, 1057735, 402368, 1057738, 1057739, 1057740, 1057741, 1057742, 1057745, 1057746, 140242, 1057748, 1057750, 1057752, 1057753, 402394, 1057755, 1057756, 402397, 1057754, 1057758, 1057760, 1057757, 1057759, 1057763, 140256, 1057765, 1057764, 1057761, 1057768, 1057769, 402409, 1057770, 1057771, 402413, 402414, 1057773, 402410, 1057775, 1057778, 1057779, 1057780, 1057781, 1057782, 1057784, 1057785, 1057786, 1057788, 1057789, 1057790, 1057791, 1057792, 1057793, 1057794, 1057796, 1057797, 1057798, 1057799, 1057800, 1057801, 1057803, 1057804, 1057805, 1057806, 1057807, 1057808, 1057809, 1057810, 1057811, 1057812, 1057813, 402447, 1057815, 1057816, 1057814, 1057819, 1057820, 1057821, 1057823, 1057824, 1057825, 1057826, 1057827, 1057828, 795684, 1057830, 795687, 1057832, 1057833, 795690, 795689, 1057836, 1057837, 1188904, 1057839, 795688, 1057841, 1057842, 1057843, 1057844, 1057845, 1057847, 1057848, 1057850, 1057851, 1057854, 1057855, 1057856, 1057860, 1057861, 1057862, 1057863, 1057864, 1057866, 1057867, 1057868, 1057869, 1057873, 1057874, 1057875, 1057876, 1057877, 1057879, 1057880, 402522, 1057884, 1057885, 1057886, 1057887, 1057888, 1057890, 1057891, 1057893, 1057896, 1057897, 1057898, 1057899, 1451116, 1057904, 1057906, 1057908, 1057910, 1451126, 402552, 402551, 1057914, 1057915, 1057916, 1057917, 1057918, 1057921, 1057924, 1057927, 1057928, 1057935, 1057936, 1057938, 1057939, 1057940, 1057941, 1057942, 1057944, 1451161, 1057947, 1057948, 1057949, 1057950, 1057951, 1189024, 1057953, 1057954, 1713314, 1057952, 1057957, 1057958, 1057959, 1057955, 1057961, 1057964, 1057965, 1057966, 1713325, 1057967, 1057969, 1057970, 1057971, 1057972, 1057973, 1057977, 1057978, 1057979, 1057980, 1057983, 1057984, 1057985, 1057986, 1057987, 1057988, 1057990, 1057991, 1057992, 1057994, 1057995, 1057996, 1057998, 1057999, 1058000, 1058001, 1058003, 1058005, 1058006, 1058007, 1058008, 1058009, 1058010, 1058011, 1713374, 1058015, 140513, 1058017, 1058020, 140517, 1058022, 1058023, 1058024, 1058025, 1058026, 1058027, 1058028, 1058029, 1058030, 1058031, 1058032, 1058034, 1058035, 1058036, 402674, 1058038, 1058039, 140536, 1058041, 402675, 1058037, 1058044, 1058045, 1058046, 1058047, 1058048, 1713411, 1058053, 1058054, 1058055, 1058056, 1058057, 1058058, 1058061, 1058062, 402702, 1058064, 1058065, 1058066, 402703, 1058068, 1058072, 1189149, 1058079, 1058080, 1058081, 1058082, 1058083, 1058084, 1058087, 1058088, 1058089, 1058090, 1058091, 402730, 1058093, 1058094, 1713452, 1058096, 1058100, 1058108, 1058109, 1058111, 1058112, 1058114, 1058117, 1058118, 1058119, 1058121, 1058122, 1058123, 1058126, 1058127, 1058128, 1058129, 1058131, 1320278, 1058140, 1058141, 1058142, 1058144, 1058145, 1058146, 1058151, 1058152, 1058153, 1058154, 1058155, 1058156, 1058157, 1058158, 1058159, 1058160, 1058162, 1058163, 1058164, 1058165, 402810, 1058173, 1058175, 1058176, 1058177, 1058178, 1058179, 1058180, 1058181, 1058182, 1058184, 402825, 1058186, 1058187, 1058189, 1058190, 1058192, 1058193, 1058194, 1058195, 1058200, 1058201, 1713562, 1058203, 1058204, 1058205, 1058202, 1058211, 1058214, 1058216, 1058218, 1713579, 1058219, 1058221, 1058220, 1058223, 1058224, 1058225, 1058226, 1058233, 1058234, 1713593, 1713594, 1451453, 1058238, 1189311, 1058240, 1058236, 1189309, 1058247, 1058249, 1189327, 1058256, 1058257, 1058255, 1058259, 1058260, 1058261, 1058262, 1058258, 1058264, 1058265, 1058266, 1058267, 1058274, 1058276, 1058280, 1058281, 1058282, 1058283, 1058284, 1058285, 1058286, 1058287, 1058288, 1189362, 1058291, 1058295, 1058296, 1058297, 402939, 1058299, 1058301, 1058303, 402943, 1058304, 1058306, 1058308, 1058311, 1058313, 1058316, 1058317, 402958, 1058318, 1058321, 1058322, 1058323, 1058324, 1058325, 1058326, 1058327, 1189399, 1713689, 1713690, 1058331, 1058330, 402971, 1058332, 1058335, 1058336, 1058333, 402970, 1070055, 1058340, 1058341, 1058342, 1058343, 1058344, 1058345, 1058346, 1058347, 1058349, 1058351, 1058352, 1713713, 1058353, 1058356, 1058357, 1058359, 1058360, 1058361, 1058362, 1058363, 1058364, 1058365, 1058366, 1058367, 1058368, 1058369, 1058371, 1058377, 1058378, 1058380, 796236, 1058382, 1058384, 1058385, 1058386, 1058387, 1058388, 1058389, 1058390, 1058391, 1582676, 1058393, 1058392, 1058395, 1058397, 1058401, 1058403, 1451619, 1058405, 1451620, 1451621, 1451624, 1058409, 1058410, 1058411, 1058416, 1058417, 1058418, 1058419, 1058420, 1058421, 1058422, 1058423, 1058424, 1058426, 1058427, 1058428, 1058429, 1058430, 1058433, 1058434, 1058435, 1058436, 1058437, 1058439, 1058440, 1058443, 1058444, 1058445, 1058446, 140939, 1058448, 1058449, 1058450, 1058451, 665236, 1058453, 665235, 1058455, 1058456, 1058454, 1058457, 1058459, 1058460, 1058461, 1058462, 1058464, 1058467, 1058468, 1058469, 1058470, 1058471, 1058475, 1058477, 1058480, 1058481, 1058482, 1058483, 1058484, 1058485, 1058486, 1058487, 1058488, 1058489, 1058490, 1058491, 1058492, 1058494, 1058495, 1058496, 1058498, 1058500, 140998, 1058504, 1058505, 1058506, 1058510, 1058511, 1058512, 1058514, 1058515, 1058516, 1058517, 1058518, 403160, 1058521, 1058522, 403162, 1058524, 1058525, 403166, 927454, 1058528, 1058529, 1058526, 1058531, 1058527, 403170, 1058534, 1058535, 1058536, 403178, 1058538, 1058541, 1058542, 1058543, 1058544, 1058545, 1058546, 1058548, 1058549, 1058550, 1058552, 1058553, 1058554, 1058557, 1058558, 1058559, 1058560, 1058561, 1058562, 1058564, 1058565, 1058566, 1058570, 1058571, 1058574, 1058575, 1058576, 1058579, 1058583, 1058584, 1058586, 1058587, 1058589, 1058591, 1058595, 1058597, 403237, 1058600, 1058601, 403240, 1058604, 1058605, 1058606, 1058607, 1189679, 1058609, 1058611, 1058612, 1058614, 1058615, 1058616, 403254, 1058618, 1058619, 1058621, 1058624, 1058625, 1058626, 403265, 1058628, 403268, 1058632, 1058633, 1058634, 1058635, 403275, 403277, 1058638, 403273, 1058640, 1058641, 403282, 403283, 1058645, 1058646, 403287, 403286, 1058650, 1058651, 1058652, 1058653, 1058654, 1058655, 1058656, 403295, 1058657, 1058659, 1058664, 1058666, 1058667, 1714027, 1058669, 403311, 1058672, 403315, 403316, 1058675, 1058678, 1058679, 403319, 1058681, 1058682, 1058683, 1058684, 403318, 1058686, 1058687, 403321, 1058689, 1058690, 403330, 403329, 1058693, 1058691, 403328, 403332, 403339, 1058701, 403342, 1058704, 1058705, 1058706, 1058708, 1058709, 403350, 1058711, 1058715, 1058716, 1058717, 1714080, 1058720, 1058723, 1058725, 403368, 1058729, 1058728, 1058731, 1058732, 141228, 1058730, 1058735, 1058736, 1058737, 141234, 1058739, 1058734, 1058741, 1058742, 1058745, 1058747, 1058748, 1058750, 1058751, 1058752, 665537, 1058754, 665538, 1058757, 1058759, 1189832, 1058761, 1058763, 1058764, 1058767, 1058768, 1058771, 1058772, 1058778, 1058779, 1058781, 1058785, 1058786, 1058787, 1058789, 1058790, 1058791, 1058792, 1058793, 1058798, 1058800, 1058802, 1058803, 1058804, 1058805, 1058806, 1058808, 1058810, 1058812, 1058813, 1058814, 1058817, 1714178, 1058820, 1058821, 1058822, 1189892, 1058824, 1058825, 1058827, 1058828, 1058830, 1058831, 1058832, 1058833, 1058834, 1058836, 1058837, 1058838, 1058840, 1058847, 1058848, 1058849, 1058850, 1058851, 1058852, 1058854, 1058856, 1058857, 1058860, 1058862, 1058863, 1058864, 1058865, 1058866, 1058870, 1058871, 1058872, 1058876, 1058877, 1058878, 1058879, 1058883, 1058884, 1058885, 1058886, 1058887, 1714246, 1058889, 1058894, 1058895, 1058897, 1058899, 1058900, 1058901, 1058902, 1058903, 1058904, 1058906, 1058907, 1058908, 1058909, 1058911, 1058916, 1058924, 1058925, 1058926, 1058928, 1058929, 1058934, 1058936, 1058937, 1058938, 1058939, 1058940, 1058941, 1058942, 1058944, 1058945, 1058946, 1058947, 1058949, 1058950, 1058951, 1058952, 1058953, 1058954, 1058955, 1058956, 1058957, 1058958, 1058959, 1058960, 1058961, 1058962, 1058963, 1058964, 927895, 1058968, 1058969, 1058970, 1058971, 1058972, 1058973, 1058975, 1058976, 1058979, 1058981, 1058982, 1058983, 1058985, 1058987, 1058988, 1058989, 1058990, 1058991, 1058992, 1058993, 1058995, 1058999, 1059001, 1059002, 1059010, 1059013, 1059014, 1059017, 1059018, 1059020, 1059021, 1059023, 1059024, 1059028, 1059029, 1059031, 1059032, 1059034, 1059035, 1583325, 1059038, 1059037, 1059040, 1059041, 1059042, 1059044, 1059045, 1059048, 1059049, 1059050, 1059052, 1059053, 1059054, 665838, 1059056, 1059057, 1059058, 1059060, 1059061, 1059062, 1059068, 1059070, 1059071, 1059075, 1059078, 1059083, 1059084, 1059085, 1059086, 1059088, 1059090, 1059091, 1059092, 1059093, 1059094, 1059095, 1059098, 1059100, 1059101, 1059102, 1059104, 1059106, 1059108, 1059110, 1059111, 1059113, 1059115, 1059116, 141611, 1059118, 403757, 1059123, 1059124, 1059126, 1059127, 1059128, 1059131, 1059132, 1059134, 1059135, 1059136, 1059137, 1059139, 1059140, 1059141, 1059143, 1059145, 1059147, 1059149, 1059150, 1059151, 928083, 1059156, 1059157, 1059155, 1059158, 1059160, 1059161, 1059163, 1059165, 1059166, 1059167, 1059170, 1583460, 1059173, 1059174, 1059178, 1059180, 1059182, 1059183, 1059185, 1059193, 1059194, 1059197, 1059200, 1059201, 1059202, 1059203, 1059204, 1059206, 1059207, 1059208, 1059209, 1059211, 272780, 1059213, 1059214, 1059215, 1059217, 1059218, 1059219, 1059220, 1059221, 1059223, 1059224, 1059225, 1059227, 1059229, 1059230, 1059231, 1059232, 1059233, 1059236, 1059237, 1059238, 1059239, 1059242, 1059243, 1059245, 1059246, 1059249, 1059251, 1059253, 1059254, 1059255, 1059256, 1059258, 1059259, 1059260, 1059261, 1059262, 1059263, 1059264, 1059265, 1059267, 1059268, 1059270, 1059272, 1059274, 1059275, 1059276, 1059278, 1059279, 1059282, 1059286, 1059287, 1059288, 1059290, 1059292, 1059293, 1059294, 1059306, 1059309, 1059310, 1059311, 1059312, 1059313, 1059314, 1059317, 1059318, 1059319, 1059320, 1059321, 1059323, 1059327, 1059328, 1059329, 1059330, 1059331, 1059332, 1059333, 1059341, 1059343, 1059344, 1059345, 1059346, 1059347, 1059348, 1059350, 1059351, 1059352, 1059353, 1059354, 1059357, 1059358, 928286, 1059364, 1059365, 1059367, 1059369, 1059370, 1059376, 1059379, 1059380, 1059381, 1059383, 1059384, 1059385, 1059386, 1059387, 1059388, 1059389, 1059390, 1059393, 1059394, 1059395, 1059396, 1059397, 1059398, 1059399, 1059400, 1059402, 535116, 1321548, 1059405, 1059406, 1059408, 1059411, 1059413, 1059414, 1059415, 1059418, 1059421, 1059422, 1059424, 1059425, 1059426, 1059429, 1059430, 1059431, 1059432, 1059433, 1059434, 1059437, 1059440, 1059441, 1059443, 1059444, 1059445, 1059447, 1059448, 1059449, 1059450, 1059451, 1059453, 1059455, 1059457, 1059460, 1059461, 1059464, 1059465, 141960, 1059467, 1059470, 1059471, 1059472, 1059474, 1059475, 1059477, 1059478, 1059479, 1059480, 1059482, 1059483, 1059484, 1059489, 1059490, 1059491, 1059492, 1059493, 1059494, 1059497, 1059500, 1059501, 1059502, 1059503, 1059505, 1583794, 1059507, 1059509, 1059511, 1059512, 1059513, 1059514, 1059515, 1059516, 1059517, 1059518, 1059520, 1059522, 1059524, 1059525, 1059526, 1059527, 1059528, 1059529, 1059536, 1059537, 1059538, 1059539, 1190612, 1059541, 1059542, 1059544, 1059545, 1059546, 1059548, 1059549, 1059550, 1059551, 1059553, 1059555, 1059556, 1059557, 1059558, 1059559, 1059563, 1059564, 1059565, 1059566, 1059567, 1059568, 1059569, 1059571, 1059572, 1059574, 1059575, 1059576, 1059578, 1059582, 1059583, 142079, 1059584, 1583875, 1059588, 1059589, 1059587, 1583879, 1059592, 1059593, 1059594, 1059595, 1059596, 1059597, 1059598, 1190665, 1583881, 1059599, 1059602, 1583892, 1059605, 1059606, 1059604, 1059608, 1059609, 1059610, 1059612, 1059613, 1059614, 1059615, 1059616, 1059617, 1059618, 1059619, 1059622, 1059623, 1059628, 1059630, 1059631, 1059632, 1059633, 1059634, 1059635, 1059636, 1059639, 1059640, 1059641, 1059642, 1059643, 1059644, 1059645, 1059646, 1059647, 1583934, 1059649, 1059653, 1059655, 1059658, 1059659, 1059660, 1059663, 1059664, 1059665, 1059666, 1059667, 1059668, 1059669, 142160, 142167, 1059672, 1059671, 1059674, 1059675, 1059673, 1059677, 142173, 1059679, 1059680, 1059681, 142177, 1059683, 1059684, 1059685, 1059686, 1059687, 1059688, 1059689, 1059690, 1059691, 1059692, 1059693, 1059694, 1059697, 1059698, 1059701, 1059702, 1059703, 1059704, 1583992, 1059708, 1059710, 1059712, 1059714, 1059717, 1059718, 1059720, 1059721, 1059722, 1059723, 1059727, 1059730, 1059731, 1059732, 1059733, 1059734, 1059735, 1584018, 1059737, 1059738, 1190811, 1059740, 1059741, 1190808, 1190815, 1190816, 1059745, 1059744, 1059747, 1059748, 142244, 1059750, 1059751, 1059752, 1059753, 1059754, 1059755, 1059756, 1059757, 1059758, 1059759, 1059760, 1059761, 142249, 142253, 1059763, 1190828, 1059766, 1190835, 1059770, 1059771, 1059772, 1190845, 1059774, 1190847, 1190846, 1059776, 1059778, 1059779, 1059780, 1190853, 1059782, 1190854, 1190848, 1059785, 1190851, 1190859, 1059788, 1059787, 1584078, 1190862, 1059792, 1059793, 1190865, 1059795, 1059794, 1453013, 1453014, 1190871, 1190872, 1059801, 1059802, 1059804, 1059805, 1190877, 1059807, 1059808, 1059810, 1715170, 1059812, 1059813, 1584101, 1059815, 1190888, 1059816, 1059818, 1059817, 1715172, 1715175, 1059824, 1059826, 1059827, 1059828, 1059829, 1059830, 1059831, 1190903, 1059833, 1059836, 1190910, 1059844, 1059845, 1059846, 1059847, 1059848, 1059849, 1059851, 1059854, 1059855, 1059856, 1059857, 1059858, 1059859, 1059861, 1059863, 1059864, 1059865, 1059867, 1059868, 1059870, 1059873, 1059877, 1059878, 1059880, 1059881, 1059882, 1059884, 1059885, 1059886, 1059887, 1059888, 1059889, 1059890, 1059891, 1059892, 1584178, 1190966, 1584179, 1059896, 1059895, 1059898, 1190970, 1190965, 1059901, 1190974, 1059903, 1059904, 1059905, 1059906, 1059911, 1190985, 1059914, 1059915, 1059916, 1059917, 1059918, 1059919, 1190992, 1059921, 1059920, 1059923, 1059924, 1190997, 1059926, 1059927, 1059925, 1453139, 1059930, 1191002, 1059932, 1059931, 1059933, 1059934, 1059935, 1584221, 1191010, 1584227, 1059940, 1059936, 1584230, 1059937, 1059944, 1059945, 1059946, 1059947, 1059948, 1059949, 1059950, 1059951, 1059952, 1059953, 1059954, 1059955, 1059956, 1059958, 1059959, 1059960, 1059961, 1059962, 1059963, 1059964, 1059965, 1059966, 1584257, 1059970, 1059969, 1059972, 1059977, 1059978, 1059979, 1059980, 1059981, 1059983, 1059984, 1059985, 1059987, 1059988, 1059989, 1059990, 1059992, 1059993, 1059994, 1059995, 1059996, 1059997, 1059999, 1060000, 1060004, 1060006, 1060007, 1060008, 1060013, 1060014, 1060016, 1060017, 1060019, 1191091, 1060021, 1060022, 1060020, 1060024, 1060025, 1060026, 1715386, 1060028, 1060027, 1060030, 1584312, 1060032, 1060037, 1060039, 1060040, 1060041, 1060042, 1060043, 1060044, 1060045, 1060046, 1060048, 1060051, 1060055, 1060057, 1060059, 1060060, 1060061, 1060062, 1060063, 1060064, 1060065, 1060066, 1060067, 1060069, 1060071, 1060073, 1191145, 1060075, 1060076, 1060078, 1060079, 1060080, 1060081, 1060082, 1060083, 1060084, 1060087, 1060089, 1060104, 1060105, 1060108, 1060109, 1060110, 1060111, 1060113, 1060116, 1060117, 1060118, 1060119, 1060120, 1060121, 1060123, 1060124, 1060125, 1060126, 1060127, 1060128, 1060129, 1060131, 1060132, 1060133, 1060135, 1060136, 1060137, 1060138, 1060139, 1060142, 1060144, 1060145, 1060146, 1322297, 1060156, 1060157, 1060158, 1060161, 1060162, 1060163, 1060164, 1060165, 1060166, 1060167, 1060168, 1060169, 1584452, 1060171, 1060172, 1060175, 1060176, 1060177, 1060179, 1060180, 1060182, 1060183, 1060185, 1060186, 1060187, 1060188, 1060189, 1060190, 1060191, 1060192, 1191264, 1060194, 1060195, 1060196, 1060197, 1060198, 1191266, 1060200, 1060201, 1060202, 1060203, 1060204, 1060205, 1060208, 1060209, 1191282, 1060211, 1060212, 1060214, 1060215, 1060216, 1060218, 1060220, 1060222, 1060225, 1060227, 1060228, 1060232, 1060233, 1060234, 1060235, 1060236, 1060238, 1060239, 1060240, 1060241, 1060242, 1060246, 1060247, 1060248, 1060249, 1060251, 1060252, 1060253, 1060256, 1060257, 1060259, 1060260, 1060261, 1060266, 1060271, 1060272, 1060273, 1060274, 1060275, 1060278, 1060279, 1060280, 1060281, 1060282, 1060283, 1191356, 1060285, 1060287, 1060288, 1060289, 1060290, 1060291, 1060292, 1060293, 1060294, 1060295, 1060296, 1060297, 1060298, 1060299, 1060300, 1060301, 1060302, 1060303, 1060304, 1060311, 1060315, 1060316, 1060318, 1060319, 1060321, 1060323, 1060324, 1060325, 1060327, 1060328, 1060330, 1060331, 1060332, 1060333, 1060334, 1060335, 1060336, 1060337, 142835, 1060342, 1060344, 1060347, 404988, 404990, 1060351, 1060350, 1060353, 1060354, 1060355, 1060357, 1060358, 1060359, 1060360, 1060361, 1060367, 1060368, 1060370, 1060371, 1060372, 1060373, 1060374, 1060375, 1060377, 1060380, 1060385, 1060387, 1060389, 1060390, 1060393, 1060402, 1060403, 1060404, 1060405, 1060409, 142906, 1060411, 1060412, 1060416, 1060417, 1060419, 1060420, 1060421, 1060423, 1060425, 1060426, 1060427, 1060428, 1060429, 1060430, 1060431, 1060432, 1060433, 1060434, 1060437, 1060438, 1060439, 1060441, 1060442, 1060443, 1060444, 1060445, 1060446, 1060449, 1060450, 1060453, 1060455, 1060456, 1060457, 1060458, 1060459, 1060460, 1060464, 536177, 1060466, 1060467, 1191539, 1060470, 1060471, 1060473, 1060475, 1060477, 1060478, 1060479, 1060480, 1060482, 1060483, 1060485, 1060487, 1060488, 1060491, 1060492, 1060499, 1060500, 1060501, 1060502, 1060504, 1060505, 1060506, 1060507, 1191576, 1060509, 1060510, 1060511, 1060512, 1060513, 536217, 1060520, 1060522, 1060523, 1060524, 1060525, 1060526, 1060528, 1060529, 536244, 1060533, 1060534, 1060538, 1060540, 1060542, 1060543, 1060544, 536256, 1060546, 1060547, 1060548, 1060549, 1060551, 1060554, 1060555, 1060556, 1060558, 1060559, 1060560, 1060562, 1060563, 1060564, 1060565, 1060566, 1060568, 1060569, 1060570, 1060571, 1060572, 1060574, 1060575, 1060576, 1060578, 1060584, 1060585, 1060586, 1060587, 1060588, 1060589, 1060590, 1060591, 1715952, 1060593, 1060594, 1060596, 1060597, 1060600, 1060601, 1060604, 143100, 1060605, 1191677, 1060608, 12031, 1060610, 1060611, 143106, 1060612, 1060615, 1060616, 1060617, 1060618, 1060619, 1060620, 1322765, 1060622, 1322767, 1060624, 1322768, 1060626, 1060627, 1060628, 1060629, 1715990, 1060650, 1060651, 1060652, 1716013, 1060653, 1060655, 1060657, 1060658, 1060659, 1060660, 1060661, 1060662, 1060663, 143153, 1060666, 1060668, 1060671, 1060672, 1060673, 1060675, 1060676, 1060678, 1060681, 1060682, 1060683, 1060685, 1060686, 1060687, 1060688, 1060689, 1716049, 1716051, 1060692, 1060693, 1060694, 1060695, 1060696, 1060697, 1060703, 1060705, 1060707, 1060709, 1060712, 1060714, 1060715, 1060716, 1060718, 1060719, 1060720, 1060722, 1060724, 1060725, 1060728, 1060729, 1060733, 1060738, 1060742, 1060744, 1060745, 1060746, 1060747, 1060748, 1060749, 1060750, 1060751, 1060752, 1060753, 1060755, 1060756, 1060759, 1060760, 143255, 1060762, 1060763, 1060766, 1060768, 1060769, 1060770, 1060771, 1060772, 1060773, 1060774, 1060775, 1060777, 1060778, 1060779, 1060780, 1060782, 1060784, 1060785, 1060786, 1060787, 143282, 1060790, 1060791, 1060793, 1060794, 1060797, 1060798, 1060799, 1060801, 1060802, 1060803, 1060805, 1060806, 1060807, 1060808, 1060809, 1060810, 1060811, 1060812, 1716171, 1060814, 1060815, 1060816, 1060817, 1060820, 1060822, 1060823, 1060825, 1060826, 1060827, 1060828, 1060829, 1060830, 1060831, 1060832, 143327, 1060834, 1060837, 1060838, 1060840, 1060843, 1060844, 1060845, 1060847, 1060849, 1060850, 1060851, 1060855, 1060856, 1060857, 1060859, 1060861, 1060863, 1060864, 1060865, 1060866, 1060867, 1060868, 1060869, 1060870, 1060871, 1060872, 1060873, 1060874, 1060877, 1060878, 1060879, 1060880, 1060884, 1060885, 143381, 143383, 1060888, 1060889, 1060891, 1060892, 143389, 1060893, 1060894, 143392, 143391, 1060897, 143393, 1060899, 1060901, 143396, 143395, 1060904, 1060905, 1060906, 1060907, 1060908, 1060909, 1060910, 143405, 1060912, 143408, 1060914, 143410, 1060916, 1060917, 1060915, 143411, 1060920, 1060921, 1060922, 1060925, 1060926, 1060927, 1060928, 1060929, 1060931, 1060935, 1060938, 1060939, 1060943, 1060946, 1060947, 1060948, 1060949, 1060951, 1060952, 1060953, 1060954, 1060955, 1060956, 1060957, 1060958, 1060959, 1060962, 1060963, 1060964, 1060968, 1060969, 1192042, 1060971, 1454187, 1060970, 1060975, 1060976, 1060977, 1060979, 1060983, 1060984, 1060989, 1060990, 1060991, 1060992, 1060994, 1060995, 1716354, 1060997, 1061001, 1061004, 1061008, 1061009, 1192082, 1061011, 1061012, 1061013, 1061016, 1061017, 536730, 1061019, 12444, 1061021, 143519, 1061023, 143521, 143520, 1061024, 143524, 1061026, 1061025, 1061028, 143528, 143525, 143526, 1061031, 1061030, 1061033, 143529, 1061035, 1061036, 1061038, 1061039, 1061040, 1061041, 1061042, 1061043, 1061047, 1061048, 143543, 1061050, 1061051, 1061052, 143549, 1061053, 1061055, 1061056, 1061057, 1061058, 143556, 1061060, 1061062, 143558, 1061064, 1061065, 1061068, 143564, 1061070, 143566, 536782, 1061074, 1061076, 1061077, 1061081, 1061085, 1061086, 1061087, 1061088, 1061089, 1061092, 1061094, 1061096, 1454313, 1061098, 1061099, 1061101, 1061103, 1061104, 1061105, 1061106, 1061107, 143602, 143601, 1454324, 1061111, 1061112, 1061113, 143610, 143611, 1061114, 1061117, 1061115, 143615, 1061120, 1061121, 1061122, 143616, 1061124, 1061126, 1061127, 143624, 143625, 1061130, 1061131, 1061132, 143629, 143628, 1061135, 1061137, 1061139, 1061140, 1061141, 1192213, 1061144, 1061146, 143642, 143644, 143645, 143646, 143643, 536864, 143648, 1061154, 1061155, 1061156, 1061157, 143651, 143654, 1061160, 143659, 1061164, 1061167, 1061170, 1061171, 1061172, 1061173, 405814, 1061178, 143675, 1061180, 1061179, 1061182, 1061183, 1061184, 1061186, 1061187, 1061191, 1061192, 1061193, 1061195, 1061196, 1061197, 1061198, 1061202, 1061203, 1061204, 1061205, 1061206, 1061209, 1061214, 1061215, 1061216, 1061217, 1061218, 1061219, 1061220, 1454437, 1061222, 1061223, 1061224, 1061225, 1061227, 1061228, 1061229, 1061230, 1061231, 1061232, 1061234, 1061235, 1061236, 1061237, 1061238, 1061239, 1061240, 1061242, 1061243, 1061244, 1061245, 1061246, 1061247, 1061249, 1061250, 1061251, 1061252, 1061253, 1061254, 1061255, 1061256, 1061257, 1061258, 1061259, 1061260, 1061261, 1061263, 1061264, 1061265, 143762, 1061267, 1061268, 1061269, 1061266, 1061271, 1061272, 1061273, 1061274, 1061275, 1061276, 1061277, 1061279, 1061280, 1061281, 143776, 1061283, 1061285, 1061286, 1061287, 1061289, 1061291, 1061292, 1061293, 1061294, 405935, 1061295, 1061297, 1061298, 1061299, 1061301, 1061302, 1061303, 1061306, 1061307, 1061309, 1061310, 1061311, 1061313, 1061315, 1061318, 1061320, 1061327, 1061328, 537042, 1061331, 1061332, 1061333, 1061334, 1061335, 143830, 1061337, 1061338, 1061339, 1061340, 1061341, 1061342, 1061343, 1061344, 537056, 1061346, 1061347, 1061349, 1061350, 1061352, 1061354, 1061355, 1061358, 1061362, 1061363, 1061364, 1061366, 1061367, 1061368, 1061371, 1061374, 1061375, 1061376, 1061380, 1061381, 1061382, 1061393, 1061395, 1061396, 1061397, 1061399, 1061404, 1061406, 1061408, 1061409, 143904, 1061415, 1061419, 1061420, 1061421, 1061422, 1192497, 1061426, 1061427, 1061429, 1061430, 930358, 1061433, 1061434, 1192507, 930364, 1061437, 143934, 930365, 930361, 1061441, 930362, 1061444, 1061445, 1061446, 1061448, 1061449, 1061450, 1061451, 1061452, 930382, 1061457, 1061458, 930386, 1061461, 930389, 1061463, 930392, 930393, 1061466, 930395, 930396, 1061469, 1061470, 1061471, 930399, 930401, 930402, 1061475, 1061476, 930405, 1061477, 930404, 930406, 1061481, 1061482, 1061483, 930408, 1061485, 1061486, 1061487, 1061488, 1061489, 930415, 930412, 930418, 930420, 1061494, 1192559, 1061501, 1061502, 1061503, 1061504, 930429, 1061506, 1061507, 930436, 930433, 930432, 1061511, 930434, 930435, 930440, 930444, 930455, 930456, 930457, 930458, 930460, 144032, 930465, 1192617, 1061549, 1061550, 1061552, 1061555, 1061557, 1061559, 1061564, 1061565, 1061567, 1061568, 1454785, 1061570, 1585860, 1061573, 1061574, 1061575, 1061577, 1061583, 1061586, 1061588, 1061590, 1061591, 1061592, 1061593, 1061595, 1585888, 1061605, 144102, 1061606, 1061611, 1061614, 1061615, 1061616, 1061618, 1061624, 1061626, 1061627, 1192700, 1192698, 1061630, 1061634, 1061635, 1192708, 1061637, 1061638, 1061639, 1061641, 1061645, 1061650, 1061651, 1061652, 1061653, 1061655, 1061656, 1061658, 144155, 1061659, 1061661, 1061662, 1061665, 1061666, 144161, 1061674, 1061675, 1717035, 1061679, 1061680, 1061682, 1061683, 1061684, 144185, 1061694, 1061695, 1061697, 1061701, 1061710, 1061712, 1061713, 1061714, 1061718, 1061719, 930649, 1061723, 1061724, 1061726, 1061727, 1061728, 1061730, 1061731, 1061732, 1061733, 1061740, 1061741, 1061742, 1061743, 1061744, 1061745, 1061747, 1061748, 1061750, 1061751, 1061752, 1061753, 537465, 1061755, 1061756, 1061757, 1061758, 1061760, 1061761, 1061762, 1061763, 1061764, 1061765, 1061766, 1061767, 1061768, 1061769, 1061770, 1061771, 1061772, 1061773, 1061774, 1061775, 537479, 537481, 1061779, 1061780, 537494, 1061783, 1061787, 1061788, 1061789, 1061790, 1061791, 1061792, 1061793, 1061794, 537501, 537506, 537508, 1061798, 537502, 1061800, 1061801, 1061803, 1061805, 1061806, 1061807, 1061808, 1061809, 1061810, 1061811, 1061812, 1061813, 1061820, 1061824, 1061825, 1061826, 1061828, 1061829, 1061832, 1061836, 1061837, 1061838, 1061840, 1061841, 1061842, 1061843, 1061844, 1061846, 1061847, 1061850, 1061851, 1061852, 1061853, 1061854, 1061855, 1061856, 1061858, 1061859, 537570, 1061861, 1061862, 1061863, 144354, 1061865, 1061866, 1061869, 1061870, 1061872, 1061874, 1061875, 1061878, 1061880, 930809, 1061882, 930810, 1061884, 1061885, 1061886, 1061887, 1061888, 1061889, 1061890, 1061891, 930813, 1061893, 537604, 1061897, 1061900, 1061901, 1061902, 537612, 1061905, 1061906, 1061913, 1061916, 1061917, 1061920, 1061921, 1061922, 1061923, 930848, 1061925, 1061924, 1061927, 1061929, 1061930, 1061931, 1061932, 1061934, 1061935, 13360, 1061936, 1061937, 1061938, 1061941, 1061942, 1061943, 1061944, 1061946, 1061948, 1061950, 1061951, 1061954, 1061955, 1061956, 1061959, 1061960, 1061962, 537674, 1061964, 1061965, 1061966, 1061969, 1061970, 1061971, 1061974, 930916, 930921, 930923, 1062001, 1062002, 1062003, 537716, 1062005, 1062007, 1062008, 1062009, 1062010, 537719, 1062012, 1062013, 1062014, 1062015, 1062019, 1062021, 1062024, 1062025, 1062026, 1062027, 1062030, 1062031, 1062033, 1062034, 1062035, 1062036, 1062037, 1062040, 1062041, 1062042, 1062043, 1062044, 1062045, 1062046, 1062047, 1062048, 1062049, 1062050, 1062051, 1062052, 1062053, 1062054, 1062055, 1062056, 1062057, 1062059, 1062061, 1193137, 1062071, 1062072, 1062073, 1062074, 1717431, 1062076, 1062077, 1062078, 1062079, 1193152, 1193153, 1062084, 1062087, 1062089, 1062091, 1193165, 1062097, 1062099, 1062100, 1062103, 1062104, 1062105, 1062107, 1062109, 1062110, 1062112, 1062113, 1062116, 1062117, 1062118, 1062119, 1062120, 1062121, 1062122, 1062123, 1062124, 1193189, 1062126, 1193190, 1062128, 1062129, 1062130, 1062131, 1062132, 1062133, 1062134, 1062139, 1062145, 144642, 1062147, 1062148, 1062149, 144645, 1062151, 144646, 1717513, 1717514, 1717515, 1062163, 1062164, 144660, 1062166, 144659, 1062168, 1062172, 1062173, 1062175, 1062180, 1062182, 1062184, 1062185, 1062186, 1062193, 1062194, 1062195, 1062202, 1062205, 1062206, 1062207, 1062208, 1062209, 1062210, 1062211, 1062212, 1062213, 1062215, 1062217, 1062218, 1062219, 1062221, 1062222, 1062224, 1062225, 1062227, 1062228, 1062231, 1062232, 1062235, 1062236, 1062237, 1062238, 1062239, 1062240, 1062241, 1062242, 1062246, 537958, 144742, 1062254, 144751, 1062256, 1062257, 1062258, 1062259, 1062260, 1062261, 537974, 1062266, 1062267, 1062270, 1062271, 1062272, 1062273, 1062274, 1062275, 1193351, 1062280, 1062279, 1062282, 1062283, 1062284, 1062281, 1062286, 1062291, 1062292, 1062293, 1062295, 1062296, 1062297, 1062299, 1062300, 1062307, 1062309, 1062312, 1062313, 144810, 1062314, 1062315, 1062319, 1062323, 1062325, 1062327, 1062328, 538039, 1062331, 1062332, 1062333, 1062334, 538047, 1062335, 1062337, 1062336, 1062339, 1062340, 1062341, 1062342, 1062343, 1062344, 1062345, 1062346, 1062347, 1193419, 144845, 1062350, 1062351, 1062352, 1062354, 1062356, 1062357, 800214, 1062360, 1062361, 1062362, 1062363, 1062364, 1062365, 1062367, 1062368, 1062369, 1062371, 1062372, 1062373, 1193445, 1062375, 1062376, 1062379, 1062380, 1062381, 1062382, 1062383, 1062384, 1062386, 1062387, 1062388, 1062389, 1062390, 1062391, 1062392, 1062394, 1062395, 800251, 1062396, 1062397, 1062399, 1062402, 1062405, 1062406, 1062408, 1062409, 1062411, 1062414, 1717775, 1062416, 1062419, 1062420, 1062421, 1062422, 1062423, 1062424, 1062426, 1062427, 1062428, 1062429, 1062431, 1062432, 1062433, 1062438, 1062441, 1062442, 1062443, 1193516, 1062445, 1062446, 13871, 1062448, 1062449, 1062452, 1062453, 1062454, 1062455, 1062456, 1193527, 1062458, 1062459, 1062462, 1062463, 1062464, 1062465, 1062466, 800324, 1062469, 1062470, 276038, 1062472, 1062471, 1062474, 1062473, 1062477, 1062478, 1062479, 800336, 1062481, 1062482, 1062483, 1062485, 1062487, 1062488, 1062489, 1062493, 1062494, 1062495, 1062497, 1062499, 1062500, 1062501, 144998, 1062506, 1062507, 1193578, 1062509, 1062510, 1062511, 1062512, 1062513, 1062515, 1062516, 1062518, 538230, 1062520, 1062519, 1062522, 1062523, 1062524, 1062526, 1062529, 1062530, 1062531, 1062535, 1062536, 1062537, 1062538, 1455753, 1062541, 1062543, 1062544, 1062546, 1062551, 1062552, 1062553, 1062555, 1062556, 1062557, 1062558, 1062559, 1062561, 1062562, 1062563, 1062564, 1455778, 1062566, 1062569, 1062570, 1062571, 1062572, 1062573, 1062579, 1062583, 1062589, 1062590, 1062592, 1062593, 1062594, 1062596, 1062597, 1062598, 1062599, 1062601, 1062603, 1062604, 1062605, 1062606, 1062607, 1062608, 1062609, 1062610, 1062611, 1062612, 1062614, 1062615, 1062616, 1062619, 1193692, 1062621, 1062622, 1062623, 1062624, 1062625, 1062628, 1062632, 1062633, 1062636, 1062637, 1062638, 1062639, 1062640, 1062641, 1062643, 1062644, 1062645, 1062646, 1062647, 1062650, 1062651, 1062653, 1062655, 1062657, 1062659, 1062660, 1062661, 1062663, 1062664, 1062665, 1062667, 1062669, 1062671, 1062673, 1062675, 1062678, 1062680, 1062681, 1062683, 1062684, 1062685, 1062686, 1062688, 1062689, 1062691, 1062693, 1062696, 1062697, 1062698, 1062699, 1062700, 1062701, 1062702, 1062703, 1062704, 1062705, 14130, 1062708, 1062709, 1193780, 1062710, 1062714, 1062717, 1062718, 1062719, 1062720, 1062721, 1062722, 1062723, 1062724, 1062725, 1062726, 1062727, 1062728, 1062729, 1062730, 1455940, 1062732, 1062734, 1062737, 1062738, 1062739, 1062740, 1062741, 1062742, 1062743, 1062744, 538456, 1062751, 538465, 1062755, 1062760, 1062762, 1062763, 1062764, 1062766, 1062767, 1062769, 1062770, 1062771, 1062773, 1062774, 1062775, 1062776, 1062777, 1062778, 1062780, 1062782, 1062785, 1062786, 1062788, 1062790, 1062791, 1062792, 1062793, 1062794, 1062796, 1062798, 1062799, 1062800, 1062801, 1456016, 1456014, 1062804, 1062805, 1062806, 1062807, 1062808, 1062809, 1062810, 1062811, 1062812, 1062813, 1062814, 1456024, 538523, 1062817, 1062818, 1062819, 1062821, 1062822, 1062823, 1062827, 1062828, 1062829, 1062831, 1062833, 1062834, 538545, 1062836, 1062837, 14258, 1062840, 1062841, 1062842, 1062843, 1062844, 1062846, 1062847, 1062849, 1062851, 1062853, 1062857, 1062858, 1062859, 1062861, 1062864, 1062865, 1062866, 1062870, 1062871, 1062873, 1062874, 1062875, 1062876, 1062877, 1062879, 1062880, 1062881, 1062882, 1062883, 1062884, 1062886, 1062887, 1062889, 1062890, 1062893, 1062894, 1062896, 1062897, 1062898, 1062900, 1062905, 1062906, 1062909, 1062910, 1062915, 1062916, 1062917, 1062919, 1062920, 1062921, 1062922, 1062923, 1062924, 1193995, 1062926, 1062927, 1062929, 1062930, 1062931, 1062932, 1194003, 1062934, 1062938, 1062939, 1062952, 1062954, 1062955, 1062956, 1062957, 1062958, 1062959, 1062960, 1062961, 1062962, 407604, 1062965, 1062964, 1062969, 1062970, 1062971, 1062972, 1062973, 1062974, 1062975, 1062978, 1062981, 1062982, 1062983, 1062984, 1062985, 1062986, 538697, 538701, 1062995, 1062997, 1062998, 1063000, 1063001, 1063004, 1063005, 1063007, 1063008, 1063009, 1063010, 1063013, 1063014, 1063017, 1063018, 1063019, 1063020, 1063021, 1063022, 1063023, 1063025, 1063027, 1063028, 931956, 1063031, 1063033, 1063034, 1063036, 1063037, 1063040, 1063041, 1063042, 1063043, 1063044, 1063045, 1063046, 1063048, 1063050, 1063051, 1063052, 1063054, 1063055, 1063056, 1063057, 1063059, 1063060, 1063061, 1063063, 1063064, 1063065, 1063069, 1063070, 1063071, 1063072, 1063073, 1063078, 1063080, 1063081, 1063082, 1063088, 1063089, 1063090, 1063091, 1063094, 1063095, 1063097, 1063098, 1063100, 1063101, 1063102, 1063104, 1063105, 1063109, 1063112, 1063113, 1063114, 1063115, 1063116, 1063117, 1063118, 1063120, 1063121, 1063122, 1063123, 1194202, 1063132, 1063133, 1063135, 1063137, 1063138, 1063140, 145637, 1063142, 1063144, 1063145, 1063146, 1063149, 1063151, 1063152, 1063155, 1063156, 1063157, 1063159, 1063162, 1063163, 1194234, 1063165, 1063166, 1063170, 1063174, 1063176, 1063177, 1063178, 1063179, 1063181, 1063184, 1063185, 1063186, 145684, 538900, 1063192, 1063193, 1063194, 1063197, 1063199, 1063201, 1063203, 1063204, 1063206, 1063209, 1063210, 1063214, 1063218, 1063219, 1063220, 1063221, 1063222, 1063224, 1063225, 1063226, 1063227, 1063228, 1063230, 1063231, 1063233, 1063234, 1063236, 1063237, 1587525, 1063238, 1063240, 538952, 1063242, 1063243, 1063247, 1063248, 1063249, 1063251, 1063253, 1063254, 1063255, 1063257, 1063260, 1063262, 1063263, 1063264, 538975, 1063266, 1456478, 1063267, 1063269, 1063270, 1063271, 1063268, 1063273, 1063274, 1063276, 1063277, 1063279, 1063280, 1063281, 1063282, 1063284, 1063286, 1063287, 1063288, 1063289, 1063290, 1063291, 1063292, 1063293, 1063294, 1063296, 1063297, 1063298, 1063299, 1063302, 1063303, 1063305, 1063306, 1063309, 1063312, 1063314, 1063315, 1063317, 1063318, 1063319, 1063320, 1063321, 1063322, 1063323, 1063324, 1063328, 1063329, 1063331, 1063334, 1063335, 1063336, 539049, 1063338, 1063339, 1063340, 1063341, 1063342, 1063343, 1063344, 1063345, 1063346, 1063347, 1063348, 1063349, 1063350, 1063352, 1063354, 1063357, 1063358, 1063359, 1063360, 1063361, 1063362, 1063363, 1063364, 1063365, 1063366, 1063368, 1063369, 1063370, 539082, 1063375, 1063376, 1063378, 1063379, 1063384, 1063385, 1063386, 1063387, 1063388, 1063389, 1063390, 1063391, 1063392, 14816, 1063394, 1063395, 1063397, 1063399, 1063400, 1063402, 1063404, 1063408, 145905, 1063414, 1063415, 1063417, 1063418, 1063419, 1063420, 1063421, 1063422, 1063423, 1063425, 1063427, 1063430, 1063431, 1063432, 408073, 1063435, 1063436, 1063443, 1063444, 1063445, 1063446, 1063447, 408089, 1063450, 1063452, 1063453, 408092, 1063455, 1063456, 1063457, 1063458, 1063459, 1063461, 1063462, 145964, 1063470, 1063471, 1063472, 1063473, 1063474, 1063476, 1063478, 1063479, 1063480, 1063481, 1063484, 1063485, 145983, 1063489, 1063491, 1063492, 1063493, 1063495, 1456713, 1063498, 1063499, 1063500, 1718858, 1063505, 1063506, 1063507, 1063508, 1063509, 1063511, 1063513, 1063514, 1063515, 1063516, 1063517, 1063518, 1063519, 1063520, 1063521, 1063522, 1063523, 1063524, 1063525, 1063526, 1063528, 1063529, 1063530, 1063531, 1063532, 1063533, 1063534, 1063535, 1063536, 1063537, 1063538, 1063539, 1063540, 1063541, 1063542, 1063543, 539254, 1063545, 1063546, 1718901, 1063549, 1063551, 1063553, 1063558, 1063559, 1063560, 539270, 1063563, 1063564, 1063565, 1063566, 1063568, 1063570, 1063572, 1063573, 1063574, 1063576, 1063577, 1063578, 1063579, 1063581, 1063582, 1063583, 1063584, 1063585, 1063586, 1063587, 1063588, 539302, 1063591, 1063592, 539304, 1063594, 1063595, 1063597, 1063602, 1063603, 1063604, 1063606, 1063607, 1063608, 1063609, 1063610, 1063613, 1063616, 1063618, 1063619, 1063620, 1063621, 1063622, 1063623, 1063624, 1063625, 408261, 1063628, 1063629, 146126, 1063631, 1063632, 1063633, 1063634, 1063630, 1063635, 1063637, 1063638, 1063639, 1063642, 1063644, 1063645, 1063651, 1063655, 1063656, 1063657, 539367, 1063659, 1063660, 1063661, 1719021, 1719025, 1063666, 1063667, 1719026, 1063669, 1063670, 1063671, 1063673, 1063674, 1063675, 146170, 1063678, 1063679, 1063680, 1063681, 801538, 1063683, 1063684, 1063685, 1063686, 1063687, 1063688, 801545, 1063690, 801547, 1063694, 1063696, 1063697, 1063698, 1063701, 1063703, 1063704, 1063705, 1063706, 1063707, 1063709, 1063710, 1063713, 1063715, 1063716, 1063717, 1063718, 1063720, 1063723, 1063724, 1063725, 1063726, 1063727, 1063728, 1063730, 1063731, 1063733, 1063735, 1063736, 1063738, 1063739, 1063740, 1063747, 1063748, 1063749, 1063750, 539465, 1063754, 1063753, 1063756, 15182, 1063758, 15183, 1063759, 1063762, 1063763, 1063764, 1063765, 1063766, 539476, 1063768, 1063769, 1063770, 1063771, 1063772, 801628, 1063773, 801631, 1063774, 1063777, 1063778, 1063779, 1063780, 15205, 1063782, 1063783, 1063784, 1063776, 1063786, 1325926, 539492, 1063789, 1063790, 1588079, 1063792, 539496, 1063795, 1063796, 1063797, 1063798, 1063799, 1063803, 1063804, 1063805, 1063806, 1063807, 1063810, 1063811, 1063812, 1063815, 1063816, 1063817, 1063818, 1063819, 15241, 1063821, 1063823, 1063826, 1063827, 1063829, 1063831, 1063832, 1063833, 1063834, 1063835, 1063837, 1063838, 1063839, 1063841, 1063842, 1063845, 1063846, 1063847, 1063848, 1063849, 1063850, 1063851, 1063852, 1063853, 1063854, 1063856, 539568, 539570, 1063859, 1063861, 1063862, 1063863, 1063864, 1063866, 1063868, 1063869, 1063870, 1063871, 1063872, 1194944, 1063873, 539587, 1063874, 1063877, 1063876, 539585, 1063880, 539584, 1063882, 1063883, 539588, 1063885, 539598, 1063887, 1063888, 1063889, 539602, 1063891, 1063892, 1063893, 1063894, 1063895, 1063896, 1063897, 1063898, 1063899, 1063900, 1063901, 1063902, 1063903, 146391, 1063905, 1063904, 1063907, 1063908, 539618, 1063910, 1063911, 539622, 1063913, 1063914, 1063915, 539623, 1063917, 1063918, 1063920, 1063921, 1063922, 539634, 1063924, 1063927, 1063928, 1063929, 1063931, 539643, 1063932, 1063934, 1063935, 1063936, 1063937, 146434, 1063940, 1063941, 1063943, 1063944, 1063945, 1063947, 1063948, 1063951, 1063955, 539669, 1063958, 1063959, 1063960, 1063961, 1063962, 1063963, 539674, 1063965, 1063966, 539675, 539671, 1063969, 539682, 1063964, 1063972, 1195045, 1063973, 1063975, 1063976, 1063977, 1063978, 539688, 1063980, 1063981, 1063982, 1063983, 1063984, 1063985, 1063986, 1063987, 1063988, 1063989, 539700, 1063993, 1063995, 1063997, 1063998, 1063999, 1064000, 1064001, 1064002, 1064003, 1064004, 1064006, 1064008, 1064010, 1064011, 1064012, 1064013, 1064014, 1064015, 1064016, 1064017, 1064018, 1064019, 1064020, 1064021, 1064022, 1064024, 1064025, 1064026, 1064027, 1064030, 1064031, 1064032, 1064033, 539746, 1064034, 1064036, 1064035, 1064039, 1064040, 1064042, 1064043, 1064044, 1064045, 1064046, 1064047, 1064048, 1064051, 1064054, 1064055, 539766, 1064057, 1064058, 1064059, 539768, 1064061, 1064062, 1064063, 1064064, 539770, 1064066, 1064067, 1064068, 1064069, 1064070, 1064071, 539776, 1064073, 1064074, 1064075, 1064077, 1064078, 1064079, 1064080, 1064081, 1064082, 1064084, 1064085, 408726, 1064086, 1064088, 1064089, 539802, 1064087, 1064092, 539805, 1064094, 539807, 1064095, 539801, 1064096, 1064100, 1064101, 1064102, 1064104, 1064105, 1064106, 1064107, 1064108, 1064109, 1064110, 1064111, 539823, 1064113, 1064114, 1064115, 1064116, 1064117, 539828, 1064119, 1064120, 1064122, 1064123, 1064124, 1064125, 1064126, 539838, 1064131, 1064133, 1064134, 1195207, 1064135, 1064136, 1064139, 539855, 1064144, 1064143, 1064146, 1064148, 1064150, 146647, 539863, 539862, 1064154, 1064155, 1064157, 1064160, 1064161, 1064164, 1064165, 1064166, 1064167, 539879, 539881, 1064172, 1064173, 1064174, 1064175, 1064176, 1064177, 1064178, 1064179, 1064180, 1064181, 1064182, 539894, 1064184, 146681, 1064186, 1064187, 1064188, 146684, 146685, 146687, 146688, 1064192, 1064194, 539906, 146686, 1064196, 1457416, 1064202, 1064203, 1064204, 539917, 1064206, 539918, 1064208, 539920, 1457426, 1064211, 1064212, 539919, 539921, 1064215, 539922, 539924, 1064219, 1064220, 1064221, 1064222, 1064225, 1064226, 146723, 1064228, 1064229, 1064230, 539943, 1064232, 1064233, 1064234, 146725, 539941, 539942, 1064238, 146734, 146735, 1064239, 1064241, 1064242, 1064240, 1064245, 1064246, 1064247, 1064248, 1064249, 1064250, 1064251, 1064244, 1064253, 146743, 1064255, 146751, 146752, 1064258, 1064259, 1064260, 146754, 1064262, 1064263, 1064264, 1064265, 146756, 1064267, 1064268, 146757, 1064270, 1064271, 1195335, 146768, 146769, 539982, 1064276, 1064277, 146774, 1064279, 1064280, 1064278, 1064282, 1064283, 1064284, 146777, 1064286, 539998, 1064288, 146785, 1064290, 146788, 540005, 1064294, 146791, 1064296, 1064297, 1064298, 1064299, 1064300, 1064295, 1064302, 1064303, 1064304, 1064308, 1064309, 1064313, 1064317, 1064319, 1064320, 1064321, 1064322, 1064323, 1064326, 1064327, 1064328, 1064329, 1064330, 1064331, 1064332, 1064333, 1064335, 1064336, 1064337, 1064338, 1064339, 540047, 1064341, 1064342, 1064343, 540049, 1064345, 146840, 1064347, 1064348, 1064349, 1064350, 1064351, 1064352, 1064354, 1064355, 1064356, 1064357, 1064358, 1064359, 1064360, 1064361, 1064362, 1064363, 540073, 1064365, 1064368, 1064371, 540083, 146870, 1588668, 1064381, 1588669, 1064383, 1064384, 1064380, 1064386, 1064387, 1195458, 146880, 1064390, 1064391, 1064392, 1064393, 1064394, 1064395, 1064396, 146888, 1064398, 1064399, 540112, 1064401, 1064402, 1064403, 1064404, 1064405, 1064406, 1064407, 1064408, 1064409, 1064410, 1064411, 1064413, 1064414, 1064416, 1064417, 1064418, 1064420, 1064421, 1064423, 1064425, 1064427, 1064429, 1064431, 1064432, 1064435, 1064436, 1064437, 1064438, 1064439, 1064444, 1064446, 1064447, 1064448, 1064449, 1064450, 1064452, 1064454, 1064455, 1064459, 1064460, 540174, 1064466, 1064467, 1064468, 1064469, 1064470, 1064471, 1064473, 1064474, 1064476, 540190, 1064479, 1064480, 1064481, 1064482, 1064483, 1064484, 1064485, 409124, 1064487, 1064488, 540192, 1064490, 1064491, 1064493, 1064494, 1064496, 1326642, 1064499, 1064500, 1064502, 1064503, 1064504, 1064506, 1064508, 1064509, 1064511, 1064512, 1064513, 540225, 1064516, 1064518, 1064519, 1064520, 1064521, 1064522, 1064523, 1064524, 1064526, 1064527, 1064528, 1064529, 1064531, 1064532, 1064533, 1064534, 1064535, 1064536, 1064537, 540246, 1064540, 1064541, 1064542, 1064545, 1064546, 1064547, 1064548, 1064549, 1064550, 1064551, 1064552, 540258, 1064555, 1064556, 1064557, 1064558, 1064559, 1064560, 1064561, 1064562, 1064565, 1064567, 1064569, 1064572, 1064577, 1064579, 1064580, 1064581, 1064582, 1064583, 1064584, 1064585, 1064586, 1064587, 1064588, 1064589, 1064590, 1064591, 1064592, 1064593, 1064594, 1064595, 1064597, 1064598, 1064599, 1064601, 1064603, 1064605, 1064606, 1064608, 1064609, 1064610, 540324, 1064615, 1064616, 1064618, 1064619, 1064620, 1064622, 1064625, 1064632, 540344, 1064644, 1064645, 1064646, 1064648, 1064649, 1064650, 1064651, 1064652, 1064653, 1064654, 1064656, 1064657, 1064658, 1064659, 1064660, 540369, 1064662, 1064664, 1064666, 1064667, 1064668, 1064670, 540383, 1064676, 1064677, 1064679, 1064682, 1064684, 1064688, 1064689, 1064692, 1064693, 1064694, 1064696, 1064699, 1064700, 540411, 540414, 1064703, 1064704, 1064705, 1064706, 16130, 1064708, 1064702, 1064710, 1064711, 1019217, 1064713, 1064714, 1064715, 1195790, 1064719, 1064721, 1064722, 1064723, 1064724, 1064725, 147221, 1064728, 1064729, 1195803, 1064733, 1019223, 1064735, 1064736, 1064737, 1064738, 1064742, 1064743, 1064744, 1064746, 1064747, 1064751, 1064752, 1064753, 1064754, 1064755, 1064756, 1064757, 1064758, 1064759, 1064760, 1064761, 1064763, 1064764, 1064766, 1064767, 1064769, 1064770, 1064771, 1064772, 1064773, 1064774, 1064777, 1064778, 1064779, 1195849, 1064781, 1064782, 1064783, 1064784, 1064785, 1064786, 1064787, 1064788, 1064789, 1064790, 1064791, 1064792, 1064793, 1064799, 1064800, 1064801, 1064804, 1064806, 1064807, 1064808, 1064810, 1064811, 1064812, 147309, 1064817, 1064818, 1064820, 1064822, 1064823, 540535, 1064825, 1064824, 1064826, 1064828, 1064829, 1064830, 1064831, 1064832, 1064833, 1064835, 1064836, 1064837, 1064838, 1064839, 1064840, 1064844, 1064845, 1064846, 1064848, 1064849, 1064851, 1064852, 1064857, 1064858, 1064859, 1064860, 1064861, 1064862, 1064863, 1064864, 1064866, 1064868, 1064869, 1064871, 1064872, 1064873, 1064874, 1064875, 1064878, 147375, 1064879, 1064881, 1064880, 1064883, 1064884, 1064887, 1064888, 1064890, 1064891, 1064892, 1064893, 1064894, 1064895, 1195968, 1064897, 1064899, 1064900, 1064903, 1064904, 1064906, 1064909, 1064911, 1064912, 1064913, 1064919, 1064922, 1064923, 1064925, 1064926, 1064927, 147423, 1064930, 1064931, 1064932, 1064935, 1064936, 1064938, 1064939, 1064940, 1064941, 147435, 1064943, 1064944, 1064947, 1064948, 1064950, 1064952, 1064953, 1196026, 1064955, 1064957, 1064960, 1196032, 1064963, 540675, 1064967, 1064968, 1064969, 1064971, 147468, 1064974, 1064975, 1064976, 1064977, 1196048, 147475, 1064980, 16405, 147476, 147477, 1064984, 1064985, 1064986, 540692, 1064989, 540702, 1064991, 1064992, 1064993, 1064995, 147492, 1064996, 1064998, 1064999, 1065001, 1065002, 1065003, 1065007, 1065008, 1065009, 147506, 1065010, 147508, 1065011, 1065020, 540733, 1065022, 1065023, 1065025, 1065026, 1065027, 1065028, 1065029, 1065030, 1065032, 1065035, 1065036, 1065037, 1065038, 1065039, 1065044, 1065045, 1065046, 1065048, 1065049, 1065051, 1065052, 1065054, 1065055, 1589342, 1065057, 1065058, 1065063, 1065064, 1065065, 1065066, 1065068, 1065069, 1065070, 1065071, 1065072, 1065073, 1065074, 1065075, 1065076, 1065079, 1065082, 1065084, 1065088, 1065089, 1065090, 540803, 1065095, 1065096, 1065097, 1065098, 1065099, 1065100, 1065101, 1065103, 540816, 1065107, 1065108, 1065109, 1065111, 1065114, 1065116, 1065118, 1065119, 1065122, 1065123, 1065124, 1065125, 1065126, 1065127, 1065128, 1065131, 1065132, 1065134, 1065135, 1065137, 1065138, 1065140, 1065141, 1065142, 1065143, 1065144, 1065145, 1065147, 1065148, 1065149, 1065151, 1065154, 1065155, 1065156, 1065157, 1720514, 1065159, 1065160, 1065162, 1065163, 1065167, 1589456, 1065168, 1065169, 1065171, 1065173, 540888, 1065177, 1065178, 1065179, 1065180, 1065181, 1065182, 1065184, 1065185, 1065186, 1065187, 1065190, 1065193, 1065194, 1065195, 1065196, 147691, 1065198, 1065197, 1065200, 1065201, 1065202, 1589490, 1065203, 147698, 540918, 1065206, 1065208, 147705, 1065211, 1065212, 1065213, 1065214, 147711, 147712, 1065217, 1065222, 1065223, 147719, 1065225, 1065227, 1065228, 1065232, 1065233, 540946, 1065236, 1065237, 540950, 1065238, 1065239, 540953, 540954, 540955, 1065242, 1065243, 1065248, 1065249, 1065250, 1065252, 1065258, 1065259, 1065260, 1065263, 1065266, 1065267, 1065268, 1065269, 1065271, 1065272, 1065274, 1065277, 1065279, 1065281, 1065282, 1065283, 1065284, 1065287, 1065289, 1065290, 1065291, 1065292, 1065293, 1065295, 1065296, 1065297, 1065299, 1065301, 1065303, 1065305, 1065306, 1065308, 1065310, 1065311, 1065312, 1065313, 1065316, 1065317, 1065319, 1065321, 1065323, 1065324, 1065325, 1065326, 1065330, 1065333, 1065334, 1065336, 1065337, 1065338, 1065339, 1065342, 1065344, 1065345, 1065348, 1065350, 1065352, 1065353, 1065355, 1065356, 409997, 1065358, 1065359, 1065361, 1065362, 1065363, 1065364, 1065365, 1065368, 1065370, 1065371, 1065372, 1065373, 541085, 1065378, 1065379, 1065380, 1065381, 1065383, 1065389, 1065391, 1065393, 1065396, 1065399, 1065402, 1065403, 1065404, 1065405, 1065408, 1065409, 1065410, 1065411, 1065412, 1065414, 1065416, 1065417, 1065419, 1065420, 1065421, 1065422, 1065423, 1065424, 1065425, 1065426, 1065431, 1065433, 1065434, 1327577, 1065438, 1065439, 1065440, 1065441, 1065444, 1065445, 1065447, 1065448, 1065451, 1065455, 1065457, 1065458, 1065460, 1065461, 1065463, 1065464, 1065465, 1065468, 1065469, 1065470, 1065475, 1065476, 1065477, 1065478, 1065479, 541192, 1065480, 1065482, 1065483, 1720844, 1720845, 1065486, 1065484, 1065485, 1065489, 1065487, 1065488, 1065493, 1065494, 1065495, 1065496, 1065500, 1720860, 1065502, 1065503, 1720864, 1065504, 672288, 1065507, 1065508, 1065509, 541222, 1065513, 1065515, 1065516, 1065517, 1065518, 1065519, 1065520, 1065521, 1065522, 1065524, 1065526, 1065527, 1065528, 1065529, 1065530, 672313, 1065532, 1065533, 1065531, 1065535, 1065534, 541249, 1065536, 1065539, 1065541, 1065542, 1065544, 1065545, 1065546, 1065548, 1065549, 1065550, 1065551, 1065552, 1065555, 1065557, 1065558, 1065559, 1065560, 541269, 1065562, 1065565, 541278, 1065567, 1065568, 1065569, 1065566, 1065570, 1065574, 1065575, 1065576, 1065579, 1065580, 1065581, 1065582, 1065583, 1065586, 1065588, 1065589, 1065592, 1065595, 1065596, 1065598, 1065600, 1065601, 1065608, 1065610, 1065611, 1065612, 1065613, 1065614, 1065616, 1065617, 1065618, 1065620, 1065621, 1065622, 1065624, 1065625, 1065626, 1065628, 1065629, 1065630, 1065631, 1065632, 1720994, 1065635, 1065636, 1065637, 1065638, 1065639, 1065634, 1065641, 1065642, 1065643, 1065644, 541356, 1065646, 1065647, 1065648, 1065650, 1065653, 1065654, 1065655, 1065660, 1065661, 1065662, 1065663, 1065665, 1065666, 1065667, 1065668, 1065669, 1065671, 1065672, 1065673, 1065675, 1065678, 1065679, 541391, 1065681, 1065682, 803539, 1065683, 1065684, 1065680, 1065687, 1065688, 1065692, 1065693, 1065696, 1065697, 1065698, 1065701, 1065703, 1065704, 1065705, 1065708, 1065709, 1065712, 1065713, 1065714, 1065715, 1065716, 1065718, 1065721, 1065724, 1065725, 1065726, 1065729, 1065732, 1065733, 1065735, 1065739, 541454, 1065743, 1065744, 1065745, 1065746, 541459, 1065748, 541460, 1065750, 541463, 1065752, 1065753, 1065754, 1590042, 1065756, 1065757, 1065758, 1065762, 1065763, 803621, 1065765, 1065766, 1065768, 1065767, 1065770, 1065771, 1065772, 1065773, 1065775, 541488, 1065780, 1065781, 1065783, 1065785, 1065786, 1065787, 1065788, 1065791, 1065792, 1065793, 1065795, 1065796, 1065797, 1065799, 1065800, 1065801, 1065802, 1065803, 1065808, 1065810, 1065811, 1065812, 410452, 541527, 1065815, 1065817, 1065829, 1065830, 1065832, 1065835, 1065836, 803693, 1065838, 1065843, 1065844, 803700, 1065846, 1065847, 1065850, 541564, 1065852, 1065853, 1065854, 1065857, 1065858, 1065859, 1065860, 1065861, 1065862, 1065864, 1065865, 1065866, 1065869, 1065870, 1590160, 1065872, 1065874, 1065875, 1065876, 1065877, 1065878, 1065879, 1065880, 1065882, 1065883, 1065884, 1065885, 1065886, 1065887, 1065888, 1065890, 1065891, 1065892, 1065893, 1065894, 1065897, 1065899, 1065900, 541613, 1227868, 1065904, 1065905, 1065908, 1065909, 1065910, 1065912, 1065916, 1065918, 1065921, 1065923, 1065924, 1065926, 1065931, 1065932, 1065933, 1065936, 541650, 541651, 1065939, 1065940, 541654, 1065944, 1065945, 541656, 1065947, 541660, 541662, 1065950, 1065951, 1065953, 803809, 541666, 541670, 1065959, 1065961, 1065963, 1065964, 1065965, 1065966, 1065967, 1065969, 541683, 1065972, 1065971, 541684, 541688, 1065976, 541690, 1065977, 1065978, 1065982, 541695, 541696, 1065984, 1065989, 1065990, 1065992, 541705, 541706, 541707, 1065995, 1065997, 541710, 541708, 1066000, 541711, 541709, 1066003, 1066004, 1065996, 1066006, 1066007, 541720, 1066009, 1066010, 541721, 541722, 1066013, 1066015, 541728, 1066017, 1066018, 541732, 541734, 1066022, 541735, 1066026, 541738, 1066028, 1066029, 541740, 1066031, 1066027, 541745, 17458, 1066035, 1066036, 541749, 1066038, 1066040, 541753, 1066041, 1066044, 1066045, 541758, 1066047, 1066050, 541764, 1066053, 1066057, 1066058, 1066059, 1066060, 1066061, 1066062, 1066063, 541776, 1066065, 1066066, 541770, 1066068, 1066069, 1066070, 1066071, 1066073, 1066075, 1066076, 1066077, 1066078, 1066081, 1066083, 1066084, 541797, 1066086, 1066087, 1066089, 1066090, 1066091, 1066094, 1066096, 1066098, 1066099, 1066100, 1590390, 1066103, 541816, 1066105, 1066106, 1066102, 1721468, 1066116, 1066118, 1066119, 1066120, 1066121, 1066122, 1066123, 1066125, 1066127, 1066128, 1066129, 1066130, 1066131, 1066132, 1066134, 672921, 672928, 1066145, 1066144, 1066147, 672931, 1066149, 1066148, 1066153, 1066155, 1066156, 1066158, 1066159, 1066162, 1066163, 1066164, 1066165, 804022, 1066168, 1066169, 1066173, 1066174, 1066176, 1066177, 1066178, 1066179, 541896, 541902, 1066198, 1066210, 673014, 1590528, 1066255, 1066273, 1066294, 1066295, 1066296, 1066297, 542010, 542006, 1066300, 1066301, 1066303, 1066305, 1066307, 1066309, 1066313, 1066314, 1066316, 1066317, 1066318, 1066319, 1066320, 1066326, 673110, 1066330, 1066332, 1066334, 1066337, 673122, 1066341, 1066344, 1066349, 1066351, 1066352, 1066354, 542067, 1066359, 1066360, 1066364, 542077, 1721727, 1066369, 1721730, 1066373, 1066375, 1066377, 1066381, 1066383, 1066386, 1066387, 1066394, 1066396, 1066397, 1066399, 1066401, 1066402, 1066405, 1066406, 1066409, 1066410, 1066415, 1066416, 1066417, 1066420, 1066421, 1066423, 1066424, 1066425, 1066426, 1066427, 1066439, 1066441, 1066447, 1066449, 1066451, 1066457, 1590746, 1590747, 1066461, 1066462, 1066465, 1066466, 1066467, 1066470, 673258, 1066475, 1066474, 1066479, 1066480, 542193, 1066482, 1066485, 1066488, 1066494, 1066495, 1066497, 1066498, 542211, 1066500, 1066501, 804358, 1066502, 542212, 1066505, 542216, 1066507, 1066509, 673295, 1066511, 1066516, 1066517, 1590806, 1066523, 1066524, 1066525, 673311, 1066530, 1066531, 1066532, 1066533, 1590822, 1066541, 1066543, 1721904, 1066544, 1066545, 1590835, 1066548, 1590838, 1066551, 542262, 1066554, 1066555, 1066559, 1066560, 1066564, 1066566, 1066570, 1066571, 1066572, 1066573, 1066574, 1066576, 1066579, 1066584, 1066585, 1066588, 1066589, 1066591, 1066593, 1066601, 1066605, 1066606, 1066609, 1066610, 1066611, 1066612, 1066615, 1066617, 1066618, 1066619, 1066621, 1066622, 1066623, 1066625, 1066627, 1066628, 1066629, 542340, 1066631, 673416, 1066634, 1066636, 1066645, 1066646, 1066648, 1066649, 1066651, 1066652, 1066653, 1066657, 1066659, 1066660, 1066661, 1197736, 1066665, 1066666, 673450, 1066664, 1066669, 1066668, 1066672, 1066674, 1066675, 1066676, 1066678, 1066679, 1066682, 149180, 1066688, 1066689, 1066692, 1066693, 1066695, 1066697, 1066700, 673485, 542414, 542415, 1066703, 1066705, 1066710, 1066715, 1066716, 1066718, 1066719, 1066720, 1066723, 1066724, 1066727, 1066728, 1066729, 1066730, 1066732, 1066733, 1066734, 1066736, 1066737, 1066738, 1066741, 1066742, 542454, 1066744, 542455, 1066746, 1066747, 1066750, 1066751, 1066753, 1066754, 1066758, 1066760, 1066761, 1066762, 1066763, 673546, 1066765, 1066767, 1066769, 1066770, 1066773, 1066774, 1066775, 1066777, 1066779, 1066782, 1591072, 1066784, 1066786, 1066787, 1066789, 1066790, 1066794, 1066795, 1066796, 1066797, 1066799, 1066802, 1066803, 1066805, 1066806, 1066807, 1066808, 673594, 1066811, 673596, 1197884, 673598, 1066817, 1066821, 1197893, 1066823, 1066824, 1066825, 1197894, 1197895, 1066830, 1197903, 1066831, 1066833, 1197907, 1066837, 1066841, 1066842, 1066843, 673625, 1066844, 1066846, 1066852, 1066854, 1066855, 1066856, 1066859, 149355, 149357, 1066862, 1066863, 1066865, 1066866, 149362, 1066868, 673653, 1066869, 1066870, 1066872, 1066873, 1066874, 149366, 673660, 1066876, 1066881, 1066883, 1066885, 1066886, 1066887, 673672, 1591178, 1591179, 1066892, 673680, 1197969, 1066898, 1066900, 1066906, 1066907, 1066909, 1066910, 1066912, 1066913, 1066916, 1066918, 673703, 1066921, 1066924, 1066926, 1066927, 1066929, 1066930, 1066931, 1066932, 1066936, 1066938, 1066943, 1066945, 1066946, 1066947, 1066948, 1066950, 1066956, 1066958, 1066959, 149456, 1066961, 1066965, 673757, 1066975, 1066977, 673762, 1066981, 1066982, 1066983, 1066985, 1066991, 1066995, 1066999, 1067000, 1067001, 1067004, 673792, 1067009, 1067011, 1329156, 1067014, 1067017, 673801, 1067019, 1067020, 1067023, 1067024, 1067026, 1067028, 1067029, 1067030, 1067031, 1067033, 1067034, 1067035, 1198109, 1067038, 1067039, 1067041, 1067042, 542755, 1067044, 1067045, 1067046, 1067043, 1067048, 673837, 673838, 1067056, 1067057, 1067058, 1067059, 1198129, 1067061, 1067060, 673846, 1067064, 1067067, 1067068, 1067070, 1067071, 1067072, 1067073, 1198148, 1067080, 1067081, 1067082, 1067083, 673869, 1067087, 1067088, 1067089, 673872, 1067100, 1067101, 1067102, 1067103, 1067104, 1067105, 1067106, 1067107, 1067116, 1067117, 1067118, 1067120, 1067126, 1067127, 1722492, 1067135, 1067138, 1067139, 1067141, 1067145, 1067147, 1067148, 1067150, 1067155, 1067156, 1067157, 1067158, 1067159, 1067161, 1067163, 1067164, 1067165, 1067166, 1067167, 1067168, 1067169, 1067170, 805028, 1067174, 1067175, 1067180, 1067181, 1067182, 1067183, 1067184, 1067186, 1067187, 1067188, 1067191, 1067193, 1618899, 1067199, 1591490, 805059, 805060, 1067205, 1067203, 1067207, 1067209, 1067210, 1067212, 1067213, 1067217, 1067218, 1067219, 1067221, 1067222, 1722590, 1067231, 1067232, 1067233, 1067241, 1067243, 1067244, 1067246, 1067249, 1067250, 1067253, 1067254, 1067255, 1722613, 1067256, 1067257, 1067259, 1198333, 1067263, 1067264, 1067267, 1591555, 542989, 1067279, 1067280, 1067281, 1067282, 1067283, 1067285, 1067290, 1722650, 1067294, 1067295, 1067296, 1067297, 1722655, 1591587, 1067300, 1067299, 1067306, 1722667, 1067311, 1067313, 674098, 1067314, 149812, 1067317, 1067319, 1067320, 1067321, 1067322, 149819, 1067323, 1067328, 1067331, 1067332, 1067333, 1067339, 1067343, 1067344, 1067345, 1722704, 1067348, 1067349, 1067350, 1067351, 1067352, 1067353, 1067354, 1067355, 1067358, 1067359, 1067362, 18792, 1067369, 1067370, 1067372, 1067373, 1067374, 1067375, 1067376, 1067377, 1067380, 1067384, 1067386, 1067387, 1067389, 1067390, 1067391, 1067394, 1067395, 1067396, 1067397, 1067398, 1067399, 1067401, 1067402, 1067403, 1067404, 1067405, 1067408, 1067409, 1067412, 1067414, 1067416, 1067417, 1067418, 1067419, 1067421, 1067422, 1067423, 1067424, 1067426, 1067427, 1067428, 1067429, 1067430, 1067431, 1067432, 1067438, 1067439, 1067440, 1067444, 1067446, 1067447, 1067448, 1067449, 1067450, 1067452, 1067453, 1067454, 1067456, 1067458, 1067459, 1067463, 1067465, 1067466, 1067468, 1067469, 1067470, 1067471, 1067473, 1067475, 1067476, 18901, 1067478, 1067477, 1067480, 1067481, 1067479, 1067482, 1067484, 1067487, 1067488, 1067489, 1067491, 1067493, 1067494, 1067495, 1067496, 1067497, 149994, 1067500, 1067502, 1067503, 1067505, 1067506, 1067507, 1198579, 1067509, 1067510, 1067511, 1067512, 1067513, 1198581, 1067515, 1067518, 1067519, 1067520, 1067521, 1067522, 1067523, 1067524, 1067525, 1067526, 1067527, 1067530, 1067533, 674318, 1067534, 1067536, 1067537, 1722895, 1067538, 1067541, 1067543, 1067544, 1067546, 1067547, 1067548, 674331, 1067551, 1722914, 1067556, 1067561, 1722922, 1067564, 1198639, 1067567, 1067569, 1067571, 1067572, 1067573, 1067574, 1067575, 1067576, 1067577, 1067578, 1067582, 1198655, 1067592, 1067598, 1067599, 1067601, 1067602, 1067603, 1067604, 1067608, 1067613, 1067614, 1067616, 1067617, 1067618, 1067619, 1198689, 1067622, 1067629, 1067633, 1067636, 1067637, 1067638, 1067639, 1067640, 1067641, 1067643, 1067644, 1067645, 1067646, 1198716, 1067648, 1067647, 1067653, 1067654, 1067658, 1067659, 1067660, 1067662, 1067663, 543376, 674449, 674450, 1067667, 674452, 1067669, 1067670, 1067671, 1067672, 1067673, 1067668, 543386, 543388, 1067685, 1067692, 1067693, 1067694, 1067695, 543407, 1067699, 1067701, 1067702, 1460919, 1067704, 1460921, 1067705, 1067707, 1067708, 1198775, 1198780, 1067711, 1067713, 1067715, 1067716, 1067718, 1198790, 1067721, 1067723, 674507, 1067725, 1067726, 1067727, 1067728, 1067729, 1067730, 1067733, 1067735, 1067741, 1067745, 1067746, 1067748, 674533, 1067751, 1067752, 1067754, 1067755, 1067756, 1067757, 1067758, 1067760, 1067761, 1067763, 1067765, 1067766, 1067770, 1067771, 1067772, 1592060, 1067774, 1067773, 1067776, 1067775, 1067779, 1067780, 1067781, 1067783, 1067788, 1067789, 1067790, 1067793, 1067795, 1067797, 1067798, 1067799, 1067800, 1067802, 1067803, 1067804, 1067805, 1067806, 543517, 1067808, 1067809, 1067807, 1067815, 1067817, 543530, 1592110, 1067824, 1067825, 1067826, 1592116, 1067832, 1067840, 1067843, 1067847, 543562, 543564, 1067853, 1067855, 543568, 543569, 1067858, 543574, 1067865, 543577, 543578, 1067870, 1067873, 543585, 543587, 1067876, 1067877, 543590, 1067879, 1198951, 543593, 1067882, 1067883, 543595, 543594, 1067886, 674672, 1067889, 1067890, 1067894, 1067900, 543617, 1067910, 150406, 543626, 150411, 150412, 1067917, 1067918, 1067919, 1067920, 1067922, 1067924, 1067925, 1067927, 1067929, 1067930, 1067931, 1067932, 1067933, 1067934, 1067935, 1067937, 1067938, 1067939, 1067941, 150438, 1067942, 1067944, 1067945, 1067946, 1067947, 1592230, 1067949, 1067950, 1199021, 1067953, 1067955, 1067958, 1199041, 1067971, 1067974, 1067975, 1067977, 1067981, 1067984, 1067985, 1067987, 1067991, 1067992, 19417, 1067994, 1067995, 19415, 1068000, 1068002, 1068003, 1068007, 1068008, 1068009, 1068010, 1068012, 1068013, 1068015, 1068016, 1068018, 1068019, 1068020, 1068021, 1068025, 1068026, 1068027, 1068028, 1068030, 1068031, 1068032, 1068033, 1068038, 1068041, 1068042, 1068043, 674828, 1068045, 1068046, 1068047, 1068049, 1068051, 1068052, 1068053, 1068054, 1068057, 674843, 1068062, 1068066, 1068067, 1068068, 1068069, 1068070, 1068075, 1068083, 1068084, 1068087, 1068089, 1068090, 1068091, 1068092, 1068094, 1068095, 1068096, 1068097, 1068099, 1068100, 1068101, 1068102, 1068104, 1068105, 1068106, 1068107, 1068109, 1068110, 1592398, 1068112, 1068113, 1068118, 674904, 150618, 1068123, 1068124, 1068126, 1068127, 1068128, 1068129, 1068130, 1068131, 150628, 1068134, 1068136, 1068139, 1068140, 1068143, 1068144, 1068147, 1068149, 1068150, 1068151, 1068152, 1199225, 674938, 1068155, 1068156, 1068157, 1068153, 1068159, 1068161, 674947, 1068164, 1068165, 1068163, 1199236, 1068168, 1068169, 674948, 1068171, 1068172, 1068173, 1068174, 1068177, 1068178, 1068179, 1068188, 1068192, 1592481, 1592482, 1068194, 1068197, 1068199, 1068200, 1068201, 1068202, 1068203, 1068205, 1068206, 1068209, 1592499, 1068211, 1068213, 1068214, 1592503, 1068215, 674999, 1068216, 1068219, 1068221, 1068222, 1068223, 1068225, 1068226, 1068227, 1068228, 675012, 1068229, 1068230, 1068231, 1068232, 1068236, 1592526, 1068241, 543955, 1068245, 1068246, 1068247, 1068248, 675033, 1068250, 1068253, 1068254, 1068256, 675041, 1068258, 1068259, 1068260, 1068261, 1068257, 1068263, 1068264, 1068266, 1068268, 675054, 1068277, 1068279, 1068280, 1068281, 1068285, 1068287, 1068288, 1068295, 1068299, 675084, 1068301, 1068302, 1068303, 1068305, 1068306, 1068308, 1068310, 1068312, 1068313, 1068314, 1068317, 1068318, 544031, 1068319, 1068324, 1068326, 1068327, 1068328, 1068329, 1068332, 1068333, 1068335, 1068339, 1068342, 675127, 1068344, 1068348, 1068349, 1068350, 1068354, 1068355, 1068358, 1199431, 1068361, 1068364, 1068365, 1068367, 1068368, 806226, 1068371, 1068373, 1068378, 1068379, 675164, 1068381, 675166, 1068383, 1068384, 1068385, 1592674, 1068386, 1068388, 1068389, 675176, 1068394, 675179, 1068399, 1068400, 1068402, 675186, 1068404, 1068406, 1068407, 1068408, 1068409, 1068410, 1068411, 1068413, 1068415, 1068416, 1068417, 1068418, 1068423, 937352, 937353, 1068426, 937355, 937354, 1068425, 1068430, 1068433, 1068437, 1068439, 806295, 1068441, 675225, 1068440, 1068445, 1068447, 1068449, 1068450, 1068451, 1068452, 675238, 1068454, 1068457, 1068459, 1068460, 1068464, 1068465, 1068466, 1068468, 1068469, 1068470, 1068471, 1068472, 1068473, 1068477, 1068478, 1199550, 1068480, 675265, 1068482, 675264, 413124, 1068488, 150988, 1068495, 1068496, 1068497, 675282, 150992, 1068500, 1068502, 1068503, 675287, 1068505, 1068506, 1068508, 675292, 675293, 1068509, 1068511, 1068515, 1068516, 806374, 675303, 1068522, 1068526, 1068527, 675312, 1068534, 1068536, 1068537, 1068541, 1068542, 806399, 1068543, 1068545, 675329, 675330, 675331, 1068549, 1068550, 675335, 1068552, 675337, 675333, 1068555, 675340, 675336, 1068557, 675334, 1068560, 1068561, 1068553, 1068556, 1068564, 1068566, 1068567, 1068569, 1068574, 1068575, 1068576, 1068578, 1068579, 1068580, 1199652, 1068582, 1068581, 1068584, 151080, 1068585, 1199658, 1068588, 1068589, 1199662, 1199660, 1199664, 1068592, 1068593, 1199665, 1068596, 675379, 1199663, 1068599, 1199667, 1068601, 1068602, 1199674, 1068604, 1199677, 1068606, 1199671, 1199680, 1199681, 1068609, 675395, 1068612, 544325, 675393, 1068615, 1199689, 1068619, 1068622, 1199696, 1068625, 1199698, 1199701, 1068630, 1068632, 1068633, 1068635, 1199708, 1068638, 1068640, 1068641, 1068643, 675428, 1068644, 1068647, 1068648, 1199720, 1068650, 1068651, 675436, 1068649, 675438, 675439, 1068657, 1068662, 1068663, 1068664, 1068666, 1068668, 1068670, 1068678, 1068680, 1068681, 1068682, 1068683, 1068684, 1068685, 675469, 1068687, 1068688, 1068689, 1068690, 1068686, 1068692, 675477, 675479, 1068696, 1068700, 1068701, 1068702, 1068703, 1068704, 1068705, 1068708, 1068709, 1068710, 1068711, 1068713, 1068714, 1068716, 1068717, 1068718, 1068719, 1068721, 1068722, 1068728, 1068731, 1068733, 1068739, 1068744, 1068746, 1068747, 1150279, 1068753, 1068754, 1068757, 1068759, 1068767, 1068773, 1068775, 1068786, 1068787, 1068788, 1068790, 1068791, 1068792, 1068796, 1068799, 1068801, 1068802, 1068805, 1068806, 1068807, 1068808, 1068809, 1068810, 1068811, 1068814, 1068816, 1068817, 1068819, 1068820, 1150293, 1068824, 1068825, 1068828, 1068829, 1068830, 1068832, 1068833, 151330, 1068836, 1068840, 1068841, 1068842, 1068848, 1150299, 1068851, 1068853, 1068855, 1068857, 1068858, 1068868, 1068869, 1068871, 1068874, 1068880, 1068884, 1068887, 1068889, 1068890, 1068892, 1068894, 1068901, 1068908, 151435, 1593236, 1228483, 151515, 675809, 675815, 1593325, 1200114, 675833, 1593345, 938045, 151648, 938081, 938096, 938102, 938104, 938120, 1593500, 938156, 1200316, 1200323, 1200324, 1200329, 151755, 1069289, 1593578, 1593583, 1593588, 676099, 1724692, 676116, 1593625, 1593642, 938300, 938301, 938330, 1069407, 1069416, 1069417, 1069424, 676214, 676216, 676217, 676218, 676219, 676220, 1069442, 1069443, 1069448, 1069450, 1069451, 1069455, 1069460, 1069461, 1069486, 676272, 1200561, 1069489, 1069494, 1069501, 1069502, 1069508, 1069514, 545226, 1069516, 1069518, 1069526, 1069527, 1069528, 1069529, 1069530, 1069531, 1069532, 1069535, 1069536, 1069537, 1069538, 1069539, 1069540, 1069541, 1069543, 1069544, 1069546, 1069547, 1069550, 1069553, 1069555, 1069556, 1069557, 1069560, 1069561, 1069562, 1069563, 1069568, 1069573, 676363, 1069583, 1069586, 1069587, 676371, 1069588, 676372, 676375, 1069589, 1069593, 1069594, 676377, 676379, 1069595, 676382, 1069599, 1069600, 1069601, 1069603, 1069604, 1069605, 1069606, 1069608, 1069609, 1069610, 1069611, 1069612, 1069613, 1069614, 1069615, 1069616, 1069617, 1069618, 1069619, 1069620, 1069621, 1069623, 1069624, 1069625, 1069626, 1069627, 1069628, 1069629, 1069630, 1069631, 1069632, 1069633, 1069635, 1069636, 1069637, 1069638, 1069639, 1069640, 1069641, 1069642, 1069643, 1069644, 1069648, 1069649, 1069651, 1069652, 1069653, 1069654, 1069655, 1069656, 1069657, 1069659, 1069660, 1069662, 1069663, 1069664, 1069665, 1069666, 1069667, 1069668, 1069669, 1069678, 1069680, 1069682, 1069683, 1069685, 1069686, 1069687, 1069688, 1069689, 1069690, 1069691, 1069692, 1069693, 1069694, 1069697, 1069698, 1069699, 1069700, 1069701, 1069702, 1069704, 1200776, 1069706, 1069708, 1069709, 1069710, 1069712, 1069713, 676497, 1069715, 1069716, 1069717, 1594006, 1069718, 1069719, 1069721, 1069722, 1069723, 1069724, 938654, 1069730, 1069731, 1069732, 1069733, 1069734, 1069736, 1069738, 1069739, 1069740, 1069741, 1069742, 1069743, 1069745, 1069747, 1069748, 1069749, 1069750, 1069751, 1069752, 1069753, 1069754, 1069755, 1069757, 1069759, 1069762, 1069763, 1069764, 1069765, 1200839, 1069769, 1069770, 1069771, 1069773, 1069775, 1069776, 1069777, 1069780, 1069781, 1069782, 1462999, 1463000, 1069786, 1069789, 938717, 1069791, 1069793, 1069794, 1069796, 1069797, 1069798, 1069799, 1069800, 1069801, 1069802, 1069803, 1069806, 1069810, 1069811, 1069813, 1069817, 1069818, 1069819, 1069820, 1069821, 1069822, 1069823, 1069824, 1069825, 1069826, 1069827, 1069828, 1069829, 1069830, 1069831, 1069832, 1069833, 1200904, 1069834, 1069837, 1200910, 1069839, 1069838, 1069840, 676626, 1200911, 1069844, 1069845, 1069846, 1069850, 1069852, 1069853, 1069854, 1069855, 1069856, 1069858, 1069859, 1069861, 1069862, 1069863, 1069864, 1069865, 1069866, 1069867, 1069868, 1069869, 1069870, 1069872, 1200945, 1069874, 1069875, 1069876, 1200950, 1069878, 1069879, 1069883, 1069884, 1069885, 1069886, 1069888, 1069895, 1069897, 1069898, 1069900, 1069902, 1069903, 1069904, 1069906, 1069908, 1069910, 676694, 1069913, 1069915, 1069916, 1069918, 1200991, 1069919, 1069921, 1069920, 1069922, 676708, 1069924, 1594214, 1069928, 1069929, 1069931, 1069932, 1069933, 1069935, 1069937, 1069940, 1069941, 938870, 1069945, 676731, 1069949, 1069951, 1069955, 1069956, 1069957, 1069959, 1069960, 1069961, 1069965, 1332111, 1069967, 1069968, 1069970, 1069971, 1201043, 676758, 1201046, 1069976, 1069979, 1069982, 1069983, 1069984, 1069986, 1069987, 1069988, 1069989, 1069990, 1069991, 807850, 1069995, 1069996, 1069997, 1070001, 1070002, 1070003, 1070004, 1070008, 1070009, 1070010, 1201083, 1070012, 1070011, 1070015, 1070016, 1070017, 1070018, 1070019, 1070020, 1070021, 1070022, 1070025, 1070026, 1201099, 1070028, 1070029, 1070030, 1070031, 1070034, 1070035, 1070036, 1070037, 1070038, 1070039, 1201112, 1070040, 1070042, 1070041, 1201114, 1070044, 1070046, 1070047, 1070050, 1070051, 1201124, 1070053, 1725413, 1725415, 1070054, 1070057, 1070056, 676843, 1070059, 1070061, 1070062, 1070063, 1070058, 1070060, 1070067, 1070069, 1070073, 1070074, 1070077, 1070078, 1070079, 1070081, 1070083, 1070084, 1070085, 1070088, 1070090, 1070091, 1070092, 1201162, 1070094, 1070093, 1070096, 1070098, 1070099, 1070100, 1070102, 1070103, 1070104, 1201178, 1332255, 1463328, 1201196, 1070141, 1070157, 1070160, 1070171, 1070176, 1070177, 1070178, 1070191, 1070192, 1070199, 1070206, 1070207, 1070221, 1070224, 1201296, 1070236, 1070237, 414881, 1070242, 1070244, 1070255, 1070266, 152788, 152789, 152790, 1070295, 152792, 152795, 1201374, 1070313, 1070316, 1070326, 21751, 152827, 1070332, 21764, 1070340, 1070343, 152843, 152844, 1070349, 152845, 1070353, 677137, 152852, 152855, 1070374, 1070376, 1070383, 1201459, 1201460, 1201472, 415041, 1070414, 1070423, 1070424, 1070427, 415068, 1070434, 1070454, 1070456, 1070473, 1070474, 1070476, 1070477, 1070486, 1070488, 152989, 1070496, 1070501, 1070503, 1201593, 153019, 546237, 1070526, 1070531, 1070543, 1201616, 1201617, 1070546, 153043, 1070548, 1201621, 1070553, 1070554, 1070557, 1070558, 1070573, 1070578, 1070579, 1070583, 153082, 1070590, 1070598, 153095, 1070599, 1070601, 1070602, 1070603, 1070600, 1070605, 153101, 153107, 939543, 939546, 1070619, 939554, 939556, 1070629, 1070630, 1070631, 939561, 1070637, 939567, 939569, 939572, 1070645, 1070650, 1070653, 1070654, 1070655, 939584, 153153, 1070659, 939591, 1070664, 1070666, 153166, 1070672, 1070673, 1070674, 153171, 153173, 1070678, 1070679, 1070681, 1070685, 153182, 1070691, 1070692, 1070694, 1070707, 677503, 1070722, 1070723, 1070726, 1070728, 1070729, 1070730, 1070731, 1070732, 1070733, 1463950, 939663, 1070737, 1070740, 1070743, 1070744, 939672, 1463959, 1070747, 153244, 1070750, 1070753, 1070754, 1070757, 1070759, 1070760, 1070761, 1070762, 1070763, 1070768, 1070769, 153265, 939699, 546482, 1070776, 939713, 1070787, 546525, 677606, 153320, 153323, 939755, 22281, 677645, 677655, 677656, 677659, 1464093, 1070877, 677686, 808761, 1464123, 1464133, 1070930, 677722, 153434, 1464160, 1464171, 1464190, 1464200, 1595276, 1464208, 1071005, 677790, 1071007, 1595304, 677803, 939956, 939964, 939999, 1071073, 1333225, 940013, 808955, 940031, 940034, 677893, 940039, 940070, 940081, 940083, 940084, 940085, 940087, 940088, 940089, 940094, 940096, 940097, 940099, 153669, 940107, 940111, 940112, 153682, 940183, 940187, 940193, 940196, 940217, 940222, 940225, 940228, 940252, 940285, 1202443, 940300, 678162, 678175, 940319, 940320, 678179, 940338, 940339, 678198, 22850, 1595738, 678236, 678261, 678262, 940435, 1464729, 1595803, 940452, 940465, 1464771, 154051, 154054, 940491, 678366, 940514, 1595904, 940544, 940548, 1595909, 154122, 154124, 154125, 154133, 1595930, 154145, 154149, 809510, 154150, 154152, 154153, 154170, 154171, 1595965, 940613, 940617, 154198, 940647, 940648, 940663, 940671, 940679, 1596049, 547484, 940790, 547582, 547584, 1596168, 547616, 940834, 678695, 809769, 547625, 1596205, 154447, 547673, 547674, 1334145, 809862, 941009, 941019, 23535, 1072156, 678971, 678972, 1596488, 810059, 678996, 154736, 1072250, 1072275, 679131, 1072349, 1072355, 1072357, 679145, 154860, 1596681, 1072395, 1072396, 679186, 1072406, 1072412, 23850, 941396, 23908, 810359, 155004, 155005, 810390, 1596827, 155055, 155058, 155083, 810449, 155103, 155187, 1596980, 1597034, 1597039, 1597053, 1728167, 417454, 417456, 810690, 679790, 679793, 679797, 679798, 679800, 679890, 810975, 1073131, 810999, 417789, 1073151, 417792, 1597444, 811022, 811041, 24635, 1204293, 1466449, 1073248, 811111, 1073262, 811142, 811152, 811154, 811155, 1466534, 942256, 1073330, 1073335, 1073337, 1073338, 1073339, 1073340, 1073350, 1073352, 680139, 811212, 1073358, 1073368, 942301, 1073374, 1073375, 1073377, 1073379, 1073382, 1073386, 1073389, 1073391, 1073396, 1073400, 1073401, 1073402, 1073404, 1073405, 1073407, 1073409, 1597700, 1073416, 1073419, 1073422, 1073435, 1073437, 1073438, 680229, 811304, 1073451, 1073452, 942381, 811314, 1073474, 1073477, 1073484, 155981, 1073486, 1073487, 155982, 155985, 1073492, 1073493, 1073494, 1073495, 418140, 1073502, 418143, 418145, 418146, 1073505, 1073510, 1073513, 1073514, 1073515, 1073517, 156016, 156017, 1073522, 1073525, 1073528, 1073529, 1073553, 1073556, 1597845, 680342, 1073560, 1073564, 1073565, 1073566, 1073568, 1073571, 1073572, 1073577, 1073579, 680371, 1073591, 1073592, 1073593, 1073595, 1073596, 1073598, 1073599, 1073602, 1073604, 1073608, 1073609, 1073614, 1073615, 1073620, 1073622, 1073623, 1073625, 1073626, 1073627, 1073628, 1073629, 1073630, 1073631, 1073632, 1073633, 1073634, 1073635, 1073636, 1073637, 680419, 1073639, 1073640, 1073641, 1073644, 1073645, 1073646, 1073647, 1073648, 1073654, 1073657, 1073659, 1073660, 1073661, 1073663, 1073670, 156174, 1073679, 1073682, 1073683, 1597972, 1073685, 1073689, 1073690, 1073691, 1597979, 1073693, 1073697, 1597986, 418342, 1073705, 418346, 1073709, 1073715, 1073716, 1073717, 1073718, 1073719, 1073721, 1073726, 1073731, 1073734, 1073735, 1073736, 1073737, 1073738, 1073741, 1073745, 1073746, 1073749, 1073750, 1073755, 1073756, 1073759, 1073762, 1073764, 1073777, 942714, 1073788, 1073792, 418433, 418434, 1073801, 1073805, 1073811, 1073822, 1073825, 418476, 811698, 1073844, 1073864, 1073873, 1073876, 1073877, 1073885, 1073886, 1598176, 1073893, 811757, 811759, 1073913, 1073916, 1598207, 1073919, 1073921, 1598210, 1073920, 1073922, 680706, 1073929, 1073930, 680717, 1073934, 1073935, 1073954, 1073962, 1073963, 1073964, 811838, 418623, 1598284, 1598287, 811858, 1074019, 156524, 1074042, 1074048, 1074051, 1598340, 1598341, 1074053, 1074055, 418696, 1074054, 1074058, 1598346, 1074052, 1598349, 1074062, 1598351, 418695, 1598355, 25493, 1598358, 1598359, 1074070, 1074097, 1074100, 1074106, 1074117, 1074121, 1074136, 1074137, 1598429, 1598433, 1074148, 1074155, 1074156, 1074159, 1074160, 1074166, 1074174, 1074178, 1074179, 1074182, 1074185, 1074188, 1074189, 812047, 1074202, 1074207, 1074208, 1074238, 1074239, 1074248, 1074252, 1074254, 1074255, 1074263, 1074265, 1074266, 1074267, 25689, 1074268, 1074270, 1074273, 1074274, 1074275, 1074276, 1074277, 1074278, 1074280, 1074281, 1074282, 1074287, 1074289, 1074290, 1074293, 1074296, 1074300, 1074303, 1074304, 1074306, 1074307, 1074310, 1074315, 1074317, 1074319, 1074321, 1074323, 1074324, 1074326, 1074328, 1074329, 1074332, 1074353, 1074383, 1074392, 1074393, 1074395, 1074396, 812258, 1074405, 1074406, 1074407, 1074409, 1074410, 812299, 1074444, 1074447, 1074450, 1598749, 943400, 681283, 1074550, 1074551, 1074554, 1074563, 1074564, 1074565, 1074566, 812423, 1074581, 1074588, 1074590, 1074596, 1074605, 1074618, 1074625, 1074630, 1074634, 1074635, 1074637, 1074646, 1074662, 1074665, 1074675, 1074677, 419317, 1074679, 1074683, 1074686, 1074689, 1074690, 1074695, 1074696, 1467914, 1467915, 1074724, 1074725, 1074727, 1074728, 1074734, 1074735, 1074739, 1074743, 1074775, 1074777, 1074778, 1074782, 1074787, 1074788, 1074791, 1074792, 1074793, 1074795, 1074796, 1074797, 1074798, 1074800, 1074801, 1074804, 1074805, 1074806, 1074807, 1074808, 1074809, 1074810, 1074811, 1074814, 1074819, 1074831, 1074839, 1468056, 1074846, 943780, 1599140, 1468085, 1468086, 1074886, 1074900, 1074901, 1074903, 1074908, 1074921, 812778, 812780, 1468158, 1074944, 1074953, 681739, 1074955, 1074962, 1074976, 1074977, 1074979, 1074982, 1074983, 1074986, 1074987, 943943, 812884, 1075031, 812888, 1075042, 1075045, 1075046, 1075048, 1075049, 1075052, 812909, 1075054, 812910, 1075056, 1075058, 1075059, 812916, 1075060, 1075063, 1075066, 1075067, 1075071, 1075072, 944001, 944002, 1075076, 157576, 1075080, 1075082, 1075089, 1075090, 1075093, 1337243, 812957, 1075101, 1337249, 1075109, 1075113, 1337265, 1075122, 1075124, 1075125, 1075126, 1075129, 1075132, 1468354, 1075139, 1075141, 1075142, 944069, 1075145, 1075148, 1337293, 1075162, 419805, 1075168, 1075171, 1075172, 419818, 1337324, 419820, 1075181, 1075182, 419822, 419829, 419831, 1075198, 419843, 419845, 419846, 1075207, 1075210, 1075227, 1075230, 288799, 288800, 1075232, 288810, 1075243, 1075242, 1075246, 419891, 419892, 1075253, 1075252, 1075255, 1075256, 419897, 419898, 1075259, 419902, 1075263, 1075265, 944194, 1075271, 1075279, 1075280, 1075286, 1075288, 1075289, 944227, 1075306, 1075309, 1730675, 813183, 1075328, 944262, 1075336, 1075341, 419982, 1075345, 1075346, 419986, 1075348, 1075373, 944304, 813238, 420029, 1468610, 1075399, 1075400, 1075401, 1075402, 1075404, 1075406, 1075423, 1730786, 1730787, 944368, 1075442, 1075457, 1730818, 813321, 1730828, 813335, 1075479, 813337, 1730852, 1075500, 1075506, 1075509, 1075515, 944444, 1075528, 1075530, 1075533, 813398, 420190, 1468788, 1075581, 813438, 813439, 1075583, 1075586, 1075587, 1075597, 944545, 944546, 158120, 158122, 158123, 158127, 1206713, 1206718, 1206721, 158150, 1468870, 289242, 420320, 813547, 813548, 813549, 813554, 813555, 813566, 944641, 158210, 1731078, 158217, 158218, 813579, 813580, 813581, 813582, 1468949, 158246, 289340, 1468992, 158286, 158289, 158290, 944726, 813665, 289383, 813711, 158360, 158361, 158364, 158383, 813743, 158384, 158385, 158388, 944832, 158406, 289480, 1731279, 1731281, 158443, 158444, 158457, 158470, 158471, 158481, 158494, 551711, 1338154, 1469228, 813872, 813873, 1207108, 813906, 813908, 813911, 289709, 814008, 814009, 814010, 814011, 814012, 814013, 814014, 1469397, 1731549, 814054, 814058, 814059, 814060, 814066, 1469540, 814190, 1207425, 1469577, 1469579, 1338565, 1469655, 1469656, 1469659, 1469660, 1469661, 1469662, 1469664, 1469667, 1469668, 1469671, 1338603, 1600751, 1207552, 1600781, 1600788, 1338690, 1338691, 1338692, 1338693, 1469774, 421202, 421203, 1731923, 1469794, 1469796, 1469798, 552300, 1469811, 552308, 552312, 1469818, 1338756, 552340, 945560, 1338776, 552412, 552413, 1338948, 1076852, 552572, 552573, 1339006, 1601154, 1732277, 1732278, 552646, 814886, 290613, 290621, 1470283, 1470286, 1077136, 1077159, 1077181, 290777, 1339427, 1339429, 290854, 1339436, 946242, 1601607, 1601608, 1601665, 1601666, 1208485, 1208492, 1077469, 1601833, 291191, 684430, 291215, 422300, 422330, 422336, 1602044, 946685, 1077756, 815630, 1077777, 1077783, 1077784, 1077788, 1602077, 1077791, 1077794, 1077795, 1077799, 1077824, 291407, 1077843, 291413, 1077854, 1077858, 1077861, 1077864, 1077866, 1077876, 1077883, 1077884, 1077892, 1077895, 1077896, 1077897, 1077899, 1077900, 1077901, 1077902, 1077903, 1077905, 1077906, 1077907, 1077908, 1077910, 1077918, 1077919, 1077920, 1077924, 1077925, 1077926, 1077927, 1077928, 1077945, 1077953, 684747, 1077977, 1077978, 1077981, 422623, 1077988, 1077991, 1077992, 1077993, 1077995, 1209069, 1077998, 1077999, 1078000, 1078004, 946936, 1078009, 1209082, 1209083, 1209084, 1209085, 1078012, 1078015, 1209089, 1078020, 1209093, 1209092, 1209100, 1078029, 1078031, 1209113, 1209114, 1209115, 1209116, 1078046, 1209119, 1078048, 1209120, 1078053, 1209126, 1078054, 1209129, 422697, 1209131, 1078059, 1078063, 1078064, 1078067, 1078069, 1209144, 1078079, 1078080, 1209153, 1209154, 1209155, 1078084, 1078085, 1209158, 1078086, 1209164, 1209170, 1209171, 1078099, 1209174, 1078106, 1078107, 1078119, 1078129, 1078130, 1078133, 1209207, 1209208, 1209211, 422782, 1209220, 1078149, 1209224, 1078160, 1078165, 1209240, 1078169, 1209256, 1209269, 684981, 422843, 1078205, 1209277, 1078207, 1209281, 1078210, 1078217, 1078221, 947150, 1078224, 1078225, 1078226, 1078228, 422883, 1078244, 422884, 1209327, 1209328, 1471473, 1209331, 1078260, 1078261, 1078268, 1078274, 1078295, 1078300, 1078301, 947246, 1078319, 1209398, 1078327, 1078330, 1078338, 1078339, 1078340, 1078342, 1078346, 1209421, 1209426, 422995, 422996, 1078354, 1078385, 1078395, 1078398, 1078402, 1078403, 1078405, 1078408, 1078409, 1078410, 1078411, 1078412, 1078413, 1078414, 1602701, 1078416, 1078418, 1078420, 1078421, 423071, 423091, 1078463, 1078473, 423117, 1078479, 1078482, 1078483, 1078484, 423128, 423130, 1078503, 1078504, 1078506, 1078507, 423148, 1078512, 1078515, 1078516, 1078521, 1078523, 1078524, 1078541, 423183, 423184, 1078546, 1733908, 1078548, 423190, 1078551, 1078552, 1078553, 1078554, 1078555, 1078556, 1078561, 1078566, 1078567, 1078589, 1078600, 1078602, 1078670, 1078671, 423312, 423313, 292242, 423314, 685467, 1340849, 1078736, 292304, 423429, 1078808, 1725414, 292439, 292440, 292441, 292442, 1734238, 292470, 1078909, 1078927, 554657, 554658, 1603285, 947934, 1603326, 1079050, 1079091, 1079097, 1079100, 685885, 1079102, 1079103, 1472323, 423751, 423758, 423789, 1079153, 1210294, 292799, 292801, 1210331, 1603582, 292874, 1210382, 1210459, 1210460, 1079415, 1079422, 30848, 30849, 1210515, 1079452, 1079465, 1079491, 1079501, 1079503, 1079510, 1079511, 1079515, 1079528, 686318, 293110, 1079559, 1079561, 1079565, 1079566, 1079567, 1079585, 1079586, 1079587, 1079605, 1079610, 1079616, 1210694, 948554, 293211, 293213, 293215, 1210747, 1210830, 1079794, 1079881, 1079885, 1079889, 1079898, 1079899, 1079900, 1079905, 1079908, 1079909, 1079911, 1079925, 1079928, 1079937, 1079938, 293507, 293508, 1079950, 1079951, 1079953, 1079955, 1079956, 1079957, 1604312, 1211099, 1604331, 1211120, 1604337, 1604338, 1211127, 1080063, 1080064, 1604355, 1604356, 1080068, 1080081, 1604374, 1080093, 1080095, 817954, 555823, 1211202, 1211260, 686996, 1080227, 1473459, 1473466, 1080253, 1080254, 1080256, 1080257, 1080258, 1080260, 31686, 1211358, 1080299, 1080323, 1080324, 1080359, 1080394, 1080403, 1080406, 1080420, 1080425, 1080431, 1080433, 1080442, 1080445, 1080446, 1080458, 1080464, 1080470, 1080471, 1211558, 1211562, 1211572, 949459, 1211608, 1211611, 1211615, 1211617, 1080546, 1080550, 687358, 1211651, 1211669, 1080606, 818464, 687427, 687429, 1080652, 1080663, 1080665, 1080668, 1080669, 1080678, 818544, 687482, 1080719, 1080721, 1080722, 687517, 687533, 687601, 1474037, 1474044, 687632, 1474106, 556604, 1605216, 1474157, 1212088, 818878, 818880, 818895, 818934, 818942, 818944, 687896, 950041, 32569, 687931, 556914, 556915, 556916, 32627, 32630, 32631, 32632, 687995, 688010, 688051, 1081383, 294957, 557122, 688300, 1081539, 1081544, 1212630, 1081595, 1081615, 1081617, 819503, 819505, 819508, 819509, 819512, 819515, 819517, 295229, 819520, 819530, 295245, 426337, 1081708, 557455, 557456, 557464, 295330, 819626, 819628, 819641, 1081791, 33215, 688578, 819653, 819659, 819661, 819664, 688601, 819679, 819684, 819692, 819694, 819698, 1475060, 819700, 1475061, 426492, 819711, 819728, 1081872, 33301, 1081886, 1081891, 1475108, 295460, 1081892, 1081894, 295464, 688685, 688689, 1081908, 1212980, 426551, 1081913, 1081914, 1081915, 1081917, 1081920, 1081921, 1081922, 1081923, 1081924, 688704, 1212998, 1081927, 1081929, 1081932, 1081933, 688719, 688722, 688723, 688724, 688725, 688726, 688727, 688728, 688729, 1081941, 688731, 1081944, 688733, 1081948, 688735, 1213018, 688739, 688741, 688742, 688751, 688758, 1081976, 688761, 688769, 688770, 688771, 1081992, 295573, 688799, 688802, 688803, 295591, 688808, 295592, 295603, 688837, 1606348, 1606349, 295630, 1082065, 1082067, 688852, 1082073, 688861, 426722, 1082099, 688885, 1606397, 688900, 1475336, 688905, 1475338, 1475342, 1475343, 1475344, 1475352, 1475357, 688927, 1475362, 820005, 1475365, 1475366, 688936, 1475369, 820009, 1475371, 688939, 1475379, 688949, 1475385, 1213242, 1475386, 688960, 1082184, 820059, 1475422, 1082206, 688992, 688995, 689002, 295791, 689011, 295804, 689021, 295836, 689054, 689070, 689076, 689091, 689100, 689101, 689107, 689109, 689119, 689124, 689125, 1213417, 689138, 689143, 820216, 689163, 689164, 689165, 689173, 689177, 1082417, 689214, 689230, 1213538, 296074, 296075, 296076, 951436, 296083, 296084, 296087, 165025, 820392, 1213613, 1213639, 1082572, 427234, 820463, 165115, 820478, 820540, 820541, 165186, 1082713, 689523, 1082744, 1082747, 820612, 820617, 820618, 820619, 1082772, 165300, 689597, 689600, 689609, 1082832, 1082837, 820704, 427488, 165346, 689637, 951794, 689659, 427518, 165378, 165385, 1082936, 1082949, 951899, 951901, 1082983, 1082995, 951926, 1083031, 1083034, 1083036, 1083037, 1083038, 1083039, 1083040, 1083042, 1083043, 1083044, 689827, 1083045, 1083046, 1083047, 427689, 1083050, 1083049, 1083051, 1083054, 1083055, 820940, 689871, 820951, 1083099, 952030, 952032, 296696, 296697, 820999, 689929, 821004, 821014, 1738520, 1738521, 821028, 558886, 165678, 558917, 689993, 34644, 427893, 821117, 821118, 821120, 821131, 821159, 821178, 821179, 821182, 427985, 821204, 165854, 428000, 821223, 821229, 821231, 296956, 34819, 296967, 428058, 428066, 428149, 297101, 297105, 297107, 428232, 821536, 428353, 1083724, 1658214, 35186, 690574, 952735, 297385, 821699, 1083875, 1083877, 1083884, 1083885, 1083889, 35315, 1083892, 1083895, 1083924, 821788, 821793, 1083937, 690723, 1083941, 1083942, 559661, 1083954, 1083956, 1083958, 1083960, 1083964, 1083965, 1083966, 1083967, 1083968, 1083970, 1083974, 1083980, 1083981, 1083982, 1083985, 1083992, 952921, 1083996, 1083997, 1083999, 1084003, 1084014, 1084022, 1084026, 1084031, 1084032, 690820, 1084038, 1084043, 1084044, 1084051, 1084053, 1084055, 1084056, 1084057, 1084060, 1084067, 1084073, 1084074, 1084075, 1084077, 559790, 559798, 1084088, 1084089, 1084091, 1084093, 1084097, 1084099, 1084101, 1084104, 166605, 1084112, 1084120, 1084122, 166619, 1084124, 166626, 1084130, 166629, 1084138, 1084141, 1084142, 1084145, 1084148, 1084149, 1084153, 1084160, 1084164, 1084165, 1084168, 1084170, 1084171, 1084177, 1084178, 559890, 559895, 559896, 1084185, 1084183, 1084187, 1084191, 1084192, 822048, 1084194, 1084198, 1084199, 1084201, 1084203, 1084206, 1084207, 1084208, 1084209, 1084210, 1084211, 1084216, 1084219, 1084220, 1084221, 559933, 1084223, 1084230, 1084231, 1084232, 1084233, 1084239, 1084241, 1084242, 1084246, 1084247, 1084252, 1084253, 1084256, 1084257, 1084260, 1084267, 559979, 1084271, 1084272, 1084275, 1084276, 1084280, 1084281, 1084282, 1084283, 1084284, 1084285, 1084286, 1084287, 1084288, 1084290, 1084292, 1084295, 1084296, 1084298, 1084299, 1084300, 1084302, 1084303, 1084304, 1084306, 1084307, 1084308, 1084309, 560018, 1084312, 1084313, 1084314, 1084316, 1084318, 1084319, 1084320, 1084321, 1084322, 1084328, 1084332, 1084335, 1084336, 691123, 1084341, 1084345, 1084348, 1084353, 1084360, 1084361, 1084382, 1084384, 1215463, 1084406, 1084415, 1084420, 166924, 1084433, 1084444, 1084459, 1084460, 1084461, 1084463, 1084464, 1084465, 1084466, 1084467, 1084477, 1084484, 1215556, 1084499, 1084500, 691298, 691299, 1084521, 691309, 1215603, 1215639, 1215640, 1084590, 1084604, 1084624, 691424, 1084654, 1084655, 691467, 691470, 691473, 822552, 691481, 1084722, 1740099, 167251, 1084759, 691546, 953726, 691613, 691618, 953768, 822726, 1478097, 691666, 691713, 822791, 691734, 167457, 1216045, 1084987, 1216079, 1478242, 1609345, 691916, 691918, 691925, 1478419, 1478428, 1085214, 1085215, 1347371, 954155, 1347372, 1478449, 1347378, 1347379, 1347380, 1674589, 1347388, 1085249, 1085253, 823111, 1085255, 429907, 560983, 1216344, 560999, 298877, 298882, 954242, 1085331, 1085332, 1085334, 1085335, 1085338, 1085350, 1085352, 1085373, 1740739, 430074, 430075, 299024, 299089, 561234, 1085525, 1085533, 561247, 823394, 430197, 1347723, 430226, 430236, 430245, 823477, 692410, 430275, 1085636, 1085638, 1085646, 823504, 1085649, 1085648, 1085653, 1085658, 1085661, 1085662, 1085669, 1085671, 1752829, 1752831, 1085684, 823545, 1085691, 1085693, 1085694, 1085695, 1085696, 1085698, 1085700, 430372, 299303, 1085736, 1085737, 1085738, 1085744, 1085746, 561470, 1216837, 1347915, 1478992, 823649, 1216867, 1216868, 823657, 1085817, 561538, 430467, 430481, 692632, 1085850, 1085853, 1348012, 561586, 561601, 561602, 823760, 823765, 823773, 1479141, 561641, 430574, 1085938, 1085939, 1085940, 1085943, 1085947, 1085957, 823815, 1085963, 823823, 430613, 1085992, 1085998, 1086000, 1086013, 1086014, 1086020, 430661, 1086027, 1086037, 1086041, 1086042, 1086043, 299617, 561776, 1086065, 1086066, 823931, 1086075, 1479294, 1479295, 1479296, 1086084, 299660, 1086101, 1086103, 823961, 1086112, 1086117, 1086118, 1086119, 1086123, 299692, 1086149, 1086150, 1086154, 1086181, 1086182, 1086187, 1086189, 824048, 1086193, 1741554, 1086198, 824057, 1086202, 1086203, 824058, 430849, 1086213, 1086219, 1086224, 1086231, 430876, 1086251, 430895, 430897, 430898, 430915, 1086277, 430917, 430918, 1086280, 430920, 1086279, 824134, 430921, 430926, 430931, 430933, 430935, 168793, 824160, 430950, 430951, 1348456, 430957, 824174, 824178, 430962, 430967, 430969, 1086329, 824193, 1086349, 824226, 1086427, 1086440, 1086441, 562157, 562158, 1217523, 1086452, 1086456, 1217535, 1086466, 1086468, 1086477, 1217551, 693305, 562235, 693314, 693327, 693331, 431192, 431202, 431203, 1479782, 431210, 824437, 1086586, 431231, 693404, 1217697, 824488, 1217722, 300219, 824522, 300255, 1479905, 1479906, 431340, 431343, 431360, 824592, 1217814, 824606, 1217827, 1217829, 1086772, 1086773, 431414, 431418, 562493, 1217854, 824660, 1480029, 693605, 431476, 431484, 431497, 431517, 431518, 431522, 1217960, 431529, 431544, 693705, 431563, 431577, 431578, 431579, 431581, 431583, 431592, 431604, 431607, 824852, 431717, 169573, 824938, 824954, 1742492, 1742507, 825086, 825129, 300895, 1480588, 1742742, 300969, 1742814, 301032, 1742834, 1480709, 38917, 1218580, 1218581, 563222, 1218586, 1087522, 1218600, 170043, 825412, 1087557, 1218686, 1218700, 1218725, 1218726, 825513, 694458, 694464, 1743060, 39161, 432383, 825638, 301357, 1743167, 301412, 432525, 432526, 1481154, 694749, 432611, 694768, 301555, 39423, 694831, 694834, 694835, 1743446, 1743472, 301688, 432766, 694911, 694912, 825989, 825992, 825993, 1743507, 694934, 694936, 826014, 301788, 695008, 695012, 301814, 301820, 1481542, 1481544, 1481546, 1481548, 1481552, 826203, 1350494, 1350509, 826249, 826252, 1350576, 1350595, 39877, 1481697, 1219556, 1481701, 1350631, 1481720, 826383, 826389, 1219643, 1219644, 1219645, 1219646, 1219650, 1219658, 1743955, 1219674, 1743963, 1219693, 1744005, 826503, 1744021, 1744026, 1219740, 1744042, 1219757, 1219766, 1219772, 1219788, 1219809, 1219815, 1350907, 1219848, 1350955, 1219884, 1350956, 433452, 1219894, 1350969, 1219897, 1350972, 1219901, 1219905, 1219906, 433477, 957772, 826711, 433519, 433531, 1219981, 433574, 1744303, 1220019, 1351110, 171465, 1088975, 1351166, 1351197, 171652, 433863, 827144, 1744680, 1220435, 1351511, 1351517, 1482610, 565109, 1220597, 1220667, 565336, 1220699, 565345, 1220714, 1482994, 41206, 1220861, 696587, 172319, 1745235, 1483098, 1220995, 434614, 565710, 565712, 565714, 565715, 1221081, 565755, 827905, 827945, 696881, 696882, 1483352, 697109, 1614668, 41891, 1221613, 1221616, 566290, 42035, 566340, 566376, 566377, 1221736, 42213, 435626, 1090995, 828899, 1484270, 1222142, 1484345, 1484377, 1484378, 1484389, 566889, 566890, 1484398, 566939, 1222312, 1222315, 435885, 566958, 659772, 436016, 1484595, 698208, 1484651, 1484654, 698222, 1484669, 1484690, 1484702, 173994, 1484748, 1484751, 1484752, 1484754, 1484763, 1484765, 829440, 1484801, 960518, 1222668, 1484826, 1484828, 1484837, 960588, 1484881, 960604, 960630, 960646, 960647, 960648, 960649, 1484946, 1747108, 1747131, 960732, 960733, 698594, 960738, 960739, 436453, 960744, 960751, 436464, 567537, 960765, 960769, 960775, 960777, 960784, 960787, 436500, 436510, 567630, 1222995, 1223027, 1223028, 1223040, 1485208, 960957, 829968, 829970, 1223246, 1485410, 1223297, 1747630, 1354415, 1354416, 1354418, 830137, 699068, 1485515, 830217, 1485579, 830228, 830229, 1485590, 830231, 568102, 568110, 1223473, 1223480, 1223481, 1223483, 1223486, 1223487, 1223488, 1223491, 1223492, 1223494, 1223496, 1223497, 1223510, 1223511, 1223512, 1223513, 1223514, 830302, 1223519, 1223526, 1223539, 1223542, 1223544, 1223545, 1223560, 1354633, 1092501, 1223580, 1223581, 1223582, 1223583, 1223584, 1223588, 1223592, 1485736, 306091, 1223600, 1223636, 1223637, 1223648, 1223650, 830450, 568307, 568309, 830454, 1223672, 1223674, 830462, 1223680, 1223683, 1223684, 1223685, 830472, 699403, 568333, 830478, 568335, 568339, 568340, 1223708, 1223714, 830498, 830500, 1223717, 1223718, 1223716, 830503, 830508, 830512, 1223733, 830519, 1223737, 699458, 830533, 830550, 699491, 699498, 1223790, 1223791, 1223799, 568456, 1223830, 1223832, 1223835, 1223838, 1223842, 1223844, 1223845, 699559, 699564, 1223855, 1223857, 1223864, 1223879, 1223885, 1223886, 1223894, 1223895, 1223896, 1223897, 1748186, 306401, 1223906, 1223914, 830703, 568569, 1223931, 568590, 437519, 830736, 1223974, 1223991, 1224004, 1224017, 1224061, 1224075, 1224093, 1224100, 1224103, 306616, 699837, 1224129, 1224135, 1224139, 1224141, 1224143, 1224145, 1224146, 1224149, 1224150, 699861, 1224152, 1224153, 1224160, 1224163, 1748465, 1355252, 699909, 1224202, 1224214, 1224233, 1224259, 1224264, 1224267, 306764, 1224272, 1224275, 962151, 1224296, 1224302, 437874, 962166, 1224319, 1224325, 1224329, 1224349, 831140, 1748702, 306911, 306912, 1748704, 1224440, 1748734, 1093376, 175874, 44819, 44820, 1224480, 831284, 438074, 700219, 438076, 700220, 438079, 1224527, 438101, 1224545, 1224626, 1224631, 1224638, 1224643, 45002, 1224657, 45011, 1748961, 1224675, 1224683, 1224698, 1224701, 1224706, 1224714, 1224720, 831520, 831554, 1224795, 1224798, 438366, 831602, 1224846, 1224856, 1224871, 1224873, 1224878, 1224890, 1224898, 1355970, 176337, 113203, 1224929, 1224931, 1224947, 1224953, 1224954, 1224956, 1224961, 1618194, 1618195, 438547, 1224986, 1224996, 438571, 438576, 1225021, 1225032, 1749323, 1225043, 1356120, 1356132, 1225092, 1225105, 1225106, 1225107, 1225108, 1225110, 1225115, 1225117, 1356191, 1356195, 569765, 1356204, 1356213, 1225147, 1356221, 1225158, 1487320, 1225185, 1487329, 1225187, 1225188, 1225200, 1225205, 1225217, 1225227, 1225231, 1225256, 1225260, 1225268, 1225279, 1225284, 1225290, 1225302, 1225303, 1225304, 438889, 1225325, 1225327, 1225328, 1618549, 1618550, 1225337, 1225362, 438937, 1225380, 1225398, 438973, 1225412, 1225422, 1487571, 176852, 1225437, 701174, 1225468, 1225469, 1225472, 1225475, 1225477, 1225478, 1225480, 1225484, 1225486, 1225488, 1225511, 570153, 1618737, 1225523, 1225529, 1225533, 1225545, 1225555, 1487702, 1225565, 1618783, 1225573, 1618791, 1618794, 1225581, 1618797, 1618800, 1618805, 1225593, 1225595, 1225623, 1225624, 701335, 1225625, 1749917, 1225637, 1225638, 1225642, 439214, 1225649, 439221, 439222, 439223, 1225654, 1225657, 1225658, 1225659, 1225660, 439228, 1618879, 439235, 1618886, 1618887, 1618889, 1749961, 1618891, 1618892, 1618893, 1618894, 1618895, 1225680, 1618896, 1618897, 1225683, 1618900, 1618898, 1225686, 1225687, 1618901, 1618902, 1618906, 1618907, 1618903, 1618904, 1618908, 1225695, 1618912, 1618910, 1618911, 1618914, 1618915, 1225701, 1618918, 1618919, 1618923, 1618925, 1618927, 1618928, 1618930, 1618931, 1618934, 1225720, 1225721, 1618936, 1618939, 1225729, 1618946, 1225731, 1225732, 1618947, 1618949, 1225738, 1225739, 963600, 1225752, 1225755, 439326, 1225759, 1225766, 439341, 439342, 1618991, 1225789, 1225791, 1225792, 439369, 1225804, 1225807, 1619029, 1225816, 439397, 439400, 1750127, 1750128, 1750136, 963711, 963712, 1619071, 963715, 439433, 439435, 832675, 832677, 1750192, 1750193, 439480, 963792, 963823, 570616, 1226079, 1488223, 1750405, 1750415, 963990, 963994, 1750430, 308670, 1750466, 308677, 308678, 1357256, 308687, 308688, 308689, 1750484, 177636, 570864, 1226261, 1488427, 1226291, 1226379, 1226419, 571062, 571064, 571069, 571133, 1226496, 571141, 571142, 1488646, 1488647, 571157, 571171, 1750855, 1488720, 1488728, 1226587, 1226622, 1226630, 1226657, 1751033, 1751066, 1751067, 1620012, 1620013, 1620016, 1620017, 571473, 571474, 1620075, 1751260, 1620190, 1751263, 1751265, 1751266, 1226982, 1095914, 1489144, 1227000, 1489149, 1227010, 1489160, 1489163, 1489167, 1227034, 1227035, 1489187, 1489204, 1227067, 1227071, 1489215, 1096004, 1489226, 1227091, 1489270, 1489291, 1489292, 1227149, 1227151, 1489308, 1227201, 1489355, 1489360, 1227232, 571880, 309750, 1227283, 1227288, 1227307, 1227308, 1227309, 1227311, 1227313, 1227317, 1227320, 1227323, 1489468, 1489470, 965187, 1227356, 1227357, 1227359, 1489504, 1489503, 1227362, 1227364, 1227365, 1227366, 1227367, 1227374, 1227375, 440947, 1227384, 1227387, 309883, 1227389, 834179, 1489562, 440988, 440990, 834213, 1489605, 1489612, 1489631, 1489632, 834277, 834289, 1489652, 834295, 834296, 834297, 965373, 1489727, 965486, 965535, 48052, 1227779, 572480, 572487, 572488, 572489, 1227850, 572501, 572502, 572507, 834652, 572508, 572509, 572510, 572511, 572512, 572513, 572514, 572515, 572517, 572518, 572519, 572520, 1227874, 572521, 572522, 572524, 572525, 572526, 572527, 572528, 572531, 1227892, 1227891, 834683, 572540, 572539, 572542, 572543, 572544, 572546, 834691, 572549, 572550, 1227911, 572552, 572556, 572557, 572558, 572563, 572564, 572565, 572567, 572568, 572570, 572571, 310428, 572573, 572574, 572575, 572572, 572577, 572578, 572580, 572581, 572584, 572585, 572587, 572588, 572589, 572590, 572593, 572594, 572595, 572596, 572597, 572598, 572600, 572602, 572603, 572605, 572606, 572607, 572608, 572609, 310464, 572613, 572614, 572615, 572617, 572618, 572622, 572626, 572627, 572628, 572630, 572632, 572633, 572636, 572637, 572638, 572641, 572645, 572646, 572647, 572648, 572652, 572653, 572654, 572656, 572657, 572660, 572661, 572662, 572665, 572666, 572667, 965885, 572669, 572671, 965888, 965889, 572675, 572679, 965896, 572682, 572684, 572689, 572691, 572692, 572693, 572697, 572701, 572702, 572703, 572704, 572713, 572717, 572723, 572725, 572726, 572732, 572734, 572736, 572739, 572741, 572743, 572744, 1228105, 572747, 572749, 572750, 572751, 572753, 1228114, 572760, 572774, 572781, 572799, 572807, 572810, 572813, 572814, 572816, 572817, 310674, 1752464, 572818, 572819, 572821, 572824, 572827, 572828, 572829, 572830, 572832, 572834, 572835, 572836, 572837, 1228198, 572838, 572839, 572841, 572844, 572846, 572850, 1621428, 572853, 572855, 572856, 572857, 572858, 572859, 572861, 572862, 572863, 572864, 572865, 572866, 572867, 572868, 572869, 572871, 1490376, 572873, 572874, 572875, 572878, 572882, 572883, 572884, 572886, 572889, 572891, 572896, 572897, 572898, 572899, 572901, 572903, 572906, 572908, 572911, 1490416, 572912, 572913, 572915, 572916, 572917, 572919, 572920, 572922, 572924, 572926, 572928, 572934, 572936, 1228298, 572938, 572939, 572941, 572943, 572948, 572951, 572955, 835102, 572959, 572964, 572965, 572968, 572969, 572970, 572971, 572973, 572974, 572975, 572977, 48690, 572978, 572981, 572982, 572983, 572984, 572985, 572988, 572989, 572990, 572993, 572994, 572997, 573000, 573003, 573013, 573015, 573016, 1228377, 573018, 573019, 573024, 573025, 573026, 573027, 573029, 573031, 573032, 573033, 573035, 573036, 573038, 573039, 573040, 573041, 573042, 573043, 573044, 573045, 573047, 573048, 573050, 573051, 573053, 573054, 573055, 573057, 573058, 573059, 573061, 573062, 573063, 573064, 573065, 573066, 573067, 573068, 573069, 573070, 573071, 573072, 573073, 310930, 573074, 573075, 573077, 573076, 573078, 573079, 573080, 573081, 573082, 573084, 573083, 573086, 573087, 573085, 573088, 573090, 573091, 573092, 573093, 573094, 573095, 573096, 573097, 573098, 573099, 573101, 1621678, 1621679, 573102, 573103, 573104, 573105, 573108, 1228469, 573106, 573107, 573109, 573110, 573111, 573112, 573116, 573113, 573118, 573119, 835263, 573121, 1228482, 573115, 48836, 573120, 573123, 573124, 573125, 573126, 573127, 573128, 573129, 573133, 1621709, 573130, 573131, 1621713, 1621714, 573132, 573134, 573136, 1621718, 573137, 1621720, 573138, 573139, 573140, 573141, 573142, 573143, 573144, 573145, 573146, 573148, 704227, 573149, 573151, 573152, 573153, 573154, 573155, 573156, 573157, 573158, 573159, 573160, 573161, 573162, 573163, 311026, 1490674, 573164, 573165, 573166, 573167, 573168, 573169, 573171, 573175, 573176, 573177, 573178, 573179, 573181, 573182, 1752834, 573183, 1752836, 573185, 573186, 573187, 573188, 1752841, 573189, 573190, 1752844, 573191, 573192, 573193, 573200, 573201, 573202, 573194, 573195, 573205, 573206, 573198, 573199, 573209, 573203, 573207, 573214, 573215, 573216, 573217, 573219, 573222, 1228588, 573229, 573245, 573246, 573248, 573249, 573250, 573251, 573252, 573253, 573258, 573261, 573262, 48976, 48977, 573266, 573265, 573267, 573270, 573272, 573278, 48993, 573282, 1228643, 573283, 573284, 573286, 573287, 573289, 573293, 573294, 573297, 573298, 573299, 573300, 573306, 573309, 573313, 573315, 1752967, 1752968, 573322, 573326, 573333, 573340, 573342, 573343, 573346, 1621924, 704424, 573356, 573365, 573366, 573367, 573368, 573371, 573372, 573373, 573375, 573378, 573379, 573380, 1621963, 1621974, 1753098, 1753099, 1753101, 1753102, 1753103, 1490985, 1753135, 311347, 1491001, 1753161, 311405, 1228940, 1228941, 1622164, 49320, 1622212, 1622215, 140073, 311577, 1229085, 966968, 966969, 1229262, 705028, 705143, 400670, 574081, 180874, 400674, 1229474, 180901, 1229518, 443092, 1229607, 312132, 312138, 1229642, 705444, 1623048, 705547, 705553, 705560, 1623072, 705570, 705573, 1360936, 705594, 705655, 478925, 705700, 705704, 1230010, 705730, 705731, 705732, 705749, 705750, 705751, 705752, 705754, 705755, 705765, 1098984, 705771, 705772, 1754354, 1492212, 1754362, 705788, 1754398, 1754490, 1754532, 1623471, 1623472, 1623476, 1623487, 1623540, 1754647, 1754683, 1230400, 1230416, 1754717, 1754719, 837237, 1230518, 837341, 837351, 1230589, 837399, 706335, 1754982, 706408, 706411, 1755009, 706434, 706436, 1230793, 1230794, 1230798, 1230856, 837653, 837654, 1230896, 1755187, 1755189, 1755191, 1755207, 1493110, 1755308, 968886, 968974, 1231122, 969042, 969049, 969050, 969057, 969059, 969073, 706957, 838054, 838058, 969208, 1624617, 1624618, 1755714, 1755748, 1755754, 1755856, 707286, 1755925, 1755959, 1493818, 1624900, 1755980, 1493858, 969580, 1493942, 838594, 52264, 52265, 52292, 1494089, 1101119, 707917, 707937, 707960, 314804, 708115, 314922, 314929, 314930, 314932, 314933, 314935, 314978, 315025, 970484, 1232654, 1232655, 1494815, 839469, 1494834, 1494835, 1494844, 708425, 1494880, 1494946, 184270, 1494996, 1494997, 1494999, 1495001, 1495005, 1495009, 839658, 1495043, 1232902, 970761, 970762, 1495070, 1495077, 970798, 970850, 577644, 1495182, 708788, 708795, 839910, 1364223, 577795, 1495392, 971115, 708976, 184707, 1364356, 1364357, 184724, 315801, 184733, 1364389, 1364391, 1364416, 53711, 578058, 971288, 1626650, 184877, 184878, 971348, 971349, 53868, 53872, 1364595, 53876, 53877, 53880, 53881, 531741, 53883, 53884, 53895, 53896, 447119, 447120, 447121, 447122, 53906, 53904, 1626777, 1757871, 1364704, 1757975, 1757988, 1757991, 1757992, 1757997, 1626939, 1626946, 1758033, 578392, 1495940, 1364870, 1364874, 1495967, 1758121, 1364933, 709602, 840702, 1627140, 1365023, 1758262, 1758263, 1758275, 1758306, 1758307, 1758308, 447601, 1627250, 447607, 971922, 578739, 578741, 971958, 578743, 578750, 709822, 1627327, 447681, 447679, 447680, 447756, 447766, 1758609, 1627567, 1758684, 1365475, 1365477, 1365478, 1365479, 1365486, 1365488, 1365493, 1365494, 1758741, 1758742, 1365536, 1758777, 1758789, 1758791, 1758792, 1758793, 1758794, 1627743, 1627748, 1627750, 1627751, 1627752, 1627754, 1627756, 1627757, 1365614, 1627762, 1627763, 1627765, 1627766, 1627767, 1365627, 1627772, 1365629, 1627774, 1627775, 54914, 1365669, 1496751, 1365687, 1052990, 1365698, 1365701, 1052991, 1496815, 1365790, 1365791, 1365792, 1234723, 1365808, 1365838, 1365854, 1365855, 1365862, 1365863, 1759091, 1365891, 1365894, 1365895, 1365899, 1365903, 1365904, 141226, 141227, 317347, 55212, 1234902, 710676, 710702, 1366073, 972886, 317579, 1759405, 710856, 710892, 1497418, 1759603, 317820, 711054, 711065, 1628592, 1628614, 1628615, 1628616, 711118, 317909, 711128, 711129, 711130, 711131, 711132, 711134, 711137, 1759716, 1759733, 1628662, 1628663, 1759734, 1628696, 1759825, 1759828, 1759866, 318170, 1235690, 711466, 711467, 401929, 1235782, 1235783, 449357, 318294, 1235834, 1104767, 711558, 711569, 711570, 711571, 711573, 711574, 711575, 1235865, 711583, 711584, 711591, 580523, 711601, 711602, 711604, 711606, 711607, 711608, 711611, 711619, 711622, 711623, 711630, 1235919, 711631, 711635, 711636, 711643, 711647, 711648, 711659, 711660, 711661, 711663, 711666, 711669, 711671, 711672, 711677, 711679, 711681, 711682, 711691, 711693, 711694, 711696, 711697, 711699, 711700, 711701, 1629222, 1629235, 1629236, 711740, 1236028, 711744, 711749, 711751, 580680, 711753, 711755, 1367115, 711758, 711760, 711771, 711781, 711784, 711794, 711795, 711798, 580733, 711808, 711814, 1236104, 711816, 1236115, 711843, 711847, 711854, 711855, 711860, 1236149, 711861, 1236152, 1236156, 1629375, 711872, 1236161, 711876, 711878, 711885, 711886, 711887, 480163, 1498323, 1236182, 711895, 711896, 449756, 711901, 711902, 711905, 711906, 711907, 1236194, 1367270, 1236199, 711916, 711917, 1236217, 1236218, 1236224, 1367298, 480175, 711948, 1236239, 1367312, 1236245, 1236266, 1236267, 1236268, 1236273, 1236285, 56638, 1236288, 1367364, 1236299, 1236300, 1236302, 1236306, 1236310, 1236312, 1236316, 1236319, 712032, 1236323, 1236327, 1236328, 1236329, 1236335, 1236338, 1236340, 1236343, 1236347, 1236350, 1236356, 1236357, 1760646, 1236361, 1236378, 1236382, 480206, 1236390, 581032, 1367476, 1367477, 1236409, 1236412, 1367485, 1236413, 1236414, 581058, 1236436, 1236440, 1760733, 712169, 712170, 712171, 1760748, 712172, 712179, 712184, 712185, 712187, 712190, 712193, 712194, 1236483, 712198, 1236506, 1236511, 712234, 1760811, 712238, 1236527, 712240, 712239, 1236532, 712244, 1236536, 1236551, 581192, 1236555, 1236557, 1367641, 1236572, 1236583, 319124, 1760937, 1367738, 1367741, 450239, 1236687, 1367762, 1761116, 1761117, 1761172, 1761190, 1236935, 581593, 1368060, 1368061, 319526, 581691, 581714, 581728, 1761385, 1761387, 581744, 581769, 480355, 581805, 245900, 581866, 581887, 1237250, 581895, 581903, 581904, 1237269, 450848, 581927, 450891, 581986, 713074, 188806, 582083, 713162, 1761739, 582116, 1761772, 1237499, 1237501, 582141, 451077, 451078, 451079, 451081, 451083, 451084, 451085, 451086, 451096, 451098, 451099, 451100, 1237532, 451105, 451109, 582184, 582220, 320086, 320087, 1237592, 1237594, 320116, 582286, 582294, 582295, 582299, 582303, 582327, 320212, 582417, 582435, 582466, 1237841, 582490, 1237867, 1237933, 1631153, 582588, 713702, 1238006, 1238022, 582668, 582670, 582680, 713754, 713757, 451637, 1238075, 582718, 713791, 713792, 402396, 582766, 582800, 1631381, 451791, 320743, 582894, 320753, 320827, 320828, 582984, 320847, 583010, 1500539, 1762710, 320926, 583076, 976340, 1631726, 1631795, 1762870, 583233, 1762896, 583264, 1631890, 583341, 1238741, 1763055, 1763056, 190197, 1369853, 583477, 1184087, 1763143, 246232, 1763144, 583500, 583508, 583509, 1238908, 1239006, 583708, 1239211, 1239212, 1632461, 583914, 583931, 1239303, 583955, 583958, 583964, 583976, 1632553, 1632555, 583984, 1239366, 1632600, 584067, 584073, 1632693, 584133, 715258, 1763835, 350577, 584197, 1632798, 1763874, 1763887, 1763890, 1763893, 142175, 1763896, 1763897, 1763900, 1763901, 1763906, 1632837, 1632838, 1632839, 1763913, 1632841, 1763917, 1632849, 1763925, 1763928, 1763937, 1763940, 1632871, 1763943, 1763947, 1632876, 1763951, 1763954, 1763956, 1763959, 1763964, 1763971, 1763974, 1763978, 1763980, 1763981, 1763986, 1763987, 1763989, 1763990, 1763992, 1763995, 1763997, 1763998, 584350, 1764000, 1764001, 1764004, 1764005, 1764006, 1764009, 1764010, 1764013, 1764014, 1764016, 1764017, 1501878, 1501885, 1501886, 1501891, 1501895, 1501898, 1501902, 1501907, 1501938, 584434, 1501947, 1501950, 1501951, 1633024, 584450, 1501955, 1501960, 1501968, 1633047, 1501987, 1501999, 1502006, 1502027, 1764172, 1502033, 1502038, 1502041, 1502043, 1502045, 1502048, 1502056, 1502066, 1502088, 1502091, 1502093, 1502099, 1502104, 142247, 1502134, 1502139, 1502141, 1502142, 1502146, 1502165, 1502169, 1502170, 1502173, 1633253, 1502183, 1502185, 923809, 1502187, 1502207, 1502209, 1502214, 1502228, 1633314, 1502245, 1502246, 1502247, 1502248, 1633322, 1502252, 322606, 1502259, 1502264, 1502273, 1502276, 1502283, 1502284, 1502285, 1502295, 1633367, 1633375, 1371247, 1633392, 584822, 1502348, 1502356, 1502358, 1502360, 1502362, 1502363, 1502364, 1502365, 1502366, 1502373, 1502374, 1502375, 1502379, 1502381, 1502382, 1502384, 1764529, 1502387, 1371316, 1502389, 1371315, 1502391, 1502392, 1502393, 1502394, 1502396, 1502399, 1502400, 1502401, 1502404, 1502407, 1502408, 1633482, 1502411, 1502412, 1502413, 1502414, 1502415, 1502416, 1633487, 1502418, 1633486, 1502421, 1502423, 1502424, 1502426, 1502428, 1502429, 1502431, 1502433, 1502435, 1502437, 1502440, 1502442, 1502452, 1502457, 1502460, 1240317, 1502465, 1502467, 1764611, 1502484, 1502487, 1502488, 1502489, 1502490, 1502497, 1502501, 1502508, 1502509, 1502513, 1371455, 1371456, 1240396, 1240412, 1240421, 1633642, 1502572, 1502573, 1240430, 1240432, 1240433, 1240434, 1502576, 1240436, 1502588, 1240445, 1240446, 1240450, 1240451, 1240452, 1240454, 1240456, 1240461, 1240463, 1240464, 1240472, 1240473, 1502618, 1502619, 585116, 1240478, 1240479, 1240482, 1502627, 1502629, 1502630, 1240487, 1240493, 1240496, 322995, 1240500, 1502645, 1502650, 1502651, 1240510, 1240511, 1240512, 1502657, 1240513, 1240515, 1502675, 585181, 1502688, 1502704, 454129, 1502719, 1502721, 323081, 1502729, 192020, 1502741, 1502752, 1502762, 1502773, 1502780, 1502815, 1502817, 1633901, 1502845, 1633961, 1502893, 1502900, 1502913, 1502922, 1502941, 1502971, 454401, 1502983, 323362, 323364, 1503020, 1503022, 1503023, 1503027, 323387, 1503035, 323391, 323392, 1503066, 454494, 1503073, 454497, 716644, 323435, 1503086, 323444, 323445, 323446, 1503097, 1503105, 323474, 1503128, 454553, 1240991, 1503167, 1503169, 454598, 716745, 741651, 585751, 1503264, 585787, 192576, 1503299, 1372241, 1110103, 1503321, 1503324, 1503329, 716911, 1503346, 1503349, 1503364, 1110152, 1503371, 1110155, 1110157, 1110156, 1110159, 716943, 1110161, 1110162, 585876, 1110165, 716949, 1503383, 1110166, 1503385, 1110170, 1110173, 1110175, 1503393, 1503395, 1110187, 1503408, 1372340, 1372341, 1110197, 1372342, 1110205, 1372349, 979133, 1503425, 1503428, 1110213, 1503432, 1503434, 1503436, 1503437, 1503441, 1110228, 741698, 741699, 1241309, 1765624, 1110277, 1765646, 1765647, 1241383, 1241387, 1110321, 1110322, 1110326, 1241407, 1241408, 1503560, 455002, 1110362, 1503583, 1503585, 1503594, 586091, 1110380, 1110383, 1503599, 1503602, 1110387, 1110388, 1503608, 1503611, 586107, 1110398, 1503631, 1503639, 1110424, 1503656, 1110444, 1503661, 1241519, 1503667, 1503672, 377022, 1110464, 1503682, 1241540, 1503686, 1503699, 1503701, 1634777, 1503708, 1503715, 1503718, 1241581, 1241582, 1503734, 1503746, 1503749, 324106, 1503756, 1503763, 1503765, 586261, 1503778, 1503780, 1503794, 1503801, 324161, 1503810, 1503817, 1634889, 1634891, 1503820, 1503825, 1503865, 1503869, 1503877, 1110663, 1503882, 1503905, 1503914, 1503917, 1503921, 1503922, 1503925, 1503934, 324305, 1503956, 1503970, 1503972, 1503973, 1503983, 1503990, 1241864, 1241865, 324372, 1504023, 1504025, 324394, 324403, 324413, 1504066, 1504069, 1504071, 324423, 324425, 324430, 324436, 1504085, 1635157, 324440, 1504089, 1504088, 324444, 1504102, 1504106, 1504114, 1504115, 1504116, 324470, 324473, 1373050, 1504123, 1373056, 1504128, 1373058, 1373060, 1373063, 1373064, 1373067, 1373072, 1373073, 1635221, 1504149, 1373079, 324505, 1635231, 1635232, 1373095, 1242026, 1504171, 1373100, 1373101, 1373103, 586675, 1373110, 1373123, 1373133, 324567, 1504215, 1373158, 1373169, 1504250, 1504258, 1504263, 1242119, 1504271, 1504277, 1504280, 1504291, 1504296, 142682, 1504317, 1504319, 1504359, 1373287, 1635447, 1373314, 1373340, 324779, 62637, 1504458, 1504465, 1504469, 1242332, 1504497, 1504516, 1504540, 1373472, 1504546, 1504548, 1373476, 1111340, 1373489, 1373492, 1373493, 1373497, 1373501, 1504583, 1504589, 1504599, 324957, 1504608, 1504610, 1504612, 324985, 324986, 1504635, 1504641, 1504645, 1504659, 1504678, 1373617, 1373618, 1373619, 1373620, 1504705, 325083, 325084, 325098, 1242648, 1504793, 1242665, 1504810, 1504809, 63027, 63030, 1242678, 1504844, 1504848, 1111678, 325260, 587405, 325263, 403320, 718488, 403322, 718497, 1767075, 718499, 718515, 1767098, 1767107, 587464, 1504995, 1111788, 1636270, 980911, 718768, 980937, 325587, 980949, 1767383, 1767384, 1767386, 1767408, 456692, 981026, 981029, 718887, 1112133, 1112140, 587922, 587955, 719032, 981194, 981195, 719053, 1374414, 1374416, 719079, 719080, 719121, 719122, 1505556, 1505558, 1374486, 1505566, 1505577, 1505578, 1243456, 1505609, 1505617, 1243476, 1505622, 1505624, 1505627, 1505628, 1505630, 1505631, 1505632, 1243486, 1243490, 1243493, 1505638, 1505645, 1505646, 1505648, 1505654, 1505657, 1505658, 1505679, 1505684, 1505697, 1505700, 1505714, 1505718, 1505720, 1505724, 1505725, 1505726, 1505728, 1505735, 1505758, 1505759, 1505762, 1505771, 1505773, 1505790, 1505792, 1505793, 1505794, 1505826, 1505847, 64075, 1505889, 1505890, 1505891, 1505893, 1505895, 1505896, 1505899, 1505900, 1505902, 588408, 1505914, 1505920, 1243779, 1243781, 326293, 1374881, 1243817, 1505962, 1374890, 719532, 719534, 719546, 719547, 1506001, 719569, 719571, 719574, 1243872, 719588, 588526, 1506032, 1506036, 1506117, 719696, 719703, 1637212, 719710, 1243999, 719712, 1244001, 1243998, 1244014, 1244037, 1506188, 1244044, 1244046, 1244045, 1244048, 1244064, 64416, 1244071, 1244079, 1244080, 1244083, 1244084, 1244085, 1244086, 1244087, 588727, 1244090, 326601, 1506252, 1244108, 1244110, 1244111, 1244113, 1244115, 326617, 326618, 1244131, 1244138, 1244144, 1244151, 1244152, 1244154, 326657, 1506314, 588827, 1506333, 1506345, 1375278, 1506360, 1375288, 326749, 326751, 982117, 326769, 1375349, 1375377, 1375380, 1375382, 1506456, 1375397, 1637569, 589003, 589067, 720181, 1506625, 64835, 1375556, 589124, 1244489, 1244491, 1375563, 1375568, 720211, 1375576, 64878, 720241, 1375608, 1375612, 589194, 1244557, 1244561, 1244564, 589207, 1244567, 1244577, 64932, 1244623, 1375709, 1244640, 1244641, 65006, 720368, 589305, 720384, 1244681, 65034, 1244686, 1244691, 327193, 1375772, 1244721, 1244741, 1244743, 1244745, 1244746, 1244748, 65110, 65113, 1244765, 1244770, 589418, 1244786, 65142, 1244795, 589436, 1375891, 1375909, 1375910, 1244838, 1244843, 1375919, 1375926, 1244869, 327367, 327371, 327392, 1375971, 1375972, 327397, 327398, 1375973, 327401, 327402, 1375979, 327403, 327405, 327406, 1375991, 327427, 327428, 327429, 327431, 327432, 327434, 327436, 327442, 327447, 327448, 327457, 1376034, 1244963, 1244967, 327464, 1376040, 1376039, 327467, 327463, 1244975, 327471, 1244978, 1244984, 327483, 327492, 1244998, 327501, 327504, 327510, 327512, 1376088, 327516, 1245021, 1245022, 1376098, 1245036, 1376115, 1376116, 1507188, 1245057, 1376145, 1507218, 1376159, 1245087, 1245089, 589731, 1245099, 1245111, 1376184, 1245125, 1245130, 1638354, 1376224, 1376227, 1376232, 1376235, 1376236, 1376238, 1376243, 1376244, 1245179, 1376252, 1376257, 1376259, 1507340, 1638414, 1245201, 589844, 1245208, 1245212, 1376294, 1376295, 1507388, 1245249, 1245263, 1245264, 1245265, 1245273, 1245295, 1245303, 1376379, 1245318, 1245321, 1245322, 1245325, 1245326, 1376402, 1376410, 1376414, 1245344, 1507489, 1245348, 589990, 1245353, 1245363, 1245370, 1245384, 1376462, 1376463, 1245394, 1376471, 1245405, 1245406, 1376480, 1376485, 590055, 1245423, 1376501, 1245433, 1376511, 1376513, 1376516, 1507590, 196871, 1376520, 1245453, 1376534, 1245462, 1376545, 1245474, 1376548, 1376551, 1376555, 1376559, 1376560, 1245492, 1376567, 1245495, 1245499, 1245501, 1245514, 1376587, 1376588, 1245519, 1507663, 1245521, 1245527, 1376605, 1376609, 1245538, 1376612, 1376615, 1376616, 1245543, 1245549, 1245552, 1245553, 721269, 1245564, 1245566, 1245569, 1376642, 1376645, 1245574, 1245575, 1245580, 1245591, 1245594, 1245599, 1245600, 1376678, 1245607, 1376687, 1245616, 1376689, 1245618, 1245619, 1245621, 1376696, 1376699, 1245639, 1245647, 1245650, 1245651, 1245657, 1245661, 1245662, 1245666, 1245669, 1376742, 1376743, 1245676, 1245677, 1507823, 1507824, 1507825, 1507826, 1507828, 1376758, 1507832, 1507833, 1376762, 1376763, 1507842, 1507844, 1376773, 1507845, 143390, 1507867, 1507868, 1507869, 1376796, 1507872, 1245734, 1376807, 1507882, 1245742, 590388, 1245752, 143397, 1245762, 1376837, 143399, 1245769, 1376842, 1376857, 1507933, 1245791, 1245792, 1245794, 590445, 590447, 1376882, 1376883, 1376892, 1245823, 1376897, 1376898, 1376899, 1376900, 1245825, 1376907, 1245842, 1245848, 1508010, 1376950, 1114816, 1376967, 1376968, 1376971, 1245902, 1376974, 1376976, 1245905, 1377000, 1245929, 1377005, 1377045, 1245998, 328494, 1246025, 1246026, 1114969, 1246042, 1246049, 66401, 1508195, 1377124, 1377127, 1377134, 1377137, 1377140, 1377144, 328571, 1246081, 1377154, 1508226, 1377156, 1246092, 1246093, 1377167, 1246096, 1246107, 1508252, 1246108, 1246113, 1246118, 1246122, 1246123, 1508272, 1246130, 1246131, 1246138, 1508284, 721861, 721862, 721863, 1246152, 1246166, 1246167, 1246168, 1246169, 1246170, 1246182, 1508337, 1377266, 1246195, 1246197, 1246202, 1246203, 1246206, 1508351, 1246207, 1246211, 1246213, 1377298, 1246228, 1377302, 1377303, 1246232, 1246233, 1246230, 1246236, 1246239, 197663, 1246241, 1508385, 1246243, 1377312, 1246240, 1508386, 1246247, 1508396, 1246253, 1508398, 1246254, 1246255, 1246261, 1246262, 1246267, 1246270, 1508415, 1246273, 1246276, 1246277, 1246278, 1377354, 1246283, 1508428, 1246285, 1246286, 1377358, 1246289, 1246290, 1246293, 1377366, 1377367, 1377365, 1377369, 1377370, 1377372, 1246302, 1246303, 1246304, 1246305, 1377378, 1377377, 1246309, 1377382, 1377381, 1246312, 1246314, 1377387, 1246316, 1246317, 1508462, 1377391, 1377400, 1246331, 1246332, 1246333, 1246334, 1246335, 1246339, 1246340, 1377414, 1377415, 1770634, 1246349, 1246350, 1508502, 1246359, 1246360, 1246361, 1246362, 1246365, 1246366, 1246367, 1246368, 1246371, 1246372, 1246373, 1377443, 1246375, 1246379, 1246380, 1246382, 1246383, 1246384, 1246385, 1377458, 1246389, 1246390, 1377462, 1377461, 591033, 1246394, 1246395, 1377464, 1377463, 1246398, 1377471, 1246399, 1246401, 1377474, 1246403, 1246405, 1246406, 143527, 1246411, 1246413, 1246414, 1246415, 1246416, 1246417, 1246418, 1246419, 1246420, 1377492, 1246423, 1246425, 1246426, 1246428, 1246430, 1246432, 1377504, 1246434, 1246435, 143532, 1246438, 1246439, 1246441, 1246442, 1246443, 1246444, 1246445, 1246446, 1246447, 1246449, 1246450, 1508598, 1246455, 1246454, 1246457, 1377527, 1246459, 143536, 1246456, 1246462, 1246463, 1246465, 1246468, 1246470, 1246471, 1377543, 1246472, 1246473, 1377549, 1377550, 1770767, 1246480, 1246478, 1246482, 1377555, 1377556, 1246484, 1246483, 1246481, 1639704, 197913, 1246489, 1246491, 1246492, 1246493, 1246494, 1246495, 1246496, 1377569, 1246498, 1377570, 1246499, 1246497, 1246502, 1246500, 1246503, 1246505, 1508650, 1377579, 1377580, 1246506, 1246510, 1246511, 1246512, 1246513, 1246514, 1246515, 1246516, 1246517, 1377590, 1246519, 1246518, 1246521, 1246522, 1246520, 1246524, 1246525, 1377597, 1246523, 1246528, 1246529, 1377601, 1246530, 1377604, 1246531, 1377605, 1246535, 1246536, 1246538, 1246540, 1246541, 1246542, 1246543, 1246544, 1508689, 1246545, 1246547, 1246546, 1246550, 1246552, 1246553, 460121, 1246554, 1246556, 1246557, 1246558, 1246559, 1246560, 1246561, 1246562, 1246563, 1377636, 1246564, 1246566, 1246565, 1246568, 1246567, 1246572, 1377644, 1246574, 1377646, 1377648, 1246577, 1246578, 460147, 1377650, 1246581, 460149, 1246583, 1246584, 1246585, 1246587, 1246588, 1246589, 1246591, 1246592, 1246594, 1246595, 1246596, 1246597, 1246598, 1246599, 1246600, 1246601, 1246602, 1246603, 1246604, 1246605, 1246606, 1246607, 460174, 1246609, 1246611, 1246612, 1246613, 1246614, 1246615, 1246616, 1770904, 1246618, 1246619, 1246620, 1246622, 1246623, 1246624, 1246625, 1377698, 1246626, 1246627, 1377701, 1377694, 1246631, 1246632, 1246633, 1246634, 1246635, 1246636, 1246637, 1246638, 1246639, 1246640, 1246641, 1246642, 1246644, 1246645, 1246646, 1246647, 1246649, 1246651, 1246652, 1246653, 67006, 1246654, 1246656, 1246655, 1246658, 1246659, 1246660, 1246661, 1246662, 1246664, 1246665, 1246666, 1246668, 1246669, 1246670, 1246672, 1246673, 1246674, 1246675, 1246676, 1246677, 1246678, 1246679, 1246680, 1246681, 1246682, 1246684, 1246685, 1246688, 1246689, 1246691, 1246693, 1246694, 1246697, 1246701, 1246702, 1377775, 1377776, 1377777, 1246706, 1246703, 1246708, 1246704, 1246707, 1246711, 1246712, 1246713, 1377785, 1246714, 1246716, 1246717, 1246718, 1377790, 1377787, 1377791, 1377794, 1377795, 1377792, 1377793, 722438, 1246727, 1246728, 722441, 1246731, 1246732, 1246733, 1246734, 1246735, 1246736, 1377810, 1377811, 1246740, 1377812, 1246742, 329234, 1771032, 1246745, 1246749, 1115678, 1377824, 1508898, 1246755, 1246756, 1246758, 1246760, 1246761, 1246762, 1246763, 1246764, 1246765, 1771055, 1246768, 1246769, 1246770, 1246767, 1246772, 1246773, 1377847, 1377849, 1246778, 1377852, 1246783, 1508928, 1246788, 1246791, 1246792, 1246794, 1246795, 1377869, 1377870, 1246798, 1246800, 1246801, 1246802, 1377876, 1246804, 1246806, 1246807, 1246810, 1246813, 1771102, 1246815, 1508961, 1246817, 1246818, 1377891, 1246821, 1246824, 1246825, 1246827, 1246829, 1246830, 1246832, 1377905, 1246837, 1246838, 1246841, 1246842, 329337, 1246844, 1377918, 1246847, 1377920, 1246849, 1377923, 1246852, 1246853, 1246854, 1246857, 1246858, 1246859, 1246860, 1246862, 1246863, 1246864, 1246865, 1246867, 1246868, 1246869, 1377942, 1246871, 1377940, 1246873, 1246874, 1246875, 722586, 1246877, 1246878, 1377948, 722593, 1246881, 1246887, 1377964, 1246893, 1246894, 1246896, 722609, 1246898, 1246899, 1246902, 1246903, 1246904, 1377978, 1377979, 1246908, 1246906, 1377982, 1377983, 1246907, 1246913, 1377988, 1377990, 1246922, 1246927, 1378001, 1246929, 1509075, 1378002, 1378005, 1246931, 1246933, 1246938, 1246939, 1378011, 1246942, 1246947, 1246949, 1246953, 1509098, 1246955, 1246956, 1246965, 1246966, 1246972, 1246974, 1246977, 1246978, 1246980, 1246982, 1246984, 1246987, 1246994, 1246996, 1246997, 1246998, 1247002, 1247003, 1247005, 1247008, 460579, 1247015, 722730, 1247020, 1247021, 1247025, 1247027, 1247029, 1247030, 1247031, 1247032, 1247034, 1247036, 1247038, 1247041, 1247042, 1247044, 1247045, 1247047, 1247048, 1247050, 1247056, 329553, 460627, 722772, 1247059, 329557, 1247064, 1115995, 1247067, 1247069, 1247070, 1247071, 1247072, 1247073, 1247074, 1247076, 1247077, 1247078, 1247080, 1247081, 1247082, 1247083, 1247084, 1247086, 1247087, 1247088, 1247089, 1247090, 1247092, 1247093, 1247095, 1247096, 1247098, 1247099, 722812, 1116029, 1116030, 1247100, 1247101, 1247105, 1247102, 1247108, 1247109, 1247110, 1247111, 1116041, 1247114, 1116043, 1247122, 1116051, 1247123, 1247125, 1247126, 1247127, 1116056, 1116057, 1116058, 1116059, 1247131, 1116060, 1247134, 1247135, 1247136, 1116066, 1247139, 1247140, 1247141, 1116070, 1116071, 1116072, 1247145, 1378218, 1247144, 1378220, 1247146, 1247149, 1247152, 1247153, 1247154, 1247155, 1247159, 1247160, 1378235, 1247163, 1378237, 1378241, 1378242, 722883, 1378244, 1247172, 1247170, 1247177, 1247178, 1247179, 722889, 1247181, 1247182, 1247183, 1247184, 1247185, 591826, 1378259, 1247186, 1247189, 1247190, 1247191, 1247195, 1247201, 1247202, 1247204, 1247206, 1247208, 1247209, 1247211, 1247213, 1247215, 1247217, 1247219, 1247220, 1247221, 1247222, 1247223, 1247225, 1247226, 1247229, 1247230, 1247232, 1247233, 1247235, 1247236, 1247237, 1247240, 1247242, 1247244, 1247245, 1247246, 1247247, 1247250, 1247251, 1247253, 1247254, 1247255, 1247256, 1247258, 1247261, 1247263, 1247265, 1247266, 1247267, 1247272, 1247273, 1247277, 329778, 329783, 1247288, 1247291, 1247295, 1247297, 1247298, 1247302, 1247303, 1247305, 1247306, 1247310, 1247311, 1247313, 1247314, 1247315, 1247318, 1247320, 1247321, 1247322, 1247323, 1247327, 1247328, 1247329, 1247330, 1247331, 1247332, 1247335, 1247336, 1247337, 1247338, 1247339, 1247341, 1247342, 1247343, 1247345, 1247350, 1247353, 1247358, 1509506, 1247362, 1247364, 1247366, 1247367, 1247369, 1247372, 1247373, 1247381, 1247384, 1247385, 1247386, 1247389, 1247390, 1247392, 1247394, 1247396, 1247399, 1247400, 1247401, 1247405, 1247406, 1247407, 1247414, 1247415, 1247416, 1247418, 1247421, 1247422, 1247423, 1247424, 1247425, 1247426, 1378499, 1247428, 1247429, 1247435, 1247437, 1247438, 723151, 1247440, 1247443, 1247446, 1247447, 1247449, 1247451, 1247452, 723165, 1247453, 1247454, 1247456, 1247457, 1247460, 1247461, 1247462, 1247467, 1247471, 1247472, 1247474, 1247475, 1247476, 1247477, 1247483, 1247484, 1247487, 1247495, 1247496, 723208, 1247499, 1247500, 1247501, 1247502, 1247503, 1247504, 1247505, 1247509, 1247510, 1247511, 1247513, 1247516, 461086, 1247518, 1247522, 1247525, 1247526, 1247528, 1247529, 1247533, 1247534, 1247535, 1247537, 1247538, 1247539, 1247540, 1247541, 1247547, 1247550, 1247554, 1247555, 1247556, 1247557, 1247559, 1247560, 1247562, 1247563, 1247564, 1247569, 1247571, 1247572, 1247573, 1247574, 1247580, 1247582, 1247583, 1247584, 1247586, 1247587, 1247588, 1247589, 1247590, 1247594, 1247598, 1247606, 1247607, 1247611, 1247614, 1247619, 1247620, 1247621, 1247624, 1116553, 1247626, 1247631, 1247633, 1247635, 1247636, 1247638, 1247644, 1247646, 1247650, 1247651, 1247655, 1247656, 1509803, 1247660, 1247662, 723378, 1247668, 1247670, 1247672, 1247674, 1247675, 1247676, 723389, 1247677, 461247, 1247679, 1247678, 1247680, 1247683, 1247684, 1247685, 1247686, 1247688, 1247690, 1247691, 1247692, 1247693, 1247694, 1247695, 1247696, 1247697, 1509842, 1509843, 1247698, 1247699, 1247701, 1247704, 1247705, 1247707, 1247709, 1247710, 1247711, 1247714, 1247715, 1247718, 1247719, 1509864, 1247722, 1247724, 1247727, 1247729, 1247731, 1247733, 1247734, 1247737, 1247741, 1247744, 1247750, 1247753, 1247755, 1247758, 1247760, 1247761, 1247762, 1247764, 1247769, 1247771, 1378844, 1247774, 1247776, 1247779, 1247790, 1247792, 1247793, 1247794, 1247795, 1247796, 1247798, 1247800, 1247805, 1641022, 1247806, 1247809, 592452, 1247814, 1247816, 1247817, 1247818, 723529, 1247821, 1247823, 1247824, 1247827, 1247828, 1247831, 1247832, 1247836, 723548, 723550, 1247839, 1247840, 1247838, 1247846, 1247847, 1247848, 1247852, 1247853, 1247854, 1247862, 592506, 1247866, 1247868, 723578, 1247870, 1247874, 1247875, 1247876, 1247877, 592519, 592520, 1247880, 1247883, 1247886, 1247893, 1247898, 1247899, 1247902, 1247903, 1247904, 723614, 592544, 592545, 592548, 592549, 1247908, 592551, 1247907, 1247913, 1247914, 1247906, 1247916, 1247917, 1247918, 1247915, 1247920, 1247921, 592554, 592556, 592558, 592565, 1247928, 1247930, 592571, 1247932, 1247938, 143831, 1247944, 1247950, 1247951, 1247954, 1247955, 1247958, 1247960, 1247962, 1247965, 1247966, 1247967, 330467, 330468, 330469, 330470, 1247972, 1247976, 1247977, 1247980, 1247982, 592629, 1772297, 1248013, 1248014, 1248018, 1248019, 1510164, 1248022, 1248023, 1248025, 1248029, 1248030, 1248036, 1772327, 1248040, 1248050, 1510203, 1248067, 723846, 1772448, 1248169, 1772468, 1772469, 723894, 1772470, 1772471, 1772473, 723893, 723897, 68544, 1264102, 1264117, 1772583, 1248313, 1772676, 1248406, 1772727, 1772729, 330963, 1772762, 1772763, 1772764, 1772765, 1772772, 1772776, 1772778, 1772779, 1772780, 1772793, 68861, 1772800, 1772801, 1772808, 1772811, 1772812, 1772818, 1772821, 724246, 1772822, 593208, 593215, 724287, 1510723, 593225, 1510766, 1510768, 1510795, 1510797, 1510804, 331168, 593342, 1510870, 593404, 593405, 1510918, 1773095, 724531, 1379906, 724560, 1773140, 331354, 248224, 331387, 331388, 1511038, 593544, 593547, 1773201, 593575, 724651, 724671, 1264252, 1511105, 1511106, 724672, 724678, 593620, 724693, 724699, 724700, 724702, 593642, 724721, 724724, 724725, 724732, 724733, 593663, 593664, 724736, 724738, 593667, 724739, 724740, 724742, 724743, 1773319, 593665, 724749, 1773326, 1773327, 724752, 1773329, 1773331, 1773333, 1380119, 1380120, 724762, 724769, 1511206, 724775, 724779, 724781, 724784, 724787, 724790, 724796, 724802, 724810, 724811, 724812, 1380176, 724817, 724818, 331602, 724825, 1380192, 724833, 724834, 724837, 724839, 724841, 724842, 1380207, 724852, 724854, 724855, 724863, 724872, 724874, 724879, 724885, 724887, 724888, 724891, 724898, 724903, 724907, 1380276, 1081940, 724936, 724937, 724943, 724946, 724948, 724949, 724951, 724952, 724953, 1380314, 724954, 724956, 724957, 724959, 724960, 724961, 724963, 724965, 724967, 724969, 724971, 724974, 724978, 724979, 724980, 725008, 1642521, 725020, 1380384, 725033, 1264324, 725048, 725050, 1264327, 1380419, 200777, 1380438, 725078, 1380441, 1380481, 200835, 200841, 1773721, 594080, 725156, 594088, 725165, 725171, 725180, 725183, 725184, 725185, 725186, 1003838, 725197, 725198, 725199, 725200, 725202, 725206, 725207, 725208, 725223, 725224, 725225, 725228, 725229, 725236, 725246, 725247, 332033, 1511682, 725251, 725252, 725255, 725257, 725260, 332046, 725263, 725266, 725267, 725271, 725274, 1380637, 725278, 725279, 1511721, 725293, 725294, 725295, 725301, 725307, 725309, 725310, 725313, 725315, 725316, 725330, 332118, 725347, 725350, 725357, 725362, 1511796, 725367, 1380730, 1511804, 1380734, 1055979, 725429, 725432, 725438, 725447, 725448, 725449, 725450, 725451, 725452, 1249743, 725461, 725462, 725466, 725475, 201187, 725481, 725495, 725497, 725501, 725502, 725503, 725505, 725507, 725508, 1380869, 725521, 725522, 201241, 1249830, 725543, 725542, 725549, 725551, 725563, 1249853, 725566, 725579, 725581, 725582, 1380949, 725593, 725600, 725606, 725650, 201382, 594677, 594679, 725755, 1512195, 594698, 1774348, 1164654, 1774361, 1774362, 594726, 594728, 1774413, 1774482, 1774502, 725940, 725952, 1774532, 1774536, 594897, 594898, 70614, 1250299, 1774604, 594969, 594987, 594989, 726118, 726122, 1774700, 726138, 726188, 70854, 595149, 1774820, 1774855, 1774863, 1250599, 70978, 333187, 1775000, 1250713, 1775003, 1775012, 1775016, 1775030, 595387, 726459, 595392, 726465, 595396, 726468, 726480, 795685, 795686, 726529, 726534, 1775112, 726542, 71208, 639396, 1381977, 1381982, 1775208, 333424, 595572, 483110, 1775305, 1775316, 333552, 1382151, 1382153, 1382155, 1382156, 1382157, 1382158, 1382159, 1382160, 1382161, 1775378, 1382163, 1382165, 1382168, 1382170, 1382171, 1382172, 1775389, 1775394, 1775395, 1251108, 1382183, 1382187, 1382188, 1382194, 1382224, 1775462, 1382256, 71575, 1775536, 1775539, 1513396, 1775541, 1775542, 1775543, 1775544, 1775546, 1775552, 1775556, 1775557, 1775561, 1775562, 333792, 333796, 1775605, 71681, 333832, 333833, 1775637, 1775638, 1775643, 1120288, 1775655, 1775661, 333887, 71744, 596074, 1775776, 727316, 1251655, 72067, 334273, 1382878, 1382936, 743802, 334388, 639599, 334404, 1514136, 72346, 1120970, 1120971, 72487, 743855, 596806, 334686, 334687, 72551, 1776522, 334868, 334869, 334870, 334880, 334882, 334889, 334890, 334891, 334894, 597080, 334952, 597209, 743955, 1514883, 1265005, 1121851, 597639, 466598, 728894, 1384378, 467065, 467069, 467072, 467074, 467079, 467111, 1253575, 1030709, 1253598, 1030710, 1253614, 1253616, 1253617, 1253621, 729350, 1253687, 1253690, 1253695, 1253697, 1253699, 1253702, 1253703, 1253706, 1253708, 1253709, 1253710, 1253711, 1253712, 467308, 1253768, 1253778, 1253800, 1253801, 1253822, 1384965, 729652, 729708, 729713, 1056855, 860896, 1056873, 598820, 1265292, 205652, 729947, 467816, 205688, 205689, 1030844, 74633, 729994, 729995, 730002, 730003, 730004, 467867, 1030852, 467886, 730061, 730068, 1385491, 1385492, 468110, 1385619, 730274, 1385642, 468211, 337151, 75054, 1516895, 468375, 468408, 1385913, 1517004, 468458, 1385996, 1187295, 730703, 730704, 730709, 730710, 1517143, 730716, 468579, 730725, 337548, 337571, 75429, 337584, 337589, 337590, 599735, 1517240, 337591, 337604, 730825, 1386203, 337639, 337640, 1517350, 1517366, 1517367, 1517368, 1255243, 1255259, 75629, 599953, 1255355, 1255359, 600008, 337872, 337909, 600053, 600186, 338049, 338050, 600215, 731291, 338076, 338183, 338212, 338213, 76090, 1517883, 1124707, 338326, 1518005, 1518006, 1518008, 1518010, 76306, 338483, 1518133, 338488, 76353, 1518160, 338556, 338566, 1518215, 469675, 1256148, 76502, 1125156, 600880, 1057291, 600905, 1649496, 338810, 469894, 470005, 339002, 339009, 207984, 208002, 1649887, 470302, 470304, 601379, 470376, 601458, 77180, 208290, 470481, 470517, 1125899, 1125904, 208405, 1125911, 1125913, 470564, 1125932, 1125957, 1125958, 601674, 601677, 601686, 601688, 601701, 601704, 601731, 601739, 601747, 601761, 601763, 601780, 601784, 601788, 601815, 601822, 995047, 995048, 995049, 995050, 601839, 601869, 1388324, 1388327, 601895, 601897, 601896, 601916, 601918, 995139, 601943, 601951, 1388395, 601981, 601987, 601995, 601996, 602000, 602002, 602006, 602008, 602012, 602024, 995249, 339891, 339892, 339893, 995268, 995271, 602061, 208846, 1781722, 995302, 995311, 995312, 995313, 995314, 995315, 995320, 602104, 995329, 995331, 602118, 995340, 602126, 77843, 995348, 995356, 339997, 995358, 995362, 602148, 995366, 995368, 995369, 77897, 602233, 995450, 602234, 602240, 995465, 602252, 602253, 602254, 209045, 602282, 1265979, 1265980, 1057568, 1057570, 602310, 995526, 995529, 995530, 995531, 995532, 1519820, 1388752, 1265986, 602327, 209120, 602337, 1265989, 340198, 602343, 1388776, 1519852, 1265992, 1057583, 1388808, 1057587, 340277, 1057594, 340286, 340288, 340293, 340294, 340295, 340300, 340301, 340303, 340304, 340307, 340309, 340313, 340318, 471409, 995702, 340366, 602517, 995737, 995740, 1520075, 1782220, 995827, 1057633, 1520230, 78464, 1520283, 1187922, 1187927, 340672, 340673, 340674, 340675, 78538, 1520330, 1258196, 733912, 78555, 996169, 996170, 996172, 1389394, 602992, 1161916, 996230, 78754, 340938, 1520595, 734179, 603125, 1389571, 1389572, 1389573, 1258506, 1258544, 1258545, 78914, 78923, 996442, 996443, 1258590, 996452, 996453, 78955, 996465, 1258618, 996482, 996483, 996484, 996485, 996486, 996488, 996489, 996492, 341134, 996495, 996496, 1396434, 996494, 996503, 996510, 472223, 996512, 996511, 996513, 996517, 1258674, 341171, 341202, 536752, 1258813, 1520961, 1127751, 210267, 210269, 210299, 79230, 79277, 1258930, 1127862, 341432, 79303, 79321, 1127933, 472613, 472615, 1259060, 1390158, 79441, 79459, 341608, 472698, 1259157, 210582, 1259158, 1521308, 472736, 472738, 79538, 901566, 1259216, 79568, 1521362, 79583, 210692, 79621, 901590, 79739, 1390479, 901608, 901613, 866275, 79903, 1259554, 1783865, 771398, 473283, 1784029, 473341, 1784160, 80241, 1259925, 80289, 1259948, 604621, 604622, 604623, 80363, 80368, 473588, 604671, 604672, 604696, 604698, 1129150, 1129170, 342799, 80661, 342827, 1129263, 1129265, 1129270, 1129271, 1129274, 1129280, 1522497, 342858, 605005, 605049, 605061, 1129371, 1129372, 1129373, 1522590, 1129394, 605109, 1129406, 605118, 1129417, 1129418, 1129421, 1129423, 1129427, 1129432, 1129435, 1129438, 1129442, 1129459, 1129462, 1129466, 343069, 80938, 343088, 1522736, 80979, 1522772, 343141, 1522792, 343147, 1129592, 1522810, 1129597, 1129600, 1129605, 1129612, 1129613, 343185, 343188, 343189, 998550, 1129620, 1129625, 343196, 1129629, 343203, 1129643, 343211, 1129646, 1129647, 1522869, 81099, 81100, 343255, 81112, 1266599, 343267, 343275, 1129719, 1129720, 146386, 1129725, 1129727, 1129729, 1129730, 1129731, 1129734, 1129735, 1129745, 1129747, 212245, 343319, 1129758, 1129761, 1129766, 343335, 1129769, 1129771, 1129775, 1129783, 1129784, 1129785, 1129790, 1129793, 1129795, 343364, 343365, 343363, 1129799, 1129800, 1129801, 1129798, 81219, 343372, 1129805, 1129806, 1129807, 343373, 343377, 343374, 81231, 1129814, 1129822, 1129825, 1129830, 1129832, 343400, 343401, 1129834, 1129841, 81267, 1129860, 1129866, 1129872, 1129882, 81310, 1129891, 1129906, 1129908, 1129916, 1129918, 605634, 605635, 343496, 605641, 1129932, 1129942, 1129945, 343516, 1129951, 1129952, 212460, 1129972, 1266654, 1129981, 1129983, 1129985, 1129987, 1130001, 343578, 1130011, 343585, 343586, 1130019, 1130022, 1130024, 1130029, 1130030, 1130035, 1130036, 212535, 212537, 212540, 212541, 1130049, 1130050, 212545, 1130053, 1130054, 1130055, 343629, 1130062, 81491, 1130070, 1130074, 212573, 212574, 212576, 212577, 1130082, 212578, 212583, 1130088, 1130089, 1130093, 212594, 212595, 1130103, 1130105, 1130111, 1130112, 1130114, 1130120, 1130126, 1130128, 1130130, 1130131, 1130135, 81568, 1130158, 81582, 1130160, 81611, 1130194, 474841, 1654528, 212785, 1130295, 474936, 1130301, 1130305, 81732, 1130311, 81736, 1130319, 1130320, 81745, 1130326, 1130327, 1130329, 1130331, 1130332, 343902, 1130342, 1130343, 1130347, 1130349, 1130351, 1130352, 1130354, 1130357, 1130361, 1130362, 1130366, 1130368, 1130370, 1130380, 1130381, 475031, 1130402, 1130403, 1130405, 1130407, 1130409, 1261485, 1130424, 1130433, 1130439, 81869, 81870, 81882, 81883, 1130460, 1130462, 1130463, 1523687, 1130480, 1130481, 81906, 1130484, 1130485, 1130491, 344066, 1130499, 81924, 1130498, 1130509, 81945, 1130528, 1130532, 1654833, 1261624, 1130560, 1130566, 1130568, 1130571, 213076, 1130584, 1130589, 1261665, 1130600, 344177, 82036, 344181, 1523840, 475266, 475267, 1130626, 1261720, 1130653, 82082, 1130662, 1130663, 82092, 1130669, 1130675, 1130689, 1130694, 1130701, 1130703, 1130704, 1130707, 1130709, 1130715, 1130716, 1130724, 1261800, 1130732, 1130735, 1130740, 475387, 475389, 999680, 475392, 999681, 1523975, 213258, 1523979, 1523981, 475409, 1523986, 1261843, 475413, 1130778, 344346, 1655070, 475424, 1130787, 1130790, 475432, 1130798, 1130801, 1130808, 1261897, 1261898, 1524058, 1261916, 475489, 999791, 475520, 1524109, 1130918, 1130923, 1130926, 1130927, 1130928, 82354, 1130932, 1130934, 1130935, 1130938, 1130939, 82366, 1130948, 999878, 1130951, 344523, 1130956, 1130958, 82393, 82422, 1524229, 1262085, 1524230, 1131014, 1262090, 1262092, 1262095, 1058452, 1262116, 82471, 1131051, 1262127, 1262139, 1131079, 1131080, 1131081, 1262186, 1131123, 1524346, 1262203, 1000071, 1262224, 1262269, 82621, 1131200, 1262281, 1131212, 1131213, 213710, 213714, 1131219, 344793, 1262313, 213809, 1786678, 1786679, 1786680, 1786682, 537478, 82749, 82750, 82753, 82754, 82758, 82760, 82761, 82765, 82780, 1524575, 1058520, 1786737, 82802, 1786754, 1131398, 1131402, 82832, 1393566, 1786784, 1786791, 82864, 1786807, 146732, 1786826, 1524702, 82910, 1786859, 1786864, 82929, 1786866, 82931, 1524732, 1786876, 345094, 82953, 1131544, 1524769, 1131556, 1786923, 1786924, 1786927, 1786928, 1786931, 82996, 1786945, 1786951, 1786953, 1786954, 1786955, 1786956, 146759, 1786961, 1131607, 146761, 1131613, 146763, 1786984, 1786986, 146765, 1131628, 1786991, 1786992, 1786999, 146771, 1188842, 146789, 1131792, 1131838, 83294, 83298, 1787236, 1131895, 83320, 1131911, 1000853, 1131933, 1131935, 1131944, 1131953, 1000923, 1000927, 1000934, 1000945, 1132045, 1132046, 1132060, 738872, 83512, 1001023, 83555, 1132138, 1001075, 1001076, 1001079, 1132151, 1132163, 1132164, 1132165, 1132168, 1132169, 1058680, 1132194, 1001127, 1132200, 1132201, 1001129, 1001134, 83637, 146886, 1132242, 739033, 739034, 345820, 739038, 739039, 739040, 1263329, 1132258, 739043, 739044, 1132260, 739047, 739054, 739058, 1132274, 146894, 83701, 739064, 1132280, 83704, 1132283, 345852, 1132285, 739070, 1001211, 739072, 1132298, 1132303, 739089, 83730, 1132309, 1132310, 739095, 739096, 739103, 83745, 739121, 1132338, 1132350, 739135, 739136, 1263424, 739138, 739147, 739148, 739149, 739150, 1132368, 1132370, 739156, 739161, 739164, 739165, 1132381, 739167, 739170, 739176, 345961, 1263473, 1132402, 739188, 739189, 739191, 739192, 739193, 1263521, 1263522, 1263524, 1263525, 1263526, 1263528, 1263530, 83882, 1263532, 1263533, 1263531, 1263534, 1263537, 1263539, 1263540, 83902, 870337, 870376, 1001477, 1263651, 215078, 739378, 1132596, 1132601, 1001533, 1189023, 1132618, 739408, 1132625, 1132626, 1132629, 1132630, 1132631, 1132632, 1132633, 1132634, 1132635, 1132639, 1132641, 1132642, 1132644, 1132645, 1263751, 1263755, 1263760, 1263770, 1263776, 1263791, 870589, 1263809, 1263811, 1263825, 739558, 84208, 1263866, 1263875, 1263876, 1263881, 1263885, 1263895, 1263905, 1263907, 1263908, 84267, 1263920, 1263940, 1263945, 1657167, 1263952, 1263955, 1263972, 739691, 1263984, 739697, 870777, 1263994, 1263995, 1263996, 1264004, 1264012, 1264014, 1264017, 1264018, 1264019, 870801, 215463, 1264041, 1264067, 1264070, 1264077, 1264078, 1264080, 1264083, 1264084, 1264085, 1264088, 1264094, 1264095, 1264096, 1264097, 870882, 1264098, 1264099, 1264101, 1264100, 1264103, 1264104, 1264105, 1264106, 1264107, 1264108, 1264109, 1788398, 1264111, 1264112, 1264113, 1264114, 1264110, 1264116, 1264115, 1264118, 1264119, 1264120, 1264121, 1264122, 1264123, 1264124, 1189111, 1264125, 1264128, 870912, 1264132, 1264133, 1264134, 1264135, 1395208, 1264137, 1264138, 1264136, 1264140, 1264141, 1264142, 1264139, 1264144, 1264145, 1264146, 1264147, 1264148, 1264149, 1264150, 1264151, 1264152, 1264153, 1264154, 1264155, 1264156, 1264157, 1264158, 1264160, 1264161, 1264162, 1264163, 1264164, 1264165, 1788456, 1264168, 1788457, 1264169, 1264173, 1264174, 1264177, 1264179, 1264190, 1264195, 1264199, 1264206, 1264208, 1264209, 1264210, 1395285, 1264214, 1788503, 1264217, 1264219, 1264221, 1264223, 1264224, 1264225, 1264226, 1264227, 1264228, 1264229, 1264230, 1264231, 1788520, 1264233, 1264234, 1264232, 1264235, 1264236, 1264237, 1264239, 1264240, 871023, 1264242, 739955, 1264243, 1264238, 1264246, 1264241, 1264251, 1788540, 1788541, 1264253, 1264255, 1264256, 1002113, 1264257, 1264258, 1264259, 1264260, 1264254, 1264263, 1264264, 1264265, 1264266, 1264267, 1264268, 1264269, 1264271, 1264273, 1264274, 1788562, 1264276, 1264279, 1264280, 1264281, 1264285, 1788574, 1788575, 1264286, 1264289, 1264290, 1264291, 1264292, 871077, 1264294, 1264295, 1264296, 1264293, 1264297, 1264298, 1264300, 1264299, 1264301, 1264303, 1264304, 1264305, 1264306, 1788595, 1264308, 1788597, 1788598, 1788599, 740022, 1264313, 1264312, 1264309, 1264316, 1264310, 1264314, 1264319, 871104, 1264315, 1264322, 1264323, 1264317, 1264325, 1264318, 1264320, 1264328, 1264329, 1264326, 1264331, 1264332, 1264333, 1264334, 1264335, 1264336, 1264337, 1264338, 1264340, 1264341, 1264342, 1264343, 1264344, 1264345, 1657564, 1264348, 1264349, 1264352, 1264353, 1264355, 1264357, 871143, 871144, 1264367, 1395444, 1395445, 1395446, 1788661, 1264376, 1264372, 1264375, 1264381, 1264383, 1657602, 1264388, 84741, 1264389, 1395470, 1264399, 1264400, 1264404, 1657620, 1264411, 1264422, 1264423, 1264424, 1264426, 1264427, 1264429, 1264430, 1264431, 1264432, 740145, 1264434, 1264436, 1264437, 1264439, 1264443, 1788743, 1264456, 1264466, 1264467, 1264468, 1788757, 1264469, 1264473, 1264474, 1264475, 1264476, 740185, 740187, 1264479, 740191, 740193, 1264481, 1264483, 1264484, 740189, 1264486, 1264487, 1264488, 1264489, 1264490, 740202, 1264492, 1264493, 1264495, 1264496, 740210, 1264499, 1264500, 1264501, 1264498, 1264503, 1264504, 1264506, 1264516, 1264517, 1264529, 1264531, 1264533, 1264534, 1264535, 1264536, 1264537, 1264538, 1788826, 1264540, 871330, 1264551, 1264556, 1264562, 1264565, 1264566, 84921, 1264571, 1264572, 1264578, 1264585, 1264586, 1264587, 1264596, 1264600, 1264602, 1264605, 1264606, 1264607, 1264608, 1264609, 1264610, 1264611, 1264613, 1264617, 1264619, 1264620, 1264624, 1264626, 1264630, 1264633, 1264639, 1264640, 1264641, 1264643, 1264645, 1264646, 1264647, 1264648, 1264649, 1264650, 1264651, 1264652, 1264653, 85004, 1264655, 1264660, 1395741, 1264682, 1264691, 1264705, 1264706, 1264707, 1264711, 1264717, 1264719, 1264720, 1264723, 1264724, 1264725, 1264726, 1264727, 1264730, 1395802, 1264733, 1264734, 1264738, 1264740, 1264752, 1264759, 1264773, 1264775, 1264779, 1264780, 1264782, 1264784, 1264787, 1264789, 1264795, 1264796, 1264814, 1264818, 1264820, 1264823, 1264826, 1658044, 1264829, 1264834, 1264836, 1264839, 1395912, 1395911, 1264844, 1002701, 1395925, 1395926, 1395927, 1264856, 1395930, 1658080, 1264864, 1658088, 1658090, 1264875, 1658092, 1264877, 1264878, 1264881, 1264882, 1264883, 1264884, 1264886, 1264887, 1264889, 1264890, 1264891, 1264893, 1264894, 85247, 1264898, 1264900, 1658145, 1264939, 1264942, 1264944, 1264947, 1264948, 1264949, 1264950, 1264954, 1264956, 1264961, 1264962, 1264963, 1264964, 1264965, 1396047, 1396055, 1396056, 1396058, 1264987, 1264988, 1264989, 1264990, 1396063, 1658208, 1264992, 1264991, 1264993, 1264994, 1396069, 1396070, 1264995, 1264997, 1396073, 1264998, 1396075, 1396076, 1264999, 1265000, 1265007, 1265001, 1265009, 1265010, 1265002, 1265003, 1265004, 1396086, 1265006, 1265008, 1396089, 1265011, 1265012, 1265013, 1265014, 1265015, 1265016, 85376, 1265017, 1265033, 1265045, 1265052, 1265053, 1265054, 1265055, 1265056, 1265059, 1265085, 1265092, 1265102, 1265114, 1265118, 1265121, 1265124, 1002981, 1265125, 1002987, 1658350, 1265135, 1265138, 1265139, 1265140, 216565, 216566, 1265141, 1265144, 1265148, 1265150, 1789441, 478722, 1265157, 1265163, 1658380, 1265168, 1265169, 1265170, 1265174, 1265175, 1265178, 1265181, 1789472, 1658403, 1265197, 1265199, 1265201, 1265202, 1265205, 1265206, 1265207, 1265209, 1265210, 1265211, 1265214, 1265215, 1265216, 1265217, 1265218, 1265222, 1265224, 1265225, 1265226, 1265227, 1265228, 1265229, 1265230, 1265231, 1265232, 1265234, 1265235, 1265236, 1265237, 1265239, 1265240, 1265241, 1265242, 1265243, 1265244, 1265246, 1265247, 1265249, 1265250, 1265251, 1265252, 1265253, 1265254, 1265255, 1265256, 1265257, 1265258, 1265259, 1265261, 1265262, 1265263, 1265264, 1265265, 1265266, 1265267, 1265268, 772513, 1265270, 1265271, 1265272, 1265274, 1265275, 1265276, 1265277, 1265278, 1265279, 1265280, 1265281, 1265282, 1265283, 1265285, 1265286, 1265287, 1265288, 1265289, 741002, 1789579, 1265290, 1265291, 1265294, 1265295, 1265296, 1265297, 1265298, 1265299, 1265300, 1265301, 1003158, 1265302, 1789585, 1265305, 1265306, 1789595, 741020, 1265307, 1265310, 1265312, 1265313, 1265315, 1265316, 1789606, 1265321, 1265323, 1003180, 1003181, 1003182, 1265327, 1789616, 1789617, 1265330, 1789620, 1265332, 1265335, 1789624, 1789625, 1265338, 1265339, 1265340, 1789626, 1265342, 1789631, 1789632, 1789633, 1265346, 1789627, 1265348, 1789634, 1789635, 1265351, 1789639, 1265353, 1789642, 1265354, 1265356, 1789645, 1265358, 1789644, 1265360, 1789646, 1265362, 1265363, 1265364, 1396437, 1789653, 1265367, 1265368, 1265369, 1265370, 478939, 1265372, 1265373, 1265374, 1789657, 1265376, 1789665, 1789666, 1789658, 1265380, 1789667, 1265382, 1789671, 1789674, 1265388, 1265389, 1789677, 1789679, 1789681, 1265398, 1265399, 1265400, 1265401, 1789691, 1265405, 1265407, 1265408, 1789696, 1265410, 1265411, 1265412, 1265413, 1789698, 1789699, 872201, 1265418, 1265419, 1265420, 1265422, 1163318, 1265425, 1265426, 1265427, 1265430, 1265432, 1265433, 1265434, 1265435, 1265436, 1265437, 1265438, 1265439, 1265440, 1265442, 1265443, 1265444, 1265445, 1265446, 1265447, 1265449, 1265451, 1265452, 1265453, 1265455, 1265458, 1265463, 1265464, 1265467, 1265468, 1265469, 1163327, 1265471, 1265472, 1265473, 1658690, 479044, 1265476, 1265478, 1789767, 1265480, 1265479, 1265483, 1265484, 1265486, 1265488, 1265489, 1265490, 1265491, 479057, 1265492, 1265493, 1789783, 1265496, 1265495, 1265498, 1265499, 1265501, 1265503, 1265506, 1265508, 1265511, 1265512, 1265513, 1265514, 1265515, 1265517, 1265518, 1265520, 1265521, 1265522, 1265524, 1265525, 1265526, 1265527, 1789816, 1265529, 1265530, 1265531, 1265532, 1265533, 1789818, 1265535, 1265536, 1789823, 1789826, 1265539, 1789825, 1265538, 1265542, 1265540, 1265545, 1265546, 1265547, 1265548, 1265549, 1265550, 1265551, 741266, 1265554, 1265558, 1265560, 1265561, 1265563, 1265565, 1265566, 1265567, 1265568, 1265569, 1265570, 1265571, 85922, 1265573, 872355, 1265575, 1265572, 1265577, 1265578, 1265580, 1265581, 1265582, 1265584, 1265587, 1265588, 1265589, 1265591, 1265593, 1265594, 1265595, 1265596, 1265597, 1265598, 1265599, 1265600, 1265601, 1265602, 1265603, 1265604, 1265605, 1265606, 1265609, 1265610, 1265611, 1265612, 1265613, 1265614, 1265618, 1265621, 1265623, 1265624, 1265625, 1265626, 1265631, 1265632, 1265634, 1265635, 1265636, 1265637, 1265638, 1265640, 1265643, 1265644, 1265645, 1265648, 1265649, 1265650, 1265651, 1265652, 1265654, 1265657, 1265659, 1265661, 1265662, 1265664, 1265665, 1265666, 1265667, 1265668, 1265669, 1265670, 1265671, 1265672, 1265673, 1265674, 1265675, 1265676, 1265677, 1265686, 1265687, 1265688, 1265689, 1265690, 1265691, 1265692, 1789981, 1265694, 1265697, 1265698, 1265700, 1265702, 1265704, 1265705, 1265706, 1265707, 1265709, 1265710, 1265711, 1265713, 1265714, 1265715, 1265716, 1265717, 1265720, 1265721, 1265722, 1265723, 1265728, 1265729, 1265730, 1265732, 1265733, 1265734, 1265736, 1265739, 1265741, 1265743, 1265744, 1265745, 1265747, 1265752, 1265753, 1265755, 1265757, 1265758, 1265759, 1265764, 1265766, 1265769, 1265770, 1265772, 1265776, 1265777, 1265778, 1265779, 1265780, 1265781, 1265782, 1265783, 1265786, 1265787, 1265788, 1265789, 1265790, 1265793, 1265795, 1265796, 1265797, 1265799, 1265800, 1265802, 1265803, 1265806, 1265807, 1265808, 217232, 1265809, 1265814, 217239, 1265816, 1790102, 1265818, 1265820, 1265822, 1265823, 1265824, 1265827, 1265828, 1265829, 1265830, 1265831, 1265832, 1265834, 1265836, 1265837, 1265838, 1265840, 1265841, 1265843, 1265844, 1265845, 1265846, 1265847, 1265848, 1265851, 1265852, 1265853, 1265854, 1265856, 1265857, 1265858, 1265859, 1265860, 1265863, 1265864, 1265865, 1265866, 1265867, 1265868, 217293, 1265871, 1265872, 1265873, 1265874, 1265875, 1265876, 741588, 1265878, 1265880, 1265884, 1265885, 1265886, 1265887, 1265889, 1265892, 1265893, 1265897, 1265898, 1265899, 1265900, 1265902, 1265903, 1265904, 1265905, 1265906, 1265907, 1265908, 1265909, 1265910, 1265911, 1265916, 1265917, 1265918, 1265919, 1265920, 1265921, 1265922, 1265924, 1265925, 1265927, 1265928, 1265929, 1265930, 1265932, 1265933, 1319729, 1265936, 1265937, 1265938, 1265939, 1265940, 1265941, 1265942, 1265943, 1265944, 1265945, 1265946, 1265947, 1265948, 1265949, 1265950, 741663, 1265951, 1265954, 1265955, 1265956, 1265957, 1265958, 1265960, 1265962, 1265963, 1265964, 1265965, 1265967, 1265968, 1265970, 1265971, 1265972, 1265973, 1265974, 1265975, 1265976, 1265977, 1265978, 741690, 741691, 1265981, 1265982, 741694, 1265984, 741697, 1265983, 1265987, 741700, 1265988, 1265990, 741703, 1265991, 1265993, 1265994, 1265995, 1265996, 1265997, 741710, 1265999, 1266000, 1265998, 1266001, 479569, 1266004, 1266005, 1266006, 1266008, 1266009, 1266010, 1266011, 1266012, 1266014, 1266015, 1266017, 1266018, 1266019, 1266021, 1266022, 1266023, 1266024, 1266025, 1266026, 1266027, 1266028, 1266029, 1266030, 741738, 1266032, 741744, 1266034, 1266035, 1266036, 1266031, 1266038, 1266039, 1266040, 1266041, 1266042, 1266043, 1266044, 1266045, 1266046, 1266047, 1266048, 1266049, 1266050, 1266051, 1266052, 1266053, 1266054, 1266055, 1266056, 1266057, 1266058, 1266059, 1659276, 1659277, 1659278, 1266061, 1266062, 1266065, 1659281, 1266067, 1266066, 1659289, 1266073, 1659291, 1659292, 1266077, 1266078, 1659293, 1266075, 1659296, 1266081, 1266083, 1266084, 1266085, 1266086, 1266080, 1266079, 1659297, 1266090, 1266093, 1266094, 1266097, 1266098, 1266101, 1266102, 1266103, 1266104, 1266105, 86458, 86459, 1266107, 1266109, 1266110, 1266111, 1266112, 1266113, 1266114, 1266115, 1266116, 1266117, 1266118, 1266119, 1266120, 1266122, 1266123, 1266124, 1266125, 1266126, 1266127, 1266128, 1003978, 1266130, 1266131, 1266132, 1266133, 1003984, 1266135, 1266136, 1266139, 1266140, 1266141, 1266143, 1266144, 1266145, 1659360, 1266147, 1266148, 1266149, 1266150, 1266151, 1266152, 1266146, 1266154, 1266155, 1266156, 1266157, 1266158, 1266159, 1266160, 1266161, 1266162, 1266163, 1266164, 1659379, 1266166, 1266167, 1266168, 610807, 1266170, 1266169, 1266172, 1266174, 1266175, 1266176, 1266181, 1266182, 1266183, 1266184, 1266185, 1266187, 1266188, 1266190, 1266191, 1266192, 1266193, 1266194, 1266195, 1266196, 1266198, 1266199, 479768, 1266201, 1266200, 1266203, 1266202, 1266206, 1266207, 1266208, 1266209, 1659423, 1266211, 479780, 1266212, 1266213, 1266214, 1266218, 1266219, 1266220, 1266221, 1266222, 1266223, 1266225, 1266226, 1266227, 1266228, 1266229, 1266230, 1266231, 1266232, 1266233, 1266234, 1266235, 1266236, 1266237, 1004086, 873017, 1266240, 1266241, 1266242, 1266239, 1266244, 1266245, 1266246, 86597, 1266248, 1266251, 1266252, 1266253, 1266254, 348748, 1266255, 1659467, 479820, 1266259, 479828, 1266258, 1266262, 1266263, 1266264, 1266266, 1266267, 479835, 1266269, 1266270, 1266271, 479841, 1266274, 1266275, 1266276, 479844, 1266278, 1266279, 1266281, 1266282, 1266283, 1266284, 1266286, 1266287, 1266289, 1266291, 1266292, 1266293, 1266294, 1266295, 1266296, 1266297, 1266298, 1004154, 1266300, 1266299, 1266302, 1266301, 479872, 1266304, 1266303, 1266305, 1266308, 1266306, 1266307, 1266309, 1266312, 479880, 1266313, 1266310, 479882, 479885, 1266318, 479878, 1266314, 1004177, 1266321, 1266323, 1266324, 1266322, 1266325, 610964, 479896, 1266329, 1266330, 1266331, 1266327, 1266333, 1266334, 1266335, 1790624, 1266336, 479900, 1266340, 1266343, 1266344, 742055, 1266346, 1266347, 1266349, 1266351, 1266352, 1266353, 1266354, 1266356, 1266357, 1266358, 1266359, 1266361, 1266362, 1266363, 1266364, 1266365, 1266366, 1266367, 1266369, 1266370, 1266371, 1266372, 1266373, 1266374, 1266375, 1266378, 1266380, 1266381, 1266382, 1266383, 1266384, 1266385, 1266386, 1266387, 1266388, 1266390, 1266391, 1266392, 1266393, 1266394, 1266395, 1266396, 1266398, 1266399, 1266400, 1266404, 1266406, 1266407, 1266408, 479976, 1266410, 479977, 1266412, 1266409, 1266411, 1266415, 1266416, 1266417, 479986, 1266419, 1266420, 1266421, 1266413, 1266424, 1266426, 1266427, 1266428, 1266429, 1266431, 1659648, 1266432, 1266434, 1266435, 1266436, 1266437, 1266438, 1266433, 1266440, 1266441, 1266439, 1266443, 1266444, 1266445, 1266446, 1266447, 480016, 1266449, 480017, 1266451, 1266452, 1266453, 1266448, 1266456, 1266457, 1266458, 1266459, 480025, 1266461, 1266462, 1266463, 480030, 1266465, 1266466, 1266467, 742175, 1266468, 1266470, 480039, 742184, 1266473, 1266474, 1266475, 1266476, 480043, 1266478, 1266477, 1266472, 1266481, 1266483, 1266484, 1266485, 480053, 1266487, 1266486, 1266489, 1266490, 1266491, 1266492, 1266493, 1266494, 1266495, 1266496, 1266497, 1790784, 1266499, 1266498, 1266501, 480071, 1266503, 1266505, 1266506, 1266507, 1266508, 1266509, 1266514, 1266516, 1266517, 1266518, 1266519, 1266521, 1266522, 1266523, 1266524, 1266525, 1266528, 1266529, 1266530, 1266531, 1266533, 1266535, 1659752, 480106, 1266539, 480111, 1266543, 1266544, 1266546, 1266549, 1266552, 480122, 1266554, 1266556, 1266557, 1266558, 480126, 1266559, 1266561, 480130, 1266563, 1266565, 480137, 480138, 1266572, 480140, 1266574, 1266576, 1266577, 1266579, 1266581, 1266582, 1266583, 480151, 1266585, 1266586, 480155, 480156, 480152, 1266590, 1266591, 1266592, 480161, 1266593, 1266594, 1266596, 1266597, 1266598, 480167, 480166, 1659817, 1266602, 1266603, 1266604, 1266605, 1266606, 1266607, 1266608, 1266609, 1266610, 480178, 480180, 480176, 873391, 480183, 1266616, 1266617, 1266618, 480187, 1266619, 1266613, 1266622, 1266623, 480192, 480191, 480194, 742336, 1266628, 1266626, 1266624, 1266633, 1266635, 1659852, 1266638, 480207, 1266640, 1266641, 1266642, 1266643, 1266644, 1266645, 480208, 1266646, 1266648, 1266649, 480215, 1266651, 1266652, 480221, 480214, 1266655, 1266656, 1266657, 1266653, 1266659, 1266660, 480228, 1266661, 1266663, 1266664, 1266665, 1266666, 1266667, 480236, 1266662, 1266670, 1266672, 1659888, 1266674, 1266678, 1266679, 1266680, 1266681, 1266684, 1266685, 1266688, 1266690, 1266693, 1266694, 1266696, 1266697, 1266698, 1266701, 1266702, 1266703, 1266707, 1266708, 1266710, 1266712, 1266714, 1266717, 218142, 1266720, 1266721, 1266722, 1266725, 480301, 1266762, 1266763, 1266765, 1266770, 1266771, 1266772, 1266775, 1266778, 1266783, 1266784, 1266785, 1266786, 1266787, 1266788, 1266789, 1319899, 1266791, 1266790, 1266793, 1266792, 1266795, 1266796, 1266797, 1266794, 1266799, 1266800, 1266801, 1266802, 1266803, 1266804, 1266805, 1266806, 1266807, 87168, 1266818, 1266820, 1266821, 1266823, 1266826, 1266829, 1266833, 1266836, 1266837, 1266840, 1266841, 1266842, 1266843, 1266844, 1266846, 1266848, 1266849, 1266851, 1266855, 1266856, 1266857, 1266858, 1266859, 1266860, 1266861, 1266862, 1266863, 1266864, 1266865, 1266866, 1266868, 1266869, 1266871, 1266873, 1266876, 1266877, 1266878, 1266879, 1266881, 1266885, 1529029, 1266886, 1266888, 1266889, 1266901, 1266902, 1266905, 1266906, 1266907, 1266910, 1266911, 1266912, 1266916, 1266922, 1266929, 1266930, 1266931, 1266932, 1266933, 1266934, 1266935, 1266937, 1266939, 1266940, 1266941, 1266942, 1266944, 1266948, 1266949, 1266954, 1266955, 1266956, 1266963, 1266966, 1266967, 1266968, 1266972, 1266977, 480546, 1266978, 1266981, 1266982, 1529126, 1660201, 1266990, 1660210, 1266995, 1660213, 1266998, 1660215, 1267003, 1267004, 1267007, 1267008, 1267009, 1267010, 1267011, 1267012, 1267013, 1267015, 1267016, 1267018, 1267019, 742734, 1267023, 1267026, 1267027, 742739, 1267029, 1267030, 1267031, 1267032, 1267033, 1267034, 1267037, 1267038, 1267040, 1267041, 1267042, 1267044, 1267045, 1267046, 1267050, 1267054, 1267056, 1267059, 1267060, 1267061, 1267066, 1267067, 1267068, 1267070, 1267075, 1267076, 1267077, 1267084, 1529229, 1267091, 1267098, 1267099, 1267100, 1267102, 1267107, 1267113, 1267115, 1267117, 1267123, 1267125, 1267126, 1267127, 1267133, 1267134, 1267137, 1267138, 1267140, 1267141, 1267144, 1267148, 1267152, 1267156, 1267157, 1267160, 1267161, 1267163, 1267164, 1267169, 1267170, 1267171, 1267172, 1267176, 1267177, 1267179, 1267182, 1267185, 1267186, 1267187, 1267189, 1791481, 1267199, 1267200, 1267204, 1267207, 1267209, 1267210, 1267211, 1267214, 1267215, 1267218, 1267219, 1267220, 1267221, 1267223, 1267224, 1267227, 1267230, 1267235, 1267237, 1267238, 1267239, 1267244, 1267245, 1267246, 1267248, 1267249, 742962, 1267254, 1267255, 1267256, 1267257, 1267259, 1267262, 1267270, 1660487, 1267280, 1267283, 1267285, 1007379, 1267289, 1660505, 1267292, 1005152, 1267297, 1267301, 1660518, 1267308, 1267313, 1660535, 1267322, 1189747, 1267324, 1267330, 1267336, 1267344, 1267345, 1267347, 1267374, 1267376, 1267378, 1267380, 1267382, 1267385, 1267386, 1660603, 1267389, 1267394, 1267402, 1267404, 1267408, 1267409, 1267410, 1267411, 1267412, 1267413, 1267415, 1267417, 1267421, 1267422, 1267423, 1267424, 1267425, 1267426, 1267429, 1267432, 1267434, 1267435, 1267436, 1267445, 1267448, 1267452, 1267463, 1267467, 1267469, 1267470, 1267472, 1267473, 1267475, 1267476, 1267477, 1267478, 1267479, 1267480, 1267481, 1267482, 1267483, 1267484, 1267485, 1267486, 1267487, 1267488, 1267489, 1267490, 1267491, 1267492, 1267493, 1267494, 1267495, 1267496, 1267497, 1267499, 1267500, 1267501, 1267502, 1267503, 1267504, 1267505, 1267507, 1267508, 1267509, 1267510, 1267511, 1267512, 1267513, 1267514, 1267515, 1267516, 1267518, 1267519, 1267520, 1267521, 1267522, 1267525, 1267526, 1267527, 1267528, 743237, 1267529, 1267531, 1267534, 1267536, 1267538, 1267540, 1267547, 1529691, 1267552, 1267554, 1267555, 1267560, 1267561, 1267564, 1267566, 481135, 1267568, 1529712, 1267571, 1267572, 1267576, 1267578, 1267579, 1267581, 1267582, 1267584, 1267589, 1267591, 1267592, 1267594, 1267595, 1267596, 1267600, 1267602, 1267605, 1267609, 1267612, 1267613, 1267615, 1267621, 1267622, 1267624, 1267625, 1267629, 1267630, 1033499, 1267632, 1267635, 1267637, 1267646, 1267648, 1267651, 1267652, 1529795, 1267654, 1267653, 1267656, 1267657, 1267658, 1267661, 1267666, 1267672, 1267678, 1267682, 743398, 1267690, 1267692, 1267697, 1267698, 1267699, 1267701, 1267702, 1267703, 1267714, 1267715, 1267720, 1267721, 1267724, 1267727, 1267729, 1267731, 1267733, 1267734, 1267736, 1267737, 1267741, 1267743, 1267745, 1267746, 612386, 1660964, 1267749, 1267751, 612392, 1267756, 612397, 612398, 612399, 612400, 612401, 612402, 481330, 1267761, 612405, 1267763, 1267760, 1267768, 1267764, 1267770, 1267769, 612412, 1267773, 612413, 1267771, 1267776, 1267772, 1267778, 1267779, 1267775, 1267782, 1267784, 1267785, 1267787, 1267788, 1267789, 743502, 1267790, 1267791, 1267792, 1267794, 1267793, 1267796, 1267797, 1267795, 1267803, 1267804, 1267806, 1267807, 1267808, 1267809, 1267810, 1267811, 1267813, 1267815, 1267816, 1661033, 1267818, 1529961, 1267820, 1267817, 1267819, 1267823, 1267821, 1267825, 1267822, 743539, 1267827, 1267829, 1267830, 1267831, 743544, 743543, 1267828, 1267840, 1267844, 1267847, 1267848, 1529993, 1267854, 1267855, 1267856, 1267860, 743579, 1530015, 743593, 1267882, 1267883, 1267893, 1267908, 1267918, 1267926, 1267927, 1268022, 1267930, 1267931, 1267932, 1267934, 743647, 743648, 1267937, 1267940, 1267941, 1267943, 1267946, 1267947, 1267948, 1267949, 1267950, 1267951, 1267952, 1267953, 1267955, 743668, 1267957, 1267958, 1267959, 1267963, 1267965, 1267966, 1267967, 1267968, 1267969, 1267970, 1267972, 1267973, 1267974, 1267975, 1267976, 1267977, 1267978, 612619, 1267979, 743691, 1267986, 1267987, 1267988, 1267989, 743698, 743706, 743707, 1267996, 1267997, 350496, 1268002, 1268003, 1268004, 1268005, 743716, 1268007, 1268008, 1268009, 1268010, 1268011, 1268012, 1268013, 743726, 743727, 1268014, 1268016, 1268015, 1268018, 743730, 1268019, 1268021, 743729, 743736, 1268025, 1268024, 1268026, 1268027, 1268029, 1268030, 743739, 1268033, 1268034, 743748, 1268037, 1268036, 743752, 1268041, 1268042, 1268043, 743755, 1268045, 743757, 1268044, 1268048, 1268049, 743753, 743763, 743762, 743759, 1268051, 1268047, 743768, 1268057, 743771, 743772, 1268062, 743774, 743776, 1268063, 1268066, 743778, 1268068, 743782, 743783, 1268072, 743785, 1268073, 1268074, 743784, 1268077, 1268078, 1268079, 1268080, 743793, 350576, 1268081, 743796, 1268082, 1268083, 1005943, 1268087, 1268089, 1268090, 1268091, 743803, 1268093, 1268094, 743804, 1268092, 1268097, 1268098, 1268099, 743806, 1268101, 1268102, 743815, 1268103, 1268105, 1268104, 1268107, 1268108, 1268109, 1268110, 743820, 1268112, 1268113, 1268111, 1268116, 743828, 1268117, 1268118, 1268120, 1268121, 1268122, 1268119, 1268124, 1268125, 1268126, 1268127, 743839, 1268129, 1268130, 1268131, 1268132, 1268133, 743846, 1268135, 1268136, 1268137, 743850, 1268138, 1268139, 743853, 743854, 1268140, 1268141, 1268143, 1268144, 743856, 1268147, 1268142, 1268145, 1268149, 1268148, 743860, 743864, 1268155, 1268156, 1268153, 1268158, 1268159, 1268152, 1268162, 1530307, 1268163, 1268165, 1268167, 1268168, 1268170, 1268171, 1268172, 1268173, 743885, 1268175, 1268176, 1268177, 1268174, 743891, 1268179, 743888, 743894, 1268183, 743896, 743897, 1268184, 1268186, 1268188, 743901, 1268185, 743902, 743903, 743906, 743910, 743911, 743912, 1268198, 1268205, 743920, 743921, 1268211, 1268215, 743929, 1268218, 1268219, 743932, 1268222, 1268224, 1268225, 1268227, 1268229, 1268230, 743943, 743942, 743944, 1268234, 1268235, 743948, 1268237, 743949, 743951, 743952, 743953, 743954, 1268241, 743956, 743957, 743958, 743959, 1268247, 1268249, 1268250, 1268251, 1268252, 1268244, 1268254, 481822, 743968, 1268255, 612898, 1268256, 743966, 1268261, 1268269, 743984, 743985, 1268278, 1268279, 1268282, 1268284, 1268285, 1268288, 1268292, 1268293, 1268294, 1268296, 1268298, 1006156, 1268301, 744021, 744023, 744024, 1268313, 744026, 1268315, 1268316, 1268319, 1268326, 1268327, 1268329, 1268330, 1268335, 1268336, 1268339, 1268340, 1268343, 1268344, 1268345, 744060, 1268363, 1268365, 1268366, 1268368, 1268370, 744083, 744086, 744087, 744088, 1268377, 1268378, 744090, 744093, 1268383, 1268385, 744099, 1268391, 744106, 1268395, 1268396, 1268397, 1268398, 1268399, 219821, 744113, 1268402, 744118, 744119, 1268407, 744121, 1268410, 744123, 1268412, 744124, 744125, 744127, 744132, 1268421, 744133, 744137, 744138, 1268428, 1268429, 744142, 744143, 744145, 1268434, 1268433, 744148, 744149, 1268438, 1268439, 1268444, 744157, 744161, 1268449, 1268451, 744164, 1268452, 744166, 744162, 744170, 1268459, 1268460, 744176, 1268465, 1268467, 1268468, 482037, 1268470, 219894, 1268471, 744186, 482042, 744188, 1268478, 744192, 1268487, 1268489, 1268490, 744203, 744205, 219920, 744208, 1268496, 1268497, 1268499, 744216, 1268512, 1268513, 1268515, 1268518, 482088, 1268524, 1268526, 1268527, 1268528, 482097, 1268533, 1268534, 1268535, 1268540, 1268541, 744255, 1268543, 1268545, 1268548, 1268550, 1268552, 1268554, 1268557, 1268558, 1268559, 1268560, 1268561, 744272, 1530707, 1268564, 1268563, 1268566, 1268150, 1268577, 1268585, 744299, 1268588, 1268587, 1268589, 1268592, 1268593, 1268594, 1268595, 1268597, 220021, 1268603, 1268605, 1268606, 1268607, 220032, 1268608, 744322, 1268612, 1268613, 744324, 482185, 1268618, 1268625, 1059749, 1268632, 1268633, 1268637, 1268639, 1268640, 1268641, 1268642, 1006501, 1268645, 1268648, 1268649, 1268651, 1268652, 1268655, 744371, 1268660, 1268661, 1268662, 744376, 1268665, 1268664, 1268667, 1268668, 1268670, 1268673, 1268674, 1268675, 1268676, 1268677, 1268678, 1268679, 1268681, 1268682, 1268683, 1268687, 1268689, 1268690, 1268691, 1268693, 1268694, 1661909, 1268696, 744410, 1268699, 1268700, 1268698, 1268705, 1268711, 1268715, 1268716, 1530863, 1268180, 1268724, 1268727, 1268731, 744447, 1268736, 744451, 1661959, 1268748, 1268749, 1399822, 1268752, 1268753, 744467, 1399831, 1268760, 1268761, 1268762, 220187, 744478, 1268776, 1268778, 1399851, 1268779, 1268781, 1268782, 1268784, 1268786, 1268790, 1268794, 1268797, 220222, 1268800, 1268801, 1268804, 1268805, 1268807, 1268810, 1268811, 1268816, 1268822, 1268823, 1268824, 1662049, 1268835, 1268836, 1268837, 1268838, 1268839, 1268841, 1268844, 1268845, 1268846, 1268847, 1268848, 1268849, 1268850, 1268851, 1268852, 1268853, 1268854, 1268855, 1268856, 1268857, 1268859, 1268861, 1268862, 1268863, 1268864, 351359, 1268867, 1268868, 1268869, 744583, 1268871, 1268872, 1662091, 1662092, 1268876, 1268878, 1268879, 1268880, 1531021, 1268882, 1268884, 1268885, 1268886, 1268887, 1268888, 1268889, 1268891, 1268892, 1268893, 1268894, 1268895, 1268896, 1268897, 1268898, 1268899, 1268900, 1268901, 1268902, 1268903, 1268904, 1268905, 1268906, 1268907, 1268908, 1268909, 1268910, 1268911, 1268912, 1268913, 1268914, 1268915, 1268916, 1268918, 1268920, 1268921, 1662138, 1268922, 1268924, 1268925, 1268926, 1268933, 1268945, 1268946, 1400022, 1268955, 1531101, 1531103, 1531107, 1531108, 1531109, 1268968, 1268969, 1531115, 1268976, 1268979, 1268987, 1268233, 1268991, 1268992, 1269003, 1269004, 1269005, 1269006, 1269009, 1269014, 1400087, 1269015, 1400089, 1269018, 1269021, 1400096, 1269027, 1269028, 1269029, 1269031, 1269038, 1269039, 1269040, 1269042, 1269043, 1269045, 1269046, 1269051, 1269052, 1400126, 1269055, 1269056, 1269060, 1269063, 1269066, 1269067, 1269071, 1269072, 1269074, 1269075, 1269076, 1269078, 1269082, 351579, 1662302, 351583, 351585, 1269092, 1269098, 744811, 1269100, 1269101, 1269102, 744815, 1269104, 1269105, 351602, 1269107, 1269109, 1269113, 744826, 744827, 1269116, 1269119, 1269123, 1269124, 744837, 1269126, 1269128, 1269129, 1269130, 1138056, 1269135, 1662354, 1269138, 482708, 1269142, 1269144, 1400222, 1269157, 1269162, 1400236, 1269164, 1269165, 1269167, 220600, 1269178, 1269179, 1269180, 1269191, 220616, 1269194, 1269195, 1269196, 1269197, 1269198, 1269199, 1269200, 1269201, 220626, 1269203, 1269204, 1269205, 220630, 1269206, 1269207, 744921, 1269208, 1269209, 1269212, 1269213, 1269211, 744927, 1269214, 744929, 1269215, 1269222, 1269223, 1269229, 1269237, 1269238, 1269241, 1269244, 1269249, 1269252, 1269253, 1269254, 1269255, 1269257, 1269258, 1269259, 1269260, 1269263, 1269268, 1269271, 1400356, 1269289, 1269299, 1269303, 1269304, 1269313, 1269315, 1269318, 1269326, 1007184, 1269331, 1269335, 1269336, 1269341, 1269349, 1269364, 1400438, 1269366, 1269368, 1269369, 1269374, 1400452, 1400453, 1007238, 1269382, 1269385, 1269386, 1269393, 1400467, 1269395, 1400478, 1269408, 1007267, 1269412, 1269414, 745129, 1269417, 1269419, 1269422, 1269423, 1269424, 1269426, 1269428, 1269429, 89783, 1269432, 1269431, 1269436, 1269439, 1269442, 1269446, 1269447, 1269448, 1269451, 1269454, 1269457, 1269458, 1400534, 1269477, 1269479, 1269481, 1138410, 1269483, 1269487, 483056, 1269488, 1138418, 1269490, 1269492, 1269495, 1269496, 351998, 1269505, 1269507, 1269508, 1269509, 1269510, 1269513, 1269517, 1269519, 1269521, 1269522, 1269523, 1269524, 1007381, 1269525, 1269527, 1269528, 1269529, 89880, 1269531, 1269532, 1269533, 483098, 1269535, 1269536, 1269537, 1269538, 1269539, 1269540, 1269541, 1269542, 1269543, 1269544, 1269545, 1269546, 1269547, 1269548, 1269549, 1269550, 1269551, 1269552, 1269553, 1138483, 1269556, 1269555, 1269557, 745271, 1269561, 1269563, 1400636, 1269564, 1269566, 1269569, 1269570, 89923, 1269572, 1269574, 1269577, 1269579, 1269582, 745295, 745296, 1269585, 1269583, 1059938, 1269588, 1269589, 1400661, 1400666, 1400672, 1269601, 1269602, 1269607, 1269610, 1269613, 745337, 89978, 1269629, 1269630, 1269631, 1269633, 483204, 1269636, 1269639, 1269644, 483214, 1138574, 1269648, 1269649, 1269650, 1269651, 1269652, 1269653, 1269646, 1269658, 1400736, 1400737, 1269665, 1269667, 1269671, 1269673, 1269674, 1269678, 1269679, 1269681, 1269683, 1269688, 1269689, 1269691, 1269692, 1269695, 1269697, 1269698, 1269699, 483268, 1269701, 1269700, 1269704, 1269707, 1269714, 1269715, 1269717, 1269719, 1269722, 1269724, 483297, 1269731, 1269737, 1269738, 1269742, 1269745, 1269750, 1269751, 1269758, 1269761, 1269763, 1269764, 1269765, 1269766, 1138694, 1269768, 1269769, 1269773, 1269776, 1269777, 1269779, 1269780, 1269781, 1269782, 1269783, 1269784, 1269785, 1269786, 1269787, 1269788, 1269790, 1269791, 1269793, 1269795, 1269799, 1269801, 1269802, 1269803, 1269808, 1269820, 1269821, 1269822, 1269823, 1269830, 1400907, 1269836, 1269837, 1269841, 1269845, 1269850, 1269851, 1269855, 1269856, 1400936, 221289, 221290, 1269867, 1269865, 1269870, 1269871, 1138806, 1663095, 90273, 1138882, 876754, 1450792, 1269995, 1138942, 1270038, 1138979, 1138980, 1138981, 1139006, 1532223, 1139008, 745793, 1139016, 1139018, 1139019, 1139031, 745816, 1139032, 1450816, 1532254, 1139041, 1139042, 1139044, 1139046, 1270119, 1139047, 1270127, 1139059, 1139062, 1663367, 1139080, 1139081, 1270154, 1139084, 1659239, 1659240, 1270169, 1139099, 1139102, 1139104, 1139105, 1139113, 1401263, 1270198, 1270200, 1270203, 1663420, 1270204, 1663424, 1270209, 1270213, 1270215, 1270218, 1270220, 1270222, 1270224, 1270230, 1270234, 1270236, 1532381, 1270237, 1270239, 1270240, 1270241, 1270242, 1270246, 745959, 1270248, 1270249, 1270250, 745966, 1270254, 1270256, 221680, 745969, 1270259, 1270255, 1270263, 1270264, 1270266, 745979, 1270268, 745980, 1659261, 1270273, 1270275, 1270276, 1270283, 1270284, 1532435, 1532437, 1270295, 1270299, 1270300, 1270301, 1270302, 1270303, 1270308, 1270311, 1270312, 1532464, 1270324, 1270326, 1270327, 1270330, 1270332, 1270333, 1663550, 1270335, 1270337, 1270343, 1270350, 1532495, 1270351, 1270360, 1270362, 1270363, 1270367, 1270368, 1270369, 1270370, 1270372, 1532518, 1270375, 1139304, 1270374, 1270397, 1270400, 1270401, 1270402, 1270404, 1270409, 1270412, 1270417, 1270420, 1270421, 1270422, 1270424, 1532570, 1270427, 1270430, 1270431, 1270433, 1270435, 1270436, 1270438, 1270439, 1270444, 1270445, 1270446, 1270449, 1270450, 1270451, 1270452, 1270455, 1270461, 1270463, 1270464, 1270465, 1270466, 1270467, 1270469, 1270470, 1270474, 1270475, 1270478, 1270480, 1270482, 1270486, 1270488, 1270493, 1663710, 1270495, 1270498, 1270504, 1270505, 1270516, 1270521, 1270522, 1270523, 1270524, 1270525, 1270527, 1270530, 1270531, 1270532, 1270533, 1401606, 1270534, 1270536, 1270537, 1270538, 1270535, 1270540, 1270541, 1270547, 1270549, 1270550, 1139491, 1139492, 1139493, 1270565, 1270567, 1401641, 1270575, 1139504, 1659322, 1139507, 1139511, 1270590, 1270594, 1270596, 1270597, 1401669, 1270601, 1270606, 1532752, 1270609, 1139564, 1270637, 1270636, 1555132, 1270658, 1270677, 1555136, 1270696, 1270698, 1270700, 1555141, 1270713, 1270718, 1270719, 1270720, 1270726, 1270728, 1270729, 1270730, 484297, 877522, 1270738, 1270744, 1270782, 1664003, 1664009, 1664010, 1270794, 1270796, 1270797, 1270798, 1270802, 1270804, 1270805, 1270807, 1270811, 1270823, 1789643, 877684, 1789647, 1789652, 1789656, 1270967, 1402041, 1664187, 1402045, 1789659, 1789660, 1664212, 1664213, 1664220, 1664225, 1664228, 1664229, 1664230, 1664234, 1664235, 1664236, 1664238, 1664239, 1664240, 1664245, 1664246, 1664247, 1402104, 1664249, 1664251, 1664274, 1664276, 1664277, 1533210, 1664326, 1664328, 1664329, 1664331, 1664332, 1664337, 1664340, 1533273, 1664346, 1664348, 1664349, 1664353, 1664354, 1664357, 903941, 484723, 1533359, 746940, 1664466, 746964, 1533448, 747061, 1402448, 747101, 1533584, 1664666, 1533595, 878252, 1533624, 1581353, 354066, 354094, 354103, 1664880, 354252, 354256, 354264, 485336, 1402922, 1164604, 1164607, 354438, 1665159, 1140886, 485531, 1140900, 485541, 1140911, 1403082, 1164630, 1665253, 1403112, 1534203, 354581, 1141026, 1141032, 1141034, 1141035, 1164646, 1665325, 1141038, 1141040, 1141042, 1141043, 1141044, 1141045, 1141047, 1141054, 616767, 1141056, 1141057, 1141058, 1141060, 1141062, 1141063, 1141064, 1141065, 1141067, 1141068, 1141069, 1141070, 1141071, 1141072, 1141073, 1141074, 1141075, 1141076, 1141077, 1141078, 1141079, 1141080, 1141081, 1141082, 1141083, 1141084, 1141085, 1141086, 1141087, 1141088, 1141089, 1141091, 1141092, 1141093, 1141094, 1141095, 1403240, 1141096, 1141098, 1164658, 1141100, 1141101, 1141102, 1141110, 1141112, 1141133, 1141137, 1141139, 1164667, 1141144, 1141147, 1534367, 1141151, 1141153, 1403365, 354792, 354794, 354795, 1141237, 1141290, 485962, 1141325, 617063, 539473, 539474, 92792, 539475, 1141433, 539488, 1403581, 1403584, 1141442, 1141450, 1403596, 1141461, 539493, 1141463, 1141464, 1141466, 539494, 1141469, 1141470, 1141471, 1141473, 1141474, 1141475, 1141477, 1141478, 1141479, 1141480, 1141489, 1141492, 1141494, 1141495, 1141498, 1141500, 1141502, 1141503, 1141508, 1164744, 1403715, 1403727, 1403729, 1164757, 1164758, 1141674, 1141675, 1141676, 1141681, 1141683, 1141684, 1141687, 1141688, 1141689, 1141691, 1141693, 1141696, 1141697, 1141700, 1141724, 1141730, 1141762, 1141768, 1141772, 1141774, 1141780, 1141781, 1141782, 1010716, 1141792, 1141793, 1141794, 1141798, 1164802, 1190856, 1403980, 748690, 1141908, 748693, 748694, 748695, 748692, 539586, 1535158, 748765, 93434, 93439, 539604, 93444, 748835, 93475, 748862, 1404225, 539619, 748896, 930397, 930398, 930400, 355702, 1273217, 93572, 355725, 355726, 355747, 1404326, 1142201, 1666502, 1404367, 1404382, 1404400, 1404402, 930430, 1011230, 749105, 749106, 93753, 355899, 355901, 355902, 355911, 1273470, 1011376, 1011378, 1011380, 1666777, 1404650, 1142509, 1190991, 1666802, 1404663, 1404665, 1404667, 1190994, 1190996, 1666855, 1666875, 749379, 749384, 749416, 94133, 356305, 749526, 356336, 749575, 94225, 94290, 749658, 749682, 1273980, 1011854, 1011855, 356507, 1536162, 356524, 1581854, 356533, 356537, 1581858, 94463, 1274115, 356625, 94566, 1667442, 749978, 356852, 356854, 1405482, 356983, 356984, 356994, 1712208, 357011, 357013, 1712210, 1712211, 357032, 1712214, 357045, 1405625, 357065, 1712219, 357067, 357079, 357088, 357096, 357098, 539916, 357177, 1274728, 1274743, 881551, 357269, 357271, 539950, 750547, 750596, 750605, 1143850, 357427, 357442, 357444, 357448, 881740, 357458, 539979, 1582043, 1275069, 1275105, 357648, 1275187, 357697, 1275206, 1275209, 95567, 750944, 357729, 357819, 1144274, 357912, 357917, 357921, 357954, 357958, 358008, 358011, 358031, 358048, 358049, 358055, 1275579, 540102, 358105, 358112, 358117, 358118, 1275637, 358142, 1275648, 540113, 358158, 358195, 96055, 358205, 358221, 358240, 751473, 149361, 358259, 358267, 358270, 1790615, 358289, 1669027, 358316, 751539, 751540, 751541, 751543, 751544, 751548, 358335, 751558, 96200, 751561, 358367, 1425911, 1425912, 751595, 358379, 358398, 358399, 358401, 358419, 751669, 358462, 358466, 751689, 751690, 751693, 1407054, 358492, 751717, 358503, 1013869, 358560, 1013921, 358564, 358566, 358568, 358589, 358590, 358591, 1276098, 358621, 1276133, 358639, 620810, 1014054, 1014055, 1014056, 358728, 1014102, 1014103, 1014104, 1014107, 1014108, 883036, 358749, 358774, 1014179, 96676, 752064, 1014214, 1014242, 883180, 1014259, 1014278, 1014307, 1014308, 1014313, 1014319, 1014338, 1014386, 1014398, 1014399, 1014405, 1014415, 883348, 1014421, 883367, 883368, 1014450, 883383, 1014457, 1014461, 883389, 1014463, 1014464, 1014476, 1014482, 1014486, 1014490, 1014492, 1014495, 1014502, 1014503, 1014505, 1669903, 1669913, 1669914, 1014564, 1014571, 1014587, 1014591, 1014599, 883538, 883539, 883540, 1014616, 1014617, 1014621, 1014626, 1014641, 1014645, 1014672, 1014677, 1014746, 1014804, 1014805, 1014806, 1014841, 752700, 1014879, 1014880, 1014882, 1014888, 1014906, 1014911, 1014913, 1014917, 1014920, 1014935, 1014946, 1014954, 1014955, 1014956, 1014975, 1014993, 1014996, 1014997, 1015003, 1015004, 1015006, 1015008, 1408243, 1670410, 883986, 1015077, 621868, 621869, 1015093, 1015103, 1015105, 1015107, 1015113, 752971, 1015119, 1015120, 1015133, 1015136, 1015140, 1015141, 592546, 1539594, 1015398, 1015399, 1015400, 1165727, 1015403, 1015404, 1015407, 1015408, 1015421, 1015422, 1015426, 1015429, 1015441, 1015449, 1015450, 1015471, 1015472, 1015481, 1015485, 1015488, 1015493, 1015496, 1015509, 1015510, 1015516, 1015537, 1015539, 1015542, 1015543, 1015568, 1015569, 1015571, 1015574, 1015575, 1015579, 1015580, 1015658, 1015659, 1408877, 1015678, 1015690, 1277853, 1408954, 884718, 884721, 1540087, 229578, 1278171, 1278181, 1278183, 1278185, 1278186, 1016046, 1278194, 1278196, 1278201, 1278204, 1278207, 1278208, 1278211, 1278212, 1278213, 1278248, 1278250, 1278259, 1278261, 1671491, 1278311, 1671569, 1671571, 1671572, 360863, 1671602, 1278391, 1671671, 1278473, 1671700, 1409633, 1409635, 1409638, 1147494, 1409640, 1409648, 1409668, 1409686, 1409713, 754374, 885478, 754568, 754586, 230325, 1672123, 1278950, 1278972, 492555, 754707, 754708, 1672228, 1672229, 1279087, 1410174, 1279186, 1279204, 1410420, 492932, 1166114, 493069, 230934, 493097, 493104, 1400595, 1017446, 1017470, 1017473, 1017486, 1410717, 1410719, 1410720, 231080, 231083, 231125, 231126, 231127, 231129, 1410788, 1410818, 493346, 1017646, 624446, 1017663, 886591, 1541959, 1017680, 1410907, 493441, 1410966, 886704, 1542093, 1411059, 755754, 231521, 1017979, 1017980, 755880, 1673390, 231640, 624856, 887077, 887078, 231727, 1018188, 625024, 1411520, 1018315, 1149425, 1018356, 1018360, 1018361, 1018366, 1411587, 1018381, 1018389, 1018390, 1018395, 1018401, 1018406, 1673774, 1673775, 1018418, 1018474, 1018487, 1018489, 1018501, 1018549, 887487, 1673980, 756557, 1018716, 1018780, 1018809, 1543171, 541194, 1674321, 1674379, 232641, 232664, 1019100, 756975, 1019124, 756981, 1150219, 232725, 1150230, 1150231, 757020, 757021, 757047, 1150266, 1150271, 757056, 1019204, 1019206, 1019207, 1150280, 1019209, 757066, 1019211, 1019212, 1019213, 1019214, 757070, 1019215, 1019216, 1019218, 1019219, 1019220, 1019221, 1019222, 1674578, 757080, 1019224, 1019226, 1019227, 1019228, 1019229, 1019230, 1674591, 1019231, 757084, 1019234, 1019235, 1019236, 1019232, 1019233, 1019239, 1150303, 1150315, 1150327, 1019257, 1019258, 1019259, 1019260, 1019261, 1150330, 1019266, 1150339, 1019268, 757126, 1150343, 1019272, 1150345, 1150344, 1019271, 1150342, 757137, 757139, 1150357, 757143, 757144, 1150361, 1150363, 757148, 757152, 757154, 1150370, 757156, 757161, 1150377, 1150379, 1150380, 1150378, 1150382, 1150385, 495026, 1150390, 1150391, 1150394, 1150397, 1150400, 1150401, 1019334, 1019336, 1150414, 1150416, 1150419, 757213, 1543653, 1150455, 1150463, 1150464, 1150472, 1150473, 1150474, 1150476, 1150478, 1150487, 1019416, 364120, 757338, 1150558, 1150565, 1150570, 1019500, 1150575, 1150580, 1019553, 1150643, 1412797, 1150677, 888545, 1150710, 1150711, 757496, 1150713, 1150717, 1150731, 1412877, 1150734, 1150796, 1150797, 1412950, 1150812, 1150818, 757617, 1412989, 1412992, 1413019, 757735, 757737, 757741, 1413109, 1150965, 1019916, 1019924, 1019925, 1019927, 1019928, 1019933, 1019935, 1019936, 1019937, 1413153, 1413152, 1413156, 1019941, 1019938, 1019944, 1019946, 757803, 1413163, 233542, 233547, 1151062, 233558, 1020001, 1020011, 1544302, 626798, 626801, 626830, 626834, 1151122, 626838, 626839, 1151130, 626844, 1151134, 626847, 626848, 626849, 1151137, 626854, 1151144, 1151149, 1151164, 1151166, 1151170, 1151171, 626884, 1151174, 626893, 1151183, 1151184, 626896, 1151185, 1151187, 1151189, 626908, 626909, 626910, 1151198, 1151201, 1151202, 1151203, 626919, 1151209, 1020142, 233712, 233715, 233716, 1151224, 1151227, 1151235, 626950, 626951, 1151245, 1413393, 1151250, 1151260, 626975, 1151264, 626977, 1151268, 1020206, 626991, 626997, 626999, 1020221, 627013, 627021, 1151321, 627034, 1151324, 1151325, 1020254, 1151327, 1151335, 627050, 1151339, 1151344, 1151345, 1151348, 1151351, 627063, 627075, 627081, 496010, 627084, 627085, 496013, 627088, 627089, 627091, 627094, 627095, 627100, 627108, 627112, 627117, 627119, 1413554, 627123, 627124, 627126, 627129, 1151422, 1151424, 1151427, 627140, 627145, 627149, 627152, 627154, 627157, 627169, 1151461, 1151462, 1151463, 627176, 627173, 627177, 1151467, 233963, 1151470, 627182, 627193, 627194, 1151483, 627204, 627206, 627208, 627209, 1151500, 1151509, 1151518, 1151519, 1151523, 1151525, 1151526, 1020456, 627240, 1151528, 1151531, 1151532, 627243, 1151530, 1151535, 627244, 1151546, 1151548, 1151550, 1151551, 1151552, 1151558, 1151564, 1544805, 1151597, 1544814, 1544821, 1151606, 1151626, 1151627, 1151629, 1020567, 889501, 889503, 1151659, 1151666, 1151668, 1151673, 1151681, 1151699, 1151702, 1151712, 1413856, 1151729, 1151744, 1151749, 1151752, 1151753, 1151759, 1151760, 1151763, 1151765, 1151771, 1151785, 1151795, 1151800, 1151809, 1151810, 627535, 627536, 1151827, 627543, 627544, 1151836, 1151838, 1151841, 1151844, 1151847, 758641, 1151864, 627580, 1545086, 1151872, 627589, 627597, 1282964, 1282965, 1151897, 496545, 1151907, 1151910, 627623, 627627, 1151918, 1151921, 1151931, 1283004, 496573, 1151936, 1151938, 1151941, 1151942, 1151943, 1151947, 889820, 1283038, 1151968, 1151969, 1151970, 1151971, 1151972, 1151973, 1151977, 1151984, 1283058, 1151987, 1152018, 1152021, 1152023, 1283097, 627769, 1152062, 889938, 1414238, 234601, 627825, 234610, 627828, 627829, 627845, 1545355, 627873, 890029, 627901, 627909, 627910, 627911, 1283295, 1152232, 1152237, 1152240, 1152245, 1414391, 1414392, 1283319, 1152252, 1152267, 496934, 628006, 1152305, 1152309, 1152319, 1152320, 628034, 1152323, 890182, 1414472, 1152345, 1152350, 1152353, 1152358, 1152361, 628075, 1152366, 1414522, 1152379, 1152417, 1152422, 1152424, 1152427, 1152429, 628145, 1152445, 1152447, 1152448, 1152452, 1152453, 1152455, 1152456, 1152457, 1152458, 628169, 1152460, 1152462, 1152463, 1152466, 1152468, 1152469, 1152473, 1152474, 628187, 628188, 628189, 628190, 1414617, 1152481, 1152482, 1152483, 1152484, 1152485, 1152487, 1152494, 1152497, 1152501, 1152502, 1152506, 1152509, 1152510, 1152511, 1152513, 1152514, 1152516, 1152519, 1152520, 1152530, 1152531, 1545746, 1152534, 1152539, 1152540, 1152541, 1152545, 1152546, 1152551, 1152552, 1152553, 1152555, 1152563, 1152565, 1152566, 1152567, 1152570, 1152577, 1152580, 1152590, 1152595, 104030, 1152607, 1152611, 1152639, 1152647, 1152657, 1152658, 235155, 1152660, 1152664, 1152674, 1152675, 1152677, 1152679, 1414824, 1021609, 1557735, 1152685, 1152686, 1152692, 1557737, 1152708, 1152731, 1152747, 1152749, 235249, 1152753, 235250, 1152756, 1152757, 1152758, 1152759, 1152760, 1152761, 1152762, 235260, 1152776, 1152779, 1152781, 1152787, 1152792, 1152807, 1152810, 1152811, 1152815, 1152817, 1152819, 1152822, 1152824, 1152857, 1152872, 1152873, 890735, 1557774, 1557776, 1152892, 1557778, 1557781, 1557783, 1152926, 1557785, 1021866, 1021869, 1557788, 1021887, 628753, 1557808, 1415197, 628795, 1677372, 1557818, 1022038, 1557821, 1415260, 1557822, 1557826, 759933, 1022077, 759980, 759982, 1557838, 1557840, 1557845, 1557846, 760028, 1557851, 760052, 1284341, 1557853, 1415421, 1557855, 1557856, 1557857, 497938, 235821, 1415475, 1557869, 629071, 629074, 629075, 1557871, 629083, 1557872, 760158, 1557873, 629091, 1415529, 1557877, 1557878, 1557879, 1557880, 1557881, 1557882, 1153423, 1153426, 235922, 760215, 629146, 629148, 1557886, 1557888, 629166, 1557889, 629174, 1557890, 629179, 1557891, 1557892, 1284546, 1557893, 1557895, 629204, 629207, 629210, 629211, 760286, 236012, 629250, 629270, 1022490, 629275, 1677857, 1415717, 629285, 1583964, 629289, 629291, 629293, 629294, 629297, 629298, 629304, 629308, 629312, 105024, 629318, 629323, 629327, 629330, 629338, 629341, 629348, 629352, 891515, 891516, 629374, 1415810, 1557934, 629401, 1557935, 629403, 891556, 629413, 891557, 1557938, 1153705, 1557940, 1415877, 367325, 629478, 1557952, 1557953, 1557954, 1284866, 1557956, 1557957, 1284876, 1415948, 1557958, 1557962, 1557963, 1557964, 1547053, 1557966, 1557971, 1557974, 1557976, 1557978, 629662, 1153953, 1153955, 1154023, 1678334, 1154046, 1678339, 629797, 1678376, 1558019, 1558020, 1558024, 1678485, 1678500, 367782, 1023184, 1154399, 1558082, 1678765, 630262, 630280, 1154576, 1154578, 1584173, 1584174, 499283, 499358, 499403, 237269, 630492, 1154787, 237300, 1584218, 1584220, 1584223, 1584229, 499557, 499558, 499559, 499571, 892788, 1584234, 1584235, 499601, 237462, 1154983, 761795, 761804, 1417203, 499699, 499709, 1155075, 630814, 761934, 1679446, 893079, 499876, 499884, 499885, 1155251, 1155252, 499910, 499911, 368869, 368880, 368881, 631092, 631101, 1417559, 1155418, 893275, 1024349, 631136, 631140, 237942, 1024418, 1024424, 1024447, 1024454, 1417688, 631267, 1024515, 1417732, 1024518, 631318, 1024552, 631353, 238168, 762467, 1024679, 631468, 1155762, 1155798, 1155814, 631529, 1680112, 762614, 631552, 631563, 631566, 1024783, 631572, 631575, 631578, 631580, 631581, 631586, 631594, 631596, 631600, 1155889, 369471, 369473, 369474, 1155925, 1155955, 631681, 631691, 369549, 1156028, 1418176, 1418177, 1418178, 1156043, 1024973, 1156045, 1418199, 1156057, 107489, 1025028, 1156131, 1025070, 1549370, 1549371, 1025133, 1025165, 238738, 1025189, 631994, 238793, 1156310, 1025239, 1025257, 1025264, 1025265, 1156348, 1025325, 1025350, 1025351, 1025352, 1025359, 1156444, 1156445, 1156446, 1156447, 1025379, 107897, 501176, 501177, 501178, 501179, 501180, 501184, 501192, 1025482, 501200, 501202, 501203, 501206, 501211, 501215, 501217, 501219, 501221, 501226, 1025515, 501232, 501233, 501236, 501237, 501239, 501240, 501242, 1156606, 501247, 1156607, 501264, 501265, 1025554, 501266, 501268, 501270, 501271, 501272, 1025564, 501281, 501282, 501283, 501295, 501296, 501300, 501301, 501302, 501303, 501305, 501308, 501310, 501312, 501313, 501314, 501315, 501316, 501317, 501322, 501323, 1156684, 501324, 501325, 501327, 501328, 501329, 501331, 501335, 501337, 501340, 501347, 501348, 1025641, 501357, 501358, 108143, 501365, 501373, 501374, 501375, 501377, 1156743, 501383, 501387, 501391, 501392, 632463, 501394, 632468, 501396, 501398, 501399, 632470, 501401, 501403, 501404, 501418, 501419, 501422, 108208, 501426, 501434, 501445, 501447, 632526, 501456, 632529, 501460, 501462, 632534, 501465, 632540, 632542, 632543, 632547, 501476, 632549, 501478, 501479, 632556, 632557, 632559, 632560, 632561, 1156850, 632563, 632568, 1156857, 1156856, 1156862, 1156863, 632576, 1156864, 1156865, 1156872, 501516, 632589, 1156877, 501522, 632630, 632631, 1550138, 632635, 1025859, 632650, 632655, 632656, 1025885, 501598, 501600, 632674, 632675, 632681, 632684, 1025927, 239496, 632712, 632715, 632722, 501655, 632729, 108442, 501659, 239532, 632753, 632755, 632756, 1688860, 632764, 1025994, 632783, 632784, 632785, 108495, 632789, 632804, 632831, 632845, 632847, 632848, 632885, 632894, 1288263, 632905, 1026122, 1681491, 632918, 632919, 632920, 632921, 632951, 632964, 1550470, 632973, 1026211, 1026215, 1026222, 1026224, 633016, 1026270, 633077, 1026299, 633084, 633092, 1681674, 1026333, 633135, 1026367, 633161, 633173, 633178, 633210, 1550725, 633222, 633229, 1550740, 1550749, 1550750, 1550751, 1550757, 502183, 1026472, 1550762, 1026476, 1550772, 633278, 633296, 1026519, 764379, 1026524, 633312, 633314, 633333, 109050, 109051, 1550856, 633362, 633363, 1550883, 1026610, 1026616, 633402, 764491, 1419854, 633431, 633433, 1026653, 1026655, 1026656, 633453, 633489, 1026709, 1419940, 633530, 633548, 1551062, 1551064, 633562, 633575, 633584, 633589, 1420023, 1551096, 764683, 1420044, 1551118, 633628, 633631, 633639, 633641, 633656, 1026876, 633662, 633663, 1026878, 1026880, 1026882, 633679, 633684, 633702, 633706, 633708, 633712, 633715, 1026932, 633720, 633727, 633731, 633732, 633735, 109461, 1551256, 633753, 633759, 633760, 633763, 633771, 633775, 633780, 633781, 633782, 633783, 633786, 633787, 633790, 109504, 633792, 240577, 633797, 633800, 1551307, 633809, 633815, 633824, 633828, 633838, 109550, 1551369, 764938, 1551391, 1551406, 1027154, 1027155, 1420371, 1027169, 1027182, 633990, 1027206, 765075, 1551511, 765079, 765080, 1551518, 634018, 634028, 765103, 765105, 634034, 634033, 1551540, 1551541, 634036, 1551542, 1551547, 1551548, 1551550, 634048, 1551553, 634054, 634056, 1551565, 1420495, 1551568, 634063, 1551571, 1063884, 1551581, 1551598, 1027315, 1551615, 1551617, 1551620, 1551622, 503049, 503050, 503051, 1551628, 896273, 1289513, 1289514, 1289519, 1289520, 1289522, 1289523, 1551675, 1551681, 1027394, 634200, 634202, 634212, 634214, 634215, 634221, 634222, 634224, 1420656, 634229, 634241, 634243, 634247, 634249, 634253, 634255, 634258, 634263, 634268, 634269, 634270, 634271, 634274, 634281, 109998, 1027504, 1027567, 1027568, 1027569, 765438, 765456, 634404, 110124, 1551917, 110139, 110145, 1063957, 110155, 110156, 110160, 110162, 110163, 110164, 110175, 110176, 110179, 110180, 1027685, 1027686, 1027687, 110181, 1116067, 110191, 110195, 110198, 110200, 110209, 110221, 1027734, 1027736, 1683109, 1683110, 1027817, 1158909, 503558, 110342, 1552150, 1027879, 110390, 503630, 110443, 110445, 110446, 110447, 110450, 110451, 110452, 110454, 110455, 110460, 1552272, 1552273, 1028008, 765869, 1028017, 1028023, 1683401, 1028047, 1159196, 765988, 372787, 372796, 1028216, 1028218, 372860, 1028222, 1028224, 1159298, 1159299, 1159301, 1028231, 1028240, 1028244, 1028245, 241850, 1028300, 1028305, 1028336, 1028345, 1028352, 1028354, 1028359, 1421631, 1028461, 1028463, 1028465, 373114, 1028477, 1028479, 1028480, 373143, 1246486, 111007, 1028540, 1028550, 111051, 111052, 111053, 1028555, 1028558, 1246501, 1028581, 1028584, 1028586, 1246504, 373244, 1246507, 1246509, 1028620, 1028621, 1028625, 1028640, 1028641, 1159720, 766519, 1028664, 1028673, 1028681, 1028683, 1028691, 1028703, 1028726, 1028728, 1028744, 1028745, 373393, 373394, 1159829, 766616, 1028764, 1028775, 1028780, 1028819, 1159898, 1553122, 1028838, 1028845, 1028846, 1159919, 1028847, 1028849, 1028850, 1553147, 1291021, 1028878, 1028884, 1028886, 1028893, 1028908, 1028916, 1246573, 1028948, 1028951, 1246575, 1028955, 1028956, 1028957, 373603, 373604, 1028968, 1028969, 1028981, 1028991, 1029023, 635812, 1422247, 1029031, 1029035, 1029039, 1029042, 373685, 1029045, 635840, 635855, 1064243, 373740, 373744, 373745, 373746, 373747, 373749, 635902, 635909, 635918, 635920, 1422361, 635935, 767026, 635962, 635963, 635966, 635968, 635978, 635982, 635984, 1422416, 635986, 635987, 635988, 1422423, 1064266, 635998, 636010, 636017, 636021, 242824, 242825, 1553551, 1553553, 1160355, 242854, 1160370, 898226, 636098, 636106, 1422611, 767267, 1291562, 1291584, 1291610, 898413, 898414, 898435, 1160579, 898437, 898442, 898443, 1291686, 1553842, 374199, 374200, 1553849, 1553856, 1553866, 1553878, 1553881, 1553885, 1553887, 1553888, 898528, 898530, 1553890, 1553889, 636393, 1246709, 1553916, 1553920, 1553921, 1422854, 1422855, 374289, 112148, 1422869, 1422868, 898584, 767513, 1422880, 767521, 898598, 898599, 1422889, 1422890, 898607, 1553967, 898642, 767571, 1160791, 898659, 898665, 898681, 898687, 898689, 898695, 898701, 243345, 243355, 898723, 767652, 1554113, 1554116, 1554117, 898761, 898763, 243405, 1423090, 636693, 636695, 1160989, 1160990, 1160991, 1160993, 1160994, 1160995, 1161002, 1161003, 1161008, 243507, 1161014, 1161016, 1161021, 1161024, 1423178, 1161039, 1161044, 1161046, 1161053, 1161054, 1161055, 1685344, 1161057, 1161058, 1161059, 1161056, 1161067, 1161070, 1423215, 1161080, 1161081, 1161083, 1161084, 1161085, 1161086, 1161088, 1161090, 1161091, 1161092, 1161093, 1161096, 1161097, 1161098, 898956, 1161100, 1161102, 1161103, 1161105, 1685394, 1685400, 898969, 898970, 898971, 1161112, 898975, 1423266, 1161122, 1161123, 898981, 1161124, 898983, 1161128, 1030057, 898986, 1161131, 898987, 1161133, 898992, 898993, 1161137, 1161136, 1685429, 899007, 1161153, 1161155, 1161156, 1161157, 1161159, 1161162, 1161164, 1161165, 1161168, 1161169, 1161170, 1161174, 1161175, 1161176, 1685464, 1161184, 899040, 1161190, 1161193, 1161198, 899055, 899056, 899057, 899059, 1030137, 1030139, 1161218, 1161222, 1030152, 1030153, 1030154, 1161225, 1161224, 1161228, 1161230, 1423370, 243725, 1161233, 1161236, 1161237, 1161238, 1161240, 1161241, 112679, 1161260, 1161265, 768050, 1161271, 1161274, 1161276, 1161278, 1685566, 1685568, 1161280, 1161281, 1161282, 1161285, 1161286, 1030214, 1161288, 1161289, 1161293, 1030221, 1161296, 1161298, 1161301, 768087, 1161305, 1161308, 1030237, 1161310, 1161316, 1161323, 1161325, 1161326, 1161327, 899183, 1030255, 1685618, 1161335, 1161339, 1161340, 1161341, 1161349, 1161351, 1161353, 768139, 768140, 1030285, 768142, 768144, 1685654, 1161367, 1685655, 1030297, 1161371, 1161372, 1030302, 1161375, 1161380, 1030308, 1161383, 1030311, 1161385, 1030314, 1030313, 1161386, 1161394, 1161395, 1161397, 1030328, 1161404, 1161406, 1030342, 1161415, 1161417, 1161418, 1161422, 899281, 1161425, 768211, 1161427, 768213, 1161428, 1161431, 1161429, 1161434, 1161435, 1161437, 1161438, 1161440, 899296, 1161442, 1161443, 1161444, 1161446, 1161451, 1161454, 1161455, 1161456, 1161461, 1161462, 1161463, 1161464, 1161465, 899324, 1685759, 768260, 1030410, 1030414, 1030416, 1161492, 1161493, 1030431, 1685797, 899371, 1030443, 1292591, 899379, 899381, 1292599, 1030458, 899386, 1030462, 1030465, 1292613, 899397, 1030481, 1685849, 1161564, 1161565, 1161566, 1161575, 1161576, 1161577, 1030506, 899435, 899436, 1685869, 1161581, 1161590, 1685879, 1161594, 1161595, 1161596, 1685889, 1161602, 1030534, 1161608, 1161612, 1030540, 899479, 1161623, 1030551, 1161628, 1161629, 1030558, 1161630, 1030556, 1161636, 1161637, 1161638, 1685927, 1161662, 1030594, 1030596, 899525, 1030598, 1161678, 1030607, 1161681, 768482, 1030627, 1030637, 1423854, 1030639, 1161711, 1030640, 1161712, 1030641, 1030644, 1030643, 1161724, 1161725, 1161727, 1030656, 1030658, 1161732, 1161734, 1030663, 1030664, 1161737, 1161739, 1030669, 1161743, 1030673, 1161751, 1423900, 1161757, 1030686, 1030687, 1161761, 1161763, 1161764, 899621, 1161767, 113193, 113195, 1030699, 113199, 1161775, 1030707, 1161779, 768565, 1161782, 113205, 113207, 113209, 113210, 1161787, 113212, 1161788, 1030718, 1161791, 1161784, 1030722, 1161794, 1030726, 1161806, 1161807, 768592, 1030739, 1161811, 1161812, 1161815, 113240, 375388, 375389, 375390, 375391, 899680, 113248, 375394, 113251, 899682, 113249, 1030749, 1161835, 1030766, 1030773, 1161846, 113273, 1030778, 113274, 1161853, 113278, 113280, 637569, 113283, 637571, 113284, 637574, 637573, 1161864, 1161865, 1161867, 113292, 113294, 1030799, 1161878, 113303, 1686166, 1161879, 113308, 1161885, 637604, 637605, 1161892, 637607, 1161897, 1161898, 1161899, 375467, 1161901, 375470, 1161904, 1161905, 1161908, 1161910, 1161911, 1161912, 113337, 1030842, 1161915, 1161914, 1555133, 1030846, 1030847, 1161919, 113344, 1161922, 1161923, 1161921, 1030851, 1030854, 1555139, 1161927, 1555140, 1555145, 1161925, 1161932, 1555142, 1161930, 1555154, 1555157, 1030880, 1161958, 1161959, 1161960, 1161963, 1161966, 1161967, 1161968, 1424113, 1030899, 1161973, 1030902, 244475, 1161983, 1161984, 1161994, 1161997, 1161998, 899855, 1162000, 1162003, 1162004, 1030932, 1162005, 375579, 1162012, 899871, 1162018, 899877, 1162026, 637739, 1162028, 1686317, 1162031, 899888, 1162033, 1162035, 1162038, 1162039, 113466, 1162043, 1162048, 637761, 1162051, 1030982, 1162056, 1162062, 1162063, 1162064, 1162066, 1162069, 899926, 1162074, 1162075, 1162076, 1162079, 1162080, 768867, 1162084, 1162083, 1162085, 1162089, 1162092, 1162093, 1162094, 1162095, 1162096, 1031025, 1162098, 1162100, 1162101, 1162103, 1162104, 1162107, 1031036, 1162109, 1162110, 1031035, 1162112, 637821, 1162114, 1162116, 1162117, 1162124, 1162126, 1031055, 1031056, 637841, 1162130, 1162131, 1162132, 1162133, 1162134, 1162135, 1031061, 1162137, 244633, 1293210, 244636, 1555357, 1162142, 1555359, 1031066, 1555360, 1162140, 1162149, 1686440, 1686441, 1162153, 1162154, 1162158, 1162164, 1031093, 1162166, 1162167, 1686453, 1031098, 1162172, 1031101, 1686460, 1162175, 900031, 900032, 1162179, 1162182, 1162186, 1686474, 1031118, 1031119, 1031121, 1031122, 244689, 1031124, 244691, 1162200, 244705, 1162213, 1031142, 244713, 1293291, 1162220, 244718, 244719, 900081, 244723, 1162232, 1162233, 1162236, 1162238, 244736, 1162243, 1162244, 1162247, 900109, 900111, 1162256, 1162257, 1162258, 1162260, 244757, 1162262, 1162273, 1162276, 1162279, 900138, 1162286, 1162289, 900146, 244786, 1162292, 769077, 1162294, 769079, 1162290, 1162300, 900157, 1686593, 1162306, 1162310, 1162314, 1031251, 244819, 1162325, 900182, 1162326, 1162329, 1162330, 1162331, 1031258, 900193, 1162337, 1555557, 1162342, 900198, 900200, 769129, 1162346, 1162345, 1162348, 1555565, 1162350, 1162356, 1162358, 1162359, 1162363, 1162368, 1162373, 1162377, 375952, 1162386, 1162387, 1162389, 1162395, 1162398, 1162400, 1162401, 1162402, 900263, 1162408, 1162410, 900268, 638124, 900273, 900274, 1162418, 1162419, 1162421, 1162420, 1162425, 1162427, 1162431, 1162433, 900290, 1162436, 1162437, 1162440, 900296, 1162447, 1162448, 1162450, 1162452, 900309, 1162454, 1162455, 1162459, 1162461, 900320, 900322, 1162467, 1162468, 1162469, 1162470, 1162471, 1162475, 1162476, 1162478, 900336, 1162480, 1293554, 1162482, 1162484, 1162481, 1162486, 1162487, 1031414, 900346, 1162493, 1162495, 1162500, 1162502, 1162505, 1031434, 245001, 1162508, 1162509, 1162510, 1162511, 1293582, 1162513, 1162514, 1162515, 1686803, 900370, 1293581, 1162522, 1162523, 1162526, 1162528, 1162529, 1162530, 1162533, 1162534, 1031463, 1162538, 900395, 1031469, 900397, 1162543, 1162545, 638265, 1162553, 1162554, 1162556, 1162557, 1162558, 1162559, 1162560, 1162562, 1162563, 1162564, 1162565, 1162566, 1162567, 1162568, 1162569, 1162570, 1162571, 1162572, 1162573, 1162574, 1162575, 1162576, 1162577, 1162578, 1162580, 1162583, 1162584, 1162585, 1162586, 1162587, 1162588, 1162589, 1162590, 1162591, 1162595, 1162599, 1162600, 1162602, 1162603, 1162604, 1162605, 1162608, 1162610, 1162613, 900470, 1162614, 1162616, 1162618, 1162619, 1162620, 1162621, 1162622, 245119, 1162623, 245118, 1162629, 1162630, 245128, 1162634, 245131, 1162636, 900494, 1162639, 1162638, 1162641, 1162645, 1162647, 1162648, 1162649, 1162650, 1162651, 1162652, 1162653, 1162654, 1162661, 1162662, 1162663, 1162664, 1162672, 1162673, 1162680, 1162681, 1585774, 1162684, 1162691, 1162692, 1162693, 1162694, 1162695, 1162697, 1162698, 1162699, 1162701, 1162706, 1162707, 1162709, 1162711, 1162712, 1162713, 1162714, 1162715, 1162719, 1162721, 1162722, 1162725, 1162728, 1162730, 1162731, 1162733, 1162734, 1162735, 1162736, 1162737, 1424882, 1162740, 1162743, 1162746, 1162747, 1162748, 1162749, 1162751, 1162753, 1162755, 1162757, 1293831, 1162759, 1162761, 1162765, 1162766, 1162769, 1162770, 1162771, 1162773, 1162777, 1162778, 1162780, 1162781, 1293852, 1162783, 1162784, 1247124, 1162786, 1162793, 1162795, 1162797, 1162799, 1162800, 1162801, 1687089, 1162803, 900661, 1162805, 1162808, 1162809, 1162814, 1162815, 1424964, 1687110, 1162823, 1424966, 1162826, 1162828, 1162829, 1162831, 1162832, 1162833, 1162834, 1162835, 1162836, 900698, 1424986, 769631, 1162849, 1162852, 1162853, 1162854, 1162855, 1162856, 1162858, 1162860, 1162863, 1162864, 1162865, 1162866, 1162869, 1162870, 245370, 1162875, 245374, 1162879, 1162880, 1162881, 1162882, 1162883, 1162885, 1162886, 900744, 1162889, 1162890, 1031827, 1162906, 1162908, 1162910, 1162912, 1162913, 1162914, 1162915, 1162916, 1162917, 1162919, 1162923, 1162926, 1162930, 1162931, 1162934, 1162936, 1162937, 1162939, 376510, 1162946, 1162947, 1162951, 1162952, 1162953, 1162955, 1162960, 1162961, 1162964, 1162968, 1162969, 900825, 1162970, 1162972, 1162973, 1162975, 1162977, 1162979, 900836, 1162981, 1162985, 1162986, 900843, 376555, 1162989, 1162990, 1162991, 1162992, 1162993, 1162994, 1556209, 1162996, 1162997, 1162998, 1162999, 769786, 1163003, 1163010, 900867, 1163013, 1163014, 1163015, 1163017, 1163021, 1163023, 1163024, 1556240, 245523, 1163028, 1163030, 1163037, 1163039, 1163041, 1163045, 1163046, 1163047, 1163048, 1163049, 1294122, 1163051, 1163052, 1163050, 1163056, 1163064, 1163065, 1163068, 1163069, 1163072, 1163074, 245572, 1163077, 1163078, 1163076, 1163080, 1163081, 1163082, 245576, 1163084, 245581, 245583, 1163088, 1163089, 1163092, 1163093, 1032029, 1163107, 1163108, 1163109, 1163112, 1163115, 1163117, 1163118, 1425267, 1032053, 900982, 1163127, 1163128, 1163129, 1163131, 1163132, 1163134, 1163135, 1163136, 1163137, 1163138, 1163139, 1163140, 1163145, 1163146, 1163147, 1163148, 1163149, 1163150, 1163151, 1163152, 1163154, 1163156, 1163158, 1163159, 1163161, 1163162, 1163163, 1163165, 1556381, 1163167, 1163168, 1163169, 1163166, 1163172, 1163173, 1163174, 1163175, 1163176, 1163177, 1163178, 1163179, 1163184, 1163186, 1163188, 1163193, 1163196, 1163197, 1163203, 1163205, 1163206, 1163207, 1163209, 1032139, 1163212, 1163213, 1163214, 1163217, 1163218, 1163219, 1163220, 1163221, 1163223, 1163225, 1163226, 1163227, 1163228, 1163230, 1163231, 1163232, 376800, 1163235, 1163236, 1163238, 1163239, 1163240, 1163241, 1163242, 1163243, 1163248, 1163250, 1163251, 1163252, 1163255, 1163256, 1163257, 1163258, 1163259, 1163260, 1163261, 1032190, 1163262, 1163268, 1032197, 1163270, 1163271, 1163272, 1163269, 1163278, 1163281, 1163282, 1163283, 1163284, 1163285, 638997, 1163288, 1163289, 639000, 639003, 1163296, 1163298, 1163300, 1163302, 1163303, 1163306, 1163309, 1163311, 1163312, 1163313, 1163314, 1163315, 1163316, 1163317, 639030, 639031, 1163319, 1163320, 1163321, 1163322, 1163323, 1163324, 1163325, 1163326, 1163328, 1032257, 639041, 1163331, 1163330, 1163333, 1163334, 1163335, 1163336, 1163337, 1163338, 1163339, 1163340, 1163341, 1163342, 1163343, 1163344, 1163345, 1163346, 1163348, 1163349, 1163350, 1032278, 1163351, 1163352, 1163353, 1163355, 1163356, 1032277, 1163358, 1163359, 1163360, 1163361, 1032283, 1032292, 1163366, 1163367, 1163368, 901225, 1163371, 901227, 1163374, 1163375, 1163376, 1163377, 1163378, 901234, 1163381, 1163382, 1163384, 1163385, 1163388, 1163392, 1163395, 1163399, 1163401, 1163402, 770188, 1163404, 770190, 1163406, 1163408, 1163409, 770194, 1163411, 1163410, 1163412, 770192, 1032343, 1163416, 1163417, 1163415, 901275, 1163419, 1163421, 1163422, 901276, 1163424, 1163425, 1163426, 1163427, 1163420, 1163429, 1163430, 1163431, 1163435, 1163436, 1163437, 1163438, 1163441, 1163443, 1163446, 1163447, 1163448, 1163449, 1163453, 1163454, 1163455, 1163456, 901313, 1163458, 377023, 1163460, 901317, 1163461, 901316, 1032388, 1163462, 1163466, 1163467, 1163468, 1163469, 1163470, 1163471, 1163472, 1163475, 1163477, 901335, 1163479, 1163480, 1163482, 1163483, 1163484, 1163485, 1163486, 1163487, 1163489, 1163490, 639203, 1163491, 1032417, 1163494, 1163497, 1163499, 1163500, 1163501, 1163502, 1163503, 1163504, 1163505, 1163506, 1163508, 1163509, 1163510, 1163511, 1163512, 1163513, 1163516, 1163517, 1163518, 1163519, 1163520, 1163521, 1163522, 1163523, 1163524, 1163525, 1163526, 246023, 1163529, 1163532, 1163533, 1163535, 1163536, 1163537, 1163538, 1163539, 1163540, 1163541, 1163542, 1163543, 1163544, 1163546, 1163547, 1163548, 246045, 1163550, 1163554, 1163555, 1163556, 1163557, 1687846, 1163561, 1163564, 1163565, 1163567, 1163568, 1163569, 1163570, 1163571, 1163573, 1163574, 1163575, 1163576, 1163577, 1032506, 1163579, 1163580, 246070, 1163582, 246071, 1163584, 246073, 1163586, 1163588, 1163589, 1163590, 1163591, 1163592, 1163593, 1163594, 1163595, 1163596, 1163597, 1163598, 1163600, 1163601, 1163604, 1163606, 1163607, 1163608, 1163610, 1163611, 1163613, 1163614, 1163615, 1163616, 1163617, 1163618, 1163619, 1163620, 1163621, 1163622, 1163623, 1163624, 1163625, 1163626, 1163627, 1163628, 1163629, 1163630, 1163631, 1163632, 1163633, 1163634, 1163635, 1163636, 1163637, 1377551, 1163640, 1163641, 1163642, 1163643, 1163644, 1163645, 377209, 1163647, 1163648, 1163650, 1163651, 1163652, 1163653, 1163654, 1163655, 1163656, 1163657, 1163658, 1163659, 377227, 1163661, 1163662, 1163663, 1163664, 1163665, 1163666, 1163667, 1163668, 377228, 1163670, 1163671, 1163672, 1163674, 1163675, 1163676, 1163678, 1163679, 1163680, 1163681, 1163682, 1163683, 1163684, 1163685, 1163686, 1163687, 1163688, 1163689, 1163690, 1163691, 1163692, 1163693, 901548, 1163695, 1163697, 1163698, 1163701, 1163702, 1163703, 1163704, 1163705, 1163706, 1163707, 1163710, 1163711, 1163712, 1163713, 1425855, 1163715, 1163716, 1163717, 1163718, 1163719, 1163720, 1163722, 1163723, 1163727, 1163728, 1425871, 1163730, 1163731, 1163732, 1163733, 1163734, 1163735, 1163736, 1163737, 901592, 1163739, 1163740, 1163741, 1163742, 1163743, 1163744, 1163745, 246242, 1163747, 1163748, 1163749, 1163750, 1163751, 1163752, 639465, 1163753, 1163754, 1163755, 1163756, 1163758, 1163757, 639472, 901616, 1163760, 1163761, 1163762, 1163764, 1163765, 1163766, 639480, 1163769, 1163770, 1032699, 1163772, 1163767, 1163773, 1163774, 1163776, 1163777, 1163778, 1032705, 1163780, 1163781, 1163782, 1163779, 1163784, 1163783, 1163786, 1163787, 1163788, 1163785, 1163790, 1163791, 1163792, 1163793, 1163795, 1163796, 1163798, 1163799, 1163800, 1163801, 1163802, 1377584, 1163804, 377368, 1163807, 1163808, 1163810, 1163811, 1163812, 1163813, 1163814, 1163816, 1163817, 1163818, 1163820, 1163821, 1377588, 1163823, 1163824, 1163825, 1163826, 1163827, 1163828, 1163829, 1032758, 1163832, 1163833, 1163834, 1032761, 1163836, 1163838, 1163841, 1163842, 1163843, 1163844, 1163845, 1163846, 1377592, 1163848, 1163849, 1163850, 1163851, 1163854, 1163855, 1163856, 1377595, 1163858, 1163859, 1163860, 1163861, 1163862, 1163865, 901722, 1163867, 1163868, 1163869, 901726, 1163870, 901727, 1163873, 1163874, 901730, 1163872, 1163875, 1163876, 1163878, 1163880, 1163881, 1163883, 1163884, 1163885, 1163886, 1163887, 1163888, 1163889, 1163890, 1163891, 1163892, 1163893, 1163894, 1163895, 901747, 1163900, 1163901, 1163902, 1163903, 1163904, 1163905, 1163906, 1163907, 1163908, 1163909, 1163910, 1163911, 1163912, 1163914, 1163915, 1163916, 1163917, 1163919, 1163920, 1163924, 1163925, 1163927, 1163928, 1163929, 901786, 1163931, 1163932, 1163933, 1163934, 1163935, 901790, 1163938, 1032867, 1032868, 1163941, 1163940, 1163943, 1163944, 1163945, 1163946, 1163942, 1163947, 1163949, 1163951, 1163953, 1163954, 1163955, 1163956, 1163957, 1163958, 1163959, 1032885, 1163960, 1032889, 1163964, 901831, 246474, 1164014, 1164016, 1164017, 1377627, 1164019, 1164020, 1164021, 1164022, 1164025, 1164026, 1164027, 1164028, 1164029, 1164031, 1164032, 639777, 639778, 639781, 377638, 1164077, 639791, 1164089, 639801, 1164092, 1164096, 1164097, 901954, 246598, 1164104, 1164105, 1164106, 639817, 246603, 1164109, 1164110, 1164111, 1164112, 1164113, 377680, 246608, 1164116, 1164118, 1164119, 1164121, 1164124, 901982, 1164127, 1164128, 1164129, 246625, 1164132, 1164133, 1164134, 1164139, 1164140, 1164141, 1164142, 1164143, 1164145, 1164148, 1164149, 1164150, 1164151, 1164152, 1164153, 1164154, 1164155, 1164157, 1164158, 1164159, 246656, 1164161, 1164162, 1164163, 1164165, 1164166, 1164167, 1164168, 1164169, 1164170, 1164171, 1164172, 1164173, 1164174, 639887, 1164175, 1164176, 1164177, 1164179, 1164180, 1164182, 1164183, 1164189, 1164191, 1164193, 1164194, 1033122, 1164197, 1164199, 246696, 1164203, 1164204, 1164205, 1164206, 1164207, 1164208, 1164210, 1164213, 1164214, 1164215, 1164225, 1164227, 1164231, 1164232, 1164233, 246733, 1164242, 1164245, 1164246, 1164247, 1164248, 1164249, 1164250, 1164252, 1164253, 1164254, 1164257, 1164258, 1164259, 1164261, 1164264, 1164265, 1164266, 1164267, 1164268, 1164269, 1164271, 1164272, 1164273, 1164274, 1164275, 1164276, 246771, 1164278, 1164279, 246772, 1164281, 1164282, 1164283, 1164284, 1164285, 1164287, 1164288, 1164289, 1164290, 1164291, 1164292, 1164293, 1164295, 1164297, 1426444, 1164300, 1164305, 246804, 1688599, 771113, 771114, 246825, 771121, 1426499, 1426521, 771163, 1557602, 1557606, 1557607, 1557608, 1557609, 1557612, 1557615, 1557618, 1557627, 1557631, 1557633, 1557640, 1557643, 1557644, 1557647, 1557648, 1164443, 1557660, 1557664, 1557665, 1164450, 1688739, 1557668, 1557669, 1557671, 1557673, 1033390, 1557679, 1557682, 1557683, 1557684, 1164467, 1164470, 1557687, 1557688, 1557689, 1557690, 1164473, 1557692, 1557693, 1557694, 1557696, 1688769, 1164482, 1557697, 1557699, 1557701, 1557700, 1557703, 1557704, 1557705, 1688778, 1688779, 1557707, 1557709, 1164494, 1557711, 1688784, 1557713, 1164498, 1164493, 1557710, 1164501, 1557718, 1557720, 1164506, 1164507, 1164508, 1557722, 1164510, 1164511, 1164512, 1557726, 1426658, 1557731, 1557732, 1164515, 1164518, 1164519, 1164520, 640232, 1164522, 1164523, 1164524, 1164525, 1557742, 1164527, 1164528, 1164529, 1557741, 1164531, 1164532, 1557748, 640237, 1164535, 1557745, 1164537, 1557754, 1164539, 1164540, 1164541, 1557757, 1164543, 640249, 1557755, 1164546, 1164547, 1164548, 1164549, 1557766, 1557765, 1164552, 1164553, 1557767, 1557768, 1557763, 1557773, 1164558, 1164557, 1164560, 1164561, 1164559, 1557777, 640276, 1557780, 1557782, 1164567, 1557784, 640279, 1164569, 1164568, 1164571, 1164572, 1164573, 1164574, 1557792, 1164577, 1164575, 1164579, 1164580, 1557789, 1557798, 1557793, 1557800, 1164585, 1164584, 1557799, 1557804, 1164589, 1164590, 771375, 1164592, 1164593, 1557807, 1557810, 1164596, 1557809, 1557812, 1164599, 1164600, 1557817, 1164602, 1164603, 1557820, 771386, 1164605, 247103, 1164606, 771393, 1557823, 1557827, 1164611, 1164613, 1557830, 1164614, 1557832, 1164616, 1164618, 1164619, 1164620, 1164615, 1164622, 1164617, 1164624, 1164625, 1164626, 1557843, 1164627, 1557841, 1033552, 1164631, 1164632, 1164633, 1557849, 1557850, 1557852, 1164634, 1164636, 1164639, 1557854, 1164641, 1164642, 1557859, 1164643, 1557860, 1164645, 1557861, 1557863, 1557862, 1557864, 1557865, 1164650, 1164652, 1557870, 1557868, 1164649, 1164656, 1164653, 1557875, 1557876, 1164660, 1164662, 1164663, 1164664, 1164665, 1164657, 1164659, 1164661, 1164669, 1033598, 1164671, 1164672, 1164673, 1164674, 1164675, 1164676, 1557884, 1690377, 1164679, 1164680, 1164681, 1164682, 1557898, 1557896, 1164685, 1557897, 1557899, 1164688, 1164689, 1164690, 1164691, 1557903, 1164693, 1164694, 1164695, 1557909, 1557913, 1557910, 1557911, 1164700, 1164701, 1164702, 1557918, 1557916, 1557921, 1557917, 1164707, 1557920, 1557923, 1164710, 1557926, 1557924, 1164713, 1164714, 1557928, 1164716, 1164717, 1557929, 1164719, 1557930, 1557931, 1557932, 1557939, 1557933, 1557941, 771510, 1557942, 1164728, 1557944, 1557946, 1557947, 1164732, 1557948, 247228, 1164735, 1557945, 1557950, 1164738, 1557951, 771524, 771525, 1164742, 1557959, 771528, 1164745, 771530, 1557961, 1426892, 1164749, 1164748, 1557967, 1164746, 1164753, 1164747, 1164755, 1557968, 1557973, 1557965, 1426903, 1557969, 1557977, 1557970, 1164763, 1557979, 1557981, 1557975, 1557983, 1557984, 1164769, 1557986, 1557987, 1557988, 1557989, 1557985, 1557982, 1164776, 1557993, 1164777, 1164778, 1164779, 1557997, 1557998, 1557999, 1558000, 1164783, 1557994, 1558001, 902644, 1164788, 1164790, 1164789, 1558002, 1558003, 1558004, 1558006, 1558007, 1558012, 1558015, 1558016, 1164800, 1426946, 1033731, 1164801, 1164803, 1558017, 1164807, 1164808, 1164809, 1558026, 247305, 1164811, 1558025, 1558030, 1164810, 1558027, 1558031, 1164818, 1558035, 1164820, 1164821, 1558036, 1558039, 1558040, 1164825, 1164826, 1558041, 1558046, 1164831, 1558047, 1558048, 1558049, 1164835, 1558050, 1558053, 1558054, 1164839, 1164837, 1164838, 1164842, 1558051, 1558052, 1164845, 1558055, 1164847, 1558064, 1558059, 1558066, 1164851, 1558068, 1558067, 1558069, 1164855, 1558065, 1164857, 1164858, 1558076, 247358, 1164863, 1558079, 1558081, 1164866, 1164867, 1558084, 1164869, 1558085, 1558086, 1558087, 1164872, 1164874, 1164875, 378441, 1558091, 1558092, 1558088, 247376, 1164882, 1558100, 1558102, 1558103, 1558104, 1164889, 1558105, 1558106, 1558108, 1164892, 1164894, 1164899, 1164900, 1558118, 1164903, 1164904, 1164905, 1558119, 1558121, 1164909, 1164910, 1164911, 1164916, 1558132, 1558134, 1558138, 1164924, 1164925, 1164938, 1164941, 1164948, 1164949, 1296023, 247451, 1164957, 1164960, 1164962, 1164963, 1164964, 1164965, 1164966, 1164967, 1164970, 1164971, 1164973, 1164977, 1164978, 1164980, 1164982, 1164984, 1164985, 1164986, 116409, 116410, 1558211, 1558212, 1558213, 1558214, 1558218, 1165003, 1165004, 1165005, 1165007, 1165008, 1165009, 1165010, 1165011, 1165012, 1165015, 1165016, 1165018, 1165019, 116443, 1165024, 1165025, 1165028, 1165029, 1165030, 1165031, 1165032, 1165033, 1165034, 1165036, 1165037, 1165038, 1165039, 1165052, 1165053, 1165054, 1165055, 1165057, 1165059, 1165060, 1165061, 1165062, 1165063, 1165066, 1165068, 1165072, 1165073, 1165074, 378650, 1165084, 1165092, 1165093, 1165094, 1165096, 1165101, 1165103, 1165107, 1165110, 1165113, 1165115, 1165124, 1165126, 1165127, 1165130, 1165131, 1165132, 1165133, 1165134, 1165136, 1165137, 1165138, 1165139, 1165140, 1165142, 1165145, 1165146, 1165147, 1165148, 1165149, 1165154, 1165155, 1689443, 1165158, 1165162, 1165164, 1165165, 509806, 1165167, 1165166, 1165169, 1165171, 1165172, 1165173, 1165174, 1165175, 116610, 1165188, 1165192, 1165193, 1165194, 1165196, 1427341, 1165201, 1165202, 1165203, 1165204, 771990, 1165207, 1165208, 1165209, 1165210, 1165206, 1165216, 1165217, 1165218, 1165221, 1165222, 1165223, 1165224, 1165225, 116649, 1165227, 1165226, 1165230, 1165231, 1165232, 1165233, 1165234, 1165238, 1165240, 1165242, 1165243, 1689532, 1689533, 1689534, 1165246, 1165250, 1165251, 1165254, 1165255, 1165256, 1165258, 1165262, 1165263, 1165268, 1165269, 1165270, 1165272, 1165275, 1165276, 1165281, 1165284, 1165285, 1165286, 1165290, 1165292, 903150, 1165296, 1165298, 1165299, 1165303, 1165304, 1165306, 1165309, 1165310, 1165314, 1165315, 1165316, 1165319, 1165321, 1165322, 1165323, 1165324, 1165326, 1165327, 1165332, 1165333, 1165334, 1165335, 1427483, 1165340, 1165342, 1165343, 1165344, 1165349, 1165350, 1165352, 1165354, 1165355, 1165356, 1165362, 1165364, 1165365, 1165367, 1165371, 1165373, 1165375, 1165378, 1165381, 1165385, 1165386, 1165387, 1165388, 1165389, 1296462, 1296463, 1165392, 1165393, 1165391, 1165395, 378961, 1165397, 1296461, 1165399, 1689689, 1165402, 1165404, 1165405, 1165409, 1165410, 1165412, 1165413, 1165415, 1165417, 1165420, 1165423, 1165425, 1165426, 1165427, 1165428, 1165429, 1165430, 378999, 1165432, 1165436, 1165437, 1165438, 1165440, 1165441, 1165443, 1165445, 1165446, 1165448, 1165449, 1165450, 1165451, 1165452, 1165454, 1165455, 1165456, 1165462, 1165463, 379033, 1689754, 1165469, 1165472, 1165473, 1165477, 1165481, 1165485, 1165486, 1165487, 1165488, 1165489, 1165495, 1165496, 1165498, 1165501, 1165502, 1165508, 1165509, 1165513, 1165514, 1165515, 1165517, 1165518, 1165520, 1165527, 1165528, 1165529, 1165530, 1165531, 1165532, 1165535, 1165536, 1165539, 1165546, 1165548, 903406, 1165551, 1165552, 1377939, 1165593, 1165595, 1165596, 1165597, 1165599, 1165603, 1165604, 1165605, 1165606, 1165607, 1165608, 1165613, 1165616, 1558832, 1558833, 1165619, 1165621, 1165622, 1165623, 1165626, 1165627, 1165628, 1165629, 1165630, 1165633, 1165636, 1689924, 1165639, 1165640, 1165642, 1165644, 1165645, 1165647, 1165648, 1165650, 1165652, 1165653, 1165655, 1165656, 772441, 1165657, 1165659, 1165662, 1165664, 1165665, 1558882, 1165667, 1165668, 1165669, 1165670, 1165672, 1165673, 1165675, 1165677, 1165678, 1165680, 1165682, 1165683, 1165684, 1165686, 1165687, 772471, 1165690, 1165691, 1165692, 1165693, 1165694, 1165695, 1165696, 1165698, 1165699, 1165700, 1165701, 1165702, 1165703, 1165704, 1165708, 772493, 1165710, 1165711, 1165712, 1690001, 1165714, 1165713, 1165716, 1034645, 1165718, 1165719, 1165720, 1165721, 1165722, 1165724, 248222, 248223, 1165728, 1165726, 1165730, 1165731, 1165732, 772515, 1165734, 1165735, 1165733, 1165737, 1165738, 1165736, 1165739, 1165741, 1165742, 1165743, 1165744, 1165745, 1165746, 1165740, 1165750, 1165751, 1165752, 1165754, 1165755, 1165756, 1165758, 1165759, 1165760, 1165763, 1165764, 1165769, 1165771, 1165772, 1165773, 772558, 772557, 248271, 1165784, 1165788, 1165791, 772575, 1165795, 1165796, 1165800, 1165801, 1165804, 772590, 1165808, 1165809, 1165811, 1165812, 1165814, 1165815, 1690105, 1165818, 1165819, 1165821, 1165822, 1165823, 1165824, 1165825, 1165826, 1165828, 1165829, 1165830, 1165833, 1165834, 1165837, 1165838, 1165846, 772631, 903706, 248348, 903710, 772639, 903712, 1165861, 1559078, 1165863, 772645, 903720, 772653, 1165874, 772660, 1165878, 1165879, 248376, 903736, 1165882, 772663, 1165884, 772668, 1165890, 1165893, 1165895, 1165896, 1165897, 1165898, 1165900, 1165901, 1165903, 1165906, 1165907, 1165908, 1165909, 1165912, 1165913, 903770, 1559131, 1559132, 1165917, 1165920, 248418, 1034852, 1165925, 1165926, 1165934, 903791, 1165937, 1165941, 903801, 1165949, 1165952, 1165955, 903811, 1165959, 1165963, 1165965, 1165967, 1165968, 1165971, 1165973, 1165974, 1165976, 1165978, 1165979, 1165981, 903838, 1165984, 1165986, 1165987, 903844, 1165989, 248484, 903847, 1165993, 903850, 1165995, 903856, 1166002, 903858, 1166004, 1166005, 379576, 1166009, 1166010, 1166011, 1166013, 1166014, 1166018, 1166019, 1166020, 1166021, 1166025, 1166031, 1166032, 1166033, 1166034, 1166035, 1166036, 1166037, 1166039, 1166041, 1166042, 903899, 1166056, 903912, 1166070, 903926, 1166072, 1166073, 1166074, 903929, 903928, 903930, 641791, 1166080, 1166081, 1166079, 1166084, 1166085, 1166086, 903943, 1166088, 1166089, 903944, 1166091, 1166090, 903946, 903949, 1166092, 1166096, 1166097, 903945, 1166099, 1166093, 1166101, 1166103, 1166104, 903961, 1166105, 903959, 1166109, 1166110, 903966, 903968, 1166112, 379678, 1166115, 903971, 1166117, 1166116, 1166118, 1166119, 1166121, 903978, 1166122, 1166124, 1428262, 903982, 1166127, 903975, 1166130, 1166131, 1166133, 1166134, 903989, 1166136, 1166135, 1428282, 903995, 1166139, 903997, 1166142, 1166143, 903993, 1166145, 904003, 1166148, 1166149, 904007, 1166152, 904008, 1166155, 904012, 1166157, 1166158, 1166159, 1166162, 1166163, 1166165, 1166166, 1166167, 1166169, 1166170, 1166171, 1166172, 1166173, 1166174, 1166175, 1166176, 1166177, 1166181, 1559399, 1166186, 1166187, 1166193, 1166201, 1166203, 1166204, 1035132, 1166206, 1166212, 1166213, 1166214, 1166225, 1166226, 1166228, 1166231, 1166233, 1166237, 1166240, 1166242, 1166244, 1166245, 1166246, 1166247, 1166249, 1166250, 1166251, 1166252, 1166256, 1166257, 1166258, 1166259, 1166260, 1166262, 1166263, 1166264, 1166269, 1166270, 1166271, 1166272, 1166273, 1166274, 1166275, 1166277, 1166281, 1166282, 1166283, 1166284, 1166288, 1166292, 1166293, 1166294, 1166297, 1166299, 1166300, 1166305, 1166306, 1166309, 1166310, 1166311, 1166315, 1166319, 1166321, 1166324, 1166325, 1166326, 1166327, 1166331, 1166338, 1166341, 1166342, 1166346, 1166350, 1166354, 1559572, 1559573, 1166357, 1166359, 1166360, 1559574, 1166362, 1166365, 1166366, 1166367, 1166369, 1166371, 1166373, 1166374, 1166380, 1559598, 1166383, 1166384, 1166385, 1166391, 1166392, 1166393, 1166394, 1166395, 1166397, 1166398, 1065481, 1166401, 1166402, 1166407, 1166408, 1166410, 1166411, 1166412, 1166416, 1166418, 1166419, 1035347, 1166421, 1166422, 379990, 1166423, 1166425, 1166426, 1166427, 1166424, 1690711, 1166431, 1166432, 1166433, 380004, 1166438, 1166439, 1166447, 773232, 1166448, 1166450, 1166451, 1166452, 1166453, 1166454, 1166455, 1166456, 1166457, 1166459, 1166460, 1166462, 1166464, 1166465, 1166466, 1166467, 1166468, 1166469, 1166470, 1166471, 1166474, 1166475, 1166477, 1166479, 1166483, 1166485, 1166486, 1166489, 1166490, 1166492, 1166493, 1035422, 1166497, 1166498, 1166499, 1166501, 1166503, 1166504, 904361, 1166510, 1166515, 1166516, 773304, 1166521, 1166523, 1166524, 1166527, 1166533, 1166537, 1166538, 1166545, 1166554, 1166557, 249059, 1166565, 1166569, 1166570, 1166572, 1166573, 1166578, 1166579, 1166580, 1166581, 1166583, 1166591, 1166594, 1166595, 1166596, 1166598, 1166599, 1166600, 1166602, 1166603, 1166605, 1166606, 1166608, 1166609, 1166610, 1166618, 1166622, 1166624, 1166641, 1166643, 1166649, 1166653, 1166654, 1166655, 1166656, 1166657, 1166658, 1166659, 1166661, 1166662, 1166663, 904521, 1166665, 1166669, 1166671, 1166672, 1166677, 1166681, 1166683, 1166692, 1166694, 1166695, 1166696, 1166697, 1166713, 1166714, 1166715, 380282, 1166717, 1166720, 1166721, 249217, 249218, 1166724, 1166725, 1166728, 1166731, 1166736, 1166737, 1166738, 249239, 1247911, 1166750, 1247912, 1166752, 1166753, 1166754, 1166766, 1166771, 1166774, 1166776, 1166780, 1035709, 1166787, 1297861, 1166792, 1166793, 1166795, 1166797, 1166799, 1166802, 1297875, 1166808, 1166813, 1166816, 1166820, 1166822, 1166824, 1166829, 1166830, 1166831, 1166833, 1166834, 1166841, 1166842, 380409, 1166848, 1166851, 1166852, 1166857, 1166858, 1166859, 1166860, 1166861, 1166863, 1166865, 1166868, 1166869, 1166871, 1166872, 1166873, 1166875, 1166880, 1166889, 1166892, 1035828, 1166902, 1166910, 1166913, 1166923, 1035853, 1298002, 380506, 1166940, 1166950, 1691250, 1166966, 773751, 773752, 1166971, 1166979, 1691272, 773770, 773772, 1166990, 1166993, 1166995, 1429144, 773785, 1167006, 1167009, 773796, 1167024, 1167032, 1167038, 1167039, 1167040, 1167045, 1167046, 1167047, 1167064, 1167065, 1167070, 1167071, 1167072, 1167073, 1167074, 1167076, 1167081, 380650, 1167084, 1167085, 1298170, 1167111, 1167113, 1167124, 1167127, 1167128, 1167129, 1167130, 1167131, 1167134, 1167135, 1167137, 1167138, 1167139, 1167141, 1167142, 904998, 1167144, 1167146, 1167147, 1167148, 773931, 1378249, 773938, 1167156, 773944, 1378252, 773950, 773951, 773953, 1167171, 1167172, 1167174, 1167175, 1167176, 1167179, 1167181, 1167184, 1167185, 1167187, 773972, 773973, 773976, 1167193, 1167195, 1167197, 1167202, 773987, 1167203, 1429349, 773989, 1167207, 1167205, 249705, 1429353, 774000, 1167218, 774004, 249719, 1167225, 1429370, 1167229, 1167231, 1167233, 1167235, 774020, 1167241, 774029, 774030, 249741, 1167251, 1167253, 1691544, 1167258, 1167268, 380838, 774056, 1167272, 1167276, 1167277, 774062, 1167279, 1167280, 1167281, 1691569, 774067, 1167283, 380858, 774076, 1167297, 1167298, 1167308, 774103, 774104, 1167338, 774126, 774190, 774203, 774206, 1036351, 774212, 774215, 774226, 774227, 774228, 774229, 774233, 774235, 774241, 774242, 774244, 774254, 774258, 1036402, 774271, 774279, 1429657, 774314, 1691838, 1691840, 1691841, 774343, 1429709, 1429710, 1691857, 1691859, 1298648, 381144, 774371, 774428, 774429, 774437, 774438, 774440, 1429806, 774455, 774456, 774459, 774461, 774466, 774469, 1691981, 1691993, 774491, 774495, 774511, 774516, 774538, 774560, 1692068, 774569, 774572, 774574, 774588, 774598, 774600, 381385, 1298891, 774605, 381394, 1429976, 774618, 774623, 1036781, 774654, 774659, 774673, 774674, 774675, 1298964, 774683, 774689, 774692, 774694, 774695, 1036882, 774742, 774747, 1167970, 774763, 774774, 774781, 774785, 774786, 381584, 774809, 774810, 774815, 774841, 774864, 774872, 774873, 774881, 774887, 774912, 774914, 381702, 774920, 774929, 774944, 774946, 774947, 774953, 381744, 774961, 1430326, 774971, 774990, 250706, 381781, 774999, 1037163, 1037164, 775034, 775035, 775038, 775039, 775048, 775050, 775053, 775054, 775061, 250782, 250784, 1692577, 775088, 775089, 775092, 1299383, 1299387, 1299391, 1299394, 775110, 775111, 775117, 775118, 381909, 775131, 775133, 775146, 775151, 775156, 1037308, 1299455, 1037320, 775177, 775179, 1299468, 119822, 775182, 775187, 775211, 775215, 775219, 1299512, 1299514, 775229, 775235, 1299525, 775241, 775242, 775244, 775251, 775257, 775277, 1299569, 1299572, 775287, 775291, 1299585, 1299587, 775300, 1299601, 775314, 775321, 1299610, 1299611, 775327, 1299621, 1299642, 1299652, 775364, 1299662, 775382, 775411, 1299718, 1299727, 382239, 775459, 1299753, 1299760, 1299761, 1299766, 1299768, 1299772, 1299776, 1299784, 1430860, 120145, 775512, 1299803, 1299817, 1299836, 1299848, 382346, 1299858, 1299861, 1299865, 251294, 1299883, 1299893, 1299899, 251327, 251331, 1299909, 1299912, 775627, 1299920, 120333, 775699, 775731, 775755, 1065993, 251479, 775772, 775776, 1065998, 1300090, 1300092, 1169025, 1169029, 382602, 1300122, 775856, 382643, 775861, 775886, 1169107, 775929, 1169148, 775933, 775932, 1169154, 1169157, 1169158, 1169169, 1169171, 1169176, 1169177, 775962, 1169179, 1169188, 1169201, 1169204, 1169205, 382772, 1169207, 1169208, 1300281, 1169210, 1169211, 1169214, 1169218, 1300293, 1169239, 1169244, 1169248, 1300321, 1169271, 1169274, 1169275, 1169293, 1169297, 382866, 1169300, 1169301, 1169303, 1169304, 1169306, 1169308, 1169312, 1300388, 1169334, 1038265, 1169341, 1169342, 1169346, 1169347, 1169348, 1169354, 1169360, 1169370, 1169372, 1169373, 1169377, 1169379, 1169380, 1169384, 1169388, 251887, 776176, 1169391, 1169395, 1038324, 1169405, 776191, 1169416, 776201, 1169428, 1169429, 1169432, 1169435, 1169437, 1169439, 1169440, 1169441, 1038369, 1169445, 776229, 1169448, 1169449, 1169452, 1169453, 1431598, 1169455, 1169460, 1169468, 1169469, 1169470, 1169475, 1169476, 1169479, 1169480, 1431630, 1169489, 1431634, 1169493, 1169494, 1431641, 1169498, 1431644, 1169501, 1169505, 1169506, 1169508, 1169509, 1169512, 1169513, 1169514, 1169516, 1169517, 1431662, 1431660, 1169521, 1169524, 1169529, 1169531, 1431676, 1169533, 1169535, 1169537, 1169539, 1169545, 1169547, 1169549, 1169550, 1169553, 1169554, 1169556, 1169560, 1169561, 252056, 383132, 1169568, 1169572, 1169577, 1169580, 1169583, 1169586, 1169587, 645306, 1169595, 1169598, 1169599, 1169600, 1169604, 1169608, 1169611, 1169614, 1169615, 776398, 1169617, 1169618, 1169619, 1169621, 1169622, 1169623, 1169624, 1169627, 1169628, 1169629, 1169632, 1431777, 1169634, 1169635, 1169639, 1169640, 1169642, 1169643, 1169648, 1169649, 1169650, 1169651, 1169653, 1300725, 1169655, 1169657, 1169658, 1169659, 1431802, 1431801, 1431810, 1169667, 1169670, 1431821, 1169678, 383248, 1169681, 1169683, 1169684, 1169685, 1169686, 1169687, 1169688, 1431828, 1169690, 1431829, 1431831, 1169693, 1169695, 1169698, 1169699, 1169700, 1169701, 1431846, 1300770, 1169702, 1169704, 1562915, 1169707, 1169708, 1431844, 1169710, 1169711, 1169712, 1169713, 776497, 1169715, 1431860, 1431859, 1169716, 1169720, 1169721, 1169723, 1169724, 1431870, 1431872, 1431873, 383296, 1431875, 1431876, 1431877, 1169733, 1169734, 1169736, 1431881, 1431883, 907597, 1431885, 1431888, 1169744, 1431890, 1169748, 1169750, 1169752, 1169754, 1169759, 776543, 1169761, 1169762, 1562979, 1169764, 1169765, 1562985, 1562986, 1169771, 1169770, 1562990, 1169778, 1169781, 121206, 1169782, 1169784, 1169785, 1169787, 1169788, 1169790, 1169797, 1169801, 1563017, 1169806, 1431951, 1169809, 1169813, 776609, 1169826, 1431971, 1563047, 1169835, 1431984, 1563060, 1431988, 1169848, 776639, 776640, 252355, 1169860, 383430, 1432012, 1432018, 1432023, 1432046, 121332, 121334, 1169910, 1432074, 1694222, 1169938, 383507, 776724, 1563156, 383527, 1169977, 776766, 776768, 1563207, 1694285, 383567, 1301082, 1170015, 1563238, 1694311, 1563249, 121458, 1170039, 1432186, 1170045, 1170053, 1170055, 1170057, 1170060, 1170072, 1170077, 1170078, 1170079, 1170086, 1170089, 1170090, 1170093, 1170097, 1170100, 1170107, 1170110, 1170113, 1170114, 1170129, 1170131, 1170137, 1170138, 1170142, 1170145, 1170147, 1170148, 1170150, 1170153, 1170154, 1170155, 776941, 1170158, 1170159, 1170160, 1170166, 1170167, 1170175, 1432320, 1170177, 1170178, 1170179, 1432319, 1170176, 1170182, 1170188, 1170190, 1170191, 1170195, 1170203, 1301277, 1170207, 1170208, 1170214, 1170215, 1170216, 1170220, 1170221, 1170222, 1694536, 1170263, 1170264, 1170265, 1170272, 1170276, 1170279, 1039209, 1170284, 1170289, 1694579, 1170298, 1170301, 1170302, 1170304, 1694596, 1170309, 1170310, 1170312, 1170313, 1170317, 1170319, 1170320, 1170321, 1170328, 1170329, 1170331, 1170333, 1170334, 1170335, 1432528, 121858, 1301550, 1301556, 1301557, 908347, 384078, 515159, 1039467, 121972, 1039495, 1432812, 1039604, 384253, 777488, 777504, 777505, 122203, 1039724, 1564012, 384379, 1039761, 1039772, 384457, 1039850, 384491, 646655, 646656, 384518, 908853, 1039940, 122446, 1564296, 515766, 1040072, 1040082, 1040120, 909172, 909267, 909281, 909288, 909289, 909290, 385003, 909309, 909310, 385025, 909314, 1040471, 909440, 385211, 385243, 385264, 385336, 123280, 1040816, 1040836, 1040886, 385547, 1040912, 385567, 385615, 385623, 1040987, 1041001, 385648, 909941, 385658, 385676, 1172119, 385698, 910000, 1041080, 385726, 1041105, 910035, 385755, 1457418, 1041260, 1041265, 385905, 1041267, 1041272, 385912, 1041275, 1041279, 1696652, 385938, 1172386, 1041325, 1696692, 386040, 386045, 386046, 1041409, 1041410, 1041414, 1041417, 1041418, 386060, 1172494, 386063, 1041442, 1041447, 386102, 1041465, 386107, 1041467, 1041472, 386113, 1041474, 1041476, 386117, 1041486, 386130, 386131, 1041501, 1041502, 1041503, 1041506, 1041508, 1041511, 1041525, 1041528, 386168, 1041535, 1041540, 1041553, 1041556, 1041564, 386210, 1041572, 386212, 1041576, 1172658, 1041586, 1303731, 1041589, 386237, 1303750, 1172682, 386256, 1041619, 386261, 1041623, 517336, 1041626, 1172700, 517340, 1041633, 1041636, 1041638, 1041642, 1041646, 1041649, 1041662, 386325, 386331, 1041694, 1041706, 1041707, 1041708, 386348, 1041716, 1041722, 1041724, 1041725, 1041731, 1041732, 1303895, 1041752, 1041753, 1303899, 1041756, 1303902, 1041767, 386436, 1041803, 1041806, 1041812, 1041818, 1041819, 1041822, 386465, 1041828, 1041830, 1041831, 386485, 1041849, 1041852, 1041855, 1172944, 1041876, 386516, 386518, 1304031, 1041905, 386555, 1173001, 1041938, 1041939, 1041943, 1041948, 1041949, 1173021, 1041952, 1304107, 1304108, 1304109, 1173035, 1041969, 1304118, 1304121, 1304122, 1173052, 1041988, 1041989, 386629, 1304135, 1304139, 1304140, 1304141, 1304145, 1042003, 1042004, 1042005, 386647, 386648, 1042009, 1042013, 1042018, 1042019, 1042020, 386663, 1042023, 386665, 386670, 386672, 386677, 1042038, 386682, 1042043, 386687, 1042048, 1173121, 1042049, 1042054, 386694, 386697, 386698, 1042065, 386707, 386709, 1042070, 386714, 1042082, 1042087, 386731, 386737, 1304246, 1304247, 1042108, 1042113, 386764, 1042132, 386772, 386774, 386779, 1173213, 1042148, 1304301, 1042174, 1042194, 386837, 1042203, 1042215, 386856, 386861, 386863, 649017, 386881, 1042242, 386882, 1566532, 386895, 255824, 386896, 386897, 386899, 386900, 386901, 386903, 386908, 386910, 386932, 1042294, 1042310, 386954, 1173386, 1042322, 1173399, 1566617, 1042330, 255905, 1042342, 1042352, 1042377, 387020, 1042399, 1042400, 1042404, 1042407, 1042408, 387049, 1042409, 1173495, 1042426, 1042445, 1173518, 1042446, 1173522, 256024, 1173530, 1042461, 1042467, 387107, 1042477, 1173552, 1042481, 1042498, 1042537, 1042544, 1042560, 1042562, 649354, 1042571, 387211, 1042570, 1042576, 1042578, 1042585, 1042586, 1042590, 1042591, 1042595, 1042602, 256182, 1042626, 1042637, 1042638, 1173717, 1042649, 1042650, 1042655, 1042667, 387340, 387341, 1042705, 1042707, 1042723, 387364, 1173803, 1042733, 1042738, 1042740, 1042742, 1042747, 387390, 1042754, 1042759, 1042766, 1042767, 1042771, 1042773, 387419, 387420, 1042784, 1042786, 1042802, 387443, 1042804, 387445, 911736, 1173888, 649612, 1042834, 1042857, 1042874, 1042878, 1042890, 125392, 387552, 1042930, 1042936, 387583, 387586, 1042964, 1305113, 1042973, 911901, 1042982, 387628, 1042993, 1042995, 1043008, 1305164, 1305171, 387682, 1043062, 1043073, 387715, 1043077, 1043082, 387728, 1043091, 1043093, 1043094, 1043095, 1043098, 1043101, 1043102, 1043107, 1043120, 1043139, 1698521, 1698528, 1698530, 1043174, 1043176, 1043177, 1043189, 1043213, 1043224, 1043227, 1043231, 1043242, 1043247, 1043256, 1043259, 1043270, 1043271, 1043279, 1043286, 1043305, 387957, 1043336, 1043339, 1043343, 387986, 1043371, 388015, 1043384, 1174457, 1174458, 1043402, 1043405, 1043410, 1043415, 1043416, 1043417, 1043419, 1043422, 1043438, 1043445, 1043452, 1043453, 388095, 388101, 1043462, 1043475, 1043476, 1043480, 1043481, 1174554, 1043484, 1043489, 1043495, 388139, 1043525, 388182, 1043547, 1043550, 1043554, 1431842, 1043573, 1043594, 1043597, 1043599, 1043606, 1043610, 388258, 1043620, 1043630, 1043631, 1043640, 1043644, 1043650, 1043654, 1043656, 1043667, 1305815, 1043673, 1043675, 1043692, 388335, 1043700, 388340, 1043706, 1043710, 1043715, 388356, 388371, 1436949, 1043737, 1043747, 388392, 1043763, 1043771, 1174869, 1043799, 1043801, 1043810, 519526, 1043815, 1043818, 1043819, 1043822, 1174899, 650615, 1043831, 1043839, 781703, 1043850, 1043862, 1043864, 1043868, 1174944, 1174947, 1043878, 1043879, 1174955, 1174956, 1174957, 1174958, 388527, 1174969, 1174970, 1043901, 1174973, 1043904, 781767, 1437130, 257483, 1437132, 1437133, 1174989, 1043919, 1043920, 1437135, 1437137, 1174991, 1437141, 1043929, 1437146, 1437145, 1175001, 1043933, 1437149, 1175010, 1043939, 1043940, 1043942, 1043944, 1043951, 1437168, 1437171, 1043956, 1437175, 257527, 1306107, 1175035, 1437181, 1043965, 1437183, 1043964, 1437179, 1437193, 1437195, 1437197, 1437199, 1043988, 1043994, 1043996, 1044001, 1044002, 1044003, 1175076, 1437224, 1044033, 1044034, 1044035, 1175115, 1044044, 1044048, 1437267, 1175126, 257624, 1044057, 257626, 1044059, 1044060, 257628, 1175138, 1044099, 388741, 1044103, 1044108, 1044109, 1044110, 1044111, 1044115, 650907, 1175241, 1044211, 1044212, 1044218, 1044220, 1044225, 1175304, 1175314, 1044250, 1044258, 1044259, 1437483, 1044269, 1044273, 1044281, 257852, 1044289, 1044308, 1044329, 1044330, 1044372, 1044374, 1044385, 389038, 1175470, 1044400, 1044401, 651185, 1175479, 257976, 257977, 1175482, 257979, 1044409, 1044413, 258009, 1044452, 258055, 258056, 258057, 389128, 1044494, 258064, 1044502, 1044508, 1044509, 1044510, 1175586, 1044518, 1044519, 389160, 1044523, 1044524, 1044526, 1044527, 1044528, 1044529, 1044546, 258116, 1044558, 1044561, 1044562, 1044568, 1044569, 651354, 1044571, 1044585, 258155, 1044606, 1044618, 1044619, 1044621, 1044622, 1044623, 1044624, 1044627, 1044628, 1044629, 1044630, 1044631, 1044635, 389282, 1044646, 1044647, 1044648, 1044649, 1044651, 1044652, 1044661, 1044665, 1044667, 1044672, 651458, 1044678, 651463, 1175751, 651465, 651472, 651474, 1044696, 1044697, 651482, 651483, 1044699, 1044711, 1175783, 1044735, 1175810, 1044739, 1044740, 1044741, 1175826, 1175827, 1044762, 1044764, 1044767, 1044780, 1044791, 1044804, 1044807, 1044818, 1044821, 1044822, 1044828, 1044857, 1044864, 1044867, 1044868, 1044872, 1044874, 1044878, 1044882, 1044883, 1044886, 1175959, 1044888, 1044890, 1044904, 1044912, 389556, 1044923, 1438140, 1044932, 1044933, 1044934, 1044936, 1044950, 1044956, 1044963, 1044969, 1044975, 1700336, 1044977, 1176056, 1176061, 389664, 1176106, 1176111, 1045055, 1438280, 1438283, 1438284, 1438292, 1045097, 1438318, 1700467, 1045116, 1045117, 1045147, 1045154, 1045161, 1045164, 1176239, 389841, 1045204, 1176288, 1176301, 652038, 652040, 1045261, 1176337, 1176338, 652054, 1176348, 1176356, 1700740, 1700742, 1045390, 1045398, 1045404, 1045416, 783274, 1045430, 1045443, 1176517, 1176533, 572516, 1045469, 1045470, 1176542, 652255, 1045486, 1045495, 1045512, 1045513, 1045514, 1045519, 1045520, 1045528, 1045531, 1176613, 1045545, 1045558, 1045563, 1176643, 1045601, 1045603, 1045604, 1045614, 783477, 652406, 783478, 1045624, 1045626, 783485, 783486, 1045631, 1045629, 1045633, 1045634, 1045640, 1045647, 1045650, 1045653, 1045657, 1045664, 1045668, 1045669, 1176772, 1045701, 1045704, 1701071, 1045717, 1045727, 652512, 1045730, 1176820, 1045749, 1045778, 1570073, 1045791, 1045797, 1045805, 1045810, 1045831, 259405, 1176958, 1045897, 1701258, 1701261, 1045904, 1701273, 1045919, 1701287, 1045928, 1045933, 1045935, 1045936, 1045962, 1177059, 1045987, 1718892, 652787, 1701393, 1701395, 1177107, 390677, 1701398, 1701414, 1701415, 1046065, 1046072, 1046073, 1046074, 1046075, 1701438, 1046084, 1046085, 1046093, 1046098, 1046122, 1046127, 1046142, 1046144, 915087, 1046165, 1177241, 1177245, 1046198, 1046199, 1046204, 1046212, 1177292, 1046220, 1046227, 1177303, 1177306, 1046238, 1046247, 1046253, 1046256, 1046259, 1046267, 1046276, 1046284, 1046295, 1046297, 1177428, 1046366, 1046370, 1570669, 1046390, 1197939, 1046399, 1046406, 1046410, 1046413, 1046414, 1046417, 1046418, 1046419, 1046420, 1046431, 522143, 915365, 915368, 1046448, 1046449, 1570737, 1046522, 1046524, 1046530, 1046531, 1046537, 1046540, 1046541, 1046549, 1046564, 1046596, 1046604, 1046625, 1046632, 1046634, 1046650, 1046653, 1046654, 1046657, 1046672, 1046674, 1046680, 1570973, 1570974, 1046686, 391361, 391369, 1046730, 1046739, 1046748, 1046749, 1046750, 1046751, 1046753, 1046755, 1046756, 1046757, 1177829, 1046760, 1046764, 1046777, 1046778, 1177852, 1046787, 1046805, 1046820, 1046821, 1046822, 1046830, 1046846, 1046855, 1046859, 1046860, 391502, 391503, 1046863, 1177941, 1177942, 522583, 1046873, 1046875, 1046882, 1046883, 1177959, 1046890, 522603, 1046893, 1046895, 1177969, 1177975, 1046912, 1046918, 1046919, 1046920, 1046923, 1046933, 1046939, 1046941, 1046947, 260521, 1046955, 1046969, 1046982, 1046987, 1046997, 1046998, 1047012, 1047016, 1178090, 1047020, 1047024, 1047034, 1047035, 1047037, 1047038, 1047040, 1047041, 1047044, 1047062, 1047071, 1047074, 1178241, 522883, 1178250, 1571469, 1047236, 1702619, 1178350, 392000, 1178462, 1047391, 1702759, 1702766, 1178485, 1178498, 129935, 129936, 1178519, 392088, 1047477, 1047480, 1047481, 1047506, 1047508, 1047510, 1047512, 1047513, 1047514, 1047516, 1178590, 1047519, 1047522, 1047524, 1047528, 1047530, 1047531, 1047533, 1047534, 1047538, 1047539, 1047540, 1047542, 1047543, 1047547, 1047549, 130063, 1178641, 392229, 1047658, 1047660, 523373, 1047668, 1047672, 1047673, 392314, 1047743, 1703118, 1178836, 1178848, 1178851, 1047792, 130292, 1178921, 1178930, 130395, 1178974, 1703262, 1179000, 1179003, 1703293, 392601, 392602, 654751, 1179048, 1179049, 1179050, 523704, 392643, 392644, 392645, 654790, 392647, 392648, 392649, 392650, 392651, 392655, 392662, 1179139, 1048099, 392741, 392752, 1048126, 1179289, 1179291, 1179311, 1048248, 1048253, 1048259, 1048261, 1048272, 1048277, 1048279, 1048282, 1048284, 1048292, 1048300, 1048301, 1179376, 1048308, 1048310, 1179387, 1179407, 1048342, 1048352, 655142, 1048371, 1048372, 655163, 1048380, 393023, 655174, 655202, 655206, 1179495, 655211, 655212, 655218, 655220, 1441655, 1441658, 655263, 655267, 1048485, 655278, 1179584, 1179588, 1179593, 1048523, 655311, 131024, 1179623, 655336, 1572839, 1179636, 1179637, 1179640, 1179646},\n",
       "      dtype=object)"
      ]
     },
     "execution_count": 14,
     "metadata": {},
     "output_type": "execute_result"
    }
   ],
   "source": [
    "np.array(all_possible_nodes(G,1032868, 5))"
   ]
  },
  {
   "cell_type": "markdown",
   "metadata": {},
   "source": [
    "In the end, let's try our function starting from **19**, a node that doesn't exists in our graph:"
   ]
  },
  {
   "cell_type": "code",
   "execution_count": 151,
   "metadata": {},
   "outputs": [
    {
     "data": {
      "text/plain": [
       "'This source node does not exist in the graph'"
      ]
     },
     "execution_count": 151,
     "metadata": {},
     "output_type": "execute_result"
    }
   ],
   "source": [
    "all_possible_nodes(G,19, 10)"
   ]
  },
  {
   "cell_type": "markdown",
   "metadata": {},
   "source": [
    "# RQ. 3"
   ]
  },
  {
   "cell_type": "markdown",
   "metadata": {},
   "source": [
    "Our function **min_len_to_reach_p(**C,p,G**)** is a function that takes in input:\n",
    "- C : the name of the category\n",
    "- $p$={ $p_{1}, p_{2}, ... , p_{n}$} : a set of pages in C \n",
    "\n",
    "and returns the minimum number of clicks required to reach all pages in p, starting from the page v, corresponding to the most central article, according to the in-degree centrality, in C.\n"
   ]
  },
  {
   "cell_type": "markdown",
   "metadata": {},
   "source": [
    "As before, as metrics of centrality we adopted the ***Degree centrality*** for directed networks."
   ]
  },
  {
   "cell_type": "code",
   "execution_count": null,
   "metadata": {},
   "outputs": [],
   "source": [
    "def min_len_to_reach_p(C,p,G):\n",
    "    global _path_\n",
    "    \n",
    "    #search the required category and its respective pages\n",
    "    path_wiki_topcats='' #put here your path of the file \"wiki-topcats-categories.txt\" \n",
    "    f=open(path_wiki_topcats, 'r')\n",
    "    for line in f:\n",
    "        category=re.search(r'\\:(.*)\\; ', line).group(1)\n",
    "        if C==category.strip():\n",
    "            pages=list(map(int,(re.search(r';(.*)', line).group(1)).strip().split()))\n",
    "            break\n",
    "    \n",
    "        \n",
    "    #create a dictionary d where keys are the nodes of the category, and the values corresponds\n",
    "    #to the respective centrality-score of the node\n",
    "    d={}\n",
    "    num_V=G.number_of_nodes()\n",
    "    for node in pages:\n",
    "        \n",
    "        if node not in G.nodes():\n",
    "            pass\n",
    "        else:\n",
    "            centrality=G.in_degree(node)/(num_V-1)\n",
    "            d[node]=centrality\n",
    "            \n",
    "    if len(d.keys())==0:\n",
    "        return 'Not possible'\n",
    "    \n",
    "    #let's find the most central node:\n",
    "    max_centr=0\n",
    "    max_node=0\n",
    "    for key, value in d.items():\n",
    "        \n",
    "        if value>=max_centr:\n",
    "            max_centr=value\n",
    "            max_node=key\n",
    "            \n",
    "    \n",
    "    #find, if exists, the shortest path that reach all pages in p\n",
    "    shortest_paths=nx.shortest_path(G,source=max_node)\n",
    "    shortest=[]\n",
    "    sh_len=0\n",
    "    for key in shortest_paths.keys():\n",
    "        if key in pages:\n",
    "            copy=list(p)\n",
    "            if max_node in copy:\n",
    "                copy.remove(max_node)\n",
    "            for i in shortest_paths[key]:\n",
    "                if i in copy:\n",
    "                    copy.remove(i)\n",
    "            if len(copy)==0 and len(shortest_paths[key])>sh_len:\n",
    "                shortest=shortest_paths[key]\n",
    "                sh_len=len(shortest_paths[key])\n",
    "    if len(shortest)==0:\n",
    "        return 'Not Possible'\n",
    "    else:\n",
    "        _path_=shortest\n",
    "        return sh_len\n",
    "    "
   ]
  },
  {
   "cell_type": "markdown",
   "metadata": {},
   "source": [
    "Let's try some example:"
   ]
  },
  {
   "cell_type": "code",
   "execution_count": 117,
   "metadata": {},
   "outputs": [
    {
     "data": {
      "text/plain": [
       "6"
      ]
     },
     "execution_count": 117,
     "metadata": {},
     "output_type": "execute_result"
    }
   ],
   "source": [
    "min_len_to_reach_p('Expatriate_footballers_in_Mexico',{27301,89867}, G)"
   ]
  },
  {
   "cell_type": "markdown",
   "metadata": {},
   "source": [
    "and the respective shortest path of lenght equal to 6 is:"
   ]
  },
  {
   "cell_type": "code",
   "execution_count": 118,
   "metadata": {},
   "outputs": [
    {
     "data": {
      "text/plain": [
       "[1358669, 89867, 76811, 27568, 27565, 27301]"
      ]
     },
     "execution_count": 118,
     "metadata": {},
     "output_type": "execute_result"
    }
   ],
   "source": [
    "_path_"
   ]
  },
  {
   "cell_type": "markdown",
   "metadata": {},
   "source": [
    "where the first node (1358669) is the most central node of the Category 'Expatriate_footballers_in_Mexico'; note that in this path all nodes belonging from p (27301,89867) are reached."
   ]
  },
  {
   "cell_type": "markdown",
   "metadata": {},
   "source": [
    ".............Some other example............."
   ]
  },
  {
   "cell_type": "code",
   "execution_count": 147,
   "metadata": {},
   "outputs": [
    {
     "data": {
      "text/plain": [
       "10"
      ]
     },
     "execution_count": 147,
     "metadata": {},
     "output_type": "execute_result"
    }
   ],
   "source": [
    "min_len_to_reach_p('People_from_Crdoba_Province_(Argentina)',{88212,1358227,88509}, G)"
   ]
  },
  {
   "cell_type": "markdown",
   "metadata": {},
   "source": [
    "and the respective path, where all nodes in p={88212,1358227,88509} are reached, is:"
   ]
  },
  {
   "cell_type": "code",
   "execution_count": 148,
   "metadata": {},
   "outputs": [
    {
     "data": {
      "text/plain": [
       "[84267, 89701, 88859, 88863, 88509, 88667, 88212, 88512, 1642304, 1358227]"
      ]
     },
     "execution_count": 148,
     "metadata": {},
     "output_type": "execute_result"
    }
   ],
   "source": [
    "_path_"
   ]
  },
  {
   "cell_type": "markdown",
   "metadata": {},
   "source": [
    "What if not all the pages in p are reachable from v?"
   ]
  },
  {
   "cell_type": "code",
   "execution_count": 149,
   "metadata": {},
   "outputs": [
    {
     "data": {
      "text/plain": [
       "'Not Possible'"
      ]
     },
     "execution_count": 149,
     "metadata": {},
     "output_type": "execute_result"
    }
   ],
   "source": [
    "min_len_to_reach_p('People_from_Crdoba_Province_(Argentina)',{88212,88509,1642615}, G)"
   ]
  }
 ],
 "metadata": {
  "kernelspec": {
   "display_name": "Python 3",
   "language": "python",
   "name": "python3"
  },
  "language_info": {
   "codemirror_mode": {
    "name": "ipython",
    "version": 3
   },
   "file_extension": ".py",
   "mimetype": "text/x-python",
   "name": "python",
   "nbconvert_exporter": "python",
   "pygments_lexer": "ipython3",
   "version": "3.8.3"
  }
 },
 "nbformat": 4,
 "nbformat_minor": 4
}
